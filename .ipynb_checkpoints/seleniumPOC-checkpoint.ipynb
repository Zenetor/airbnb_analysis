{
 "cells": [
  {
   "cell_type": "code",
   "execution_count": 1,
   "id": "5cba39a1-f3f5-411b-a7c6-5251b4c5a071",
   "metadata": {},
   "outputs": [],
   "source": [
    "from selenium import webdriver\n",
    "from selenium.webdriver.common.by import By\n",
    "import chromedriver_autoinstaller\n",
    "import time\n",
    "import pandas as pd\n",
    "from functools import reduce\n",
    "import json\n",
    "from tqdm import tqdm"
   ]
  },
  {
   "cell_type": "code",
   "execution_count": 2,
   "id": "4e8e4ad2-c08f-4340-a5ee-1fb16f110743",
   "metadata": {},
   "outputs": [],
   "source": [
    "pd.set_option('display.max_columns', None)"
   ]
  },
  {
   "cell_type": "code",
   "execution_count": 3,
   "id": "3c320fe0-5033-4d26-86f2-6ce5364311d7",
   "metadata": {},
   "outputs": [],
   "source": [
    "def findkeys(node, kv):\n",
    "    if isinstance(node, list):\n",
    "        for i in node:\n",
    "            for x in findkeys(i, kv):\n",
    "                yield x\n",
    "    elif isinstance(node, dict):\n",
    "        if kv in node:\n",
    "            yield node[kv]\n",
    "        for j in node.values():\n",
    "            for x in findkeys(j, kv):\n",
    "                yield x"
   ]
  },
  {
   "cell_type": "markdown",
   "id": "cd76c9b2-8729-4389-aa34-ccad89386377",
   "metadata": {},
   "source": [
    "# Getting all links"
   ]
  },
  {
   "cell_type": "code",
   "execution_count": 3,
   "id": "52bde6d2-c806-466e-9e2a-d8a3edaae8f6",
   "metadata": {},
   "outputs": [],
   "source": [
    "url = 'https://www.airbnb.com.br/s/Florian%C3%B3polis-~-SC/homes?tab_id=home_tab&refinement_paths%5B%5D=%2Fhomes&flexible_trip_lengths%5B%5D=one_week&price_filter_input_type=0&query=Florian%C3%B3polis%20-%20SC&place_id=ChIJ1zLGsk45J5URRscEagtVvIE&date_picker_type=calendar&checkin=2024-01-01&checkout=2024-01-31&source=structured_search_input_header&search_type=filter_change&price_filter_num_nights=30&room_types%5B%5D=Entire%20home%2Fapt'"
   ]
  },
  {
   "cell_type": "code",
   "execution_count": 4,
   "id": "715bb2ab-33fc-43f1-808b-c241bf7e36a7",
   "metadata": {},
   "outputs": [
    {
     "data": {
      "text/plain": [
       "'/opt/anaconda3/lib/python3.9/site-packages/chromedriver_autoinstaller/106/chromedriver'"
      ]
     },
     "execution_count": 4,
     "metadata": {},
     "output_type": "execute_result"
    }
   ],
   "source": [
    "# Initializing driver\n",
    "chromedriver_autoinstaller.install()\n",
    "#driver = webdriver.Chrome()"
   ]
  },
  {
   "cell_type": "code",
   "execution_count": 5,
   "id": "4227d8ef-ff29-4c2b-9079-be95ee047fc3",
   "metadata": {
    "tags": []
   },
   "outputs": [
    {
     "name": "stdout",
     "output_type": "stream",
     "text": [
      "Message: no such element: Unable to locate element: {\"method\":\"xpath\",\"selector\":\"//a[@aria-label=\"Próximo\"]\"}\n",
      "  (Session info: chrome=106.0.5249.119)\n",
      "Stacktrace:\n",
      "0   chromedriver                        0x00000001008dec08 chromedriver + 4402184\n",
      "1   chromedriver                        0x00000001008661f3 chromedriver + 3908083\n",
      "2   chromedriver                        0x0000000100513e6a chromedriver + 425578\n",
      "3   chromedriver                        0x000000010054bc91 chromedriver + 654481\n",
      "4   chromedriver                        0x000000010054be91 chromedriver + 654993\n",
      "5   chromedriver                        0x0000000100583274 chromedriver + 881268\n",
      "6   chromedriver                        0x0000000100569dcd chromedriver + 777677\n",
      "7   chromedriver                        0x0000000100580f79 chromedriver + 872313\n",
      "8   chromedriver                        0x0000000100569bd3 chromedriver + 777171\n",
      "9   chromedriver                        0x000000010053eced chromedriver + 601325\n",
      "10  chromedriver                        0x000000010053fe51 chromedriver + 605777\n",
      "11  chromedriver                        0x00000001008ae73e chromedriver + 4204350\n",
      "12  chromedriver                        0x00000001008b2e07 chromedriver + 4222471\n",
      "13  chromedriver                        0x00000001008ba0bf chromedriver + 4251839\n",
      "14  chromedriver                        0x00000001008b3b4a chromedriver + 4225866\n",
      "15  chromedriver                        0x000000010088c8af chromedriver + 4065455\n",
      "16  chromedriver                        0x00000001008d0d18 chromedriver + 4345112\n",
      "17  chromedriver                        0x00000001008d0e86 chromedriver + 4345478\n",
      "18  chromedriver                        0x00000001008e5f6e chromedriver + 4431726\n",
      "19  libsystem_pthread.dylib             0x00007ff81f6e1514 _pthread_start + 125\n",
      "20  libsystem_pthread.dylib             0x00007ff81f6dd02f thread_start + 15\n",
      "\n"
     ]
    }
   ],
   "source": [
    "urls_list = []\n",
    "\n",
    "# Go to first page\n",
    "driver.get(url)\n",
    "# Sleep to wait page render\n",
    "time.sleep(30)\n",
    "\n",
    "while(True):\n",
    "    try:\n",
    "        # Getting all urls from current page\n",
    "        xpath = '//div[@itemprop=\"itemListElement\"]/meta[@itemprop=\"url\"]'\n",
    "        listing = driver.find_elements(By.XPATH, xpath)\n",
    "        urls_page = [i.get_attribute('content') for i in listing]\n",
    "        \n",
    "        current_url = driver.current_url\n",
    "        \n",
    "        # Saving urls into list\n",
    "        urls_list.append({'page': current_url, 'list': urls_page})\n",
    "\n",
    "        # Go to next page\n",
    "        xpath_next = '//a[@aria-label=\"Próximo\"]'\n",
    "        driver.find_element(By.XPATH, xpath_next).click()\n",
    "        \n",
    "        # Sleep to wait page render\n",
    "        time.sleep(30)\n",
    "    except Exception as e:\n",
    "        # When reach the last page, break\n",
    "        print(e)\n",
    "        break\n",
    "\n",
    "    "
   ]
  },
  {
   "cell_type": "code",
   "execution_count": 166,
   "id": "f9b97554-c58a-42c7-8dbf-0e86eb1cadf6",
   "metadata": {},
   "outputs": [],
   "source": [
    "# Close driver\n",
    "driver.close()"
   ]
  },
  {
   "cell_type": "code",
   "execution_count": 4,
   "id": "9ad63075-4448-4d91-9dbd-6c2389f4ef69",
   "metadata": {},
   "outputs": [
    {
     "ename": "NameError",
     "evalue": "name 'urls_list' is not defined",
     "output_type": "error",
     "traceback": [
      "\u001b[0;31m---------------------------------------------------------------------------\u001b[0m",
      "\u001b[0;31mNameError\u001b[0m                                 Traceback (most recent call last)",
      "\u001b[0;32m/var/folders/dl/144dv_xn32j603jj7l33r0h40000gn/T/ipykernel_16421/2130453317.py\u001b[0m in \u001b[0;36m<module>\u001b[0;34m\u001b[0m\n\u001b[0;32m----> 1\u001b[0;31m \u001b[0mdf\u001b[0m \u001b[0;34m=\u001b[0m \u001b[0mpd\u001b[0m\u001b[0;34m.\u001b[0m\u001b[0mDataFrame\u001b[0m\u001b[0;34m(\u001b[0m\u001b[0murls_list\u001b[0m\u001b[0;34m)\u001b[0m\u001b[0;34m\u001b[0m\u001b[0;34m\u001b[0m\u001b[0m\n\u001b[0m\u001b[1;32m      2\u001b[0m \u001b[0mdf\u001b[0m\u001b[0;34m\u001b[0m\u001b[0;34m\u001b[0m\u001b[0m\n",
      "\u001b[0;31mNameError\u001b[0m: name 'urls_list' is not defined"
     ]
    }
   ],
   "source": [
    "df = pd.DataFrame(urls_list)\n",
    "df"
   ]
  },
  {
   "cell_type": "code",
   "execution_count": 5,
   "id": "dacaaba4-731d-4b5a-bd00-7b756371e41f",
   "metadata": {},
   "outputs": [
    {
     "data": {
      "text/html": [
       "<div>\n",
       "<style scoped>\n",
       "    .dataframe tbody tr th:only-of-type {\n",
       "        vertical-align: middle;\n",
       "    }\n",
       "\n",
       "    .dataframe tbody tr th {\n",
       "        vertical-align: top;\n",
       "    }\n",
       "\n",
       "    .dataframe thead th {\n",
       "        text-align: right;\n",
       "    }\n",
       "</style>\n",
       "<table border=\"1\" class=\"dataframe\">\n",
       "  <thead>\n",
       "    <tr style=\"text-align: right;\">\n",
       "      <th></th>\n",
       "      <th>page</th>\n",
       "      <th>list</th>\n",
       "    </tr>\n",
       "  </thead>\n",
       "  <tbody>\n",
       "    <tr>\n",
       "      <th>0</th>\n",
       "      <td>https://www.airbnb.com.br/s/Florian%C3%B3polis...</td>\n",
       "      <td>[www.airbnb.com.br/rooms/28402863?check_in=202...</td>\n",
       "    </tr>\n",
       "    <tr>\n",
       "      <th>1</th>\n",
       "      <td>https://www.airbnb.com.br/s/Florian%C3%B3polis...</td>\n",
       "      <td>[www.airbnb.com.br/rooms/21833478?check_in=202...</td>\n",
       "    </tr>\n",
       "    <tr>\n",
       "      <th>2</th>\n",
       "      <td>https://www.airbnb.com.br/s/Florian%C3%B3polis...</td>\n",
       "      <td>[www.airbnb.com.br/rooms/30744359?check_in=202...</td>\n",
       "    </tr>\n",
       "    <tr>\n",
       "      <th>3</th>\n",
       "      <td>https://www.airbnb.com.br/s/Florian%C3%B3polis...</td>\n",
       "      <td>[www.airbnb.com.br/rooms/49093689?check_in=202...</td>\n",
       "    </tr>\n",
       "    <tr>\n",
       "      <th>4</th>\n",
       "      <td>https://www.airbnb.com.br/s/Florian%C3%B3polis...</td>\n",
       "      <td>[www.airbnb.com.br/rooms/48266519?check_in=202...</td>\n",
       "    </tr>\n",
       "    <tr>\n",
       "      <th>5</th>\n",
       "      <td>https://www.airbnb.com.br/s/Florian%C3%B3polis...</td>\n",
       "      <td>[www.airbnb.com.br/rooms/15801255?check_in=202...</td>\n",
       "    </tr>\n",
       "    <tr>\n",
       "      <th>6</th>\n",
       "      <td>https://www.airbnb.com.br/s/Florian%C3%B3polis...</td>\n",
       "      <td>[www.airbnb.com.br/rooms/10242695?check_in=202...</td>\n",
       "    </tr>\n",
       "    <tr>\n",
       "      <th>7</th>\n",
       "      <td>https://www.airbnb.com.br/s/Florian%C3%B3polis...</td>\n",
       "      <td>[www.airbnb.com.br/rooms/48498927?check_in=202...</td>\n",
       "    </tr>\n",
       "    <tr>\n",
       "      <th>8</th>\n",
       "      <td>https://www.airbnb.com.br/s/Florian%C3%B3polis...</td>\n",
       "      <td>[www.airbnb.com.br/rooms/49977748?check_in=202...</td>\n",
       "    </tr>\n",
       "    <tr>\n",
       "      <th>9</th>\n",
       "      <td>https://www.airbnb.com.br/s/Florian%C3%B3polis...</td>\n",
       "      <td>[www.airbnb.com.br/rooms/47418392?check_in=202...</td>\n",
       "    </tr>\n",
       "    <tr>\n",
       "      <th>10</th>\n",
       "      <td>https://www.airbnb.com.br/s/Florian%C3%B3polis...</td>\n",
       "      <td>[www.airbnb.com.br/rooms/37836941?check_in=202...</td>\n",
       "    </tr>\n",
       "    <tr>\n",
       "      <th>11</th>\n",
       "      <td>https://www.airbnb.com.br/s/Florian%C3%B3polis...</td>\n",
       "      <td>[www.airbnb.com.br/rooms/21538544?check_in=202...</td>\n",
       "    </tr>\n",
       "    <tr>\n",
       "      <th>12</th>\n",
       "      <td>https://www.airbnb.com.br/s/Florian%C3%B3polis...</td>\n",
       "      <td>[www.airbnb.com.br/rooms/12009202?check_in=202...</td>\n",
       "    </tr>\n",
       "    <tr>\n",
       "      <th>13</th>\n",
       "      <td>https://www.airbnb.com.br/s/Florian%C3%B3polis...</td>\n",
       "      <td>[www.airbnb.com.br/rooms/47057828?check_in=202...</td>\n",
       "    </tr>\n",
       "    <tr>\n",
       "      <th>14</th>\n",
       "      <td>https://www.airbnb.com.br/s/Florian%C3%B3polis...</td>\n",
       "      <td>[www.airbnb.com.br/rooms/21426165?check_in=202...</td>\n",
       "    </tr>\n",
       "  </tbody>\n",
       "</table>\n",
       "</div>"
      ],
      "text/plain": [
       "                                                 page  \\\n",
       "0   https://www.airbnb.com.br/s/Florian%C3%B3polis...   \n",
       "1   https://www.airbnb.com.br/s/Florian%C3%B3polis...   \n",
       "2   https://www.airbnb.com.br/s/Florian%C3%B3polis...   \n",
       "3   https://www.airbnb.com.br/s/Florian%C3%B3polis...   \n",
       "4   https://www.airbnb.com.br/s/Florian%C3%B3polis...   \n",
       "5   https://www.airbnb.com.br/s/Florian%C3%B3polis...   \n",
       "6   https://www.airbnb.com.br/s/Florian%C3%B3polis...   \n",
       "7   https://www.airbnb.com.br/s/Florian%C3%B3polis...   \n",
       "8   https://www.airbnb.com.br/s/Florian%C3%B3polis...   \n",
       "9   https://www.airbnb.com.br/s/Florian%C3%B3polis...   \n",
       "10  https://www.airbnb.com.br/s/Florian%C3%B3polis...   \n",
       "11  https://www.airbnb.com.br/s/Florian%C3%B3polis...   \n",
       "12  https://www.airbnb.com.br/s/Florian%C3%B3polis...   \n",
       "13  https://www.airbnb.com.br/s/Florian%C3%B3polis...   \n",
       "14  https://www.airbnb.com.br/s/Florian%C3%B3polis...   \n",
       "\n",
       "                                                 list  \n",
       "0   [www.airbnb.com.br/rooms/28402863?check_in=202...  \n",
       "1   [www.airbnb.com.br/rooms/21833478?check_in=202...  \n",
       "2   [www.airbnb.com.br/rooms/30744359?check_in=202...  \n",
       "3   [www.airbnb.com.br/rooms/49093689?check_in=202...  \n",
       "4   [www.airbnb.com.br/rooms/48266519?check_in=202...  \n",
       "5   [www.airbnb.com.br/rooms/15801255?check_in=202...  \n",
       "6   [www.airbnb.com.br/rooms/10242695?check_in=202...  \n",
       "7   [www.airbnb.com.br/rooms/48498927?check_in=202...  \n",
       "8   [www.airbnb.com.br/rooms/49977748?check_in=202...  \n",
       "9   [www.airbnb.com.br/rooms/47418392?check_in=202...  \n",
       "10  [www.airbnb.com.br/rooms/37836941?check_in=202...  \n",
       "11  [www.airbnb.com.br/rooms/21538544?check_in=202...  \n",
       "12  [www.airbnb.com.br/rooms/12009202?check_in=202...  \n",
       "13  [www.airbnb.com.br/rooms/47057828?check_in=202...  \n",
       "14  [www.airbnb.com.br/rooms/21426165?check_in=202...  "
      ]
     },
     "execution_count": 5,
     "metadata": {},
     "output_type": "execute_result"
    }
   ],
   "source": [
    "#df.to_pickle('listing.pck')\n",
    "df = pd.read_pickle('listing.pck')\n",
    "df"
   ]
  },
  {
   "cell_type": "code",
   "execution_count": 6,
   "id": "edab2aaf-7917-45de-9f14-7def16d64fca",
   "metadata": {},
   "outputs": [
    {
     "data": {
      "text/plain": [
       "300"
      ]
     },
     "execution_count": 6,
     "metadata": {},
     "output_type": "execute_result"
    }
   ],
   "source": [
    "links = reduce(lambda x,y: x+y, df['list'].values)\n",
    "links = list(map(lambda x: 'https://' + x, links))\n",
    "len(links)"
   ]
  },
  {
   "cell_type": "code",
   "execution_count": 7,
   "id": "d6c65169-3dd8-46f7-9412-413e00a56100",
   "metadata": {},
   "outputs": [],
   "source": [
    "months = ['0' + str(i) if len(str(i)) < 2 else str(i) for i in range (1, 13)]\n",
    "day = '01'\n",
    "years = ['2023', '2024', '2026']"
   ]
  },
  {
   "cell_type": "code",
   "execution_count": 8,
   "id": "2bc904f1-a3d4-4209-9eda-82374310d54d",
   "metadata": {
    "tags": []
   },
   "outputs": [
    {
     "data": {
      "text/plain": [
       "['2023-01-01',\n",
       " '2023-02-01',\n",
       " '2023-03-01',\n",
       " '2023-04-01',\n",
       " '2023-05-01',\n",
       " '2023-06-01',\n",
       " '2023-07-01',\n",
       " '2023-08-01',\n",
       " '2023-09-01',\n",
       " '2023-10-01',\n",
       " '2023-11-01',\n",
       " '2023-12-01',\n",
       " '2024-01-01',\n",
       " '2024-02-01',\n",
       " '2024-03-01',\n",
       " '2024-04-01',\n",
       " '2024-05-01',\n",
       " '2024-06-01',\n",
       " '2024-07-01',\n",
       " '2024-08-01',\n",
       " '2024-09-01',\n",
       " '2024-10-01',\n",
       " '2024-11-01',\n",
       " '2024-12-01',\n",
       " '2026-01-01',\n",
       " '2026-02-01',\n",
       " '2026-03-01',\n",
       " '2026-04-01',\n",
       " '2026-05-01',\n",
       " '2026-06-01',\n",
       " '2026-07-01',\n",
       " '2026-08-01',\n",
       " '2026-09-01',\n",
       " '2026-10-01',\n",
       " '2026-11-01',\n",
       " '2026-12-01']"
      ]
     },
     "execution_count": 8,
     "metadata": {},
     "output_type": "execute_result"
    }
   ],
   "source": [
    "dates_ranges = []\n",
    "\n",
    "for y in years:\n",
    "    for m in months:\n",
    "        date = y + '-' + m + '-' + day\n",
    "        dates_ranges.append(date)\n",
    "        \n",
    "dates_ranges    "
   ]
  },
  {
   "cell_type": "code",
   "execution_count": 9,
   "id": "df3753c3-5843-4d14-b55c-abaf6e13e23a",
   "metadata": {
    "tags": []
   },
   "outputs": [
    {
     "data": {
      "text/plain": [
       "['check_in=2023-01-01&check_out=2023-02-01',\n",
       " 'check_in=2023-02-01&check_out=2023-03-01',\n",
       " 'check_in=2023-03-01&check_out=2023-04-01',\n",
       " 'check_in=2023-04-01&check_out=2023-05-01',\n",
       " 'check_in=2023-05-01&check_out=2023-06-01',\n",
       " 'check_in=2023-06-01&check_out=2023-07-01',\n",
       " 'check_in=2023-07-01&check_out=2023-08-01',\n",
       " 'check_in=2023-08-01&check_out=2023-09-01',\n",
       " 'check_in=2023-09-01&check_out=2023-10-01',\n",
       " 'check_in=2023-10-01&check_out=2023-11-01',\n",
       " 'check_in=2023-11-01&check_out=2023-12-01',\n",
       " 'check_in=2023-12-01&check_out=2024-01-01',\n",
       " 'check_in=2024-01-01&check_out=2024-02-01',\n",
       " 'check_in=2024-02-01&check_out=2024-03-01',\n",
       " 'check_in=2024-03-01&check_out=2024-04-01',\n",
       " 'check_in=2024-04-01&check_out=2024-05-01',\n",
       " 'check_in=2024-05-01&check_out=2024-06-01',\n",
       " 'check_in=2024-06-01&check_out=2024-07-01',\n",
       " 'check_in=2024-07-01&check_out=2024-08-01',\n",
       " 'check_in=2024-08-01&check_out=2024-09-01',\n",
       " 'check_in=2024-09-01&check_out=2024-10-01',\n",
       " 'check_in=2024-10-01&check_out=2024-11-01',\n",
       " 'check_in=2024-11-01&check_out=2024-12-01',\n",
       " 'check_in=2024-12-01&check_out=2026-01-01',\n",
       " 'check_in=2026-01-01&check_out=2026-02-01',\n",
       " 'check_in=2026-02-01&check_out=2026-03-01',\n",
       " 'check_in=2026-03-01&check_out=2026-04-01',\n",
       " 'check_in=2026-04-01&check_out=2026-05-01',\n",
       " 'check_in=2026-05-01&check_out=2026-06-01',\n",
       " 'check_in=2026-06-01&check_out=2026-07-01',\n",
       " 'check_in=2026-07-01&check_out=2026-08-01',\n",
       " 'check_in=2026-08-01&check_out=2026-09-01',\n",
       " 'check_in=2026-09-01&check_out=2026-10-01',\n",
       " 'check_in=2026-10-01&check_out=2026-11-01',\n",
       " 'check_in=2026-11-01&check_out=2026-12-01']"
      ]
     },
     "execution_count": 9,
     "metadata": {},
     "output_type": "execute_result"
    }
   ],
   "source": [
    "str_ranges = ['check_in=' + dates_ranges[i - 1] +  '&check_out=' + dates_ranges[i] for i in range(1, len(dates_ranges))]\n",
    "str_ranges"
   ]
  },
  {
   "cell_type": "code",
   "execution_count": 10,
   "id": "bf43b05f-5f4a-44f4-8dfc-c2eb053354f7",
   "metadata": {},
   "outputs": [
    {
     "data": {
      "text/plain": [
       "'https://www.airbnb.com.br/rooms/28402863?check_in=2024-01-01&check_out=2024-01-31&previous_page_section_name=1000&display_extensions%5B0%5D=MONTHLY_STAYS'"
      ]
     },
     "execution_count": 10,
     "metadata": {},
     "output_type": "execute_result"
    }
   ],
   "source": [
    "links[0]"
   ]
  },
  {
   "cell_type": "markdown",
   "id": "4c0be77c-7acd-41b0-acf4-dd2e8e618a4b",
   "metadata": {},
   "source": [
    "# Crawling informations"
   ]
  },
  {
   "cell_type": "code",
   "execution_count": 11,
   "id": "794b2deb-d36b-42fd-8901-d7eb33a21c4e",
   "metadata": {},
   "outputs": [
    {
     "data": {
      "text/plain": [
       "['https://www.airbnb.com.br/rooms/28402863?check_in=2023-01-01&check_out=2023-02-01&previous_page_section_name=1000&display_extensions%5B0%5D=MONTHLY_STAYS',\n",
       " 'https://www.airbnb.com.br/rooms/47933102?check_in=2023-01-01&check_out=2023-02-01&previous_page_section_name=1000&display_extensions%5B0%5D=MONTHLY_STAYS',\n",
       " 'https://www.airbnb.com.br/rooms/37463536?check_in=2023-01-01&check_out=2023-02-01&previous_page_section_name=1000&display_extensions%5B0%5D=MONTHLY_STAYS',\n",
       " 'https://www.airbnb.com.br/rooms/31143465?check_in=2023-01-01&check_out=2023-02-01&previous_page_section_name=1000&display_extensions%5B0%5D=MONTHLY_STAYS',\n",
       " 'https://www.airbnb.com.br/rooms/27789679?check_in=2023-01-01&check_out=2023-02-01&previous_page_section_name=1000&display_extensions%5B0%5D=MONTHLY_STAYS',\n",
       " 'https://www.airbnb.com.br/rooms/52364562?check_in=2023-01-01&check_out=2023-02-01&previous_page_section_name=1000&display_extensions%5B0%5D=MONTHLY_STAYS',\n",
       " 'https://www.airbnb.com.br/rooms/17963094?check_in=2023-01-01&check_out=2023-02-01&previous_page_section_name=1000&display_extensions%5B0%5D=MONTHLY_STAYS',\n",
       " 'https://www.airbnb.com.br/rooms/34643056?check_in=2023-01-01&check_out=2023-02-01&previous_page_section_name=1000&display_extensions%5B0%5D=MONTHLY_STAYS',\n",
       " 'https://www.airbnb.com.br/rooms/45950262?check_in=2023-01-01&check_out=2023-02-01&previous_page_section_name=1000&display_extensions%5B0%5D=MONTHLY_STAYS',\n",
       " 'https://www.airbnb.com.br/rooms/53107116?check_in=2023-01-01&check_out=2023-02-01&previous_page_section_name=1000&display_extensions%5B0%5D=MONTHLY_STAYS']"
      ]
     },
     "execution_count": 11,
     "metadata": {},
     "output_type": "execute_result"
    }
   ],
   "source": [
    "complete_links = [[l.replace(r'check_in=2024-01-01&check_out=2024-01-31', range_) for l in links] for range_ in str_ranges]\n",
    "complete_links = reduce(lambda x,y: x+y, complete_links)\n",
    "complete_links[0:10]"
   ]
  },
  {
   "cell_type": "code",
   "execution_count": 12,
   "id": "5c043dd0-2af3-4305-80db-b8faa6b70b4f",
   "metadata": {},
   "outputs": [
    {
     "data": {
      "text/plain": [
       "['https://www.airbnb.com.br/rooms/31053056?check_in=2023-12-01&check_out=2024-01-01&previous_page_section_name=1000&display_extensions%5B0%5D=MONTHLY_STAYS',\n",
       " 'https://www.airbnb.com.br/rooms/27467426?check_in=2023-12-01&check_out=2024-01-01&previous_page_section_name=1000&display_extensions%5B0%5D=MONTHLY_STAYS',\n",
       " 'https://www.airbnb.com.br/rooms/23606721?check_in=2023-12-01&check_out=2024-01-01&previous_page_section_name=1000&display_extensions%5B0%5D=MONTHLY_STAYS',\n",
       " 'https://www.airbnb.com.br/rooms/52896730?check_in=2023-12-01&check_out=2024-01-01&previous_page_section_name=1000&display_extensions%5B0%5D=MONTHLY_STAYS',\n",
       " 'https://www.airbnb.com.br/rooms/46081728?check_in=2023-12-01&check_out=2024-01-01&previous_page_section_name=1000&display_extensions%5B0%5D=MONTHLY_STAYS']"
      ]
     },
     "execution_count": 12,
     "metadata": {},
     "output_type": "execute_result"
    }
   ],
   "source": [
    "links_2023 = [cp for cp in complete_links if '2023-' in cp]\n",
    "links_2023[len(links_2023) - 6:len(links_2023) -1]"
   ]
  },
  {
   "cell_type": "code",
   "execution_count": null,
   "id": "76bee570-11b5-41d0-a06a-5198897df1a8",
   "metadata": {},
   "outputs": [
    {
     "name": "stderr",
     "output_type": "stream",
     "text": [
      "  0%|          | 0/3600 [00:00<?, ?it/s]"
     ]
    },
    {
     "name": "stdout",
     "output_type": "stream",
     "text": [
      "Errors total:  0\n",
      "Message: no such element: Unable to locate element: {\"method\":\"xpath\",\"selector\":\"//span[@class=\"_1k4xcdh\"]\"}\n",
      "  (Session info: chrome=106.0.5249.119)\n",
      "Stacktrace:\n",
      "0   chromedriver                        0x0000000102ff6c08 chromedriver + 4402184\n",
      "1   chromedriver                        0x0000000102f7e1f3 chromedriver + 3908083\n",
      "2   chromedriver                        0x0000000102c2be6a chromedriver + 425578\n",
      "3   chromedriver                        0x0000000102c63c91 chromedriver + 654481\n",
      "4   chromedriver                        0x0000000102c63e91 chromedriver + 654993\n",
      "5   chromedriver                        0x0000000102c9b274 chromedriver + 881268\n",
      "6   chromedriver                        0x0000000102c81dcd chromedriver + 777677\n",
      "7   chromedriver                        0x0000000102c98f79 chromedriver + 872313\n",
      "8   chromedriver                        0x0000000102c81bd3 chromedriver + 777171\n",
      "9   chromedriver                        0x0000000102c56ced chromedriver + 601325\n",
      "10  chromedriver                        0x0000000102c57e51 chromedriver + 605777\n",
      "11  chromedriver                        0x0000000102fc673e chromedriver + 4204350\n",
      "12  chromedriver                        0x0000000102fcae07 chromedriver + 4222471\n",
      "13  chromedriver                        0x0000000102fd20bf chromedriver + 4251839\n",
      "14  chromedriver                        0x0000000102fcbb4a chromedriver + 4225866\n",
      "15  chromedriver                        0x0000000102fa48af chromedriver + 4065455\n",
      "16  chromedriver                        0x0000000102fe8d18 chromedriver + 4345112\n",
      "17  chromedriver                        0x0000000102fe8e86 chromedriver + 4345478\n",
      "18  chromedriver                        0x0000000102ffdf6e chromedriver + 4431726\n",
      "19  libsystem_pthread.dylib             0x00007ff801661514 _pthread_start + 125\n",
      "20  libsystem_pthread.dylib             0x00007ff80165d02f thread_start + 15\n",
      "\n"
     ]
    }
   ],
   "source": [
    "results = []\n",
    "errors = []\n",
    "\n",
    "k = -1\n",
    "\n",
    "for url in tqdm(links_2023):\n",
    "    # Tries counter\n",
    "    j = 0\n",
    "    \n",
    "    k = k + 1\n",
    "    \n",
    "    if (k % 10) == 0:\n",
    "        print('Errors total: ', len(errors))\n",
    "    \n",
    "    while(True):\n",
    "        try:\n",
    "            #chromedriver_autoinstaller.install()\n",
    "            j = j + 1\n",
    "            \n",
    "            time.sleep(2)\n",
    "            \n",
    "            driver = webdriver.Chrome()\n",
    "\n",
    "            time.sleep(2)\n",
    "\n",
    "            driver.get(url)\n",
    "\n",
    "            time.sleep(30)\n",
    "\n",
    "            title = driver.find_element(By.XPATH, '//div[@data-section-id=\"TITLE_DEFAULT\"]/section/div/span/h1').text\n",
    "            rating = driver.find_element(By.XPATH, '//span[@class=\"_17p6nbba\"]').text\n",
    "            location = driver.find_element(By.XPATH, '//span[@class=\"_9xiloll\"]').text\n",
    "            price = ' '.join([i.text for i in driver.find_elements(By.XPATH, '//div//span[@class=\"_tyxjp1\"]')])\n",
    "            description = driver.find_element(By.XPATH, '//span[@class=\"ll4r2nl dir dir-ltr\"]').text\n",
    "            guests = driver.find_element(By.XPATH, '//li[@class=\"l7n4lsf dir dir-ltr\"]').text\n",
    "\n",
    "            atributes = driver.find_elements(By.XPATH, '//li[@class=\"l7n4lsf dir dir-ltr\"]')\n",
    "            atributes = [i.text for i in atributes]\n",
    "\n",
    "            am = json.loads(driver.find_element(By.XPATH, '//script[@id=\"data-deferred-state\"]').get_attribute('innerHTML'))\n",
    "\n",
    "\n",
    "            amenities_list = [i for i in am['niobeMinimalClientData'][0][1]['data']['presentation']['stayProductDetailPage']['sections']['sections'] if 'previewAmenitiesGroups' in i['section']][0]['section']['seeAllAmenitiesGroups']\n",
    "            amenities = [[a['title'] for a in al['amenities']] for al in amenities_list]\n",
    "            amenities_list = reduce(lambda x,y: x+y, amenities)\n",
    "\n",
    "            ratings = driver.find_elements(By.XPATH, '//div[@class=\"_1s11ltsf\"]//div//span[@class=\"_4oybiu\"]')\n",
    "            ratings = [i.text for i in ratings]\n",
    "\n",
    "            lat = str(list(findkeys(am, 'lat'))[0]) if len(list(findkeys(am, 'lat'))) > 0 else ''\n",
    "            lng = str(list(findkeys(am, 'lng'))[0]) if len(list(findkeys(am, 'lng'))) > 0 else ''\n",
    "\n",
    "            data = {\n",
    "                    'url': url,\n",
    "                    'title': title,\n",
    "                   'rating': rating,\n",
    "                   'location': location,\n",
    "                   'price': price,\n",
    "                   'description': description,\n",
    "                   'guests': guests,\n",
    "                   'atributes': atributes,\n",
    "                   'amenities_list': amenities_list,\n",
    "                   'ratings': ratings,\n",
    "                   'lat': lat,\n",
    "                   'lng': lng}\n",
    "\n",
    "            results.append(data)\n",
    "\n",
    "            driver.close()\n",
    "            break\n",
    "\n",
    "        except Exception as e:\n",
    "            print(e)\n",
    "            # Exceeded 5 tries, save link and go next\n",
    "            if j >= 5:\n",
    "                errors.append(url)\n",
    "                break\n",
    "\n",
    "            continue"
   ]
  },
  {
   "cell_type": "code",
   "execution_count": 28,
   "id": "b6b93278-6fdc-4b43-be8f-eb81fac6645c",
   "metadata": {},
   "outputs": [],
   "source": [
    "#chromedriver_autoinstaller.install()\n",
    "url = links_2023[0]\n",
    "\n",
    "time.sleep(2)\n",
    "\n",
    "driver = webdriver.Chrome()\n",
    "\n",
    "time.sleep(2)\n",
    "\n",
    "driver.get(url)\n",
    "\n",
    "time.sleep(30)\n",
    "\n",
    "title = driver.find_element(By.XPATH, '//div[@data-section-id=\"TITLE_DEFAULT\"]/section/div/span/h1').text\n",
    "rating = driver.find_element(By.XPATH, '//span[@class=\"_17p6nbba\"]').text\n",
    "location = driver.find_element(By.XPATH, '//span[@class=\"_9xiloll\"]').text\n",
    "price = driver.find_element(By.XPATH, '//span[@class=\"_tyxjp1\"]').text\n",
    "description = driver.find_element(By.XPATH, '//span[@class=\"ll4r2nl dir dir-ltr\"]').text\n",
    "guests = driver.find_element(By.XPATH, '//li[@class=\"l7n4lsf dir dir-ltr\"]').text\n",
    "\n",
    "atributes = driver.find_elements(By.XPATH, '//li[@class=\"l7n4lsf dir dir-ltr\"]')\n",
    "atributes = [i.text for i in atributes]\n",
    "\n",
    "am = json.loads(driver.find_element(By.XPATH, '//script[@id=\"data-deferred-state\"]').get_attribute('innerHTML'))\n",
    "\n",
    "\n",
    "amenities_list = [i for i in am['niobeMinimalClientData'][0][1]['data']['presentation']['stayProductDetailPage']['sections']['sections'] if 'previewAmenitiesGroups' in i['section']][0]['section']['seeAllAmenitiesGroups']\n",
    "amenities = [[a['title'] for a in al['amenities']] for al in amenities_list]\n",
    "amenities_list = reduce(lambda x,y: x+y, amenities)\n",
    "\n",
    "ratings = driver.find_elements(By.XPATH, '//div//span[@class=\"_tyxjp1\"]')\n",
    "ratings = [i.text for i in ratings]\n",
    "\n",
    "lat = str(list(findkeys(am, 'lat'))[0]) if len(list(findkeys(am, 'lat'))) > 0 else ''\n",
    "lng = str(list(findkeys(am, 'lng'))[0]) if len(list(findkeys(am, 'lng'))) > 0 else ''\n",
    "\n",
    "data = {\n",
    "        'url': url,\n",
    "        'title': title,\n",
    "       'rating': rating,\n",
    "       'location': location,\n",
    "       'price': price,\n",
    "       'description': description,\n",
    "       'guests': guests,\n",
    "       'atributes': atributes,\n",
    "       'amenities_list': amenities_list,\n",
    "       'ratings': ratings,\n",
    "       'lat': lat,\n",
    "       'lng': lng}\n"
   ]
  },
  {
   "cell_type": "code",
   "execution_count": 32,
   "id": "333e34ca-de1c-48d5-b433-de261395e9b1",
   "metadata": {},
   "outputs": [
    {
     "data": {
      "text/plain": [
       "' R$5.528'"
      ]
     },
     "execution_count": 32,
     "metadata": {},
     "output_type": "execute_result"
    }
   ],
   "source": []
  },
  {
   "cell_type": "code",
   "execution_count": 30,
   "id": "66b6e4bf-5d64-4278-b448-f873ea22a5c8",
   "metadata": {},
   "outputs": [
    {
     "data": {
      "text/plain": [
       "''"
      ]
     },
     "execution_count": 30,
     "metadata": {},
     "output_type": "execute_result"
    }
   ],
   "source": [
    "driver.find_element(By.XPATH, '//div//span[@class=\"_tyxjp1\"]').text"
   ]
  },
  {
   "cell_type": "code",
   "execution_count": 27,
   "id": "bf40bbe7-3f58-4b6c-a9c0-e359a923d088",
   "metadata": {},
   "outputs": [],
   "source": [
    "driver.close()"
   ]
  }
 ],
 "metadata": {
  "kernelspec": {
   "display_name": "Python 3 (ipykernel)",
   "language": "python",
   "name": "python3"
  },
  "language_info": {
   "codemirror_mode": {
    "name": "ipython",
    "version": 3
   },
   "file_extension": ".py",
   "mimetype": "text/x-python",
   "name": "python",
   "nbconvert_exporter": "python",
   "pygments_lexer": "ipython3",
   "version": "3.9.7"
  }
 },
 "nbformat": 4,
 "nbformat_minor": 5
}
