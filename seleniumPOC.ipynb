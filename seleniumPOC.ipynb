{
 "cells": [
  {
   "cell_type": "code",
   "execution_count": 1,
   "id": "5cba39a1-f3f5-411b-a7c6-5251b4c5a071",
   "metadata": {},
   "outputs": [],
   "source": [
    "from selenium import webdriver\n",
    "from selenium.webdriver.common.by import By\n",
    "import chromedriver_autoinstaller\n",
    "import time\n",
    "import pandas as pd\n",
    "from functools import reduce\n",
    "import json\n",
    "from tqdm import tqdm\n",
    "import re"
   ]
  },
  {
   "cell_type": "code",
   "execution_count": 2,
   "id": "eaa1d072-8fa4-4ebf-8b49-aed87e352238",
   "metadata": {},
   "outputs": [],
   "source": [
    "options = webdriver.ChromeOptions()\n",
    "options.add_argument(\"--kiosk\")"
   ]
  },
  {
   "cell_type": "code",
   "execution_count": 3,
   "id": "4e8e4ad2-c08f-4340-a5ee-1fb16f110743",
   "metadata": {},
   "outputs": [],
   "source": [
    "pd.set_option('display.max_columns', None)"
   ]
  },
  {
   "cell_type": "code",
   "execution_count": 4,
   "id": "3c320fe0-5033-4d26-86f2-6ce5364311d7",
   "metadata": {},
   "outputs": [],
   "source": [
    "def findkeys(node, kv):\n",
    "    if isinstance(node, list):\n",
    "        for i in node:\n",
    "            for x in findkeys(i, kv):\n",
    "                yield x\n",
    "    elif isinstance(node, dict):\n",
    "        if kv in node:\n",
    "            yield node[kv]\n",
    "        for j in node.values():\n",
    "            for x in findkeys(j, kv):\n",
    "                yield x"
   ]
  },
  {
   "cell_type": "markdown",
   "id": "cd76c9b2-8729-4389-aa34-ccad89386377",
   "metadata": {},
   "source": [
    "# Getting all links"
   ]
  },
  {
   "cell_type": "code",
   "execution_count": 3,
   "id": "52bde6d2-c806-466e-9e2a-d8a3edaae8f6",
   "metadata": {},
   "outputs": [],
   "source": [
    "url = 'https://www.airbnb.com.br/s/Florian%C3%B3polis-~-SC/homes?tab_id=home_tab&refinement_paths%5B%5D=%2Fhomes&flexible_trip_lengths%5B%5D=one_week&price_filter_input_type=0&query=Florian%C3%B3polis%20-%20SC&place_id=ChIJ1zLGsk45J5URRscEagtVvIE&date_picker_type=calendar&checkin=2024-01-01&checkout=2024-01-31&source=structured_search_input_header&search_type=filter_change&price_filter_num_nights=30&room_types%5B%5D=Entire%20home%2Fapt'"
   ]
  },
  {
   "cell_type": "code",
   "execution_count": 5,
   "id": "715bb2ab-33fc-43f1-808b-c241bf7e36a7",
   "metadata": {},
   "outputs": [
    {
     "data": {
      "text/plain": [
       "'/opt/anaconda3/lib/python3.9/site-packages/chromedriver_autoinstaller/106/chromedriver'"
      ]
     },
     "execution_count": 5,
     "metadata": {},
     "output_type": "execute_result"
    }
   ],
   "source": [
    "# Initializing driver\n",
    "chromedriver_autoinstaller.install()\n",
    "#driver = webdriver.Chrome()"
   ]
  },
  {
   "cell_type": "code",
   "execution_count": 5,
   "id": "4227d8ef-ff29-4c2b-9079-be95ee047fc3",
   "metadata": {
    "tags": []
   },
   "outputs": [
    {
     "name": "stdout",
     "output_type": "stream",
     "text": [
      "Message: no such element: Unable to locate element: {\"method\":\"xpath\",\"selector\":\"//a[@aria-label=\"Próximo\"]\"}\n",
      "  (Session info: chrome=106.0.5249.119)\n",
      "Stacktrace:\n",
      "0   chromedriver                        0x00000001008dec08 chromedriver + 4402184\n",
      "1   chromedriver                        0x00000001008661f3 chromedriver + 3908083\n",
      "2   chromedriver                        0x0000000100513e6a chromedriver + 425578\n",
      "3   chromedriver                        0x000000010054bc91 chromedriver + 654481\n",
      "4   chromedriver                        0x000000010054be91 chromedriver + 654993\n",
      "5   chromedriver                        0x0000000100583274 chromedriver + 881268\n",
      "6   chromedriver                        0x0000000100569dcd chromedriver + 777677\n",
      "7   chromedriver                        0x0000000100580f79 chromedriver + 872313\n",
      "8   chromedriver                        0x0000000100569bd3 chromedriver + 777171\n",
      "9   chromedriver                        0x000000010053eced chromedriver + 601325\n",
      "10  chromedriver                        0x000000010053fe51 chromedriver + 605777\n",
      "11  chromedriver                        0x00000001008ae73e chromedriver + 4204350\n",
      "12  chromedriver                        0x00000001008b2e07 chromedriver + 4222471\n",
      "13  chromedriver                        0x00000001008ba0bf chromedriver + 4251839\n",
      "14  chromedriver                        0x00000001008b3b4a chromedriver + 4225866\n",
      "15  chromedriver                        0x000000010088c8af chromedriver + 4065455\n",
      "16  chromedriver                        0x00000001008d0d18 chromedriver + 4345112\n",
      "17  chromedriver                        0x00000001008d0e86 chromedriver + 4345478\n",
      "18  chromedriver                        0x00000001008e5f6e chromedriver + 4431726\n",
      "19  libsystem_pthread.dylib             0x00007ff81f6e1514 _pthread_start + 125\n",
      "20  libsystem_pthread.dylib             0x00007ff81f6dd02f thread_start + 15\n",
      "\n"
     ]
    }
   ],
   "source": [
    "urls_list = []\n",
    "\n",
    "# Go to first page\n",
    "driver.get(url)\n",
    "# Sleep to wait page render\n",
    "time.sleep(30)\n",
    "\n",
    "while(True):\n",
    "    try:\n",
    "        # Getting all urls from current page\n",
    "        xpath = '//div[@itemprop=\"itemListElement\"]/meta[@itemprop=\"url\"]'\n",
    "        listing = driver.find_elements(By.XPATH, xpath)\n",
    "        urls_page = [i.get_attribute('content') for i in listing]\n",
    "        \n",
    "        current_url = driver.current_url\n",
    "        \n",
    "        # Saving urls into list\n",
    "        urls_list.append({'page': current_url, 'list': urls_page})\n",
    "\n",
    "        # Go to next page\n",
    "        xpath_next = '//a[@aria-label=\"Próximo\"]'\n",
    "        driver.find_element(By.XPATH, xpath_next).click()\n",
    "        \n",
    "        # Sleep to wait page render\n",
    "        time.sleep(30)\n",
    "    except Exception as e:\n",
    "        # When reach the last page, break\n",
    "        print(e)\n",
    "        break\n",
    "\n",
    "    "
   ]
  },
  {
   "cell_type": "code",
   "execution_count": 166,
   "id": "f9b97554-c58a-42c7-8dbf-0e86eb1cadf6",
   "metadata": {},
   "outputs": [],
   "source": [
    "# Close driver\n",
    "driver.close()"
   ]
  },
  {
   "cell_type": "code",
   "execution_count": 4,
   "id": "9ad63075-4448-4d91-9dbd-6c2389f4ef69",
   "metadata": {},
   "outputs": [
    {
     "ename": "NameError",
     "evalue": "name 'urls_list' is not defined",
     "output_type": "error",
     "traceback": [
      "\u001b[0;31m---------------------------------------------------------------------------\u001b[0m",
      "\u001b[0;31mNameError\u001b[0m                                 Traceback (most recent call last)",
      "\u001b[0;32m/var/folders/dl/144dv_xn32j603jj7l33r0h40000gn/T/ipykernel_16421/2130453317.py\u001b[0m in \u001b[0;36m<module>\u001b[0;34m\u001b[0m\n\u001b[0;32m----> 1\u001b[0;31m \u001b[0mdf\u001b[0m \u001b[0;34m=\u001b[0m \u001b[0mpd\u001b[0m\u001b[0;34m.\u001b[0m\u001b[0mDataFrame\u001b[0m\u001b[0;34m(\u001b[0m\u001b[0murls_list\u001b[0m\u001b[0;34m)\u001b[0m\u001b[0;34m\u001b[0m\u001b[0;34m\u001b[0m\u001b[0m\n\u001b[0m\u001b[1;32m      2\u001b[0m \u001b[0mdf\u001b[0m\u001b[0;34m\u001b[0m\u001b[0;34m\u001b[0m\u001b[0m\n",
      "\u001b[0;31mNameError\u001b[0m: name 'urls_list' is not defined"
     ]
    }
   ],
   "source": [
    "df = pd.DataFrame(urls_list)\n",
    "df"
   ]
  },
  {
   "cell_type": "code",
   "execution_count": 6,
   "id": "dacaaba4-731d-4b5a-bd00-7b756371e41f",
   "metadata": {},
   "outputs": [
    {
     "data": {
      "text/html": [
       "<div>\n",
       "<style scoped>\n",
       "    .dataframe tbody tr th:only-of-type {\n",
       "        vertical-align: middle;\n",
       "    }\n",
       "\n",
       "    .dataframe tbody tr th {\n",
       "        vertical-align: top;\n",
       "    }\n",
       "\n",
       "    .dataframe thead th {\n",
       "        text-align: right;\n",
       "    }\n",
       "</style>\n",
       "<table border=\"1\" class=\"dataframe\">\n",
       "  <thead>\n",
       "    <tr style=\"text-align: right;\">\n",
       "      <th></th>\n",
       "      <th>page</th>\n",
       "      <th>list</th>\n",
       "    </tr>\n",
       "  </thead>\n",
       "  <tbody>\n",
       "    <tr>\n",
       "      <th>0</th>\n",
       "      <td>https://www.airbnb.com.br/s/Florian%C3%B3polis...</td>\n",
       "      <td>[www.airbnb.com.br/rooms/28402863?check_in=202...</td>\n",
       "    </tr>\n",
       "    <tr>\n",
       "      <th>1</th>\n",
       "      <td>https://www.airbnb.com.br/s/Florian%C3%B3polis...</td>\n",
       "      <td>[www.airbnb.com.br/rooms/21833478?check_in=202...</td>\n",
       "    </tr>\n",
       "    <tr>\n",
       "      <th>2</th>\n",
       "      <td>https://www.airbnb.com.br/s/Florian%C3%B3polis...</td>\n",
       "      <td>[www.airbnb.com.br/rooms/30744359?check_in=202...</td>\n",
       "    </tr>\n",
       "    <tr>\n",
       "      <th>3</th>\n",
       "      <td>https://www.airbnb.com.br/s/Florian%C3%B3polis...</td>\n",
       "      <td>[www.airbnb.com.br/rooms/49093689?check_in=202...</td>\n",
       "    </tr>\n",
       "    <tr>\n",
       "      <th>4</th>\n",
       "      <td>https://www.airbnb.com.br/s/Florian%C3%B3polis...</td>\n",
       "      <td>[www.airbnb.com.br/rooms/48266519?check_in=202...</td>\n",
       "    </tr>\n",
       "    <tr>\n",
       "      <th>5</th>\n",
       "      <td>https://www.airbnb.com.br/s/Florian%C3%B3polis...</td>\n",
       "      <td>[www.airbnb.com.br/rooms/15801255?check_in=202...</td>\n",
       "    </tr>\n",
       "    <tr>\n",
       "      <th>6</th>\n",
       "      <td>https://www.airbnb.com.br/s/Florian%C3%B3polis...</td>\n",
       "      <td>[www.airbnb.com.br/rooms/10242695?check_in=202...</td>\n",
       "    </tr>\n",
       "    <tr>\n",
       "      <th>7</th>\n",
       "      <td>https://www.airbnb.com.br/s/Florian%C3%B3polis...</td>\n",
       "      <td>[www.airbnb.com.br/rooms/48498927?check_in=202...</td>\n",
       "    </tr>\n",
       "    <tr>\n",
       "      <th>8</th>\n",
       "      <td>https://www.airbnb.com.br/s/Florian%C3%B3polis...</td>\n",
       "      <td>[www.airbnb.com.br/rooms/49977748?check_in=202...</td>\n",
       "    </tr>\n",
       "    <tr>\n",
       "      <th>9</th>\n",
       "      <td>https://www.airbnb.com.br/s/Florian%C3%B3polis...</td>\n",
       "      <td>[www.airbnb.com.br/rooms/47418392?check_in=202...</td>\n",
       "    </tr>\n",
       "    <tr>\n",
       "      <th>10</th>\n",
       "      <td>https://www.airbnb.com.br/s/Florian%C3%B3polis...</td>\n",
       "      <td>[www.airbnb.com.br/rooms/37836941?check_in=202...</td>\n",
       "    </tr>\n",
       "    <tr>\n",
       "      <th>11</th>\n",
       "      <td>https://www.airbnb.com.br/s/Florian%C3%B3polis...</td>\n",
       "      <td>[www.airbnb.com.br/rooms/21538544?check_in=202...</td>\n",
       "    </tr>\n",
       "    <tr>\n",
       "      <th>12</th>\n",
       "      <td>https://www.airbnb.com.br/s/Florian%C3%B3polis...</td>\n",
       "      <td>[www.airbnb.com.br/rooms/12009202?check_in=202...</td>\n",
       "    </tr>\n",
       "    <tr>\n",
       "      <th>13</th>\n",
       "      <td>https://www.airbnb.com.br/s/Florian%C3%B3polis...</td>\n",
       "      <td>[www.airbnb.com.br/rooms/47057828?check_in=202...</td>\n",
       "    </tr>\n",
       "    <tr>\n",
       "      <th>14</th>\n",
       "      <td>https://www.airbnb.com.br/s/Florian%C3%B3polis...</td>\n",
       "      <td>[www.airbnb.com.br/rooms/21426165?check_in=202...</td>\n",
       "    </tr>\n",
       "  </tbody>\n",
       "</table>\n",
       "</div>"
      ],
      "text/plain": [
       "                                                 page  \\\n",
       "0   https://www.airbnb.com.br/s/Florian%C3%B3polis...   \n",
       "1   https://www.airbnb.com.br/s/Florian%C3%B3polis...   \n",
       "2   https://www.airbnb.com.br/s/Florian%C3%B3polis...   \n",
       "3   https://www.airbnb.com.br/s/Florian%C3%B3polis...   \n",
       "4   https://www.airbnb.com.br/s/Florian%C3%B3polis...   \n",
       "5   https://www.airbnb.com.br/s/Florian%C3%B3polis...   \n",
       "6   https://www.airbnb.com.br/s/Florian%C3%B3polis...   \n",
       "7   https://www.airbnb.com.br/s/Florian%C3%B3polis...   \n",
       "8   https://www.airbnb.com.br/s/Florian%C3%B3polis...   \n",
       "9   https://www.airbnb.com.br/s/Florian%C3%B3polis...   \n",
       "10  https://www.airbnb.com.br/s/Florian%C3%B3polis...   \n",
       "11  https://www.airbnb.com.br/s/Florian%C3%B3polis...   \n",
       "12  https://www.airbnb.com.br/s/Florian%C3%B3polis...   \n",
       "13  https://www.airbnb.com.br/s/Florian%C3%B3polis...   \n",
       "14  https://www.airbnb.com.br/s/Florian%C3%B3polis...   \n",
       "\n",
       "                                                 list  \n",
       "0   [www.airbnb.com.br/rooms/28402863?check_in=202...  \n",
       "1   [www.airbnb.com.br/rooms/21833478?check_in=202...  \n",
       "2   [www.airbnb.com.br/rooms/30744359?check_in=202...  \n",
       "3   [www.airbnb.com.br/rooms/49093689?check_in=202...  \n",
       "4   [www.airbnb.com.br/rooms/48266519?check_in=202...  \n",
       "5   [www.airbnb.com.br/rooms/15801255?check_in=202...  \n",
       "6   [www.airbnb.com.br/rooms/10242695?check_in=202...  \n",
       "7   [www.airbnb.com.br/rooms/48498927?check_in=202...  \n",
       "8   [www.airbnb.com.br/rooms/49977748?check_in=202...  \n",
       "9   [www.airbnb.com.br/rooms/47418392?check_in=202...  \n",
       "10  [www.airbnb.com.br/rooms/37836941?check_in=202...  \n",
       "11  [www.airbnb.com.br/rooms/21538544?check_in=202...  \n",
       "12  [www.airbnb.com.br/rooms/12009202?check_in=202...  \n",
       "13  [www.airbnb.com.br/rooms/47057828?check_in=202...  \n",
       "14  [www.airbnb.com.br/rooms/21426165?check_in=202...  "
      ]
     },
     "execution_count": 6,
     "metadata": {},
     "output_type": "execute_result"
    }
   ],
   "source": [
    "#df.to_pickle('listing.pck')\n",
    "df = pd.read_pickle('listing.pck')\n",
    "df"
   ]
  },
  {
   "cell_type": "code",
   "execution_count": 7,
   "id": "edab2aaf-7917-45de-9f14-7def16d64fca",
   "metadata": {},
   "outputs": [
    {
     "data": {
      "text/plain": [
       "300"
      ]
     },
     "execution_count": 7,
     "metadata": {},
     "output_type": "execute_result"
    }
   ],
   "source": [
    "links = reduce(lambda x,y: x+y, df['list'].values)\n",
    "links = list(map(lambda x: 'https://' + x, links))\n",
    "len(links)"
   ]
  },
  {
   "cell_type": "code",
   "execution_count": 8,
   "id": "d6c65169-3dd8-46f7-9412-413e00a56100",
   "metadata": {},
   "outputs": [],
   "source": [
    "months = ['0' + str(i) if len(str(i)) < 2 else str(i) for i in range (1, 13)]\n",
    "day = '01'\n",
    "years = ['2023', '2024', '2026']"
   ]
  },
  {
   "cell_type": "code",
   "execution_count": 9,
   "id": "2bc904f1-a3d4-4209-9eda-82374310d54d",
   "metadata": {
    "tags": []
   },
   "outputs": [
    {
     "data": {
      "text/plain": [
       "['2023-01-01',\n",
       " '2023-02-01',\n",
       " '2023-03-01',\n",
       " '2023-04-01',\n",
       " '2023-05-01',\n",
       " '2023-06-01',\n",
       " '2023-07-01',\n",
       " '2023-08-01',\n",
       " '2023-09-01',\n",
       " '2023-10-01',\n",
       " '2023-11-01',\n",
       " '2023-12-01',\n",
       " '2024-01-01',\n",
       " '2024-02-01',\n",
       " '2024-03-01',\n",
       " '2024-04-01',\n",
       " '2024-05-01',\n",
       " '2024-06-01',\n",
       " '2024-07-01',\n",
       " '2024-08-01',\n",
       " '2024-09-01',\n",
       " '2024-10-01',\n",
       " '2024-11-01',\n",
       " '2024-12-01',\n",
       " '2026-01-01',\n",
       " '2026-02-01',\n",
       " '2026-03-01',\n",
       " '2026-04-01',\n",
       " '2026-05-01',\n",
       " '2026-06-01',\n",
       " '2026-07-01',\n",
       " '2026-08-01',\n",
       " '2026-09-01',\n",
       " '2026-10-01',\n",
       " '2026-11-01',\n",
       " '2026-12-01']"
      ]
     },
     "execution_count": 9,
     "metadata": {},
     "output_type": "execute_result"
    }
   ],
   "source": [
    "dates_ranges = []\n",
    "\n",
    "for y in years:\n",
    "    for m in months:\n",
    "        date = y + '-' + m + '-' + day\n",
    "        dates_ranges.append(date)\n",
    "        \n",
    "dates_ranges    "
   ]
  },
  {
   "cell_type": "code",
   "execution_count": 10,
   "id": "df3753c3-5843-4d14-b55c-abaf6e13e23a",
   "metadata": {
    "tags": []
   },
   "outputs": [
    {
     "data": {
      "text/plain": [
       "['check_in=2023-01-01&check_out=2023-02-01',\n",
       " 'check_in=2023-02-01&check_out=2023-03-01',\n",
       " 'check_in=2023-03-01&check_out=2023-04-01',\n",
       " 'check_in=2023-04-01&check_out=2023-05-01',\n",
       " 'check_in=2023-05-01&check_out=2023-06-01',\n",
       " 'check_in=2023-06-01&check_out=2023-07-01',\n",
       " 'check_in=2023-07-01&check_out=2023-08-01',\n",
       " 'check_in=2023-08-01&check_out=2023-09-01',\n",
       " 'check_in=2023-09-01&check_out=2023-10-01',\n",
       " 'check_in=2023-10-01&check_out=2023-11-01',\n",
       " 'check_in=2023-11-01&check_out=2023-12-01',\n",
       " 'check_in=2023-12-01&check_out=2024-01-01',\n",
       " 'check_in=2024-01-01&check_out=2024-02-01',\n",
       " 'check_in=2024-02-01&check_out=2024-03-01',\n",
       " 'check_in=2024-03-01&check_out=2024-04-01',\n",
       " 'check_in=2024-04-01&check_out=2024-05-01',\n",
       " 'check_in=2024-05-01&check_out=2024-06-01',\n",
       " 'check_in=2024-06-01&check_out=2024-07-01',\n",
       " 'check_in=2024-07-01&check_out=2024-08-01',\n",
       " 'check_in=2024-08-01&check_out=2024-09-01',\n",
       " 'check_in=2024-09-01&check_out=2024-10-01',\n",
       " 'check_in=2024-10-01&check_out=2024-11-01',\n",
       " 'check_in=2024-11-01&check_out=2024-12-01',\n",
       " 'check_in=2024-12-01&check_out=2026-01-01',\n",
       " 'check_in=2026-01-01&check_out=2026-02-01',\n",
       " 'check_in=2026-02-01&check_out=2026-03-01',\n",
       " 'check_in=2026-03-01&check_out=2026-04-01',\n",
       " 'check_in=2026-04-01&check_out=2026-05-01',\n",
       " 'check_in=2026-05-01&check_out=2026-06-01',\n",
       " 'check_in=2026-06-01&check_out=2026-07-01',\n",
       " 'check_in=2026-07-01&check_out=2026-08-01',\n",
       " 'check_in=2026-08-01&check_out=2026-09-01',\n",
       " 'check_in=2026-09-01&check_out=2026-10-01',\n",
       " 'check_in=2026-10-01&check_out=2026-11-01',\n",
       " 'check_in=2026-11-01&check_out=2026-12-01']"
      ]
     },
     "execution_count": 10,
     "metadata": {},
     "output_type": "execute_result"
    }
   ],
   "source": [
    "str_ranges = ['check_in=' + dates_ranges[i - 1] +  '&check_out=' + dates_ranges[i] for i in range(1, len(dates_ranges))]\n",
    "str_ranges"
   ]
  },
  {
   "cell_type": "code",
   "execution_count": 11,
   "id": "bf43b05f-5f4a-44f4-8dfc-c2eb053354f7",
   "metadata": {},
   "outputs": [
    {
     "data": {
      "text/plain": [
       "'https://www.airbnb.com.br/rooms/28402863?check_in=2024-01-01&check_out=2024-01-31&previous_page_section_name=1000&display_extensions%5B0%5D=MONTHLY_STAYS'"
      ]
     },
     "execution_count": 11,
     "metadata": {},
     "output_type": "execute_result"
    }
   ],
   "source": [
    "links[0]"
   ]
  },
  {
   "cell_type": "markdown",
   "id": "4c0be77c-7acd-41b0-acf4-dd2e8e618a4b",
   "metadata": {},
   "source": [
    "# Crawling informations"
   ]
  },
  {
   "cell_type": "code",
   "execution_count": 12,
   "id": "794b2deb-d36b-42fd-8901-d7eb33a21c4e",
   "metadata": {},
   "outputs": [
    {
     "data": {
      "text/plain": [
       "['https://www.airbnb.com.br/rooms/28402863?check_in=2023-01-01&check_out=2023-02-01&previous_page_section_name=1000&display_extensions%5B0%5D=MONTHLY_STAYS',\n",
       " 'https://www.airbnb.com.br/rooms/47933102?check_in=2023-01-01&check_out=2023-02-01&previous_page_section_name=1000&display_extensions%5B0%5D=MONTHLY_STAYS',\n",
       " 'https://www.airbnb.com.br/rooms/37463536?check_in=2023-01-01&check_out=2023-02-01&previous_page_section_name=1000&display_extensions%5B0%5D=MONTHLY_STAYS',\n",
       " 'https://www.airbnb.com.br/rooms/31143465?check_in=2023-01-01&check_out=2023-02-01&previous_page_section_name=1000&display_extensions%5B0%5D=MONTHLY_STAYS',\n",
       " 'https://www.airbnb.com.br/rooms/27789679?check_in=2023-01-01&check_out=2023-02-01&previous_page_section_name=1000&display_extensions%5B0%5D=MONTHLY_STAYS',\n",
       " 'https://www.airbnb.com.br/rooms/52364562?check_in=2023-01-01&check_out=2023-02-01&previous_page_section_name=1000&display_extensions%5B0%5D=MONTHLY_STAYS',\n",
       " 'https://www.airbnb.com.br/rooms/17963094?check_in=2023-01-01&check_out=2023-02-01&previous_page_section_name=1000&display_extensions%5B0%5D=MONTHLY_STAYS',\n",
       " 'https://www.airbnb.com.br/rooms/34643056?check_in=2023-01-01&check_out=2023-02-01&previous_page_section_name=1000&display_extensions%5B0%5D=MONTHLY_STAYS',\n",
       " 'https://www.airbnb.com.br/rooms/45950262?check_in=2023-01-01&check_out=2023-02-01&previous_page_section_name=1000&display_extensions%5B0%5D=MONTHLY_STAYS',\n",
       " 'https://www.airbnb.com.br/rooms/53107116?check_in=2023-01-01&check_out=2023-02-01&previous_page_section_name=1000&display_extensions%5B0%5D=MONTHLY_STAYS']"
      ]
     },
     "execution_count": 12,
     "metadata": {},
     "output_type": "execute_result"
    }
   ],
   "source": [
    "complete_links = [[l.replace(r'check_in=2024-01-01&check_out=2024-01-31', range_) for l in links] for range_ in str_ranges]\n",
    "complete_links = reduce(lambda x,y: x+y, complete_links)\n",
    "complete_links[0:10]"
   ]
  },
  {
   "cell_type": "code",
   "execution_count": 13,
   "id": "5c043dd0-2af3-4305-80db-b8faa6b70b4f",
   "metadata": {},
   "outputs": [
    {
     "data": {
      "text/plain": [
       "['https://www.airbnb.com.br/rooms/31053056?check_in=2023-12-01&check_out=2024-01-01&previous_page_section_name=1000&display_extensions%5B0%5D=MONTHLY_STAYS',\n",
       " 'https://www.airbnb.com.br/rooms/27467426?check_in=2023-12-01&check_out=2024-01-01&previous_page_section_name=1000&display_extensions%5B0%5D=MONTHLY_STAYS',\n",
       " 'https://www.airbnb.com.br/rooms/23606721?check_in=2023-12-01&check_out=2024-01-01&previous_page_section_name=1000&display_extensions%5B0%5D=MONTHLY_STAYS',\n",
       " 'https://www.airbnb.com.br/rooms/52896730?check_in=2023-12-01&check_out=2024-01-01&previous_page_section_name=1000&display_extensions%5B0%5D=MONTHLY_STAYS',\n",
       " 'https://www.airbnb.com.br/rooms/46081728?check_in=2023-12-01&check_out=2024-01-01&previous_page_section_name=1000&display_extensions%5B0%5D=MONTHLY_STAYS']"
      ]
     },
     "execution_count": 13,
     "metadata": {},
     "output_type": "execute_result"
    }
   ],
   "source": [
    "links_2023 = [cp for cp in complete_links if '2023-' in cp]\n",
    "links_2023[len(links_2023) - 6:len(links_2023) -1]"
   ]
  },
  {
   "cell_type": "code",
   "execution_count": 14,
   "id": "76bee570-11b5-41d0-a06a-5198897df1a8",
   "metadata": {
    "collapsed": true,
    "jupyter": {
     "outputs_hidden": true
    },
    "tags": []
   },
   "outputs": [
    {
     "name": "stderr",
     "output_type": "stream",
     "text": [
      "  0%|          | 0/3600 [00:00<?, ?it/s]"
     ]
    },
    {
     "name": "stdout",
     "output_type": "stream",
     "text": [
      "Errors total:  0\n"
     ]
    },
    {
     "name": "stderr",
     "output_type": "stream",
     "text": [
      "  0%|          | 10/3600 [05:20<31:42:49, 31.80s/it]"
     ]
    },
    {
     "name": "stdout",
     "output_type": "stream",
     "text": [
      "Errors total:  0\n"
     ]
    },
    {
     "name": "stderr",
     "output_type": "stream",
     "text": [
      "  1%|          | 20/3600 [10:42<31:57:46, 32.14s/it]"
     ]
    },
    {
     "name": "stdout",
     "output_type": "stream",
     "text": [
      "Errors total:  0\n"
     ]
    },
    {
     "name": "stderr",
     "output_type": "stream",
     "text": [
      "  1%|          | 30/3600 [16:03<31:58:21, 32.24s/it]"
     ]
    },
    {
     "name": "stdout",
     "output_type": "stream",
     "text": [
      "Errors total:  0\n"
     ]
    },
    {
     "name": "stderr",
     "output_type": "stream",
     "text": [
      "  1%|          | 36/3600 [19:24<33:14:48, 33.58s/it]"
     ]
    },
    {
     "name": "stdout",
     "output_type": "stream",
     "text": [
      "Message: no such element: Unable to locate element: {\"method\":\"xpath\",\"selector\":\"//span[@class=\"_17p6nbba\"]\"}\n",
      "  (Session info: chrome=106.0.5249.119)\n",
      "Stacktrace:\n",
      "0   chromedriver                        0x0000000102d6dc08 chromedriver + 4402184\n",
      "1   chromedriver                        0x0000000102cf51f3 chromedriver + 3908083\n",
      "2   chromedriver                        0x00000001029a2e6a chromedriver + 425578\n",
      "3   chromedriver                        0x00000001029dac91 chromedriver + 654481\n",
      "4   chromedriver                        0x00000001029dae91 chromedriver + 654993\n",
      "5   chromedriver                        0x0000000102a12274 chromedriver + 881268\n",
      "6   chromedriver                        0x00000001029f8dcd chromedriver + 777677\n",
      "7   chromedriver                        0x0000000102a0ff79 chromedriver + 872313\n",
      "8   chromedriver                        0x00000001029f8bd3 chromedriver + 777171\n",
      "9   chromedriver                        0x00000001029cdced chromedriver + 601325\n",
      "10  chromedriver                        0x00000001029cee51 chromedriver + 605777\n",
      "11  chromedriver                        0x0000000102d3d73e chromedriver + 4204350\n",
      "12  chromedriver                        0x0000000102d41e07 chromedriver + 4222471\n",
      "13  chromedriver                        0x0000000102d490bf chromedriver + 4251839\n",
      "14  chromedriver                        0x0000000102d42b4a chromedriver + 4225866\n",
      "15  chromedriver                        0x0000000102d1b8af chromedriver + 4065455\n",
      "16  chromedriver                        0x0000000102d5fd18 chromedriver + 4345112\n",
      "17  chromedriver                        0x0000000102d5fe86 chromedriver + 4345478\n",
      "18  chromedriver                        0x0000000102d74f6e chromedriver + 4431726\n",
      "19  libsystem_pthread.dylib             0x00007ff801661514 _pthread_start + 125\n",
      "20  libsystem_pthread.dylib             0x00007ff80165d02f thread_start + 15\n",
      "\n",
      "Message: no such element: Unable to locate element: {\"method\":\"xpath\",\"selector\":\"//span[@class=\"_17p6nbba\"]\"}\n",
      "  (Session info: chrome=106.0.5249.119)\n",
      "Stacktrace:\n",
      "0   chromedriver                        0x0000000102c40c08 chromedriver + 4402184\n",
      "1   chromedriver                        0x0000000102bc81f3 chromedriver + 3908083\n",
      "2   chromedriver                        0x0000000102875e6a chromedriver + 425578\n",
      "3   chromedriver                        0x00000001028adc91 chromedriver + 654481\n",
      "4   chromedriver                        0x00000001028ade91 chromedriver + 654993\n",
      "5   chromedriver                        0x00000001028e5274 chromedriver + 881268\n",
      "6   chromedriver                        0x00000001028cbdcd chromedriver + 777677\n",
      "7   chromedriver                        0x00000001028e2f79 chromedriver + 872313\n",
      "8   chromedriver                        0x00000001028cbbd3 chromedriver + 777171\n",
      "9   chromedriver                        0x00000001028a0ced chromedriver + 601325\n",
      "10  chromedriver                        0x00000001028a1e51 chromedriver + 605777\n",
      "11  chromedriver                        0x0000000102c1073e chromedriver + 4204350\n",
      "12  chromedriver                        0x0000000102c14e07 chromedriver + 4222471\n",
      "13  chromedriver                        0x0000000102c1c0bf chromedriver + 4251839\n",
      "14  chromedriver                        0x0000000102c15b4a chromedriver + 4225866\n",
      "15  chromedriver                        0x0000000102bee8af chromedriver + 4065455\n",
      "16  chromedriver                        0x0000000102c32d18 chromedriver + 4345112\n",
      "17  chromedriver                        0x0000000102c32e86 chromedriver + 4345478\n",
      "18  chromedriver                        0x0000000102c47f6e chromedriver + 4431726\n",
      "19  libsystem_pthread.dylib             0x00007ff801661514 _pthread_start + 125\n",
      "20  libsystem_pthread.dylib             0x00007ff80165d02f thread_start + 15\n",
      "\n",
      "Message: no such element: Unable to locate element: {\"method\":\"xpath\",\"selector\":\"//span[@class=\"_17p6nbba\"]\"}\n",
      "  (Session info: chrome=106.0.5249.119)\n",
      "Stacktrace:\n",
      "0   chromedriver                        0x0000000104727c08 chromedriver + 4402184\n",
      "1   chromedriver                        0x00000001046af1f3 chromedriver + 3908083\n",
      "2   chromedriver                        0x000000010435ce6a chromedriver + 425578\n",
      "3   chromedriver                        0x0000000104394c91 chromedriver + 654481\n",
      "4   chromedriver                        0x0000000104394e91 chromedriver + 654993\n",
      "5   chromedriver                        0x00000001043cc274 chromedriver + 881268\n",
      "6   chromedriver                        0x00000001043b2dcd chromedriver + 777677\n",
      "7   chromedriver                        0x00000001043c9f79 chromedriver + 872313\n",
      "8   chromedriver                        0x00000001043b2bd3 chromedriver + 777171\n",
      "9   chromedriver                        0x0000000104387ced chromedriver + 601325\n",
      "10  chromedriver                        0x0000000104388e51 chromedriver + 605777\n",
      "11  chromedriver                        0x00000001046f773e chromedriver + 4204350\n",
      "12  chromedriver                        0x00000001046fbe07 chromedriver + 4222471\n",
      "13  chromedriver                        0x00000001047030bf chromedriver + 4251839\n",
      "14  chromedriver                        0x00000001046fcb4a chromedriver + 4225866\n",
      "15  chromedriver                        0x00000001046d58af chromedriver + 4065455\n",
      "16  chromedriver                        0x0000000104719d18 chromedriver + 4345112\n",
      "17  chromedriver                        0x0000000104719e86 chromedriver + 4345478\n",
      "18  chromedriver                        0x000000010472ef6e chromedriver + 4431726\n",
      "19  libsystem_pthread.dylib             0x00007ff801661514 _pthread_start + 125\n",
      "20  libsystem_pthread.dylib             0x00007ff80165d02f thread_start + 15\n",
      "\n",
      "Message: no such element: Unable to locate element: {\"method\":\"xpath\",\"selector\":\"//span[@class=\"_17p6nbba\"]\"}\n",
      "  (Session info: chrome=106.0.5249.119)\n",
      "Stacktrace:\n",
      "0   chromedriver                        0x0000000102b45c08 chromedriver + 4402184\n",
      "1   chromedriver                        0x0000000102acd1f3 chromedriver + 3908083\n",
      "2   chromedriver                        0x000000010277ae6a chromedriver + 425578\n",
      "3   chromedriver                        0x00000001027b2c91 chromedriver + 654481\n",
      "4   chromedriver                        0x00000001027b2e91 chromedriver + 654993\n",
      "5   chromedriver                        0x00000001027ea274 chromedriver + 881268\n",
      "6   chromedriver                        0x00000001027d0dcd chromedriver + 777677\n",
      "7   chromedriver                        0x00000001027e7f79 chromedriver + 872313\n",
      "8   chromedriver                        0x00000001027d0bd3 chromedriver + 777171\n",
      "9   chromedriver                        0x00000001027a5ced chromedriver + 601325\n",
      "10  chromedriver                        0x00000001027a6e51 chromedriver + 605777\n",
      "11  chromedriver                        0x0000000102b1573e chromedriver + 4204350\n",
      "12  chromedriver                        0x0000000102b19e07 chromedriver + 4222471\n",
      "13  chromedriver                        0x0000000102b210bf chromedriver + 4251839\n",
      "14  chromedriver                        0x0000000102b1ab4a chromedriver + 4225866\n",
      "15  chromedriver                        0x0000000102af38af chromedriver + 4065455\n",
      "16  chromedriver                        0x0000000102b37d18 chromedriver + 4345112\n",
      "17  chromedriver                        0x0000000102b37e86 chromedriver + 4345478\n",
      "18  chromedriver                        0x0000000102b4cf6e chromedriver + 4431726\n",
      "19  libsystem_pthread.dylib             0x00007ff801661514 _pthread_start + 125\n",
      "20  libsystem_pthread.dylib             0x00007ff80165d02f thread_start + 15\n",
      "\n"
     ]
    },
    {
     "name": "stderr",
     "output_type": "stream",
     "text": [
      "  1%|          | 37/3600 [22:00<69:38:19, 70.36s/it]"
     ]
    },
    {
     "name": "stdout",
     "output_type": "stream",
     "text": [
      "Message: no such element: Unable to locate element: {\"method\":\"xpath\",\"selector\":\"//span[@class=\"_17p6nbba\"]\"}\n",
      "  (Session info: chrome=106.0.5249.119)\n",
      "Stacktrace:\n",
      "0   chromedriver                        0x00000001053bfc08 chromedriver + 4402184\n",
      "1   chromedriver                        0x00000001053471f3 chromedriver + 3908083\n",
      "2   chromedriver                        0x0000000104ff4e6a chromedriver + 425578\n",
      "3   chromedriver                        0x000000010502cc91 chromedriver + 654481\n",
      "4   chromedriver                        0x000000010502ce91 chromedriver + 654993\n",
      "5   chromedriver                        0x0000000105064274 chromedriver + 881268\n",
      "6   chromedriver                        0x000000010504adcd chromedriver + 777677\n",
      "7   chromedriver                        0x0000000105061f79 chromedriver + 872313\n",
      "8   chromedriver                        0x000000010504abd3 chromedriver + 777171\n",
      "9   chromedriver                        0x000000010501fced chromedriver + 601325\n",
      "10  chromedriver                        0x0000000105020e51 chromedriver + 605777\n",
      "11  chromedriver                        0x000000010538f73e chromedriver + 4204350\n",
      "12  chromedriver                        0x0000000105393e07 chromedriver + 4222471\n",
      "13  chromedriver                        0x000000010539b0bf chromedriver + 4251839\n",
      "14  chromedriver                        0x0000000105394b4a chromedriver + 4225866\n",
      "15  chromedriver                        0x000000010536d8af chromedriver + 4065455\n",
      "16  chromedriver                        0x00000001053b1d18 chromedriver + 4345112\n",
      "17  chromedriver                        0x00000001053b1e86 chromedriver + 4345478\n",
      "18  chromedriver                        0x00000001053c6f6e chromedriver + 4431726\n",
      "19  libsystem_pthread.dylib             0x00007ff801661514 _pthread_start + 125\n",
      "20  libsystem_pthread.dylib             0x00007ff80165d02f thread_start + 15\n",
      "\n"
     ]
    },
    {
     "name": "stderr",
     "output_type": "stream",
     "text": [
      "  1%|          | 40/3600 [23:34<44:19:16, 44.82s/it]"
     ]
    },
    {
     "name": "stdout",
     "output_type": "stream",
     "text": [
      "Errors total:  1\n"
     ]
    },
    {
     "name": "stderr",
     "output_type": "stream",
     "text": [
      "  1%|▏         | 50/3600 [28:55<32:02:16, 32.49s/it]"
     ]
    },
    {
     "name": "stdout",
     "output_type": "stream",
     "text": [
      "Errors total:  1\n"
     ]
    },
    {
     "name": "stderr",
     "output_type": "stream",
     "text": [
      "  2%|▏         | 60/3600 [34:20<31:33:44, 32.10s/it]"
     ]
    },
    {
     "name": "stdout",
     "output_type": "stream",
     "text": [
      "Errors total:  1\n"
     ]
    },
    {
     "name": "stderr",
     "output_type": "stream",
     "text": [
      "  2%|▏         | 70/3600 [39:42<31:05:51, 31.71s/it]"
     ]
    },
    {
     "name": "stdout",
     "output_type": "stream",
     "text": [
      "Errors total:  1\n"
     ]
    },
    {
     "name": "stderr",
     "output_type": "stream",
     "text": [
      "  2%|▏         | 72/3600 [40:48<31:36:23, 32.25s/it]"
     ]
    },
    {
     "name": "stdout",
     "output_type": "stream",
     "text": [
      "Message: unknown error: Chrome failed to start: crashed.\n",
      "  (chrome not reachable)\n",
      "  (The process started from chrome location /Applications/Google Chrome.app/Contents/MacOS/Google Chrome is no longer running, so ChromeDriver is assuming that Chrome has crashed.)\n",
      "Stacktrace:\n",
      "0   chromedriver                        0x0000000104b31c08 chromedriver + 4402184\n",
      "1   chromedriver                        0x0000000104ab91f3 chromedriver + 3908083\n",
      "2   chromedriver                        0x0000000104766e6a chromedriver + 425578\n",
      "3   chromedriver                        0x000000010478bfc6 chromedriver + 577478\n",
      "4   chromedriver                        0x00000001047873be chromedriver + 558014\n",
      "5   chromedriver                        0x00000001047c48fa chromedriver + 809210\n",
      "6   chromedriver                        0x00000001047c42bf chromedriver + 807615\n",
      "7   chromedriver                        0x00000001047bcbd3 chromedriver + 777171\n",
      "8   chromedriver                        0x0000000104791ced chromedriver + 601325\n",
      "9   chromedriver                        0x0000000104792e51 chromedriver + 605777\n",
      "10  chromedriver                        0x0000000104b0173e chromedriver + 4204350\n",
      "11  chromedriver                        0x0000000104b05e07 chromedriver + 4222471\n",
      "12  chromedriver                        0x0000000104b0d0bf chromedriver + 4251839\n",
      "13  chromedriver                        0x0000000104b06b4a chromedriver + 4225866\n",
      "14  chromedriver                        0x0000000104adf8af chromedriver + 4065455\n",
      "15  chromedriver                        0x0000000104b23d18 chromedriver + 4345112\n",
      "16  chromedriver                        0x0000000104b23e86 chromedriver + 4345478\n",
      "17  chromedriver                        0x0000000104b38f6e chromedriver + 4431726\n",
      "18  libsystem_pthread.dylib             0x00007ff801661514 _pthread_start + 125\n",
      "19  libsystem_pthread.dylib             0x00007ff80165d02f thread_start + 15\n",
      "\n"
     ]
    },
    {
     "name": "stderr",
     "output_type": "stream",
     "text": [
      "  2%|▏         | 80/3600 [45:07<31:10:57, 31.89s/it]"
     ]
    },
    {
     "name": "stdout",
     "output_type": "stream",
     "text": [
      "Errors total:  1\n"
     ]
    },
    {
     "name": "stderr",
     "output_type": "stream",
     "text": [
      "  2%|▎         | 90/3600 [50:26<31:15:35, 32.06s/it]"
     ]
    },
    {
     "name": "stdout",
     "output_type": "stream",
     "text": [
      "Errors total:  1\n"
     ]
    },
    {
     "name": "stderr",
     "output_type": "stream",
     "text": [
      "  3%|▎         | 97/3600 [54:09<30:46:34, 31.63s/it]"
     ]
    },
    {
     "name": "stdout",
     "output_type": "stream",
     "text": [
      "Message: no such element: Unable to locate element: {\"method\":\"xpath\",\"selector\":\"//span[@class=\"_17p6nbba\"]\"}\n",
      "  (Session info: chrome=106.0.5249.119)\n",
      "Stacktrace:\n",
      "0   chromedriver                        0x0000000100543c08 chromedriver + 4402184\n",
      "1   chromedriver                        0x00000001004cb1f3 chromedriver + 3908083\n",
      "2   chromedriver                        0x0000000100178e6a chromedriver + 425578\n",
      "3   chromedriver                        0x00000001001b0c91 chromedriver + 654481\n",
      "4   chromedriver                        0x00000001001b0e91 chromedriver + 654993\n",
      "5   chromedriver                        0x00000001001e8274 chromedriver + 881268\n",
      "6   chromedriver                        0x00000001001cedcd chromedriver + 777677\n",
      "7   chromedriver                        0x00000001001e5f79 chromedriver + 872313\n",
      "8   chromedriver                        0x00000001001cebd3 chromedriver + 777171\n",
      "9   chromedriver                        0x00000001001a3ced chromedriver + 601325\n",
      "10  chromedriver                        0x00000001001a4e51 chromedriver + 605777\n",
      "11  chromedriver                        0x000000010051373e chromedriver + 4204350\n",
      "12  chromedriver                        0x0000000100517e07 chromedriver + 4222471\n",
      "13  chromedriver                        0x000000010051f0bf chromedriver + 4251839\n",
      "14  chromedriver                        0x0000000100518b4a chromedriver + 4225866\n",
      "15  chromedriver                        0x00000001004f18af chromedriver + 4065455\n",
      "16  chromedriver                        0x0000000100535d18 chromedriver + 4345112\n",
      "17  chromedriver                        0x0000000100535e86 chromedriver + 4345478\n",
      "18  chromedriver                        0x000000010054af6e chromedriver + 4431726\n",
      "19  libsystem_pthread.dylib             0x00007ff801661514 _pthread_start + 125\n",
      "20  libsystem_pthread.dylib             0x00007ff80165d02f thread_start + 15\n",
      "\n",
      "Message: no such element: Unable to locate element: {\"method\":\"xpath\",\"selector\":\"//span[@class=\"_17p6nbba\"]\"}\n",
      "  (Session info: chrome=106.0.5249.119)\n",
      "Stacktrace:\n",
      "0   chromedriver                        0x00000001049aac08 chromedriver + 4402184\n",
      "1   chromedriver                        0x00000001049321f3 chromedriver + 3908083\n",
      "2   chromedriver                        0x00000001045dfe6a chromedriver + 425578\n",
      "3   chromedriver                        0x0000000104617c91 chromedriver + 654481\n",
      "4   chromedriver                        0x0000000104617e91 chromedriver + 654993\n",
      "5   chromedriver                        0x000000010464f274 chromedriver + 881268\n",
      "6   chromedriver                        0x0000000104635dcd chromedriver + 777677\n",
      "7   chromedriver                        0x000000010464cf79 chromedriver + 872313\n",
      "8   chromedriver                        0x0000000104635bd3 chromedriver + 777171\n",
      "9   chromedriver                        0x000000010460aced chromedriver + 601325\n",
      "10  chromedriver                        0x000000010460be51 chromedriver + 605777\n",
      "11  chromedriver                        0x000000010497a73e chromedriver + 4204350\n",
      "12  chromedriver                        0x000000010497ee07 chromedriver + 4222471\n",
      "13  chromedriver                        0x00000001049860bf chromedriver + 4251839\n",
      "14  chromedriver                        0x000000010497fb4a chromedriver + 4225866\n",
      "15  chromedriver                        0x00000001049588af chromedriver + 4065455\n",
      "16  chromedriver                        0x000000010499cd18 chromedriver + 4345112\n",
      "17  chromedriver                        0x000000010499ce86 chromedriver + 4345478\n",
      "18  chromedriver                        0x00000001049b1f6e chromedriver + 4431726\n",
      "19  libsystem_pthread.dylib             0x00007ff801661514 _pthread_start + 125\n",
      "20  libsystem_pthread.dylib             0x00007ff80165d02f thread_start + 15\n",
      "\n",
      "Message: no such element: Unable to locate element: {\"method\":\"xpath\",\"selector\":\"//span[@class=\"_17p6nbba\"]\"}\n",
      "  (Session info: chrome=106.0.5249.119)\n",
      "Stacktrace:\n",
      "0   chromedriver                        0x0000000102950c08 chromedriver + 4402184\n",
      "1   chromedriver                        0x00000001028d81f3 chromedriver + 3908083\n",
      "2   chromedriver                        0x0000000102585e6a chromedriver + 425578\n",
      "3   chromedriver                        0x00000001025bdc91 chromedriver + 654481\n",
      "4   chromedriver                        0x00000001025bde91 chromedriver + 654993\n",
      "5   chromedriver                        0x00000001025f5274 chromedriver + 881268\n",
      "6   chromedriver                        0x00000001025dbdcd chromedriver + 777677\n",
      "7   chromedriver                        0x00000001025f2f79 chromedriver + 872313\n",
      "8   chromedriver                        0x00000001025dbbd3 chromedriver + 777171\n",
      "9   chromedriver                        0x00000001025b0ced chromedriver + 601325\n",
      "10  chromedriver                        0x00000001025b1e51 chromedriver + 605777\n",
      "11  chromedriver                        0x000000010292073e chromedriver + 4204350\n",
      "12  chromedriver                        0x0000000102924e07 chromedriver + 4222471\n",
      "13  chromedriver                        0x000000010292c0bf chromedriver + 4251839\n",
      "14  chromedriver                        0x0000000102925b4a chromedriver + 4225866\n",
      "15  chromedriver                        0x00000001028fe8af chromedriver + 4065455\n",
      "16  chromedriver                        0x0000000102942d18 chromedriver + 4345112\n",
      "17  chromedriver                        0x0000000102942e86 chromedriver + 4345478\n",
      "18  chromedriver                        0x0000000102957f6e chromedriver + 4431726\n",
      "19  libsystem_pthread.dylib             0x00007ff801661514 _pthread_start + 125\n",
      "20  libsystem_pthread.dylib             0x00007ff80165d02f thread_start + 15\n",
      "\n",
      "Message: no such element: Unable to locate element: {\"method\":\"xpath\",\"selector\":\"//span[@class=\"_17p6nbba\"]\"}\n",
      "  (Session info: chrome=106.0.5249.119)\n",
      "Stacktrace:\n",
      "0   chromedriver                        0x0000000103117c08 chromedriver + 4402184\n",
      "1   chromedriver                        0x000000010309f1f3 chromedriver + 3908083\n",
      "2   chromedriver                        0x0000000102d4ce6a chromedriver + 425578\n",
      "3   chromedriver                        0x0000000102d84c91 chromedriver + 654481\n",
      "4   chromedriver                        0x0000000102d84e91 chromedriver + 654993\n",
      "5   chromedriver                        0x0000000102dbc274 chromedriver + 881268\n",
      "6   chromedriver                        0x0000000102da2dcd chromedriver + 777677\n",
      "7   chromedriver                        0x0000000102db9f79 chromedriver + 872313\n",
      "8   chromedriver                        0x0000000102da2bd3 chromedriver + 777171\n",
      "9   chromedriver                        0x0000000102d77ced chromedriver + 601325\n",
      "10  chromedriver                        0x0000000102d78e51 chromedriver + 605777\n",
      "11  chromedriver                        0x00000001030e773e chromedriver + 4204350\n",
      "12  chromedriver                        0x00000001030ebe07 chromedriver + 4222471\n",
      "13  chromedriver                        0x00000001030f30bf chromedriver + 4251839\n",
      "14  chromedriver                        0x00000001030ecb4a chromedriver + 4225866\n",
      "15  chromedriver                        0x00000001030c58af chromedriver + 4065455\n",
      "16  chromedriver                        0x0000000103109d18 chromedriver + 4345112\n",
      "17  chromedriver                        0x0000000103109e86 chromedriver + 4345478\n",
      "18  chromedriver                        0x000000010311ef6e chromedriver + 4431726\n",
      "19  libsystem_pthread.dylib             0x00007ff801661514 _pthread_start + 125\n",
      "20  libsystem_pthread.dylib             0x00007ff80165d02f thread_start + 15\n",
      "\n"
     ]
    },
    {
     "name": "stderr",
     "output_type": "stream",
     "text": [
      "  3%|▎         | 98/3600 [56:46<67:20:15, 69.22s/it]"
     ]
    },
    {
     "name": "stdout",
     "output_type": "stream",
     "text": [
      "Message: no such element: Unable to locate element: {\"method\":\"xpath\",\"selector\":\"//span[@class=\"_17p6nbba\"]\"}\n",
      "  (Session info: chrome=106.0.5249.119)\n",
      "Stacktrace:\n",
      "0   chromedriver                        0x0000000104d9ac08 chromedriver + 4402184\n",
      "1   chromedriver                        0x0000000104d221f3 chromedriver + 3908083\n",
      "2   chromedriver                        0x00000001049cfe6a chromedriver + 425578\n",
      "3   chromedriver                        0x0000000104a07c91 chromedriver + 654481\n",
      "4   chromedriver                        0x0000000104a07e91 chromedriver + 654993\n",
      "5   chromedriver                        0x0000000104a3f274 chromedriver + 881268\n",
      "6   chromedriver                        0x0000000104a25dcd chromedriver + 777677\n",
      "7   chromedriver                        0x0000000104a3cf79 chromedriver + 872313\n",
      "8   chromedriver                        0x0000000104a25bd3 chromedriver + 777171\n",
      "9   chromedriver                        0x00000001049faced chromedriver + 601325\n",
      "10  chromedriver                        0x00000001049fbe51 chromedriver + 605777\n",
      "11  chromedriver                        0x0000000104d6a73e chromedriver + 4204350\n",
      "12  chromedriver                        0x0000000104d6ee07 chromedriver + 4222471\n",
      "13  chromedriver                        0x0000000104d760bf chromedriver + 4251839\n",
      "14  chromedriver                        0x0000000104d6fb4a chromedriver + 4225866\n",
      "15  chromedriver                        0x0000000104d488af chromedriver + 4065455\n",
      "16  chromedriver                        0x0000000104d8cd18 chromedriver + 4345112\n",
      "17  chromedriver                        0x0000000104d8ce86 chromedriver + 4345478\n",
      "18  chromedriver                        0x0000000104da1f6e chromedriver + 4431726\n",
      "19  libsystem_pthread.dylib             0x00007ff801661514 _pthread_start + 125\n",
      "20  libsystem_pthread.dylib             0x00007ff80165d02f thread_start + 15\n",
      "\n"
     ]
    },
    {
     "name": "stderr",
     "output_type": "stream",
     "text": [
      "  3%|▎         | 100/3600 [57:49<48:40:02, 50.06s/it]"
     ]
    },
    {
     "name": "stdout",
     "output_type": "stream",
     "text": [
      "Errors total:  2\n"
     ]
    },
    {
     "name": "stderr",
     "output_type": "stream",
     "text": [
      "  3%|▎         | 110/3600 [1:03:12<32:17:30, 33.31s/it]"
     ]
    },
    {
     "name": "stdout",
     "output_type": "stream",
     "text": [
      "Errors total:  2\n"
     ]
    },
    {
     "name": "stderr",
     "output_type": "stream",
     "text": [
      "  3%|▎         | 120/3600 [1:08:42<31:51:32, 32.96s/it]"
     ]
    },
    {
     "name": "stdout",
     "output_type": "stream",
     "text": [
      "Errors total:  2\n"
     ]
    },
    {
     "name": "stderr",
     "output_type": "stream",
     "text": [
      "  4%|▎         | 130/3600 [1:14:05<31:44:56, 32.94s/it]"
     ]
    },
    {
     "name": "stdout",
     "output_type": "stream",
     "text": [
      "Errors total:  2\n"
     ]
    },
    {
     "name": "stderr",
     "output_type": "stream",
     "text": [
      "  4%|▍         | 140/3600 [1:19:27<30:47:10, 32.03s/it]"
     ]
    },
    {
     "name": "stdout",
     "output_type": "stream",
     "text": [
      "Errors total:  2\n"
     ]
    },
    {
     "name": "stderr",
     "output_type": "stream",
     "text": [
      "  4%|▍         | 150/3600 [1:24:46<30:21:36, 31.68s/it]"
     ]
    },
    {
     "name": "stdout",
     "output_type": "stream",
     "text": [
      "Errors total:  2\n"
     ]
    },
    {
     "name": "stderr",
     "output_type": "stream",
     "text": [
      "  4%|▍         | 160/3600 [1:30:01<29:45:23, 31.14s/it]"
     ]
    },
    {
     "name": "stdout",
     "output_type": "stream",
     "text": [
      "Errors total:  2\n"
     ]
    },
    {
     "name": "stderr",
     "output_type": "stream",
     "text": [
      "  5%|▍         | 170/3600 [1:35:21<30:15:18, 31.75s/it]"
     ]
    },
    {
     "name": "stdout",
     "output_type": "stream",
     "text": [
      "Errors total:  2\n"
     ]
    },
    {
     "name": "stderr",
     "output_type": "stream",
     "text": [
      "  5%|▌         | 180/3600 [1:40:40<30:01:57, 31.61s/it]"
     ]
    },
    {
     "name": "stdout",
     "output_type": "stream",
     "text": [
      "Errors total:  2\n"
     ]
    },
    {
     "name": "stderr",
     "output_type": "stream",
     "text": [
      "  5%|▌         | 182/3600 [1:41:42<29:54:45, 31.51s/it]"
     ]
    },
    {
     "name": "stdout",
     "output_type": "stream",
     "text": [
      "Message: no such element: Unable to locate element: {\"method\":\"xpath\",\"selector\":\"//div[@data-section-id=\"TITLE_DEFAULT\"]/section/div/span/h1\"}\n",
      "  (Session info: chrome=106.0.5249.119)\n",
      "Stacktrace:\n",
      "0   chromedriver                        0x0000000102978c08 chromedriver + 4402184\n",
      "1   chromedriver                        0x00000001029001f3 chromedriver + 3908083\n",
      "2   chromedriver                        0x00000001025ade6a chromedriver + 425578\n",
      "3   chromedriver                        0x00000001025e5c91 chromedriver + 654481\n",
      "4   chromedriver                        0x00000001025e5e91 chromedriver + 654993\n",
      "5   chromedriver                        0x000000010261d274 chromedriver + 881268\n",
      "6   chromedriver                        0x0000000102603dcd chromedriver + 777677\n",
      "7   chromedriver                        0x000000010261af79 chromedriver + 872313\n",
      "8   chromedriver                        0x0000000102603bd3 chromedriver + 777171\n",
      "9   chromedriver                        0x00000001025d8ced chromedriver + 601325\n",
      "10  chromedriver                        0x00000001025d9e51 chromedriver + 605777\n",
      "11  chromedriver                        0x000000010294873e chromedriver + 4204350\n",
      "12  chromedriver                        0x000000010294ce07 chromedriver + 4222471\n",
      "13  chromedriver                        0x00000001029540bf chromedriver + 4251839\n",
      "14  chromedriver                        0x000000010294db4a chromedriver + 4225866\n",
      "15  chromedriver                        0x00000001029268af chromedriver + 4065455\n",
      "16  chromedriver                        0x000000010296ad18 chromedriver + 4345112\n",
      "17  chromedriver                        0x000000010296ae86 chromedriver + 4345478\n",
      "18  chromedriver                        0x000000010297ff6e chromedriver + 4431726\n",
      "19  libsystem_pthread.dylib             0x00007ff801661514 _pthread_start + 125\n",
      "20  libsystem_pthread.dylib             0x00007ff80165d02f thread_start + 15\n",
      "\n",
      "Message: no such element: Unable to locate element: {\"method\":\"xpath\",\"selector\":\"//div[@data-section-id=\"TITLE_DEFAULT\"]/section/div/span/h1\"}\n",
      "  (Session info: chrome=106.0.5249.119)\n",
      "Stacktrace:\n",
      "0   chromedriver                        0x0000000101295c08 chromedriver + 4402184\n",
      "1   chromedriver                        0x000000010121d1f3 chromedriver + 3908083\n",
      "2   chromedriver                        0x0000000100ecae6a chromedriver + 425578\n",
      "3   chromedriver                        0x0000000100f02c91 chromedriver + 654481\n",
      "4   chromedriver                        0x0000000100f02e91 chromedriver + 654993\n",
      "5   chromedriver                        0x0000000100f3a274 chromedriver + 881268\n",
      "6   chromedriver                        0x0000000100f20dcd chromedriver + 777677\n",
      "7   chromedriver                        0x0000000100f37f79 chromedriver + 872313\n",
      "8   chromedriver                        0x0000000100f20bd3 chromedriver + 777171\n",
      "9   chromedriver                        0x0000000100ef5ced chromedriver + 601325\n",
      "10  chromedriver                        0x0000000100ef6e51 chromedriver + 605777\n",
      "11  chromedriver                        0x000000010126573e chromedriver + 4204350\n",
      "12  chromedriver                        0x0000000101269e07 chromedriver + 4222471\n",
      "13  chromedriver                        0x00000001012710bf chromedriver + 4251839\n",
      "14  chromedriver                        0x000000010126ab4a chromedriver + 4225866\n",
      "15  chromedriver                        0x00000001012438af chromedriver + 4065455\n",
      "16  chromedriver                        0x0000000101287d18 chromedriver + 4345112\n",
      "17  chromedriver                        0x0000000101287e86 chromedriver + 4345478\n",
      "18  chromedriver                        0x000000010129cf6e chromedriver + 4431726\n",
      "19  libsystem_pthread.dylib             0x00007ff801661514 _pthread_start + 125\n",
      "20  libsystem_pthread.dylib             0x00007ff80165d02f thread_start + 15\n",
      "\n",
      "Message: no such element: Unable to locate element: {\"method\":\"xpath\",\"selector\":\"//div[@data-section-id=\"TITLE_DEFAULT\"]/section/div/span/h1\"}\n",
      "  (Session info: chrome=106.0.5249.119)\n",
      "Stacktrace:\n",
      "0   chromedriver                        0x0000000104b11c08 chromedriver + 4402184\n",
      "1   chromedriver                        0x0000000104a991f3 chromedriver + 3908083\n",
      "2   chromedriver                        0x0000000104746e6a chromedriver + 425578\n",
      "3   chromedriver                        0x000000010477ec91 chromedriver + 654481\n",
      "4   chromedriver                        0x000000010477ee91 chromedriver + 654993\n",
      "5   chromedriver                        0x00000001047b6274 chromedriver + 881268\n",
      "6   chromedriver                        0x000000010479cdcd chromedriver + 777677\n",
      "7   chromedriver                        0x00000001047b3f79 chromedriver + 872313\n",
      "8   chromedriver                        0x000000010479cbd3 chromedriver + 777171\n",
      "9   chromedriver                        0x0000000104771ced chromedriver + 601325\n",
      "10  chromedriver                        0x0000000104772e51 chromedriver + 605777\n",
      "11  chromedriver                        0x0000000104ae173e chromedriver + 4204350\n",
      "12  chromedriver                        0x0000000104ae5e07 chromedriver + 4222471\n",
      "13  chromedriver                        0x0000000104aed0bf chromedriver + 4251839\n",
      "14  chromedriver                        0x0000000104ae6b4a chromedriver + 4225866\n",
      "15  chromedriver                        0x0000000104abf8af chromedriver + 4065455\n",
      "16  chromedriver                        0x0000000104b03d18 chromedriver + 4345112\n",
      "17  chromedriver                        0x0000000104b03e86 chromedriver + 4345478\n",
      "18  chromedriver                        0x0000000104b18f6e chromedriver + 4431726\n",
      "19  libsystem_pthread.dylib             0x00007ff801661514 _pthread_start + 125\n",
      "20  libsystem_pthread.dylib             0x00007ff80165d02f thread_start + 15\n",
      "\n",
      "Message: no such element: Unable to locate element: {\"method\":\"xpath\",\"selector\":\"//div[@data-section-id=\"TITLE_DEFAULT\"]/section/div/span/h1\"}\n",
      "  (Session info: chrome=106.0.5249.119)\n",
      "Stacktrace:\n",
      "0   chromedriver                        0x00000001032b0c08 chromedriver + 4402184\n",
      "1   chromedriver                        0x00000001032381f3 chromedriver + 3908083\n",
      "2   chromedriver                        0x0000000102ee5e6a chromedriver + 425578\n",
      "3   chromedriver                        0x0000000102f1dc91 chromedriver + 654481\n",
      "4   chromedriver                        0x0000000102f1de91 chromedriver + 654993\n",
      "5   chromedriver                        0x0000000102f55274 chromedriver + 881268\n",
      "6   chromedriver                        0x0000000102f3bdcd chromedriver + 777677\n",
      "7   chromedriver                        0x0000000102f52f79 chromedriver + 872313\n",
      "8   chromedriver                        0x0000000102f3bbd3 chromedriver + 777171\n",
      "9   chromedriver                        0x0000000102f10ced chromedriver + 601325\n",
      "10  chromedriver                        0x0000000102f11e51 chromedriver + 605777\n",
      "11  chromedriver                        0x000000010328073e chromedriver + 4204350\n",
      "12  chromedriver                        0x0000000103284e07 chromedriver + 4222471\n",
      "13  chromedriver                        0x000000010328c0bf chromedriver + 4251839\n",
      "14  chromedriver                        0x0000000103285b4a chromedriver + 4225866\n",
      "15  chromedriver                        0x000000010325e8af chromedriver + 4065455\n",
      "16  chromedriver                        0x00000001032a2d18 chromedriver + 4345112\n",
      "17  chromedriver                        0x00000001032a2e86 chromedriver + 4345478\n",
      "18  chromedriver                        0x00000001032b7f6e chromedriver + 4431726\n",
      "19  libsystem_pthread.dylib             0x00007ff801661514 _pthread_start + 125\n",
      "20  libsystem_pthread.dylib             0x00007ff80165d02f thread_start + 15\n",
      "\n"
     ]
    },
    {
     "name": "stderr",
     "output_type": "stream",
     "text": [
      "  5%|▌         | 183/3600 [1:44:18<65:22:47, 68.88s/it]"
     ]
    },
    {
     "name": "stdout",
     "output_type": "stream",
     "text": [
      "Message: no such element: Unable to locate element: {\"method\":\"xpath\",\"selector\":\"//div[@data-section-id=\"TITLE_DEFAULT\"]/section/div/span/h1\"}\n",
      "  (Session info: chrome=106.0.5249.119)\n",
      "Stacktrace:\n",
      "0   chromedriver                        0x000000010248bc08 chromedriver + 4402184\n",
      "1   chromedriver                        0x00000001024131f3 chromedriver + 3908083\n",
      "2   chromedriver                        0x00000001020c0e6a chromedriver + 425578\n",
      "3   chromedriver                        0x00000001020f8c91 chromedriver + 654481\n",
      "4   chromedriver                        0x00000001020f8e91 chromedriver + 654993\n",
      "5   chromedriver                        0x0000000102130274 chromedriver + 881268\n",
      "6   chromedriver                        0x0000000102116dcd chromedriver + 777677\n",
      "7   chromedriver                        0x000000010212df79 chromedriver + 872313\n",
      "8   chromedriver                        0x0000000102116bd3 chromedriver + 777171\n",
      "9   chromedriver                        0x00000001020ebced chromedriver + 601325\n",
      "10  chromedriver                        0x00000001020ece51 chromedriver + 605777\n",
      "11  chromedriver                        0x000000010245b73e chromedriver + 4204350\n",
      "12  chromedriver                        0x000000010245fe07 chromedriver + 4222471\n",
      "13  chromedriver                        0x00000001024670bf chromedriver + 4251839\n",
      "14  chromedriver                        0x0000000102460b4a chromedriver + 4225866\n",
      "15  chromedriver                        0x00000001024398af chromedriver + 4065455\n",
      "16  chromedriver                        0x000000010247dd18 chromedriver + 4345112\n",
      "17  chromedriver                        0x000000010247de86 chromedriver + 4345478\n",
      "18  chromedriver                        0x0000000102492f6e chromedriver + 4431726\n",
      "19  libsystem_pthread.dylib             0x00007ff801661514 _pthread_start + 125\n",
      "20  libsystem_pthread.dylib             0x00007ff80165d02f thread_start + 15\n",
      "\n"
     ]
    },
    {
     "name": "stderr",
     "output_type": "stream",
     "text": [
      "  5%|▌         | 185/3600 [1:45:23<47:39:18, 50.24s/it]"
     ]
    },
    {
     "name": "stdout",
     "output_type": "stream",
     "text": [
      "Message: unknown error: Chrome failed to start: crashed.\n",
      "  (chrome not reachable)\n",
      "  (The process started from chrome location /Applications/Google Chrome.app/Contents/MacOS/Google Chrome is no longer running, so ChromeDriver is assuming that Chrome has crashed.)\n",
      "Stacktrace:\n",
      "0   chromedriver                        0x000000010126fc08 chromedriver + 4402184\n",
      "1   chromedriver                        0x00000001011f71f3 chromedriver + 3908083\n",
      "2   chromedriver                        0x0000000100ea4e6a chromedriver + 425578\n",
      "3   chromedriver                        0x0000000100ec9fc6 chromedriver + 577478\n",
      "4   chromedriver                        0x0000000100ec53be chromedriver + 558014\n",
      "5   chromedriver                        0x0000000100f028fa chromedriver + 809210\n",
      "6   chromedriver                        0x0000000100f022bf chromedriver + 807615\n",
      "7   chromedriver                        0x0000000100efabd3 chromedriver + 777171\n",
      "8   chromedriver                        0x0000000100ecfced chromedriver + 601325\n",
      "9   chromedriver                        0x0000000100ed0e51 chromedriver + 605777\n",
      "10  chromedriver                        0x000000010123f73e chromedriver + 4204350\n",
      "11  chromedriver                        0x0000000101243e07 chromedriver + 4222471\n",
      "12  chromedriver                        0x000000010124b0bf chromedriver + 4251839\n",
      "13  chromedriver                        0x0000000101244b4a chromedriver + 4225866\n",
      "14  chromedriver                        0x000000010121d8af chromedriver + 4065455\n",
      "15  chromedriver                        0x0000000101261d18 chromedriver + 4345112\n",
      "16  chromedriver                        0x0000000101261e86 chromedriver + 4345478\n",
      "17  chromedriver                        0x0000000101276f6e chromedriver + 4431726\n",
      "18  libsystem_pthread.dylib             0x00007ff801661514 _pthread_start + 125\n",
      "19  libsystem_pthread.dylib             0x00007ff80165d02f thread_start + 15\n",
      "\n"
     ]
    },
    {
     "name": "stderr",
     "output_type": "stream",
     "text": [
      "  5%|▌         | 190/3600 [1:48:04<32:55:19, 34.76s/it]"
     ]
    },
    {
     "name": "stdout",
     "output_type": "stream",
     "text": [
      "Errors total:  3\n"
     ]
    },
    {
     "name": "stderr",
     "output_type": "stream",
     "text": [
      "  5%|▌         | 194/3600 [1:50:12<30:36:32, 32.35s/it]"
     ]
    },
    {
     "name": "stdout",
     "output_type": "stream",
     "text": [
      "Message: unknown error: Chrome failed to start: crashed.\n",
      "  (chrome not reachable)\n",
      "  (The process started from chrome location /Applications/Google Chrome.app/Contents/MacOS/Google Chrome is no longer running, so ChromeDriver is assuming that Chrome has crashed.)\n",
      "Stacktrace:\n",
      "0   chromedriver                        0x0000000102ab6c08 chromedriver + 4402184\n",
      "1   chromedriver                        0x0000000102a3e1f3 chromedriver + 3908083\n",
      "2   chromedriver                        0x00000001026ebe6a chromedriver + 425578\n",
      "3   chromedriver                        0x0000000102710fc6 chromedriver + 577478\n",
      "4   chromedriver                        0x000000010270c3be chromedriver + 558014\n",
      "5   chromedriver                        0x00000001027498fa chromedriver + 809210\n",
      "6   chromedriver                        0x00000001027492bf chromedriver + 807615\n",
      "7   chromedriver                        0x0000000102741bd3 chromedriver + 777171\n",
      "8   chromedriver                        0x0000000102716ced chromedriver + 601325\n",
      "9   chromedriver                        0x0000000102717e51 chromedriver + 605777\n",
      "10  chromedriver                        0x0000000102a8673e chromedriver + 4204350\n",
      "11  chromedriver                        0x0000000102a8ae07 chromedriver + 4222471\n",
      "12  chromedriver                        0x0000000102a920bf chromedriver + 4251839\n",
      "13  chromedriver                        0x0000000102a8bb4a chromedriver + 4225866\n",
      "14  chromedriver                        0x0000000102a648af chromedriver + 4065455\n",
      "15  chromedriver                        0x0000000102aa8d18 chromedriver + 4345112\n",
      "16  chromedriver                        0x0000000102aa8e86 chromedriver + 4345478\n",
      "17  chromedriver                        0x0000000102abdf6e chromedriver + 4431726\n",
      "18  libsystem_pthread.dylib             0x00007ff801661514 _pthread_start + 125\n",
      "19  libsystem_pthread.dylib             0x00007ff80165d02f thread_start + 15\n",
      "\n"
     ]
    },
    {
     "name": "stderr",
     "output_type": "stream",
     "text": [
      "  5%|▌         | 196/3600 [1:51:20<31:17:27, 33.09s/it]"
     ]
    },
    {
     "name": "stdout",
     "output_type": "stream",
     "text": [
      "Message: no such element: Unable to locate element: {\"method\":\"xpath\",\"selector\":\"//span[@class=\"_17p6nbba\"]\"}\n",
      "  (Session info: chrome=106.0.5249.119)\n",
      "Stacktrace:\n",
      "0   chromedriver                        0x0000000100d5dc08 chromedriver + 4402184\n",
      "1   chromedriver                        0x0000000100ce51f3 chromedriver + 3908083\n",
      "2   chromedriver                        0x0000000100992e6a chromedriver + 425578\n",
      "3   chromedriver                        0x00000001009cac91 chromedriver + 654481\n",
      "4   chromedriver                        0x00000001009cae91 chromedriver + 654993\n",
      "5   chromedriver                        0x0000000100a02274 chromedriver + 881268\n",
      "6   chromedriver                        0x00000001009e8dcd chromedriver + 777677\n",
      "7   chromedriver                        0x00000001009fff79 chromedriver + 872313\n",
      "8   chromedriver                        0x00000001009e8bd3 chromedriver + 777171\n",
      "9   chromedriver                        0x00000001009bdced chromedriver + 601325\n",
      "10  chromedriver                        0x00000001009bee51 chromedriver + 605777\n",
      "11  chromedriver                        0x0000000100d2d73e chromedriver + 4204350\n",
      "12  chromedriver                        0x0000000100d31e07 chromedriver + 4222471\n",
      "13  chromedriver                        0x0000000100d390bf chromedriver + 4251839\n",
      "14  chromedriver                        0x0000000100d32b4a chromedriver + 4225866\n",
      "15  chromedriver                        0x0000000100d0b8af chromedriver + 4065455\n",
      "16  chromedriver                        0x0000000100d4fd18 chromedriver + 4345112\n",
      "17  chromedriver                        0x0000000100d4fe86 chromedriver + 4345478\n",
      "18  chromedriver                        0x0000000100d64f6e chromedriver + 4431726\n",
      "19  libsystem_pthread.dylib             0x00007ff801661514 _pthread_start + 125\n",
      "20  libsystem_pthread.dylib             0x00007ff80165d02f thread_start + 15\n",
      "\n",
      "Message: no such element: Unable to locate element: {\"method\":\"xpath\",\"selector\":\"//span[@class=\"_17p6nbba\"]\"}\n",
      "  (Session info: chrome=106.0.5249.119)\n",
      "Stacktrace:\n",
      "0   chromedriver                        0x00000001033a2c08 chromedriver + 4402184\n",
      "1   chromedriver                        0x000000010332a1f3 chromedriver + 3908083\n",
      "2   chromedriver                        0x0000000102fd7e6a chromedriver + 425578\n",
      "3   chromedriver                        0x000000010300fc91 chromedriver + 654481\n",
      "4   chromedriver                        0x000000010300fe91 chromedriver + 654993\n",
      "5   chromedriver                        0x0000000103047274 chromedriver + 881268\n",
      "6   chromedriver                        0x000000010302ddcd chromedriver + 777677\n",
      "7   chromedriver                        0x0000000103044f79 chromedriver + 872313\n",
      "8   chromedriver                        0x000000010302dbd3 chromedriver + 777171\n",
      "9   chromedriver                        0x0000000103002ced chromedriver + 601325\n",
      "10  chromedriver                        0x0000000103003e51 chromedriver + 605777\n",
      "11  chromedriver                        0x000000010337273e chromedriver + 4204350\n",
      "12  chromedriver                        0x0000000103376e07 chromedriver + 4222471\n",
      "13  chromedriver                        0x000000010337e0bf chromedriver + 4251839\n",
      "14  chromedriver                        0x0000000103377b4a chromedriver + 4225866\n",
      "15  chromedriver                        0x00000001033508af chromedriver + 4065455\n",
      "16  chromedriver                        0x0000000103394d18 chromedriver + 4345112\n",
      "17  chromedriver                        0x0000000103394e86 chromedriver + 4345478\n",
      "18  chromedriver                        0x00000001033a9f6e chromedriver + 4431726\n",
      "19  libsystem_pthread.dylib             0x00007ff801661514 _pthread_start + 125\n",
      "20  libsystem_pthread.dylib             0x00007ff80165d02f thread_start + 15\n",
      "\n",
      "Message: unknown error: Chrome failed to start: crashed.\n",
      "  (chrome not reachable)\n",
      "  (The process started from chrome location /Applications/Google Chrome.app/Contents/MacOS/Google Chrome is no longer running, so ChromeDriver is assuming that Chrome has crashed.)\n",
      "Stacktrace:\n",
      "0   chromedriver                        0x0000000104c9ac08 chromedriver + 4402184\n",
      "1   chromedriver                        0x0000000104c221f3 chromedriver + 3908083\n",
      "2   chromedriver                        0x00000001048cfe6a chromedriver + 425578\n",
      "3   chromedriver                        0x00000001048f4fc6 chromedriver + 577478\n",
      "4   chromedriver                        0x00000001048f03be chromedriver + 558014\n",
      "5   chromedriver                        0x000000010492d8fa chromedriver + 809210\n",
      "6   chromedriver                        0x000000010492d2bf chromedriver + 807615\n",
      "7   chromedriver                        0x0000000104925bd3 chromedriver + 777171\n",
      "8   chromedriver                        0x00000001048faced chromedriver + 601325\n",
      "9   chromedriver                        0x00000001048fbe51 chromedriver + 605777\n",
      "10  chromedriver                        0x0000000104c6a73e chromedriver + 4204350\n",
      "11  chromedriver                        0x0000000104c6ee07 chromedriver + 4222471\n",
      "12  chromedriver                        0x0000000104c760bf chromedriver + 4251839\n",
      "13  chromedriver                        0x0000000104c6fb4a chromedriver + 4225866\n",
      "14  chromedriver                        0x0000000104c488af chromedriver + 4065455\n",
      "15  chromedriver                        0x0000000104c8cd18 chromedriver + 4345112\n",
      "16  chromedriver                        0x0000000104c8ce86 chromedriver + 4345478\n",
      "17  chromedriver                        0x0000000104ca1f6e chromedriver + 4431726\n",
      "18  libsystem_pthread.dylib             0x00007ff801661514 _pthread_start + 125\n",
      "19  libsystem_pthread.dylib             0x00007ff80165d02f thread_start + 15\n",
      "\n",
      "Message: no such element: Unable to locate element: {\"method\":\"xpath\",\"selector\":\"//span[@class=\"_17p6nbba\"]\"}\n",
      "  (Session info: chrome=106.0.5249.119)\n",
      "Stacktrace:\n",
      "0   chromedriver                        0x000000010489fc08 chromedriver + 4402184\n",
      "1   chromedriver                        0x00000001048271f3 chromedriver + 3908083\n",
      "2   chromedriver                        0x00000001044d4e6a chromedriver + 425578\n",
      "3   chromedriver                        0x000000010450cc91 chromedriver + 654481\n",
      "4   chromedriver                        0x000000010450ce91 chromedriver + 654993\n",
      "5   chromedriver                        0x0000000104544274 chromedriver + 881268\n",
      "6   chromedriver                        0x000000010452adcd chromedriver + 777677\n",
      "7   chromedriver                        0x0000000104541f79 chromedriver + 872313\n",
      "8   chromedriver                        0x000000010452abd3 chromedriver + 777171\n",
      "9   chromedriver                        0x00000001044ffced chromedriver + 601325\n",
      "10  chromedriver                        0x0000000104500e51 chromedriver + 605777\n",
      "11  chromedriver                        0x000000010486f73e chromedriver + 4204350\n",
      "12  chromedriver                        0x0000000104873e07 chromedriver + 4222471\n",
      "13  chromedriver                        0x000000010487b0bf chromedriver + 4251839\n",
      "14  chromedriver                        0x0000000104874b4a chromedriver + 4225866\n",
      "15  chromedriver                        0x000000010484d8af chromedriver + 4065455\n",
      "16  chromedriver                        0x0000000104891d18 chromedriver + 4345112\n",
      "17  chromedriver                        0x0000000104891e86 chromedriver + 4345478\n",
      "18  chromedriver                        0x00000001048a6f6e chromedriver + 4431726\n",
      "19  libsystem_pthread.dylib             0x00007ff801661514 _pthread_start + 125\n",
      "20  libsystem_pthread.dylib             0x00007ff80165d02f thread_start + 15\n",
      "\n"
     ]
    },
    {
     "name": "stderr",
     "output_type": "stream",
     "text": [
      "  5%|▌         | 197/3600 [1:53:31<59:00:15, 62.42s/it]"
     ]
    },
    {
     "name": "stdout",
     "output_type": "stream",
     "text": [
      "Message: no such element: Unable to locate element: {\"method\":\"xpath\",\"selector\":\"//span[@class=\"_17p6nbba\"]\"}\n",
      "  (Session info: chrome=106.0.5249.119)\n",
      "Stacktrace:\n",
      "0   chromedriver                        0x00000001053e1c08 chromedriver + 4402184\n",
      "1   chromedriver                        0x00000001053691f3 chromedriver + 3908083\n",
      "2   chromedriver                        0x0000000105016e6a chromedriver + 425578\n",
      "3   chromedriver                        0x000000010504ec91 chromedriver + 654481\n",
      "4   chromedriver                        0x000000010504ee91 chromedriver + 654993\n",
      "5   chromedriver                        0x0000000105086274 chromedriver + 881268\n",
      "6   chromedriver                        0x000000010506cdcd chromedriver + 777677\n",
      "7   chromedriver                        0x0000000105083f79 chromedriver + 872313\n",
      "8   chromedriver                        0x000000010506cbd3 chromedriver + 777171\n",
      "9   chromedriver                        0x0000000105041ced chromedriver + 601325\n",
      "10  chromedriver                        0x0000000105042e51 chromedriver + 605777\n",
      "11  chromedriver                        0x00000001053b173e chromedriver + 4204350\n",
      "12  chromedriver                        0x00000001053b5e07 chromedriver + 4222471\n",
      "13  chromedriver                        0x00000001053bd0bf chromedriver + 4251839\n",
      "14  chromedriver                        0x00000001053b6b4a chromedriver + 4225866\n",
      "15  chromedriver                        0x000000010538f8af chromedriver + 4065455\n",
      "16  chromedriver                        0x00000001053d3d18 chromedriver + 4345112\n",
      "17  chromedriver                        0x00000001053d3e86 chromedriver + 4345478\n",
      "18  chromedriver                        0x00000001053e8f6e chromedriver + 4431726\n",
      "19  libsystem_pthread.dylib             0x00007ff801661514 _pthread_start + 125\n",
      "20  libsystem_pthread.dylib             0x00007ff80165d02f thread_start + 15\n",
      "\n"
     ]
    },
    {
     "name": "stderr",
     "output_type": "stream",
     "text": [
      "  6%|▌         | 199/3600 [1:54:36<44:32:05, 47.14s/it]"
     ]
    },
    {
     "name": "stdout",
     "output_type": "stream",
     "text": [
      "Message: no such element: Unable to locate element: {\"method\":\"xpath\",\"selector\":\"//div[@data-section-id=\"TITLE_DEFAULT\"]/section/div/span/h1\"}\n",
      "  (Session info: chrome=106.0.5249.119)\n",
      "Stacktrace:\n",
      "0   chromedriver                        0x00000001031fcc08 chromedriver + 4402184\n",
      "1   chromedriver                        0x00000001031841f3 chromedriver + 3908083\n",
      "2   chromedriver                        0x0000000102e31e6a chromedriver + 425578\n",
      "3   chromedriver                        0x0000000102e69c91 chromedriver + 654481\n",
      "4   chromedriver                        0x0000000102e69e91 chromedriver + 654993\n",
      "5   chromedriver                        0x0000000102ea1274 chromedriver + 881268\n",
      "6   chromedriver                        0x0000000102e87dcd chromedriver + 777677\n",
      "7   chromedriver                        0x0000000102e9ef79 chromedriver + 872313\n",
      "8   chromedriver                        0x0000000102e87bd3 chromedriver + 777171\n",
      "9   chromedriver                        0x0000000102e5cced chromedriver + 601325\n",
      "10  chromedriver                        0x0000000102e5de51 chromedriver + 605777\n",
      "11  chromedriver                        0x00000001031cc73e chromedriver + 4204350\n",
      "12  chromedriver                        0x00000001031d0e07 chromedriver + 4222471\n",
      "13  chromedriver                        0x00000001031d80bf chromedriver + 4251839\n",
      "14  chromedriver                        0x00000001031d1b4a chromedriver + 4225866\n",
      "15  chromedriver                        0x00000001031aa8af chromedriver + 4065455\n",
      "16  chromedriver                        0x00000001031eed18 chromedriver + 4345112\n",
      "17  chromedriver                        0x00000001031eee86 chromedriver + 4345478\n",
      "18  chromedriver                        0x0000000103203f6e chromedriver + 4431726\n",
      "19  libsystem_pthread.dylib             0x00007ff801661514 _pthread_start + 125\n",
      "20  libsystem_pthread.dylib             0x00007ff80165d02f thread_start + 15\n",
      "\n",
      "Message: no such element: Unable to locate element: {\"method\":\"xpath\",\"selector\":\"//div[@data-section-id=\"TITLE_DEFAULT\"]/section/div/span/h1\"}\n",
      "  (Session info: chrome=106.0.5249.119)\n",
      "Stacktrace:\n",
      "0   chromedriver                        0x000000010536bc08 chromedriver + 4402184\n",
      "1   chromedriver                        0x00000001052f31f3 chromedriver + 3908083\n",
      "2   chromedriver                        0x0000000104fa0e6a chromedriver + 425578\n",
      "3   chromedriver                        0x0000000104fd8c91 chromedriver + 654481\n",
      "4   chromedriver                        0x0000000104fd8e91 chromedriver + 654993\n",
      "5   chromedriver                        0x0000000105010274 chromedriver + 881268\n",
      "6   chromedriver                        0x0000000104ff6dcd chromedriver + 777677\n",
      "7   chromedriver                        0x000000010500df79 chromedriver + 872313\n",
      "8   chromedriver                        0x0000000104ff6bd3 chromedriver + 777171\n",
      "9   chromedriver                        0x0000000104fcbced chromedriver + 601325\n",
      "10  chromedriver                        0x0000000104fcce51 chromedriver + 605777\n",
      "11  chromedriver                        0x000000010533b73e chromedriver + 4204350\n",
      "12  chromedriver                        0x000000010533fe07 chromedriver + 4222471\n",
      "13  chromedriver                        0x00000001053470bf chromedriver + 4251839\n",
      "14  chromedriver                        0x0000000105340b4a chromedriver + 4225866\n",
      "15  chromedriver                        0x00000001053198af chromedriver + 4065455\n",
      "16  chromedriver                        0x000000010535dd18 chromedriver + 4345112\n",
      "17  chromedriver                        0x000000010535de86 chromedriver + 4345478\n",
      "18  chromedriver                        0x0000000105372f6e chromedriver + 4431726\n",
      "19  libsystem_pthread.dylib             0x00007ff801661514 _pthread_start + 125\n",
      "20  libsystem_pthread.dylib             0x00007ff80165d02f thread_start + 15\n",
      "\n",
      "Message: no such element: Unable to locate element: {\"method\":\"xpath\",\"selector\":\"//div[@data-section-id=\"TITLE_DEFAULT\"]/section/div/span/h1\"}\n",
      "  (Session info: chrome=106.0.5249.119)\n",
      "Stacktrace:\n",
      "0   chromedriver                        0x00000001032cbc08 chromedriver + 4402184\n",
      "1   chromedriver                        0x00000001032531f3 chromedriver + 3908083\n",
      "2   chromedriver                        0x0000000102f00e6a chromedriver + 425578\n",
      "3   chromedriver                        0x0000000102f38c91 chromedriver + 654481\n",
      "4   chromedriver                        0x0000000102f38e91 chromedriver + 654993\n",
      "5   chromedriver                        0x0000000102f70274 chromedriver + 881268\n",
      "6   chromedriver                        0x0000000102f56dcd chromedriver + 777677\n",
      "7   chromedriver                        0x0000000102f6df79 chromedriver + 872313\n",
      "8   chromedriver                        0x0000000102f56bd3 chromedriver + 777171\n",
      "9   chromedriver                        0x0000000102f2bced chromedriver + 601325\n",
      "10  chromedriver                        0x0000000102f2ce51 chromedriver + 605777\n",
      "11  chromedriver                        0x000000010329b73e chromedriver + 4204350\n",
      "12  chromedriver                        0x000000010329fe07 chromedriver + 4222471\n",
      "13  chromedriver                        0x00000001032a70bf chromedriver + 4251839\n",
      "14  chromedriver                        0x00000001032a0b4a chromedriver + 4225866\n",
      "15  chromedriver                        0x00000001032798af chromedriver + 4065455\n",
      "16  chromedriver                        0x00000001032bdd18 chromedriver + 4345112\n",
      "17  chromedriver                        0x00000001032bde86 chromedriver + 4345478\n",
      "18  chromedriver                        0x00000001032d2f6e chromedriver + 4431726\n",
      "19  libsystem_pthread.dylib             0x00007ff801661514 _pthread_start + 125\n",
      "20  libsystem_pthread.dylib             0x00007ff80165d02f thread_start + 15\n",
      "\n",
      "Message: no such element: Unable to locate element: {\"method\":\"xpath\",\"selector\":\"//div[@data-section-id=\"TITLE_DEFAULT\"]/section/div/span/h1\"}\n",
      "  (Session info: chrome=106.0.5249.119)\n",
      "Stacktrace:\n",
      "0   chromedriver                        0x0000000101096c08 chromedriver + 4402184\n",
      "1   chromedriver                        0x000000010101e1f3 chromedriver + 3908083\n",
      "2   chromedriver                        0x0000000100ccbe6a chromedriver + 425578\n",
      "3   chromedriver                        0x0000000100d03c91 chromedriver + 654481\n",
      "4   chromedriver                        0x0000000100d03e91 chromedriver + 654993\n",
      "5   chromedriver                        0x0000000100d3b274 chromedriver + 881268\n",
      "6   chromedriver                        0x0000000100d21dcd chromedriver + 777677\n",
      "7   chromedriver                        0x0000000100d38f79 chromedriver + 872313\n",
      "8   chromedriver                        0x0000000100d21bd3 chromedriver + 777171\n",
      "9   chromedriver                        0x0000000100cf6ced chromedriver + 601325\n",
      "10  chromedriver                        0x0000000100cf7e51 chromedriver + 605777\n",
      "11  chromedriver                        0x000000010106673e chromedriver + 4204350\n",
      "12  chromedriver                        0x000000010106ae07 chromedriver + 4222471\n",
      "13  chromedriver                        0x00000001010720bf chromedriver + 4251839\n",
      "14  chromedriver                        0x000000010106bb4a chromedriver + 4225866\n",
      "15  chromedriver                        0x00000001010448af chromedriver + 4065455\n",
      "16  chromedriver                        0x0000000101088d18 chromedriver + 4345112\n",
      "17  chromedriver                        0x0000000101088e86 chromedriver + 4345478\n",
      "18  chromedriver                        0x000000010109df6e chromedriver + 4431726\n",
      "19  libsystem_pthread.dylib             0x00007ff801661514 _pthread_start + 125\n",
      "20  libsystem_pthread.dylib             0x00007ff80165d02f thread_start + 15\n",
      "\n"
     ]
    },
    {
     "name": "stderr",
     "output_type": "stream",
     "text": [
      "  6%|▌         | 200/3600 [1:57:11<75:14:26, 79.67s/it]"
     ]
    },
    {
     "name": "stdout",
     "output_type": "stream",
     "text": [
      "Message: no such element: Unable to locate element: {\"method\":\"xpath\",\"selector\":\"//div[@data-section-id=\"TITLE_DEFAULT\"]/section/div/span/h1\"}\n",
      "  (Session info: chrome=106.0.5249.119)\n",
      "Stacktrace:\n",
      "0   chromedriver                        0x0000000102876c08 chromedriver + 4402184\n",
      "1   chromedriver                        0x00000001027fe1f3 chromedriver + 3908083\n",
      "2   chromedriver                        0x00000001024abe6a chromedriver + 425578\n",
      "3   chromedriver                        0x00000001024e3c91 chromedriver + 654481\n",
      "4   chromedriver                        0x00000001024e3e91 chromedriver + 654993\n",
      "5   chromedriver                        0x000000010251b274 chromedriver + 881268\n",
      "6   chromedriver                        0x0000000102501dcd chromedriver + 777677\n",
      "7   chromedriver                        0x0000000102518f79 chromedriver + 872313\n",
      "8   chromedriver                        0x0000000102501bd3 chromedriver + 777171\n",
      "9   chromedriver                        0x00000001024d6ced chromedriver + 601325\n",
      "10  chromedriver                        0x00000001024d7e51 chromedriver + 605777\n",
      "11  chromedriver                        0x000000010284673e chromedriver + 4204350\n",
      "12  chromedriver                        0x000000010284ae07 chromedriver + 4222471\n",
      "13  chromedriver                        0x00000001028520bf chromedriver + 4251839\n",
      "14  chromedriver                        0x000000010284bb4a chromedriver + 4225866\n",
      "15  chromedriver                        0x00000001028248af chromedriver + 4065455\n",
      "16  chromedriver                        0x0000000102868d18 chromedriver + 4345112\n",
      "17  chromedriver                        0x0000000102868e86 chromedriver + 4345478\n",
      "18  chromedriver                        0x000000010287df6e chromedriver + 4431726\n",
      "19  libsystem_pthread.dylib             0x00007ff801661514 _pthread_start + 125\n",
      "20  libsystem_pthread.dylib             0x00007ff80165d02f thread_start + 15\n",
      "\n",
      "Errors total:  5\n"
     ]
    },
    {
     "name": "stderr",
     "output_type": "stream",
     "text": [
      "  6%|▌         | 210/3600 [2:02:36<31:29:05, 33.44s/it]"
     ]
    },
    {
     "name": "stdout",
     "output_type": "stream",
     "text": [
      "Errors total:  5\n"
     ]
    },
    {
     "name": "stderr",
     "output_type": "stream",
     "text": [
      "  6%|▌         | 211/3600 [2:03:08<31:04:36, 33.01s/it]"
     ]
    },
    {
     "name": "stdout",
     "output_type": "stream",
     "text": [
      "Message: unknown error: Chrome failed to start: crashed.\n",
      "  (chrome not reachable)\n",
      "  (The process started from chrome location /Applications/Google Chrome.app/Contents/MacOS/Google Chrome is no longer running, so ChromeDriver is assuming that Chrome has crashed.)\n",
      "Stacktrace:\n",
      "0   chromedriver                        0x0000000102536c08 chromedriver + 4402184\n",
      "1   chromedriver                        0x00000001024be1f3 chromedriver + 3908083\n",
      "2   chromedriver                        0x000000010216be6a chromedriver + 425578\n",
      "3   chromedriver                        0x0000000102190fc6 chromedriver + 577478\n",
      "4   chromedriver                        0x000000010218c3be chromedriver + 558014\n",
      "5   chromedriver                        0x00000001021c98fa chromedriver + 809210\n",
      "6   chromedriver                        0x00000001021c92bf chromedriver + 807615\n",
      "7   chromedriver                        0x00000001021c1bd3 chromedriver + 777171\n",
      "8   chromedriver                        0x0000000102196ced chromedriver + 601325\n",
      "9   chromedriver                        0x0000000102197e51 chromedriver + 605777\n",
      "10  chromedriver                        0x000000010250673e chromedriver + 4204350\n",
      "11  chromedriver                        0x000000010250ae07 chromedriver + 4222471\n",
      "12  chromedriver                        0x00000001025120bf chromedriver + 4251839\n",
      "13  chromedriver                        0x000000010250bb4a chromedriver + 4225866\n",
      "14  chromedriver                        0x00000001024e48af chromedriver + 4065455\n",
      "15  chromedriver                        0x0000000102528d18 chromedriver + 4345112\n",
      "16  chromedriver                        0x0000000102528e86 chromedriver + 4345478\n",
      "17  chromedriver                        0x000000010253df6e chromedriver + 4431726\n",
      "18  libsystem_pthread.dylib             0x00007ff801661514 _pthread_start + 125\n",
      "19  libsystem_pthread.dylib             0x00007ff80165d02f thread_start + 15\n",
      "\n"
     ]
    },
    {
     "name": "stderr",
     "output_type": "stream",
     "text": [
      "  6%|▌         | 217/3600 [2:06:27<30:52:41, 32.86s/it]"
     ]
    },
    {
     "name": "stdout",
     "output_type": "stream",
     "text": [
      "Message: unknown error: Chrome failed to start: crashed.\n",
      "  (chrome not reachable)\n",
      "  (The process started from chrome location /Applications/Google Chrome.app/Contents/MacOS/Google Chrome is no longer running, so ChromeDriver is assuming that Chrome has crashed.)\n",
      "Stacktrace:\n",
      "0   chromedriver                        0x000000010514bc08 chromedriver + 4402184\n",
      "1   chromedriver                        0x00000001050d31f3 chromedriver + 3908083\n",
      "2   chromedriver                        0x0000000104d80e6a chromedriver + 425578\n",
      "3   chromedriver                        0x0000000104da5fc6 chromedriver + 577478\n",
      "4   chromedriver                        0x0000000104da13be chromedriver + 558014\n",
      "5   chromedriver                        0x0000000104dde8fa chromedriver + 809210\n",
      "6   chromedriver                        0x0000000104dde2bf chromedriver + 807615\n",
      "7   chromedriver                        0x0000000104dd6bd3 chromedriver + 777171\n",
      "8   chromedriver                        0x0000000104dabced chromedriver + 601325\n",
      "9   chromedriver                        0x0000000104dace51 chromedriver + 605777\n",
      "10  chromedriver                        0x000000010511b73e chromedriver + 4204350\n",
      "11  chromedriver                        0x000000010511fe07 chromedriver + 4222471\n",
      "12  chromedriver                        0x00000001051270bf chromedriver + 4251839\n",
      "13  chromedriver                        0x0000000105120b4a chromedriver + 4225866\n",
      "14  chromedriver                        0x00000001050f98af chromedriver + 4065455\n",
      "15  chromedriver                        0x000000010513dd18 chromedriver + 4345112\n",
      "16  chromedriver                        0x000000010513de86 chromedriver + 4345478\n",
      "17  chromedriver                        0x0000000105152f6e chromedriver + 4431726\n",
      "18  libsystem_pthread.dylib             0x00007ff801661514 _pthread_start + 125\n",
      "19  libsystem_pthread.dylib             0x00007ff80165d02f thread_start + 15\n",
      "\n"
     ]
    },
    {
     "name": "stderr",
     "output_type": "stream",
     "text": [
      "  6%|▌         | 219/3600 [2:07:33<30:46:57, 32.78s/it]"
     ]
    },
    {
     "name": "stdout",
     "output_type": "stream",
     "text": [
      "Message: unknown error: Chrome failed to start: crashed.\n",
      "  (chrome not reachable)\n",
      "  (The process started from chrome location /Applications/Google Chrome.app/Contents/MacOS/Google Chrome is no longer running, so ChromeDriver is assuming that Chrome has crashed.)\n",
      "Stacktrace:\n",
      "0   chromedriver                        0x0000000102c1ec08 chromedriver + 4402184\n",
      "1   chromedriver                        0x0000000102ba61f3 chromedriver + 3908083\n",
      "2   chromedriver                        0x0000000102853e6a chromedriver + 425578\n",
      "3   chromedriver                        0x0000000102878fc6 chromedriver + 577478\n",
      "4   chromedriver                        0x00000001028743be chromedriver + 558014\n",
      "5   chromedriver                        0x00000001028b18fa chromedriver + 809210\n",
      "6   chromedriver                        0x00000001028b12bf chromedriver + 807615\n",
      "7   chromedriver                        0x00000001028a9bd3 chromedriver + 777171\n",
      "8   chromedriver                        0x000000010287eced chromedriver + 601325\n",
      "9   chromedriver                        0x000000010287fe51 chromedriver + 605777\n",
      "10  chromedriver                        0x0000000102bee73e chromedriver + 4204350\n",
      "11  chromedriver                        0x0000000102bf2e07 chromedriver + 4222471\n",
      "12  chromedriver                        0x0000000102bfa0bf chromedriver + 4251839\n",
      "13  chromedriver                        0x0000000102bf3b4a chromedriver + 4225866\n",
      "14  chromedriver                        0x0000000102bcc8af chromedriver + 4065455\n",
      "15  chromedriver                        0x0000000102c10d18 chromedriver + 4345112\n",
      "16  chromedriver                        0x0000000102c10e86 chromedriver + 4345478\n",
      "17  chromedriver                        0x0000000102c25f6e chromedriver + 4431726\n",
      "18  libsystem_pthread.dylib             0x00007ff801661514 _pthread_start + 125\n",
      "19  libsystem_pthread.dylib             0x00007ff80165d02f thread_start + 15\n",
      "\n"
     ]
    },
    {
     "name": "stderr",
     "output_type": "stream",
     "text": [
      "  6%|▌         | 220/3600 [2:08:08<31:21:27, 33.40s/it]"
     ]
    },
    {
     "name": "stdout",
     "output_type": "stream",
     "text": [
      "Errors total:  5\n",
      "Message: unknown error: Chrome failed to start: crashed.\n",
      "  (chrome not reachable)\n",
      "  (The process started from chrome location /Applications/Google Chrome.app/Contents/MacOS/Google Chrome is no longer running, so ChromeDriver is assuming that Chrome has crashed.)\n",
      "Stacktrace:\n",
      "0   chromedriver                        0x00000001026cbc08 chromedriver + 4402184\n",
      "1   chromedriver                        0x00000001026531f3 chromedriver + 3908083\n",
      "2   chromedriver                        0x0000000102300e6a chromedriver + 425578\n",
      "3   chromedriver                        0x0000000102325fc6 chromedriver + 577478\n",
      "4   chromedriver                        0x00000001023213be chromedriver + 558014\n",
      "5   chromedriver                        0x000000010235e8fa chromedriver + 809210\n",
      "6   chromedriver                        0x000000010235e2bf chromedriver + 807615\n",
      "7   chromedriver                        0x0000000102356bd3 chromedriver + 777171\n",
      "8   chromedriver                        0x000000010232bced chromedriver + 601325\n",
      "9   chromedriver                        0x000000010232ce51 chromedriver + 605777\n",
      "10  chromedriver                        0x000000010269b73e chromedriver + 4204350\n",
      "11  chromedriver                        0x000000010269fe07 chromedriver + 4222471\n",
      "12  chromedriver                        0x00000001026a70bf chromedriver + 4251839\n",
      "13  chromedriver                        0x00000001026a0b4a chromedriver + 4225866\n",
      "14  chromedriver                        0x00000001026798af chromedriver + 4065455\n",
      "15  chromedriver                        0x00000001026bdd18 chromedriver + 4345112\n",
      "16  chromedriver                        0x00000001026bde86 chromedriver + 4345478\n",
      "17  chromedriver                        0x00000001026d2f6e chromedriver + 4431726\n",
      "18  libsystem_pthread.dylib             0x00007ff801661514 _pthread_start + 125\n",
      "19  libsystem_pthread.dylib             0x00007ff80165d02f thread_start + 15\n",
      "\n"
     ]
    },
    {
     "name": "stderr",
     "output_type": "stream",
     "text": [
      "  6%|▌         | 223/3600 [2:09:50<31:40:09, 33.76s/it]"
     ]
    },
    {
     "name": "stdout",
     "output_type": "stream",
     "text": [
      "Message: no such element: Unable to locate element: {\"method\":\"xpath\",\"selector\":\"//span[@class=\"_17p6nbba\"]\"}\n",
      "  (Session info: chrome=106.0.5249.119)\n",
      "Stacktrace:\n",
      "0   chromedriver                        0x0000000100f9cc08 chromedriver + 4402184\n",
      "1   chromedriver                        0x0000000100f241f3 chromedriver + 3908083\n",
      "2   chromedriver                        0x0000000100bd1e6a chromedriver + 425578\n",
      "3   chromedriver                        0x0000000100c09c91 chromedriver + 654481\n",
      "4   chromedriver                        0x0000000100c09e91 chromedriver + 654993\n",
      "5   chromedriver                        0x0000000100c41274 chromedriver + 881268\n",
      "6   chromedriver                        0x0000000100c27dcd chromedriver + 777677\n",
      "7   chromedriver                        0x0000000100c3ef79 chromedriver + 872313\n",
      "8   chromedriver                        0x0000000100c27bd3 chromedriver + 777171\n",
      "9   chromedriver                        0x0000000100bfcced chromedriver + 601325\n",
      "10  chromedriver                        0x0000000100bfde51 chromedriver + 605777\n",
      "11  chromedriver                        0x0000000100f6c73e chromedriver + 4204350\n",
      "12  chromedriver                        0x0000000100f70e07 chromedriver + 4222471\n",
      "13  chromedriver                        0x0000000100f780bf chromedriver + 4251839\n",
      "14  chromedriver                        0x0000000100f71b4a chromedriver + 4225866\n",
      "15  chromedriver                        0x0000000100f4a8af chromedriver + 4065455\n",
      "16  chromedriver                        0x0000000100f8ed18 chromedriver + 4345112\n",
      "17  chromedriver                        0x0000000100f8ee86 chromedriver + 4345478\n",
      "18  chromedriver                        0x0000000100fa3f6e chromedriver + 4431726\n",
      "19  libsystem_pthread.dylib             0x00007ff801661514 _pthread_start + 125\n",
      "20  libsystem_pthread.dylib             0x00007ff80165d02f thread_start + 15\n",
      "\n",
      "Message: no such element: Unable to locate element: {\"method\":\"xpath\",\"selector\":\"//span[@class=\"_17p6nbba\"]\"}\n",
      "  (Session info: chrome=106.0.5249.119)\n",
      "Stacktrace:\n",
      "0   chromedriver                        0x0000000102c40c08 chromedriver + 4402184\n",
      "1   chromedriver                        0x0000000102bc81f3 chromedriver + 3908083\n",
      "2   chromedriver                        0x0000000102875e6a chromedriver + 425578\n",
      "3   chromedriver                        0x00000001028adc91 chromedriver + 654481\n",
      "4   chromedriver                        0x00000001028ade91 chromedriver + 654993\n",
      "5   chromedriver                        0x00000001028e5274 chromedriver + 881268\n",
      "6   chromedriver                        0x00000001028cbdcd chromedriver + 777677\n",
      "7   chromedriver                        0x00000001028e2f79 chromedriver + 872313\n",
      "8   chromedriver                        0x00000001028cbbd3 chromedriver + 777171\n",
      "9   chromedriver                        0x00000001028a0ced chromedriver + 601325\n",
      "10  chromedriver                        0x00000001028a1e51 chromedriver + 605777\n",
      "11  chromedriver                        0x0000000102c1073e chromedriver + 4204350\n",
      "12  chromedriver                        0x0000000102c14e07 chromedriver + 4222471\n",
      "13  chromedriver                        0x0000000102c1c0bf chromedriver + 4251839\n",
      "14  chromedriver                        0x0000000102c15b4a chromedriver + 4225866\n",
      "15  chromedriver                        0x0000000102bee8af chromedriver + 4065455\n",
      "16  chromedriver                        0x0000000102c32d18 chromedriver + 4345112\n",
      "17  chromedriver                        0x0000000102c32e86 chromedriver + 4345478\n",
      "18  chromedriver                        0x0000000102c47f6e chromedriver + 4431726\n",
      "19  libsystem_pthread.dylib             0x00007ff801661514 _pthread_start + 125\n",
      "20  libsystem_pthread.dylib             0x00007ff80165d02f thread_start + 15\n",
      "\n",
      "Message: no such element: Unable to locate element: {\"method\":\"xpath\",\"selector\":\"//span[@class=\"_17p6nbba\"]\"}\n",
      "  (Session info: chrome=106.0.5249.119)\n",
      "Stacktrace:\n",
      "0   chromedriver                        0x0000000100e9bc08 chromedriver + 4402184\n",
      "1   chromedriver                        0x0000000100e231f3 chromedriver + 3908083\n",
      "2   chromedriver                        0x0000000100ad0e6a chromedriver + 425578\n",
      "3   chromedriver                        0x0000000100b08c91 chromedriver + 654481\n",
      "4   chromedriver                        0x0000000100b08e91 chromedriver + 654993\n",
      "5   chromedriver                        0x0000000100b40274 chromedriver + 881268\n",
      "6   chromedriver                        0x0000000100b26dcd chromedriver + 777677\n",
      "7   chromedriver                        0x0000000100b3df79 chromedriver + 872313\n",
      "8   chromedriver                        0x0000000100b26bd3 chromedriver + 777171\n",
      "9   chromedriver                        0x0000000100afbced chromedriver + 601325\n",
      "10  chromedriver                        0x0000000100afce51 chromedriver + 605777\n",
      "11  chromedriver                        0x0000000100e6b73e chromedriver + 4204350\n",
      "12  chromedriver                        0x0000000100e6fe07 chromedriver + 4222471\n",
      "13  chromedriver                        0x0000000100e770bf chromedriver + 4251839\n",
      "14  chromedriver                        0x0000000100e70b4a chromedriver + 4225866\n",
      "15  chromedriver                        0x0000000100e498af chromedriver + 4065455\n",
      "16  chromedriver                        0x0000000100e8dd18 chromedriver + 4345112\n",
      "17  chromedriver                        0x0000000100e8de86 chromedriver + 4345478\n",
      "18  chromedriver                        0x0000000100ea2f6e chromedriver + 4431726\n",
      "19  libsystem_pthread.dylib             0x00007ff801661514 _pthread_start + 125\n",
      "20  libsystem_pthread.dylib             0x00007ff80165d02f thread_start + 15\n",
      "\n",
      "Message: no such element: Unable to locate element: {\"method\":\"xpath\",\"selector\":\"//span[@class=\"_17p6nbba\"]\"}\n",
      "  (Session info: chrome=106.0.5249.119)\n",
      "Stacktrace:\n",
      "0   chromedriver                        0x00000001028d5c08 chromedriver + 4402184\n",
      "1   chromedriver                        0x000000010285d1f3 chromedriver + 3908083\n",
      "2   chromedriver                        0x000000010250ae6a chromedriver + 425578\n",
      "3   chromedriver                        0x0000000102542c91 chromedriver + 654481\n",
      "4   chromedriver                        0x0000000102542e91 chromedriver + 654993\n",
      "5   chromedriver                        0x000000010257a274 chromedriver + 881268\n",
      "6   chromedriver                        0x0000000102560dcd chromedriver + 777677\n",
      "7   chromedriver                        0x0000000102577f79 chromedriver + 872313\n",
      "8   chromedriver                        0x0000000102560bd3 chromedriver + 777171\n",
      "9   chromedriver                        0x0000000102535ced chromedriver + 601325\n",
      "10  chromedriver                        0x0000000102536e51 chromedriver + 605777\n",
      "11  chromedriver                        0x00000001028a573e chromedriver + 4204350\n",
      "12  chromedriver                        0x00000001028a9e07 chromedriver + 4222471\n",
      "13  chromedriver                        0x00000001028b10bf chromedriver + 4251839\n",
      "14  chromedriver                        0x00000001028aab4a chromedriver + 4225866\n",
      "15  chromedriver                        0x00000001028838af chromedriver + 4065455\n",
      "16  chromedriver                        0x00000001028c7d18 chromedriver + 4345112\n",
      "17  chromedriver                        0x00000001028c7e86 chromedriver + 4345478\n",
      "18  chromedriver                        0x00000001028dcf6e chromedriver + 4431726\n",
      "19  libsystem_pthread.dylib             0x00007ff801661514 _pthread_start + 125\n",
      "20  libsystem_pthread.dylib             0x00007ff80165d02f thread_start + 15\n",
      "\n"
     ]
    },
    {
     "name": "stderr",
     "output_type": "stream",
     "text": [
      "  6%|▌         | 224/3600 [2:12:30<67:09:57, 71.62s/it]"
     ]
    },
    {
     "name": "stdout",
     "output_type": "stream",
     "text": [
      "Message: no such element: Unable to locate element: {\"method\":\"xpath\",\"selector\":\"//span[@class=\"_17p6nbba\"]\"}\n",
      "  (Session info: chrome=106.0.5249.119)\n",
      "Stacktrace:\n",
      "0   chromedriver                        0x000000010132ec08 chromedriver + 4402184\n",
      "1   chromedriver                        0x00000001012b61f3 chromedriver + 3908083\n",
      "2   chromedriver                        0x0000000100f63e6a chromedriver + 425578\n",
      "3   chromedriver                        0x0000000100f9bc91 chromedriver + 654481\n",
      "4   chromedriver                        0x0000000100f9be91 chromedriver + 654993\n",
      "5   chromedriver                        0x0000000100fd3274 chromedriver + 881268\n",
      "6   chromedriver                        0x0000000100fb9dcd chromedriver + 777677\n",
      "7   chromedriver                        0x0000000100fd0f79 chromedriver + 872313\n",
      "8   chromedriver                        0x0000000100fb9bd3 chromedriver + 777171\n",
      "9   chromedriver                        0x0000000100f8eced chromedriver + 601325\n",
      "10  chromedriver                        0x0000000100f8fe51 chromedriver + 605777\n",
      "11  chromedriver                        0x00000001012fe73e chromedriver + 4204350\n",
      "12  chromedriver                        0x0000000101302e07 chromedriver + 4222471\n",
      "13  chromedriver                        0x000000010130a0bf chromedriver + 4251839\n",
      "14  chromedriver                        0x0000000101303b4a chromedriver + 4225866\n",
      "15  chromedriver                        0x00000001012dc8af chromedriver + 4065455\n",
      "16  chromedriver                        0x0000000101320d18 chromedriver + 4345112\n",
      "17  chromedriver                        0x0000000101320e86 chromedriver + 4345478\n",
      "18  chromedriver                        0x0000000101335f6e chromedriver + 4431726\n",
      "19  libsystem_pthread.dylib             0x00007ff801661514 _pthread_start + 125\n",
      "20  libsystem_pthread.dylib             0x00007ff80165d02f thread_start + 15\n",
      "\n"
     ]
    },
    {
     "name": "stderr",
     "output_type": "stream",
     "text": [
      "  6%|▋         | 230/3600 [2:15:42<34:09:32, 36.49s/it]"
     ]
    },
    {
     "name": "stdout",
     "output_type": "stream",
     "text": [
      "Errors total:  6\n"
     ]
    },
    {
     "name": "stderr",
     "output_type": "stream",
     "text": [
      "  7%|▋         | 237/3600 [2:19:29<31:32:55, 33.77s/it]"
     ]
    },
    {
     "name": "stdout",
     "output_type": "stream",
     "text": [
      "Message: no such element: Unable to locate element: {\"method\":\"xpath\",\"selector\":\"//span[@class=\"_17p6nbba\"]\"}\n",
      "  (Session info: chrome=106.0.5249.119)\n",
      "Stacktrace:\n",
      "0   chromedriver                        0x0000000105348c08 chromedriver + 4402184\n",
      "1   chromedriver                        0x00000001052d01f3 chromedriver + 3908083\n",
      "2   chromedriver                        0x0000000104f7de6a chromedriver + 425578\n",
      "3   chromedriver                        0x0000000104fb5c91 chromedriver + 654481\n",
      "4   chromedriver                        0x0000000104fb5e91 chromedriver + 654993\n",
      "5   chromedriver                        0x0000000104fed274 chromedriver + 881268\n",
      "6   chromedriver                        0x0000000104fd3dcd chromedriver + 777677\n",
      "7   chromedriver                        0x0000000104feaf79 chromedriver + 872313\n",
      "8   chromedriver                        0x0000000104fd3bd3 chromedriver + 777171\n",
      "9   chromedriver                        0x0000000104fa8ced chromedriver + 601325\n",
      "10  chromedriver                        0x0000000104fa9e51 chromedriver + 605777\n",
      "11  chromedriver                        0x000000010531873e chromedriver + 4204350\n",
      "12  chromedriver                        0x000000010531ce07 chromedriver + 4222471\n",
      "13  chromedriver                        0x00000001053240bf chromedriver + 4251839\n",
      "14  chromedriver                        0x000000010531db4a chromedriver + 4225866\n",
      "15  chromedriver                        0x00000001052f68af chromedriver + 4065455\n",
      "16  chromedriver                        0x000000010533ad18 chromedriver + 4345112\n",
      "17  chromedriver                        0x000000010533ae86 chromedriver + 4345478\n",
      "18  chromedriver                        0x000000010534ff6e chromedriver + 4431726\n",
      "19  libsystem_pthread.dylib             0x00007ff801661514 _pthread_start + 125\n",
      "20  libsystem_pthread.dylib             0x00007ff80165d02f thread_start + 15\n",
      "\n",
      "Message: no such element: Unable to locate element: {\"method\":\"xpath\",\"selector\":\"//span[@class=\"_17p6nbba\"]\"}\n",
      "  (Session info: chrome=106.0.5249.119)\n",
      "Stacktrace:\n",
      "0   chromedriver                        0x0000000100b3ac08 chromedriver + 4402184\n",
      "1   chromedriver                        0x0000000100ac21f3 chromedriver + 3908083\n",
      "2   chromedriver                        0x000000010076fe6a chromedriver + 425578\n",
      "3   chromedriver                        0x00000001007a7c91 chromedriver + 654481\n",
      "4   chromedriver                        0x00000001007a7e91 chromedriver + 654993\n",
      "5   chromedriver                        0x00000001007df274 chromedriver + 881268\n",
      "6   chromedriver                        0x00000001007c5dcd chromedriver + 777677\n",
      "7   chromedriver                        0x00000001007dcf79 chromedriver + 872313\n",
      "8   chromedriver                        0x00000001007c5bd3 chromedriver + 777171\n",
      "9   chromedriver                        0x000000010079aced chromedriver + 601325\n",
      "10  chromedriver                        0x000000010079be51 chromedriver + 605777\n",
      "11  chromedriver                        0x0000000100b0a73e chromedriver + 4204350\n",
      "12  chromedriver                        0x0000000100b0ee07 chromedriver + 4222471\n",
      "13  chromedriver                        0x0000000100b160bf chromedriver + 4251839\n",
      "14  chromedriver                        0x0000000100b0fb4a chromedriver + 4225866\n",
      "15  chromedriver                        0x0000000100ae88af chromedriver + 4065455\n",
      "16  chromedriver                        0x0000000100b2cd18 chromedriver + 4345112\n",
      "17  chromedriver                        0x0000000100b2ce86 chromedriver + 4345478\n",
      "18  chromedriver                        0x0000000100b41f6e chromedriver + 4431726\n",
      "19  libsystem_pthread.dylib             0x00007ff801661514 _pthread_start + 125\n",
      "20  libsystem_pthread.dylib             0x00007ff80165d02f thread_start + 15\n",
      "\n",
      "Message: no such element: Unable to locate element: {\"method\":\"xpath\",\"selector\":\"//span[@class=\"_17p6nbba\"]\"}\n",
      "  (Session info: chrome=106.0.5249.119)\n",
      "Stacktrace:\n",
      "0   chromedriver                        0x0000000104eedc08 chromedriver + 4402184\n",
      "1   chromedriver                        0x0000000104e751f3 chromedriver + 3908083\n",
      "2   chromedriver                        0x0000000104b22e6a chromedriver + 425578\n",
      "3   chromedriver                        0x0000000104b5ac91 chromedriver + 654481\n",
      "4   chromedriver                        0x0000000104b5ae91 chromedriver + 654993\n",
      "5   chromedriver                        0x0000000104b92274 chromedriver + 881268\n",
      "6   chromedriver                        0x0000000104b78dcd chromedriver + 777677\n",
      "7   chromedriver                        0x0000000104b8ff79 chromedriver + 872313\n",
      "8   chromedriver                        0x0000000104b78bd3 chromedriver + 777171\n",
      "9   chromedriver                        0x0000000104b4dced chromedriver + 601325\n",
      "10  chromedriver                        0x0000000104b4ee51 chromedriver + 605777\n",
      "11  chromedriver                        0x0000000104ebd73e chromedriver + 4204350\n",
      "12  chromedriver                        0x0000000104ec1e07 chromedriver + 4222471\n",
      "13  chromedriver                        0x0000000104ec90bf chromedriver + 4251839\n",
      "14  chromedriver                        0x0000000104ec2b4a chromedriver + 4225866\n",
      "15  chromedriver                        0x0000000104e9b8af chromedriver + 4065455\n",
      "16  chromedriver                        0x0000000104edfd18 chromedriver + 4345112\n",
      "17  chromedriver                        0x0000000104edfe86 chromedriver + 4345478\n",
      "18  chromedriver                        0x0000000104ef4f6e chromedriver + 4431726\n",
      "19  libsystem_pthread.dylib             0x00007ff801661514 _pthread_start + 125\n",
      "20  libsystem_pthread.dylib             0x00007ff80165d02f thread_start + 15\n",
      "\n",
      "Message: no such element: Unable to locate element: {\"method\":\"xpath\",\"selector\":\"//span[@class=\"_17p6nbba\"]\"}\n",
      "  (Session info: chrome=106.0.5249.119)\n",
      "Stacktrace:\n",
      "0   chromedriver                        0x0000000102c25c08 chromedriver + 4402184\n",
      "1   chromedriver                        0x0000000102bad1f3 chromedriver + 3908083\n",
      "2   chromedriver                        0x000000010285ae6a chromedriver + 425578\n",
      "3   chromedriver                        0x0000000102892c91 chromedriver + 654481\n",
      "4   chromedriver                        0x0000000102892e91 chromedriver + 654993\n",
      "5   chromedriver                        0x00000001028ca274 chromedriver + 881268\n",
      "6   chromedriver                        0x00000001028b0dcd chromedriver + 777677\n",
      "7   chromedriver                        0x00000001028c7f79 chromedriver + 872313\n",
      "8   chromedriver                        0x00000001028b0bd3 chromedriver + 777171\n",
      "9   chromedriver                        0x0000000102885ced chromedriver + 601325\n",
      "10  chromedriver                        0x0000000102886e51 chromedriver + 605777\n",
      "11  chromedriver                        0x0000000102bf573e chromedriver + 4204350\n",
      "12  chromedriver                        0x0000000102bf9e07 chromedriver + 4222471\n",
      "13  chromedriver                        0x0000000102c010bf chromedriver + 4251839\n",
      "14  chromedriver                        0x0000000102bfab4a chromedriver + 4225866\n",
      "15  chromedriver                        0x0000000102bd38af chromedriver + 4065455\n",
      "16  chromedriver                        0x0000000102c17d18 chromedriver + 4345112\n",
      "17  chromedriver                        0x0000000102c17e86 chromedriver + 4345478\n",
      "18  chromedriver                        0x0000000102c2cf6e chromedriver + 4431726\n",
      "19  libsystem_pthread.dylib             0x00007ff801661514 _pthread_start + 125\n",
      "20  libsystem_pthread.dylib             0x00007ff80165d02f thread_start + 15\n",
      "\n"
     ]
    },
    {
     "name": "stderr",
     "output_type": "stream",
     "text": [
      "  7%|▋         | 238/3600 [2:22:05<65:54:44, 70.58s/it]"
     ]
    },
    {
     "name": "stdout",
     "output_type": "stream",
     "text": [
      "Message: no such element: Unable to locate element: {\"method\":\"xpath\",\"selector\":\"//span[@class=\"_17p6nbba\"]\"}\n",
      "  (Session info: chrome=106.0.5249.119)\n",
      "Stacktrace:\n",
      "0   chromedriver                        0x0000000102dd1c08 chromedriver + 4402184\n",
      "1   chromedriver                        0x0000000102d591f3 chromedriver + 3908083\n",
      "2   chromedriver                        0x0000000102a06e6a chromedriver + 425578\n",
      "3   chromedriver                        0x0000000102a3ec91 chromedriver + 654481\n",
      "4   chromedriver                        0x0000000102a3ee91 chromedriver + 654993\n",
      "5   chromedriver                        0x0000000102a76274 chromedriver + 881268\n",
      "6   chromedriver                        0x0000000102a5cdcd chromedriver + 777677\n",
      "7   chromedriver                        0x0000000102a73f79 chromedriver + 872313\n",
      "8   chromedriver                        0x0000000102a5cbd3 chromedriver + 777171\n",
      "9   chromedriver                        0x0000000102a31ced chromedriver + 601325\n",
      "10  chromedriver                        0x0000000102a32e51 chromedriver + 605777\n",
      "11  chromedriver                        0x0000000102da173e chromedriver + 4204350\n",
      "12  chromedriver                        0x0000000102da5e07 chromedriver + 4222471\n",
      "13  chromedriver                        0x0000000102dad0bf chromedriver + 4251839\n",
      "14  chromedriver                        0x0000000102da6b4a chromedriver + 4225866\n",
      "15  chromedriver                        0x0000000102d7f8af chromedriver + 4065455\n",
      "16  chromedriver                        0x0000000102dc3d18 chromedriver + 4345112\n",
      "17  chromedriver                        0x0000000102dc3e86 chromedriver + 4345478\n",
      "18  chromedriver                        0x0000000102dd8f6e chromedriver + 4431726\n",
      "19  libsystem_pthread.dylib             0x00007ff801661514 _pthread_start + 125\n",
      "20  libsystem_pthread.dylib             0x00007ff80165d02f thread_start + 15\n",
      "\n"
     ]
    },
    {
     "name": "stderr",
     "output_type": "stream",
     "text": [
      "  7%|▋         | 240/3600 [2:23:14<48:48:02, 52.29s/it]"
     ]
    },
    {
     "name": "stdout",
     "output_type": "stream",
     "text": [
      "Errors total:  7\n"
     ]
    },
    {
     "name": "stderr",
     "output_type": "stream",
     "text": [
      "  7%|▋         | 250/3600 [2:28:35<30:36:28, 32.89s/it]"
     ]
    },
    {
     "name": "stdout",
     "output_type": "stream",
     "text": [
      "Errors total:  7\n"
     ]
    },
    {
     "name": "stderr",
     "output_type": "stream",
     "text": [
      "  7%|▋         | 260/3600 [2:33:59<30:06:12, 32.45s/it]"
     ]
    },
    {
     "name": "stdout",
     "output_type": "stream",
     "text": [
      "Errors total:  7\n"
     ]
    },
    {
     "name": "stderr",
     "output_type": "stream",
     "text": [
      "  7%|▋         | 264/3600 [2:36:02<28:46:23, 31.05s/it]"
     ]
    },
    {
     "name": "stdout",
     "output_type": "stream",
     "text": [
      "Message: no such element: Unable to locate element: {\"method\":\"xpath\",\"selector\":\"//span[@class=\"_17p6nbba\"]\"}\n",
      "  (Session info: chrome=106.0.5249.119)\n",
      "Stacktrace:\n",
      "0   chromedriver                        0x000000010120cc08 chromedriver + 4402184\n",
      "1   chromedriver                        0x00000001011941f3 chromedriver + 3908083\n",
      "2   chromedriver                        0x0000000100e41e6a chromedriver + 425578\n",
      "3   chromedriver                        0x0000000100e79c91 chromedriver + 654481\n",
      "4   chromedriver                        0x0000000100e79e91 chromedriver + 654993\n",
      "5   chromedriver                        0x0000000100eb1274 chromedriver + 881268\n",
      "6   chromedriver                        0x0000000100e97dcd chromedriver + 777677\n",
      "7   chromedriver                        0x0000000100eaef79 chromedriver + 872313\n",
      "8   chromedriver                        0x0000000100e97bd3 chromedriver + 777171\n",
      "9   chromedriver                        0x0000000100e6cced chromedriver + 601325\n",
      "10  chromedriver                        0x0000000100e6de51 chromedriver + 605777\n",
      "11  chromedriver                        0x00000001011dc73e chromedriver + 4204350\n",
      "12  chromedriver                        0x00000001011e0e07 chromedriver + 4222471\n",
      "13  chromedriver                        0x00000001011e80bf chromedriver + 4251839\n",
      "14  chromedriver                        0x00000001011e1b4a chromedriver + 4225866\n",
      "15  chromedriver                        0x00000001011ba8af chromedriver + 4065455\n",
      "16  chromedriver                        0x00000001011fed18 chromedriver + 4345112\n",
      "17  chromedriver                        0x00000001011fee86 chromedriver + 4345478\n",
      "18  chromedriver                        0x0000000101213f6e chromedriver + 4431726\n",
      "19  libsystem_pthread.dylib             0x00007ff801661514 _pthread_start + 125\n",
      "20  libsystem_pthread.dylib             0x00007ff80165d02f thread_start + 15\n",
      "\n",
      "Message: no such element: Unable to locate element: {\"method\":\"xpath\",\"selector\":\"//span[@class=\"_17p6nbba\"]\"}\n",
      "  (Session info: chrome=106.0.5249.119)\n",
      "Stacktrace:\n",
      "0   chromedriver                        0x00000001053bcc08 chromedriver + 4402184\n",
      "1   chromedriver                        0x00000001053441f3 chromedriver + 3908083\n",
      "2   chromedriver                        0x0000000104ff1e6a chromedriver + 425578\n",
      "3   chromedriver                        0x0000000105029c91 chromedriver + 654481\n",
      "4   chromedriver                        0x0000000105029e91 chromedriver + 654993\n",
      "5   chromedriver                        0x0000000105061274 chromedriver + 881268\n",
      "6   chromedriver                        0x0000000105047dcd chromedriver + 777677\n",
      "7   chromedriver                        0x000000010505ef79 chromedriver + 872313\n",
      "8   chromedriver                        0x0000000105047bd3 chromedriver + 777171\n",
      "9   chromedriver                        0x000000010501cced chromedriver + 601325\n",
      "10  chromedriver                        0x000000010501de51 chromedriver + 605777\n",
      "11  chromedriver                        0x000000010538c73e chromedriver + 4204350\n",
      "12  chromedriver                        0x0000000105390e07 chromedriver + 4222471\n",
      "13  chromedriver                        0x00000001053980bf chromedriver + 4251839\n",
      "14  chromedriver                        0x0000000105391b4a chromedriver + 4225866\n",
      "15  chromedriver                        0x000000010536a8af chromedriver + 4065455\n",
      "16  chromedriver                        0x00000001053aed18 chromedriver + 4345112\n",
      "17  chromedriver                        0x00000001053aee86 chromedriver + 4345478\n",
      "18  chromedriver                        0x00000001053c3f6e chromedriver + 4431726\n",
      "19  libsystem_pthread.dylib             0x00007ff801661514 _pthread_start + 125\n",
      "20  libsystem_pthread.dylib             0x00007ff80165d02f thread_start + 15\n",
      "\n",
      "Message: no such element: Unable to locate element: {\"method\":\"xpath\",\"selector\":\"//span[@class=\"_17p6nbba\"]\"}\n",
      "  (Session info: chrome=106.0.5249.119)\n",
      "Stacktrace:\n",
      "0   chromedriver                        0x0000000100df6c08 chromedriver + 4402184\n",
      "1   chromedriver                        0x0000000100d7e1f3 chromedriver + 3908083\n",
      "2   chromedriver                        0x0000000100a2be6a chromedriver + 425578\n",
      "3   chromedriver                        0x0000000100a63c91 chromedriver + 654481\n",
      "4   chromedriver                        0x0000000100a63e91 chromedriver + 654993\n",
      "5   chromedriver                        0x0000000100a9b274 chromedriver + 881268\n",
      "6   chromedriver                        0x0000000100a81dcd chromedriver + 777677\n",
      "7   chromedriver                        0x0000000100a98f79 chromedriver + 872313\n",
      "8   chromedriver                        0x0000000100a81bd3 chromedriver + 777171\n",
      "9   chromedriver                        0x0000000100a56ced chromedriver + 601325\n",
      "10  chromedriver                        0x0000000100a57e51 chromedriver + 605777\n",
      "11  chromedriver                        0x0000000100dc673e chromedriver + 4204350\n",
      "12  chromedriver                        0x0000000100dcae07 chromedriver + 4222471\n",
      "13  chromedriver                        0x0000000100dd20bf chromedriver + 4251839\n",
      "14  chromedriver                        0x0000000100dcbb4a chromedriver + 4225866\n",
      "15  chromedriver                        0x0000000100da48af chromedriver + 4065455\n",
      "16  chromedriver                        0x0000000100de8d18 chromedriver + 4345112\n",
      "17  chromedriver                        0x0000000100de8e86 chromedriver + 4345478\n",
      "18  chromedriver                        0x0000000100dfdf6e chromedriver + 4431726\n",
      "19  libsystem_pthread.dylib             0x00007ff801661514 _pthread_start + 125\n",
      "20  libsystem_pthread.dylib             0x00007ff80165d02f thread_start + 15\n",
      "\n",
      "Message: no such element: Unable to locate element: {\"method\":\"xpath\",\"selector\":\"//span[@class=\"_17p6nbba\"]\"}\n",
      "  (Session info: chrome=106.0.5249.119)\n",
      "Stacktrace:\n",
      "0   chromedriver                        0x0000000102af6c08 chromedriver + 4402184\n",
      "1   chromedriver                        0x0000000102a7e1f3 chromedriver + 3908083\n",
      "2   chromedriver                        0x000000010272be6a chromedriver + 425578\n",
      "3   chromedriver                        0x0000000102763c91 chromedriver + 654481\n",
      "4   chromedriver                        0x0000000102763e91 chromedriver + 654993\n",
      "5   chromedriver                        0x000000010279b274 chromedriver + 881268\n",
      "6   chromedriver                        0x0000000102781dcd chromedriver + 777677\n",
      "7   chromedriver                        0x0000000102798f79 chromedriver + 872313\n",
      "8   chromedriver                        0x0000000102781bd3 chromedriver + 777171\n",
      "9   chromedriver                        0x0000000102756ced chromedriver + 601325\n",
      "10  chromedriver                        0x0000000102757e51 chromedriver + 605777\n",
      "11  chromedriver                        0x0000000102ac673e chromedriver + 4204350\n",
      "12  chromedriver                        0x0000000102acae07 chromedriver + 4222471\n",
      "13  chromedriver                        0x0000000102ad20bf chromedriver + 4251839\n",
      "14  chromedriver                        0x0000000102acbb4a chromedriver + 4225866\n",
      "15  chromedriver                        0x0000000102aa48af chromedriver + 4065455\n",
      "16  chromedriver                        0x0000000102ae8d18 chromedriver + 4345112\n",
      "17  chromedriver                        0x0000000102ae8e86 chromedriver + 4345478\n",
      "18  chromedriver                        0x0000000102afdf6e chromedriver + 4431726\n",
      "19  libsystem_pthread.dylib             0x00007ff801661514 _pthread_start + 125\n",
      "20  libsystem_pthread.dylib             0x00007ff80165d02f thread_start + 15\n",
      "\n"
     ]
    },
    {
     "name": "stderr",
     "output_type": "stream",
     "text": [
      "  7%|▋         | 265/3600 [2:38:36<62:55:20, 67.92s/it]"
     ]
    },
    {
     "name": "stdout",
     "output_type": "stream",
     "text": [
      "Message: no such element: Unable to locate element: {\"method\":\"xpath\",\"selector\":\"//span[@class=\"_17p6nbba\"]\"}\n",
      "  (Session info: chrome=106.0.5249.119)\n",
      "Stacktrace:\n",
      "0   chromedriver                        0x000000010133ac08 chromedriver + 4402184\n",
      "1   chromedriver                        0x00000001012c21f3 chromedriver + 3908083\n",
      "2   chromedriver                        0x0000000100f6fe6a chromedriver + 425578\n",
      "3   chromedriver                        0x0000000100fa7c91 chromedriver + 654481\n",
      "4   chromedriver                        0x0000000100fa7e91 chromedriver + 654993\n",
      "5   chromedriver                        0x0000000100fdf274 chromedriver + 881268\n",
      "6   chromedriver                        0x0000000100fc5dcd chromedriver + 777677\n",
      "7   chromedriver                        0x0000000100fdcf79 chromedriver + 872313\n",
      "8   chromedriver                        0x0000000100fc5bd3 chromedriver + 777171\n",
      "9   chromedriver                        0x0000000100f9aced chromedriver + 601325\n",
      "10  chromedriver                        0x0000000100f9be51 chromedriver + 605777\n",
      "11  chromedriver                        0x000000010130a73e chromedriver + 4204350\n",
      "12  chromedriver                        0x000000010130ee07 chromedriver + 4222471\n",
      "13  chromedriver                        0x00000001013160bf chromedriver + 4251839\n",
      "14  chromedriver                        0x000000010130fb4a chromedriver + 4225866\n",
      "15  chromedriver                        0x00000001012e88af chromedriver + 4065455\n",
      "16  chromedriver                        0x000000010132cd18 chromedriver + 4345112\n",
      "17  chromedriver                        0x000000010132ce86 chromedriver + 4345478\n",
      "18  chromedriver                        0x0000000101341f6e chromedriver + 4431726\n",
      "19  libsystem_pthread.dylib             0x00007ff801661514 _pthread_start + 125\n",
      "20  libsystem_pthread.dylib             0x00007ff80165d02f thread_start + 15\n",
      "\n"
     ]
    },
    {
     "name": "stderr",
     "output_type": "stream",
     "text": [
      "  8%|▊         | 270/3600 [2:41:15<35:05:28, 37.94s/it]"
     ]
    },
    {
     "name": "stdout",
     "output_type": "stream",
     "text": [
      "Errors total:  8\n"
     ]
    },
    {
     "name": "stderr",
     "output_type": "stream",
     "text": [
      "  8%|▊         | 280/3600 [2:46:36<30:04:06, 32.60s/it]"
     ]
    },
    {
     "name": "stdout",
     "output_type": "stream",
     "text": [
      "Errors total:  8\n"
     ]
    },
    {
     "name": "stderr",
     "output_type": "stream",
     "text": [
      "  8%|▊         | 283/3600 [2:48:09<29:09:20, 31.64s/it]"
     ]
    },
    {
     "name": "stdout",
     "output_type": "stream",
     "text": [
      "Message: no such element: Unable to locate element: {\"method\":\"xpath\",\"selector\":\"//div[@data-section-id=\"TITLE_DEFAULT\"]/section/div/span/h1\"}\n",
      "  (Session info: chrome=106.0.5249.119)\n",
      "Stacktrace:\n",
      "0   chromedriver                        0x0000000102693c08 chromedriver + 4402184\n",
      "1   chromedriver                        0x000000010261b1f3 chromedriver + 3908083\n",
      "2   chromedriver                        0x00000001022c8e6a chromedriver + 425578\n",
      "3   chromedriver                        0x0000000102300c91 chromedriver + 654481\n",
      "4   chromedriver                        0x0000000102300e91 chromedriver + 654993\n",
      "5   chromedriver                        0x0000000102338274 chromedriver + 881268\n",
      "6   chromedriver                        0x000000010231edcd chromedriver + 777677\n",
      "7   chromedriver                        0x0000000102335f79 chromedriver + 872313\n",
      "8   chromedriver                        0x000000010231ebd3 chromedriver + 777171\n",
      "9   chromedriver                        0x00000001022f3ced chromedriver + 601325\n",
      "10  chromedriver                        0x00000001022f4e51 chromedriver + 605777\n",
      "11  chromedriver                        0x000000010266373e chromedriver + 4204350\n",
      "12  chromedriver                        0x0000000102667e07 chromedriver + 4222471\n",
      "13  chromedriver                        0x000000010266f0bf chromedriver + 4251839\n",
      "14  chromedriver                        0x0000000102668b4a chromedriver + 4225866\n",
      "15  chromedriver                        0x00000001026418af chromedriver + 4065455\n",
      "16  chromedriver                        0x0000000102685d18 chromedriver + 4345112\n",
      "17  chromedriver                        0x0000000102685e86 chromedriver + 4345478\n",
      "18  chromedriver                        0x000000010269af6e chromedriver + 4431726\n",
      "19  libsystem_pthread.dylib             0x00007ff801661514 _pthread_start + 125\n",
      "20  libsystem_pthread.dylib             0x00007ff80165d02f thread_start + 15\n",
      "\n"
     ]
    },
    {
     "name": "stderr",
     "output_type": "stream",
     "text": [
      "  8%|▊         | 290/3600 [2:52:27<30:33:05, 33.23s/it]"
     ]
    },
    {
     "name": "stdout",
     "output_type": "stream",
     "text": [
      "Errors total:  8\n"
     ]
    },
    {
     "name": "stderr",
     "output_type": "stream",
     "text": [
      "  8%|▊         | 300/3600 [2:58:00<31:00:03, 33.82s/it]"
     ]
    },
    {
     "name": "stdout",
     "output_type": "stream",
     "text": [
      "Errors total:  8\n"
     ]
    },
    {
     "name": "stderr",
     "output_type": "stream",
     "text": [
      "  9%|▊         | 309/3600 [3:02:47<29:32:33, 32.32s/it]"
     ]
    },
    {
     "name": "stdout",
     "output_type": "stream",
     "text": [
      "Message: disconnected: Unable to receive message from renderer\n",
      "  (failed to check if window was closed: disconnected: Unable to receive message from renderer)\n",
      "  (Session info: chrome=106.0.5249.119)\n",
      "Stacktrace:\n",
      "0   chromedriver                        0x0000000104dd3c08 chromedriver + 4402184\n",
      "1   chromedriver                        0x0000000104d5b1f3 chromedriver + 3908083\n",
      "2   chromedriver                        0x0000000104a08e6a chromedriver + 425578\n",
      "3   chromedriver                        0x00000001049f56bb chromedriver + 345787\n",
      "4   chromedriver                        0x00000001049f5572 chromedriver + 345458\n",
      "5   chromedriver                        0x00000001049f44ca chromedriver + 341194\n",
      "6   chromedriver                        0x00000001049f4862 chromedriver + 342114\n",
      "7   chromedriver                        0x0000000104a0ab6e chromedriver + 433006\n",
      "8   chromedriver                        0x0000000104a767af chromedriver + 874415\n",
      "9   chromedriver                        0x0000000104a5eda2 chromedriver + 777634\n",
      "10  chromedriver                        0x0000000104a75f79 chromedriver + 872313\n",
      "11  chromedriver                        0x0000000104a5ebd3 chromedriver + 777171\n",
      "12  chromedriver                        0x0000000104a33ced chromedriver + 601325\n",
      "13  chromedriver                        0x0000000104a34e51 chromedriver + 605777\n",
      "14  chromedriver                        0x0000000104da373e chromedriver + 4204350\n",
      "15  chromedriver                        0x0000000104da7e07 chromedriver + 4222471\n",
      "16  chromedriver                        0x0000000104daf0bf chromedriver + 4251839\n",
      "17  chromedriver                        0x0000000104da8b4a chromedriver + 4225866\n",
      "18  chromedriver                        0x0000000104d818af chromedriver + 4065455\n",
      "19  chromedriver                        0x0000000104dc5d18 chromedriver + 4345112\n",
      "20  chromedriver                        0x0000000104dc5e86 chromedriver + 4345478\n",
      "21  chromedriver                        0x0000000104ddaf6e chromedriver + 4431726\n",
      "22  libsystem_pthread.dylib             0x00007ff801661514 _pthread_start + 125\n",
      "23  libsystem_pthread.dylib             0x00007ff80165d02f thread_start + 15\n",
      "\n"
     ]
    },
    {
     "name": "stderr",
     "output_type": "stream",
     "text": [
      "  9%|▊         | 310/3600 [3:12:39<182:46:32, 200.00s/it]"
     ]
    },
    {
     "name": "stdout",
     "output_type": "stream",
     "text": [
      "Errors total:  8\n"
     ]
    },
    {
     "name": "stderr",
     "output_type": "stream",
     "text": [
      "  9%|▉         | 320/3600 [3:18:01<33:23:09, 36.64s/it]  "
     ]
    },
    {
     "name": "stdout",
     "output_type": "stream",
     "text": [
      "Errors total:  8\n"
     ]
    },
    {
     "name": "stderr",
     "output_type": "stream",
     "text": [
      "  9%|▉         | 330/3600 [3:23:22<28:54:55, 31.83s/it]"
     ]
    },
    {
     "name": "stdout",
     "output_type": "stream",
     "text": [
      "Errors total:  8\n"
     ]
    },
    {
     "name": "stderr",
     "output_type": "stream",
     "text": [
      "  9%|▉         | 336/3600 [3:26:37<29:38:16, 32.69s/it]"
     ]
    },
    {
     "name": "stdout",
     "output_type": "stream",
     "text": [
      "Message: no such element: Unable to locate element: {\"method\":\"xpath\",\"selector\":\"//span[@class=\"_17p6nbba\"]\"}\n",
      "  (Session info: chrome=106.0.5249.119)\n",
      "Stacktrace:\n",
      "0   chromedriver                        0x0000000102f72c08 chromedriver + 4402184\n",
      "1   chromedriver                        0x0000000102efa1f3 chromedriver + 3908083\n",
      "2   chromedriver                        0x0000000102ba7e6a chromedriver + 425578\n",
      "3   chromedriver                        0x0000000102bdfc91 chromedriver + 654481\n",
      "4   chromedriver                        0x0000000102bdfe91 chromedriver + 654993\n",
      "5   chromedriver                        0x0000000102c17274 chromedriver + 881268\n",
      "6   chromedriver                        0x0000000102bfddcd chromedriver + 777677\n",
      "7   chromedriver                        0x0000000102c14f79 chromedriver + 872313\n",
      "8   chromedriver                        0x0000000102bfdbd3 chromedriver + 777171\n",
      "9   chromedriver                        0x0000000102bd2ced chromedriver + 601325\n",
      "10  chromedriver                        0x0000000102bd3e51 chromedriver + 605777\n",
      "11  chromedriver                        0x0000000102f4273e chromedriver + 4204350\n",
      "12  chromedriver                        0x0000000102f46e07 chromedriver + 4222471\n",
      "13  chromedriver                        0x0000000102f4e0bf chromedriver + 4251839\n",
      "14  chromedriver                        0x0000000102f47b4a chromedriver + 4225866\n",
      "15  chromedriver                        0x0000000102f208af chromedriver + 4065455\n",
      "16  chromedriver                        0x0000000102f64d18 chromedriver + 4345112\n",
      "17  chromedriver                        0x0000000102f64e86 chromedriver + 4345478\n",
      "18  chromedriver                        0x0000000102f79f6e chromedriver + 4431726\n",
      "19  libsystem_pthread.dylib             0x00007ff801661514 _pthread_start + 125\n",
      "20  libsystem_pthread.dylib             0x00007ff80165d02f thread_start + 15\n",
      "\n",
      "Message: no such element: Unable to locate element: {\"method\":\"xpath\",\"selector\":\"//span[@class=\"_17p6nbba\"]\"}\n",
      "  (Session info: chrome=106.0.5249.119)\n",
      "Stacktrace:\n",
      "0   chromedriver                        0x00000001030d9c08 chromedriver + 4402184\n",
      "1   chromedriver                        0x00000001030611f3 chromedriver + 3908083\n",
      "2   chromedriver                        0x0000000102d0ee6a chromedriver + 425578\n",
      "3   chromedriver                        0x0000000102d46c91 chromedriver + 654481\n",
      "4   chromedriver                        0x0000000102d46e91 chromedriver + 654993\n",
      "5   chromedriver                        0x0000000102d7e274 chromedriver + 881268\n",
      "6   chromedriver                        0x0000000102d64dcd chromedriver + 777677\n",
      "7   chromedriver                        0x0000000102d7bf79 chromedriver + 872313\n",
      "8   chromedriver                        0x0000000102d64bd3 chromedriver + 777171\n",
      "9   chromedriver                        0x0000000102d39ced chromedriver + 601325\n",
      "10  chromedriver                        0x0000000102d3ae51 chromedriver + 605777\n",
      "11  chromedriver                        0x00000001030a973e chromedriver + 4204350\n",
      "12  chromedriver                        0x00000001030ade07 chromedriver + 4222471\n",
      "13  chromedriver                        0x00000001030b50bf chromedriver + 4251839\n",
      "14  chromedriver                        0x00000001030aeb4a chromedriver + 4225866\n",
      "15  chromedriver                        0x00000001030878af chromedriver + 4065455\n",
      "16  chromedriver                        0x00000001030cbd18 chromedriver + 4345112\n",
      "17  chromedriver                        0x00000001030cbe86 chromedriver + 4345478\n",
      "18  chromedriver                        0x00000001030e0f6e chromedriver + 4431726\n",
      "19  libsystem_pthread.dylib             0x00007ff801661514 _pthread_start + 125\n",
      "20  libsystem_pthread.dylib             0x00007ff80165d02f thread_start + 15\n",
      "\n",
      "Message: no such element: Unable to locate element: {\"method\":\"xpath\",\"selector\":\"//span[@class=\"_17p6nbba\"]\"}\n",
      "  (Session info: chrome=106.0.5249.119)\n",
      "Stacktrace:\n",
      "0   chromedriver                        0x0000000104730c08 chromedriver + 4402184\n",
      "1   chromedriver                        0x00000001046b81f3 chromedriver + 3908083\n",
      "2   chromedriver                        0x0000000104365e6a chromedriver + 425578\n",
      "3   chromedriver                        0x000000010439dc91 chromedriver + 654481\n",
      "4   chromedriver                        0x000000010439de91 chromedriver + 654993\n",
      "5   chromedriver                        0x00000001043d5274 chromedriver + 881268\n",
      "6   chromedriver                        0x00000001043bbdcd chromedriver + 777677\n",
      "7   chromedriver                        0x00000001043d2f79 chromedriver + 872313\n",
      "8   chromedriver                        0x00000001043bbbd3 chromedriver + 777171\n",
      "9   chromedriver                        0x0000000104390ced chromedriver + 601325\n",
      "10  chromedriver                        0x0000000104391e51 chromedriver + 605777\n",
      "11  chromedriver                        0x000000010470073e chromedriver + 4204350\n",
      "12  chromedriver                        0x0000000104704e07 chromedriver + 4222471\n",
      "13  chromedriver                        0x000000010470c0bf chromedriver + 4251839\n",
      "14  chromedriver                        0x0000000104705b4a chromedriver + 4225866\n",
      "15  chromedriver                        0x00000001046de8af chromedriver + 4065455\n",
      "16  chromedriver                        0x0000000104722d18 chromedriver + 4345112\n",
      "17  chromedriver                        0x0000000104722e86 chromedriver + 4345478\n",
      "18  chromedriver                        0x0000000104737f6e chromedriver + 4431726\n",
      "19  libsystem_pthread.dylib             0x00007ff801661514 _pthread_start + 125\n",
      "20  libsystem_pthread.dylib             0x00007ff80165d02f thread_start + 15\n",
      "\n",
      "Message: no such element: Unable to locate element: {\"method\":\"xpath\",\"selector\":\"//span[@class=\"_17p6nbba\"]\"}\n",
      "  (Session info: chrome=106.0.5249.119)\n",
      "Stacktrace:\n",
      "0   chromedriver                        0x0000000101012c08 chromedriver + 4402184\n",
      "1   chromedriver                        0x0000000100f9a1f3 chromedriver + 3908083\n",
      "2   chromedriver                        0x0000000100c47e6a chromedriver + 425578\n",
      "3   chromedriver                        0x0000000100c7fc91 chromedriver + 654481\n",
      "4   chromedriver                        0x0000000100c7fe91 chromedriver + 654993\n",
      "5   chromedriver                        0x0000000100cb7274 chromedriver + 881268\n",
      "6   chromedriver                        0x0000000100c9ddcd chromedriver + 777677\n",
      "7   chromedriver                        0x0000000100cb4f79 chromedriver + 872313\n",
      "8   chromedriver                        0x0000000100c9dbd3 chromedriver + 777171\n",
      "9   chromedriver                        0x0000000100c72ced chromedriver + 601325\n",
      "10  chromedriver                        0x0000000100c73e51 chromedriver + 605777\n",
      "11  chromedriver                        0x0000000100fe273e chromedriver + 4204350\n",
      "12  chromedriver                        0x0000000100fe6e07 chromedriver + 4222471\n",
      "13  chromedriver                        0x0000000100fee0bf chromedriver + 4251839\n",
      "14  chromedriver                        0x0000000100fe7b4a chromedriver + 4225866\n",
      "15  chromedriver                        0x0000000100fc08af chromedriver + 4065455\n",
      "16  chromedriver                        0x0000000101004d18 chromedriver + 4345112\n",
      "17  chromedriver                        0x0000000101004e86 chromedriver + 4345478\n",
      "18  chromedriver                        0x0000000101019f6e chromedriver + 4431726\n",
      "19  libsystem_pthread.dylib             0x00007ff801661514 _pthread_start + 125\n",
      "20  libsystem_pthread.dylib             0x00007ff80165d02f thread_start + 15\n",
      "\n"
     ]
    },
    {
     "name": "stderr",
     "output_type": "stream",
     "text": [
      "  9%|▉         | 337/3600 [3:29:16<63:46:16, 70.36s/it]"
     ]
    },
    {
     "name": "stdout",
     "output_type": "stream",
     "text": [
      "Message: no such element: Unable to locate element: {\"method\":\"xpath\",\"selector\":\"//span[@class=\"_17p6nbba\"]\"}\n",
      "  (Session info: chrome=106.0.5249.119)\n",
      "Stacktrace:\n",
      "0   chromedriver                        0x0000000104f1bc08 chromedriver + 4402184\n",
      "1   chromedriver                        0x0000000104ea31f3 chromedriver + 3908083\n",
      "2   chromedriver                        0x0000000104b50e6a chromedriver + 425578\n",
      "3   chromedriver                        0x0000000104b88c91 chromedriver + 654481\n",
      "4   chromedriver                        0x0000000104b88e91 chromedriver + 654993\n",
      "5   chromedriver                        0x0000000104bc0274 chromedriver + 881268\n",
      "6   chromedriver                        0x0000000104ba6dcd chromedriver + 777677\n",
      "7   chromedriver                        0x0000000104bbdf79 chromedriver + 872313\n",
      "8   chromedriver                        0x0000000104ba6bd3 chromedriver + 777171\n",
      "9   chromedriver                        0x0000000104b7bced chromedriver + 601325\n",
      "10  chromedriver                        0x0000000104b7ce51 chromedriver + 605777\n",
      "11  chromedriver                        0x0000000104eeb73e chromedriver + 4204350\n",
      "12  chromedriver                        0x0000000104eefe07 chromedriver + 4222471\n",
      "13  chromedriver                        0x0000000104ef70bf chromedriver + 4251839\n",
      "14  chromedriver                        0x0000000104ef0b4a chromedriver + 4225866\n",
      "15  chromedriver                        0x0000000104ec98af chromedriver + 4065455\n",
      "16  chromedriver                        0x0000000104f0dd18 chromedriver + 4345112\n",
      "17  chromedriver                        0x0000000104f0de86 chromedriver + 4345478\n",
      "18  chromedriver                        0x0000000104f22f6e chromedriver + 4431726\n",
      "19  libsystem_pthread.dylib             0x00007ff801661514 _pthread_start + 125\n",
      "20  libsystem_pthread.dylib             0x00007ff80165d02f thread_start + 15\n",
      "\n"
     ]
    },
    {
     "name": "stderr",
     "output_type": "stream",
     "text": [
      "  9%|▉         | 340/3600 [3:30:50<40:33:13, 44.78s/it]"
     ]
    },
    {
     "name": "stdout",
     "output_type": "stream",
     "text": [
      "Errors total:  9\n"
     ]
    },
    {
     "name": "stderr",
     "output_type": "stream",
     "text": [
      " 10%|▉         | 346/3600 [3:33:58<29:59:48, 33.19s/it]"
     ]
    },
    {
     "name": "stdout",
     "output_type": "stream",
     "text": [
      "Message: unknown error: Chrome failed to start: crashed.\n",
      "  (chrome not reachable)\n",
      "  (The process started from chrome location /Applications/Google Chrome.app/Contents/MacOS/Google Chrome is no longer running, so ChromeDriver is assuming that Chrome has crashed.)\n",
      "Stacktrace:\n",
      "0   chromedriver                        0x000000010337ac08 chromedriver + 4402184\n",
      "1   chromedriver                        0x00000001033021f3 chromedriver + 3908083\n",
      "2   chromedriver                        0x0000000102fafe6a chromedriver + 425578\n",
      "3   chromedriver                        0x0000000102fd4fc6 chromedriver + 577478\n",
      "4   chromedriver                        0x0000000102fd03be chromedriver + 558014\n",
      "5   chromedriver                        0x000000010300d8fa chromedriver + 809210\n",
      "6   chromedriver                        0x000000010300d2bf chromedriver + 807615\n",
      "7   chromedriver                        0x0000000103005bd3 chromedriver + 777171\n",
      "8   chromedriver                        0x0000000102fdaced chromedriver + 601325\n",
      "9   chromedriver                        0x0000000102fdbe51 chromedriver + 605777\n",
      "10  chromedriver                        0x000000010334a73e chromedriver + 4204350\n",
      "11  chromedriver                        0x000000010334ee07 chromedriver + 4222471\n",
      "12  chromedriver                        0x00000001033560bf chromedriver + 4251839\n",
      "13  chromedriver                        0x000000010334fb4a chromedriver + 4225866\n",
      "14  chromedriver                        0x00000001033288af chromedriver + 4065455\n",
      "15  chromedriver                        0x000000010336cd18 chromedriver + 4345112\n",
      "16  chromedriver                        0x000000010336ce86 chromedriver + 4345478\n",
      "17  chromedriver                        0x0000000103381f6e chromedriver + 4431726\n",
      "18  libsystem_pthread.dylib             0x00007ff801661514 _pthread_start + 125\n",
      "19  libsystem_pthread.dylib             0x00007ff80165d02f thread_start + 15\n",
      "\n"
     ]
    },
    {
     "name": "stderr",
     "output_type": "stream",
     "text": [
      " 10%|▉         | 350/3600 [3:36:15<29:57:37, 33.19s/it]"
     ]
    },
    {
     "name": "stdout",
     "output_type": "stream",
     "text": [
      "Errors total:  9\n"
     ]
    },
    {
     "name": "stderr",
     "output_type": "stream",
     "text": [
      " 10%|█         | 360/3600 [3:41:38<29:09:29, 32.40s/it]"
     ]
    },
    {
     "name": "stdout",
     "output_type": "stream",
     "text": [
      "Errors total:  9\n"
     ]
    },
    {
     "name": "stderr",
     "output_type": "stream",
     "text": [
      " 10%|█         | 370/3600 [3:47:03<29:08:50, 32.49s/it]"
     ]
    },
    {
     "name": "stdout",
     "output_type": "stream",
     "text": [
      "Errors total:  9\n"
     ]
    },
    {
     "name": "stderr",
     "output_type": "stream",
     "text": [
      " 11%|█         | 380/3600 [3:52:25<29:12:02, 32.65s/it]"
     ]
    },
    {
     "name": "stdout",
     "output_type": "stream",
     "text": [
      "Errors total:  9\n"
     ]
    },
    {
     "name": "stderr",
     "output_type": "stream",
     "text": [
      " 11%|█         | 383/3600 [3:54:01<28:44:29, 32.16s/it]"
     ]
    },
    {
     "name": "stdout",
     "output_type": "stream",
     "text": [
      "Message: unknown error: Chrome failed to start: crashed.\n",
      "  (chrome not reachable)\n",
      "  (The process started from chrome location /Applications/Google Chrome.app/Contents/MacOS/Google Chrome is no longer running, so ChromeDriver is assuming that Chrome has crashed.)\n",
      "Stacktrace:\n",
      "0   chromedriver                        0x000000010481ec08 chromedriver + 4402184\n",
      "1   chromedriver                        0x00000001047a61f3 chromedriver + 3908083\n",
      "2   chromedriver                        0x0000000104453e6a chromedriver + 425578\n",
      "3   chromedriver                        0x0000000104478fc6 chromedriver + 577478\n",
      "4   chromedriver                        0x00000001044743be chromedriver + 558014\n",
      "5   chromedriver                        0x00000001044b18fa chromedriver + 809210\n",
      "6   chromedriver                        0x00000001044b12bf chromedriver + 807615\n",
      "7   chromedriver                        0x00000001044a9bd3 chromedriver + 777171\n",
      "8   chromedriver                        0x000000010447eced chromedriver + 601325\n",
      "9   chromedriver                        0x000000010447fe51 chromedriver + 605777\n",
      "10  chromedriver                        0x00000001047ee73e chromedriver + 4204350\n",
      "11  chromedriver                        0x00000001047f2e07 chromedriver + 4222471\n",
      "12  chromedriver                        0x00000001047fa0bf chromedriver + 4251839\n",
      "13  chromedriver                        0x00000001047f3b4a chromedriver + 4225866\n",
      "14  chromedriver                        0x00000001047cc8af chromedriver + 4065455\n",
      "15  chromedriver                        0x0000000104810d18 chromedriver + 4345112\n",
      "16  chromedriver                        0x0000000104810e86 chromedriver + 4345478\n",
      "17  chromedriver                        0x0000000104825f6e chromedriver + 4431726\n",
      "18  libsystem_pthread.dylib             0x00007ff801661514 _pthread_start + 125\n",
      "19  libsystem_pthread.dylib             0x00007ff80165d02f thread_start + 15\n",
      "\n"
     ]
    },
    {
     "name": "stderr",
     "output_type": "stream",
     "text": [
      " 11%|█         | 390/3600 [3:57:50<28:54:02, 32.41s/it]"
     ]
    },
    {
     "name": "stdout",
     "output_type": "stream",
     "text": [
      "Errors total:  9\n"
     ]
    },
    {
     "name": "stderr",
     "output_type": "stream",
     "text": [
      " 11%|█         | 397/3600 [4:01:32<28:26:57, 31.98s/it]"
     ]
    },
    {
     "name": "stdout",
     "output_type": "stream",
     "text": [
      "Message: no such element: Unable to locate element: {\"method\":\"xpath\",\"selector\":\"//span[@class=\"_17p6nbba\"]\"}\n",
      "  (Session info: chrome=106.0.5249.119)\n",
      "Stacktrace:\n",
      "0   chromedriver                        0x0000000105249c08 chromedriver + 4402184\n",
      "1   chromedriver                        0x00000001051d11f3 chromedriver + 3908083\n",
      "2   chromedriver                        0x0000000104e7ee6a chromedriver + 425578\n",
      "3   chromedriver                        0x0000000104eb6c91 chromedriver + 654481\n",
      "4   chromedriver                        0x0000000104eb6e91 chromedriver + 654993\n",
      "5   chromedriver                        0x0000000104eee274 chromedriver + 881268\n",
      "6   chromedriver                        0x0000000104ed4dcd chromedriver + 777677\n",
      "7   chromedriver                        0x0000000104eebf79 chromedriver + 872313\n",
      "8   chromedriver                        0x0000000104ed4bd3 chromedriver + 777171\n",
      "9   chromedriver                        0x0000000104ea9ced chromedriver + 601325\n",
      "10  chromedriver                        0x0000000104eaae51 chromedriver + 605777\n",
      "11  chromedriver                        0x000000010521973e chromedriver + 4204350\n",
      "12  chromedriver                        0x000000010521de07 chromedriver + 4222471\n",
      "13  chromedriver                        0x00000001052250bf chromedriver + 4251839\n",
      "14  chromedriver                        0x000000010521eb4a chromedriver + 4225866\n",
      "15  chromedriver                        0x00000001051f78af chromedriver + 4065455\n",
      "16  chromedriver                        0x000000010523bd18 chromedriver + 4345112\n",
      "17  chromedriver                        0x000000010523be86 chromedriver + 4345478\n",
      "18  chromedriver                        0x0000000105250f6e chromedriver + 4431726\n",
      "19  libsystem_pthread.dylib             0x00007ff801661514 _pthread_start + 125\n",
      "20  libsystem_pthread.dylib             0x00007ff80165d02f thread_start + 15\n",
      "\n",
      "Message: no such element: Unable to locate element: {\"method\":\"xpath\",\"selector\":\"//span[@class=\"_17p6nbba\"]\"}\n",
      "  (Session info: chrome=106.0.5249.119)\n",
      "Stacktrace:\n",
      "0   chromedriver                        0x00000001049a2c08 chromedriver + 4402184\n",
      "1   chromedriver                        0x000000010492a1f3 chromedriver + 3908083\n",
      "2   chromedriver                        0x00000001045d7e6a chromedriver + 425578\n",
      "3   chromedriver                        0x000000010460fc91 chromedriver + 654481\n",
      "4   chromedriver                        0x000000010460fe91 chromedriver + 654993\n",
      "5   chromedriver                        0x0000000104647274 chromedriver + 881268\n",
      "6   chromedriver                        0x000000010462ddcd chromedriver + 777677\n",
      "7   chromedriver                        0x0000000104644f79 chromedriver + 872313\n",
      "8   chromedriver                        0x000000010462dbd3 chromedriver + 777171\n",
      "9   chromedriver                        0x0000000104602ced chromedriver + 601325\n",
      "10  chromedriver                        0x0000000104603e51 chromedriver + 605777\n",
      "11  chromedriver                        0x000000010497273e chromedriver + 4204350\n",
      "12  chromedriver                        0x0000000104976e07 chromedriver + 4222471\n",
      "13  chromedriver                        0x000000010497e0bf chromedriver + 4251839\n",
      "14  chromedriver                        0x0000000104977b4a chromedriver + 4225866\n",
      "15  chromedriver                        0x00000001049508af chromedriver + 4065455\n",
      "16  chromedriver                        0x0000000104994d18 chromedriver + 4345112\n",
      "17  chromedriver                        0x0000000104994e86 chromedriver + 4345478\n",
      "18  chromedriver                        0x00000001049a9f6e chromedriver + 4431726\n",
      "19  libsystem_pthread.dylib             0x00007ff801661514 _pthread_start + 125\n",
      "20  libsystem_pthread.dylib             0x00007ff80165d02f thread_start + 15\n",
      "\n",
      "Message: no such element: Unable to locate element: {\"method\":\"xpath\",\"selector\":\"//span[@class=\"_17p6nbba\"]\"}\n",
      "  (Session info: chrome=106.0.5249.119)\n",
      "Stacktrace:\n",
      "0   chromedriver                        0x0000000100f3fc08 chromedriver + 4402184\n",
      "1   chromedriver                        0x0000000100ec71f3 chromedriver + 3908083\n",
      "2   chromedriver                        0x0000000100b74e6a chromedriver + 425578\n",
      "3   chromedriver                        0x0000000100bacc91 chromedriver + 654481\n",
      "4   chromedriver                        0x0000000100bace91 chromedriver + 654993\n",
      "5   chromedriver                        0x0000000100be4274 chromedriver + 881268\n",
      "6   chromedriver                        0x0000000100bcadcd chromedriver + 777677\n",
      "7   chromedriver                        0x0000000100be1f79 chromedriver + 872313\n",
      "8   chromedriver                        0x0000000100bcabd3 chromedriver + 777171\n",
      "9   chromedriver                        0x0000000100b9fced chromedriver + 601325\n",
      "10  chromedriver                        0x0000000100ba0e51 chromedriver + 605777\n",
      "11  chromedriver                        0x0000000100f0f73e chromedriver + 4204350\n",
      "12  chromedriver                        0x0000000100f13e07 chromedriver + 4222471\n",
      "13  chromedriver                        0x0000000100f1b0bf chromedriver + 4251839\n",
      "14  chromedriver                        0x0000000100f14b4a chromedriver + 4225866\n",
      "15  chromedriver                        0x0000000100eed8af chromedriver + 4065455\n",
      "16  chromedriver                        0x0000000100f31d18 chromedriver + 4345112\n",
      "17  chromedriver                        0x0000000100f31e86 chromedriver + 4345478\n",
      "18  chromedriver                        0x0000000100f46f6e chromedriver + 4431726\n",
      "19  libsystem_pthread.dylib             0x00007ff801661514 _pthread_start + 125\n",
      "20  libsystem_pthread.dylib             0x00007ff80165d02f thread_start + 15\n",
      "\n",
      "Message: no such element: Unable to locate element: {\"method\":\"xpath\",\"selector\":\"//span[@class=\"_17p6nbba\"]\"}\n",
      "  (Session info: chrome=106.0.5249.119)\n",
      "Stacktrace:\n",
      "0   chromedriver                        0x00000001009e9c08 chromedriver + 4402184\n",
      "1   chromedriver                        0x00000001009711f3 chromedriver + 3908083\n",
      "2   chromedriver                        0x000000010061ee6a chromedriver + 425578\n",
      "3   chromedriver                        0x0000000100656c91 chromedriver + 654481\n",
      "4   chromedriver                        0x0000000100656e91 chromedriver + 654993\n",
      "5   chromedriver                        0x000000010068e274 chromedriver + 881268\n",
      "6   chromedriver                        0x0000000100674dcd chromedriver + 777677\n",
      "7   chromedriver                        0x000000010068bf79 chromedriver + 872313\n",
      "8   chromedriver                        0x0000000100674bd3 chromedriver + 777171\n",
      "9   chromedriver                        0x0000000100649ced chromedriver + 601325\n",
      "10  chromedriver                        0x000000010064ae51 chromedriver + 605777\n",
      "11  chromedriver                        0x00000001009b973e chromedriver + 4204350\n",
      "12  chromedriver                        0x00000001009bde07 chromedriver + 4222471\n",
      "13  chromedriver                        0x00000001009c50bf chromedriver + 4251839\n",
      "14  chromedriver                        0x00000001009beb4a chromedriver + 4225866\n",
      "15  chromedriver                        0x00000001009978af chromedriver + 4065455\n",
      "16  chromedriver                        0x00000001009dbd18 chromedriver + 4345112\n",
      "17  chromedriver                        0x00000001009dbe86 chromedriver + 4345478\n",
      "18  chromedriver                        0x00000001009f0f6e chromedriver + 4431726\n",
      "19  libsystem_pthread.dylib             0x00007ff801661514 _pthread_start + 125\n",
      "20  libsystem_pthread.dylib             0x00007ff80165d02f thread_start + 15\n",
      "\n"
     ]
    },
    {
     "name": "stderr",
     "output_type": "stream",
     "text": [
      " 11%|█         | 398/3600 [4:04:13<62:54:08, 70.72s/it]"
     ]
    },
    {
     "name": "stdout",
     "output_type": "stream",
     "text": [
      "Message: no such element: Unable to locate element: {\"method\":\"xpath\",\"selector\":\"//span[@class=\"_17p6nbba\"]\"}\n",
      "  (Session info: chrome=106.0.5249.119)\n",
      "Stacktrace:\n",
      "0   chromedriver                        0x0000000100c72c08 chromedriver + 4402184\n",
      "1   chromedriver                        0x0000000100bfa1f3 chromedriver + 3908083\n",
      "2   chromedriver                        0x00000001008a7e6a chromedriver + 425578\n",
      "3   chromedriver                        0x00000001008dfc91 chromedriver + 654481\n",
      "4   chromedriver                        0x00000001008dfe91 chromedriver + 654993\n",
      "5   chromedriver                        0x0000000100917274 chromedriver + 881268\n",
      "6   chromedriver                        0x00000001008fddcd chromedriver + 777677\n",
      "7   chromedriver                        0x0000000100914f79 chromedriver + 872313\n",
      "8   chromedriver                        0x00000001008fdbd3 chromedriver + 777171\n",
      "9   chromedriver                        0x00000001008d2ced chromedriver + 601325\n",
      "10  chromedriver                        0x00000001008d3e51 chromedriver + 605777\n",
      "11  chromedriver                        0x0000000100c4273e chromedriver + 4204350\n",
      "12  chromedriver                        0x0000000100c46e07 chromedriver + 4222471\n",
      "13  chromedriver                        0x0000000100c4e0bf chromedriver + 4251839\n",
      "14  chromedriver                        0x0000000100c47b4a chromedriver + 4225866\n",
      "15  chromedriver                        0x0000000100c208af chromedriver + 4065455\n",
      "16  chromedriver                        0x0000000100c64d18 chromedriver + 4345112\n",
      "17  chromedriver                        0x0000000100c64e86 chromedriver + 4345478\n",
      "18  chromedriver                        0x0000000100c79f6e chromedriver + 4431726\n",
      "19  libsystem_pthread.dylib             0x00007ff801661514 _pthread_start + 125\n",
      "20  libsystem_pthread.dylib             0x00007ff80165d02f thread_start + 15\n",
      "\n"
     ]
    },
    {
     "name": "stderr",
     "output_type": "stream",
     "text": [
      " 11%|█         | 400/3600 [4:05:16<45:03:11, 50.68s/it]"
     ]
    },
    {
     "name": "stdout",
     "output_type": "stream",
     "text": [
      "Errors total:  10\n"
     ]
    },
    {
     "name": "stderr",
     "output_type": "stream",
     "text": [
      " 11%|█▏        | 410/3600 [4:10:44<29:19:44, 33.10s/it]"
     ]
    },
    {
     "name": "stdout",
     "output_type": "stream",
     "text": [
      "Errors total:  10\n"
     ]
    },
    {
     "name": "stderr",
     "output_type": "stream",
     "text": [
      " 12%|█▏        | 420/3600 [4:16:07<28:44:37, 32.54s/it]"
     ]
    },
    {
     "name": "stdout",
     "output_type": "stream",
     "text": [
      "Errors total:  10\n"
     ]
    },
    {
     "name": "stderr",
     "output_type": "stream",
     "text": [
      " 12%|█▏        | 430/3600 [4:21:34<28:20:45, 32.19s/it]"
     ]
    },
    {
     "name": "stdout",
     "output_type": "stream",
     "text": [
      "Errors total:  10\n"
     ]
    },
    {
     "name": "stderr",
     "output_type": "stream",
     "text": [
      " 12%|█▏        | 439/3600 [4:26:22<27:53:09, 31.76s/it]"
     ]
    },
    {
     "name": "stdout",
     "output_type": "stream",
     "text": [
      "Message: unknown error: Chrome failed to start: crashed.\n",
      "  (chrome not reachable)\n",
      "  (The process started from chrome location /Applications/Google Chrome.app/Contents/MacOS/Google Chrome is no longer running, so ChromeDriver is assuming that Chrome has crashed.)\n",
      "Stacktrace:\n",
      "0   chromedriver                        0x00000001027c1c08 chromedriver + 4402184\n",
      "1   chromedriver                        0x00000001027491f3 chromedriver + 3908083\n",
      "2   chromedriver                        0x00000001023f6e6a chromedriver + 425578\n",
      "3   chromedriver                        0x000000010241bfc6 chromedriver + 577478\n",
      "4   chromedriver                        0x00000001024173be chromedriver + 558014\n",
      "5   chromedriver                        0x00000001024548fa chromedriver + 809210\n",
      "6   chromedriver                        0x00000001024542bf chromedriver + 807615\n",
      "7   chromedriver                        0x000000010244cbd3 chromedriver + 777171\n",
      "8   chromedriver                        0x0000000102421ced chromedriver + 601325\n",
      "9   chromedriver                        0x0000000102422e51 chromedriver + 605777\n",
      "10  chromedriver                        0x000000010279173e chromedriver + 4204350\n",
      "11  chromedriver                        0x0000000102795e07 chromedriver + 4222471\n",
      "12  chromedriver                        0x000000010279d0bf chromedriver + 4251839\n",
      "13  chromedriver                        0x0000000102796b4a chromedriver + 4225866\n",
      "14  chromedriver                        0x000000010276f8af chromedriver + 4065455\n",
      "15  chromedriver                        0x00000001027b3d18 chromedriver + 4345112\n",
      "16  chromedriver                        0x00000001027b3e86 chromedriver + 4345478\n",
      "17  chromedriver                        0x00000001027c8f6e chromedriver + 4431726\n",
      "18  libsystem_pthread.dylib             0x00007ff801661514 _pthread_start + 125\n",
      "19  libsystem_pthread.dylib             0x00007ff80165d02f thread_start + 15\n",
      "\n"
     ]
    },
    {
     "name": "stderr",
     "output_type": "stream",
     "text": [
      " 12%|█▏        | 440/3600 [4:26:58<28:51:35, 32.88s/it]"
     ]
    },
    {
     "name": "stdout",
     "output_type": "stream",
     "text": [
      "Errors total:  10\n"
     ]
    },
    {
     "name": "stderr",
     "output_type": "stream",
     "text": [
      " 12%|█▎        | 450/3600 [4:32:17<27:44:32, 31.71s/it]"
     ]
    },
    {
     "name": "stdout",
     "output_type": "stream",
     "text": [
      "Errors total:  10\n"
     ]
    },
    {
     "name": "stderr",
     "output_type": "stream",
     "text": [
      " 13%|█▎        | 460/3600 [4:37:38<28:01:48, 32.14s/it]"
     ]
    },
    {
     "name": "stdout",
     "output_type": "stream",
     "text": [
      "Errors total:  10\n"
     ]
    },
    {
     "name": "stderr",
     "output_type": "stream",
     "text": [
      " 13%|█▎        | 470/3600 [4:42:56<27:54:38, 32.10s/it]"
     ]
    },
    {
     "name": "stdout",
     "output_type": "stream",
     "text": [
      "Errors total:  10\n"
     ]
    },
    {
     "name": "stderr",
     "output_type": "stream",
     "text": [
      " 13%|█▎        | 480/3600 [4:48:13<27:23:59, 31.62s/it]"
     ]
    },
    {
     "name": "stdout",
     "output_type": "stream",
     "text": [
      "Errors total:  10\n"
     ]
    },
    {
     "name": "stderr",
     "output_type": "stream",
     "text": [
      " 13%|█▎        | 482/3600 [4:49:15<27:08:28, 31.34s/it]"
     ]
    },
    {
     "name": "stdout",
     "output_type": "stream",
     "text": [
      "Message: no such element: Unable to locate element: {\"method\":\"xpath\",\"selector\":\"//div[@data-section-id=\"TITLE_DEFAULT\"]/section/div/span/h1\"}\n",
      "  (Session info: chrome=106.0.5249.119)\n",
      "Stacktrace:\n",
      "0   chromedriver                        0x0000000100cb6c08 chromedriver + 4402184\n",
      "1   chromedriver                        0x0000000100c3e1f3 chromedriver + 3908083\n",
      "2   chromedriver                        0x00000001008ebe6a chromedriver + 425578\n",
      "3   chromedriver                        0x0000000100923c91 chromedriver + 654481\n",
      "4   chromedriver                        0x0000000100923e91 chromedriver + 654993\n",
      "5   chromedriver                        0x000000010095b274 chromedriver + 881268\n",
      "6   chromedriver                        0x0000000100941dcd chromedriver + 777677\n",
      "7   chromedriver                        0x0000000100958f79 chromedriver + 872313\n",
      "8   chromedriver                        0x0000000100941bd3 chromedriver + 777171\n",
      "9   chromedriver                        0x0000000100916ced chromedriver + 601325\n",
      "10  chromedriver                        0x0000000100917e51 chromedriver + 605777\n",
      "11  chromedriver                        0x0000000100c8673e chromedriver + 4204350\n",
      "12  chromedriver                        0x0000000100c8ae07 chromedriver + 4222471\n",
      "13  chromedriver                        0x0000000100c920bf chromedriver + 4251839\n",
      "14  chromedriver                        0x0000000100c8bb4a chromedriver + 4225866\n",
      "15  chromedriver                        0x0000000100c648af chromedriver + 4065455\n",
      "16  chromedriver                        0x0000000100ca8d18 chromedriver + 4345112\n",
      "17  chromedriver                        0x0000000100ca8e86 chromedriver + 4345478\n",
      "18  chromedriver                        0x0000000100cbdf6e chromedriver + 4431726\n",
      "19  libsystem_pthread.dylib             0x00007ff801661514 _pthread_start + 125\n",
      "20  libsystem_pthread.dylib             0x00007ff80165d02f thread_start + 15\n",
      "\n",
      "Message: no such element: Unable to locate element: {\"method\":\"xpath\",\"selector\":\"//div[@data-section-id=\"TITLE_DEFAULT\"]/section/div/span/h1\"}\n",
      "  (Session info: chrome=106.0.5249.119)\n",
      "Stacktrace:\n",
      "0   chromedriver                        0x0000000104d3ac08 chromedriver + 4402184\n",
      "1   chromedriver                        0x0000000104cc21f3 chromedriver + 3908083\n",
      "2   chromedriver                        0x000000010496fe6a chromedriver + 425578\n",
      "3   chromedriver                        0x00000001049a7c91 chromedriver + 654481\n",
      "4   chromedriver                        0x00000001049a7e91 chromedriver + 654993\n",
      "5   chromedriver                        0x00000001049df274 chromedriver + 881268\n",
      "6   chromedriver                        0x00000001049c5dcd chromedriver + 777677\n",
      "7   chromedriver                        0x00000001049dcf79 chromedriver + 872313\n",
      "8   chromedriver                        0x00000001049c5bd3 chromedriver + 777171\n",
      "9   chromedriver                        0x000000010499aced chromedriver + 601325\n",
      "10  chromedriver                        0x000000010499be51 chromedriver + 605777\n",
      "11  chromedriver                        0x0000000104d0a73e chromedriver + 4204350\n",
      "12  chromedriver                        0x0000000104d0ee07 chromedriver + 4222471\n",
      "13  chromedriver                        0x0000000104d160bf chromedriver + 4251839\n",
      "14  chromedriver                        0x0000000104d0fb4a chromedriver + 4225866\n",
      "15  chromedriver                        0x0000000104ce88af chromedriver + 4065455\n",
      "16  chromedriver                        0x0000000104d2cd18 chromedriver + 4345112\n",
      "17  chromedriver                        0x0000000104d2ce86 chromedriver + 4345478\n",
      "18  chromedriver                        0x0000000104d41f6e chromedriver + 4431726\n",
      "19  libsystem_pthread.dylib             0x00007ff801661514 _pthread_start + 125\n",
      "20  libsystem_pthread.dylib             0x00007ff80165d02f thread_start + 15\n",
      "\n",
      "Message: no such element: Unable to locate element: {\"method\":\"xpath\",\"selector\":\"//div[@data-section-id=\"TITLE_DEFAULT\"]/section/div/span/h1\"}\n",
      "  (Session info: chrome=106.0.5249.119)\n",
      "Stacktrace:\n",
      "0   chromedriver                        0x00000001011fdc08 chromedriver + 4402184\n",
      "1   chromedriver                        0x00000001011851f3 chromedriver + 3908083\n",
      "2   chromedriver                        0x0000000100e32e6a chromedriver + 425578\n",
      "3   chromedriver                        0x0000000100e6ac91 chromedriver + 654481\n",
      "4   chromedriver                        0x0000000100e6ae91 chromedriver + 654993\n",
      "5   chromedriver                        0x0000000100ea2274 chromedriver + 881268\n",
      "6   chromedriver                        0x0000000100e88dcd chromedriver + 777677\n",
      "7   chromedriver                        0x0000000100e9ff79 chromedriver + 872313\n",
      "8   chromedriver                        0x0000000100e88bd3 chromedriver + 777171\n",
      "9   chromedriver                        0x0000000100e5dced chromedriver + 601325\n",
      "10  chromedriver                        0x0000000100e5ee51 chromedriver + 605777\n",
      "11  chromedriver                        0x00000001011cd73e chromedriver + 4204350\n",
      "12  chromedriver                        0x00000001011d1e07 chromedriver + 4222471\n",
      "13  chromedriver                        0x00000001011d90bf chromedriver + 4251839\n",
      "14  chromedriver                        0x00000001011d2b4a chromedriver + 4225866\n",
      "15  chromedriver                        0x00000001011ab8af chromedriver + 4065455\n",
      "16  chromedriver                        0x00000001011efd18 chromedriver + 4345112\n",
      "17  chromedriver                        0x00000001011efe86 chromedriver + 4345478\n",
      "18  chromedriver                        0x0000000101204f6e chromedriver + 4431726\n",
      "19  libsystem_pthread.dylib             0x00007ff801661514 _pthread_start + 125\n",
      "20  libsystem_pthread.dylib             0x00007ff80165d02f thread_start + 15\n",
      "\n",
      "Message: no such element: Unable to locate element: {\"method\":\"xpath\",\"selector\":\"//div[@data-section-id=\"TITLE_DEFAULT\"]/section/div/span/h1\"}\n",
      "  (Session info: chrome=106.0.5249.119)\n",
      "Stacktrace:\n",
      "0   chromedriver                        0x0000000102475c08 chromedriver + 4402184\n",
      "1   chromedriver                        0x00000001023fd1f3 chromedriver + 3908083\n",
      "2   chromedriver                        0x00000001020aae6a chromedriver + 425578\n",
      "3   chromedriver                        0x00000001020e2c91 chromedriver + 654481\n",
      "4   chromedriver                        0x00000001020e2e91 chromedriver + 654993\n",
      "5   chromedriver                        0x000000010211a274 chromedriver + 881268\n",
      "6   chromedriver                        0x0000000102100dcd chromedriver + 777677\n",
      "7   chromedriver                        0x0000000102117f79 chromedriver + 872313\n",
      "8   chromedriver                        0x0000000102100bd3 chromedriver + 777171\n",
      "9   chromedriver                        0x00000001020d5ced chromedriver + 601325\n",
      "10  chromedriver                        0x00000001020d6e51 chromedriver + 605777\n",
      "11  chromedriver                        0x000000010244573e chromedriver + 4204350\n",
      "12  chromedriver                        0x0000000102449e07 chromedriver + 4222471\n",
      "13  chromedriver                        0x00000001024510bf chromedriver + 4251839\n",
      "14  chromedriver                        0x000000010244ab4a chromedriver + 4225866\n",
      "15  chromedriver                        0x00000001024238af chromedriver + 4065455\n",
      "16  chromedriver                        0x0000000102467d18 chromedriver + 4345112\n",
      "17  chromedriver                        0x0000000102467e86 chromedriver + 4345478\n",
      "18  chromedriver                        0x000000010247cf6e chromedriver + 4431726\n",
      "19  libsystem_pthread.dylib             0x00007ff801661514 _pthread_start + 125\n",
      "20  libsystem_pthread.dylib             0x00007ff80165d02f thread_start + 15\n",
      "\n"
     ]
    },
    {
     "name": "stderr",
     "output_type": "stream",
     "text": [
      " 13%|█▎        | 483/3600 [4:51:48<58:50:08, 67.95s/it]"
     ]
    },
    {
     "name": "stdout",
     "output_type": "stream",
     "text": [
      "Message: no such element: Unable to locate element: {\"method\":\"xpath\",\"selector\":\"//div[@data-section-id=\"TITLE_DEFAULT\"]/section/div/span/h1\"}\n",
      "  (Session info: chrome=106.0.5249.119)\n",
      "Stacktrace:\n",
      "0   chromedriver                        0x0000000104a27c08 chromedriver + 4402184\n",
      "1   chromedriver                        0x00000001049af1f3 chromedriver + 3908083\n",
      "2   chromedriver                        0x000000010465ce6a chromedriver + 425578\n",
      "3   chromedriver                        0x0000000104694c91 chromedriver + 654481\n",
      "4   chromedriver                        0x0000000104694e91 chromedriver + 654993\n",
      "5   chromedriver                        0x00000001046cc274 chromedriver + 881268\n",
      "6   chromedriver                        0x00000001046b2dcd chromedriver + 777677\n",
      "7   chromedriver                        0x00000001046c9f79 chromedriver + 872313\n",
      "8   chromedriver                        0x00000001046b2bd3 chromedriver + 777171\n",
      "9   chromedriver                        0x0000000104687ced chromedriver + 601325\n",
      "10  chromedriver                        0x0000000104688e51 chromedriver + 605777\n",
      "11  chromedriver                        0x00000001049f773e chromedriver + 4204350\n",
      "12  chromedriver                        0x00000001049fbe07 chromedriver + 4222471\n",
      "13  chromedriver                        0x0000000104a030bf chromedriver + 4251839\n",
      "14  chromedriver                        0x00000001049fcb4a chromedriver + 4225866\n",
      "15  chromedriver                        0x00000001049d58af chromedriver + 4065455\n",
      "16  chromedriver                        0x0000000104a19d18 chromedriver + 4345112\n",
      "17  chromedriver                        0x0000000104a19e86 chromedriver + 4345478\n",
      "18  chromedriver                        0x0000000104a2ef6e chromedriver + 4431726\n",
      "19  libsystem_pthread.dylib             0x00007ff801661514 _pthread_start + 125\n",
      "20  libsystem_pthread.dylib             0x00007ff80165d02f thread_start + 15\n",
      "\n"
     ]
    },
    {
     "name": "stderr",
     "output_type": "stream",
     "text": [
      " 14%|█▎        | 490/3600 [4:55:31<29:51:21, 34.56s/it]"
     ]
    },
    {
     "name": "stdout",
     "output_type": "stream",
     "text": [
      "Errors total:  11\n"
     ]
    },
    {
     "name": "stderr",
     "output_type": "stream",
     "text": [
      " 14%|█▍        | 496/3600 [4:58:43<28:01:27, 32.50s/it]"
     ]
    },
    {
     "name": "stdout",
     "output_type": "stream",
     "text": [
      "Message: no such element: Unable to locate element: {\"method\":\"xpath\",\"selector\":\"//span[@class=\"_17p6nbba\"]\"}\n",
      "  (Session info: chrome=106.0.5249.119)\n",
      "Stacktrace:\n",
      "0   chromedriver                        0x00000001005fbc08 chromedriver + 4402184\n",
      "1   chromedriver                        0x00000001005831f3 chromedriver + 3908083\n",
      "2   chromedriver                        0x0000000100230e6a chromedriver + 425578\n",
      "3   chromedriver                        0x0000000100268c91 chromedriver + 654481\n",
      "4   chromedriver                        0x0000000100268e91 chromedriver + 654993\n",
      "5   chromedriver                        0x00000001002a0274 chromedriver + 881268\n",
      "6   chromedriver                        0x0000000100286dcd chromedriver + 777677\n",
      "7   chromedriver                        0x000000010029df79 chromedriver + 872313\n",
      "8   chromedriver                        0x0000000100286bd3 chromedriver + 777171\n",
      "9   chromedriver                        0x000000010025bced chromedriver + 601325\n",
      "10  chromedriver                        0x000000010025ce51 chromedriver + 605777\n",
      "11  chromedriver                        0x00000001005cb73e chromedriver + 4204350\n",
      "12  chromedriver                        0x00000001005cfe07 chromedriver + 4222471\n",
      "13  chromedriver                        0x00000001005d70bf chromedriver + 4251839\n",
      "14  chromedriver                        0x00000001005d0b4a chromedriver + 4225866\n",
      "15  chromedriver                        0x00000001005a98af chromedriver + 4065455\n",
      "16  chromedriver                        0x00000001005edd18 chromedriver + 4345112\n",
      "17  chromedriver                        0x00000001005ede86 chromedriver + 4345478\n",
      "18  chromedriver                        0x0000000100602f6e chromedriver + 4431726\n",
      "19  libsystem_pthread.dylib             0x00007ff801661514 _pthread_start + 125\n",
      "20  libsystem_pthread.dylib             0x00007ff80165d02f thread_start + 15\n",
      "\n",
      "Message: no such element: Unable to locate element: {\"method\":\"xpath\",\"selector\":\"//span[@class=\"_17p6nbba\"]\"}\n",
      "  (Session info: chrome=106.0.5249.119)\n",
      "Stacktrace:\n",
      "0   chromedriver                        0x0000000102b54c08 chromedriver + 4402184\n",
      "1   chromedriver                        0x0000000102adc1f3 chromedriver + 3908083\n",
      "2   chromedriver                        0x0000000102789e6a chromedriver + 425578\n",
      "3   chromedriver                        0x00000001027c1c91 chromedriver + 654481\n",
      "4   chromedriver                        0x00000001027c1e91 chromedriver + 654993\n",
      "5   chromedriver                        0x00000001027f9274 chromedriver + 881268\n",
      "6   chromedriver                        0x00000001027dfdcd chromedriver + 777677\n",
      "7   chromedriver                        0x00000001027f6f79 chromedriver + 872313\n",
      "8   chromedriver                        0x00000001027dfbd3 chromedriver + 777171\n",
      "9   chromedriver                        0x00000001027b4ced chromedriver + 601325\n",
      "10  chromedriver                        0x00000001027b5e51 chromedriver + 605777\n",
      "11  chromedriver                        0x0000000102b2473e chromedriver + 4204350\n",
      "12  chromedriver                        0x0000000102b28e07 chromedriver + 4222471\n",
      "13  chromedriver                        0x0000000102b300bf chromedriver + 4251839\n",
      "14  chromedriver                        0x0000000102b29b4a chromedriver + 4225866\n",
      "15  chromedriver                        0x0000000102b028af chromedriver + 4065455\n",
      "16  chromedriver                        0x0000000102b46d18 chromedriver + 4345112\n",
      "17  chromedriver                        0x0000000102b46e86 chromedriver + 4345478\n",
      "18  chromedriver                        0x0000000102b5bf6e chromedriver + 4431726\n",
      "19  libsystem_pthread.dylib             0x00007ff801661514 _pthread_start + 125\n",
      "20  libsystem_pthread.dylib             0x00007ff80165d02f thread_start + 15\n",
      "\n",
      "Message: no such element: Unable to locate element: {\"method\":\"xpath\",\"selector\":\"//span[@class=\"_17p6nbba\"]\"}\n",
      "  (Session info: chrome=106.0.5249.119)\n",
      "Stacktrace:\n",
      "0   chromedriver                        0x00000001027b5c08 chromedriver + 4402184\n",
      "1   chromedriver                        0x000000010273d1f3 chromedriver + 3908083\n",
      "2   chromedriver                        0x00000001023eae6a chromedriver + 425578\n",
      "3   chromedriver                        0x0000000102422c91 chromedriver + 654481\n",
      "4   chromedriver                        0x0000000102422e91 chromedriver + 654993\n",
      "5   chromedriver                        0x000000010245a274 chromedriver + 881268\n",
      "6   chromedriver                        0x0000000102440dcd chromedriver + 777677\n",
      "7   chromedriver                        0x0000000102457f79 chromedriver + 872313\n",
      "8   chromedriver                        0x0000000102440bd3 chromedriver + 777171\n",
      "9   chromedriver                        0x0000000102415ced chromedriver + 601325\n",
      "10  chromedriver                        0x0000000102416e51 chromedriver + 605777\n",
      "11  chromedriver                        0x000000010278573e chromedriver + 4204350\n",
      "12  chromedriver                        0x0000000102789e07 chromedriver + 4222471\n",
      "13  chromedriver                        0x00000001027910bf chromedriver + 4251839\n",
      "14  chromedriver                        0x000000010278ab4a chromedriver + 4225866\n",
      "15  chromedriver                        0x00000001027638af chromedriver + 4065455\n",
      "16  chromedriver                        0x00000001027a7d18 chromedriver + 4345112\n",
      "17  chromedriver                        0x00000001027a7e86 chromedriver + 4345478\n",
      "18  chromedriver                        0x00000001027bcf6e chromedriver + 4431726\n",
      "19  libsystem_pthread.dylib             0x00007ff801661514 _pthread_start + 125\n",
      "20  libsystem_pthread.dylib             0x00007ff80165d02f thread_start + 15\n",
      "\n",
      "Message: no such element: Unable to locate element: {\"method\":\"xpath\",\"selector\":\"//span[@class=\"_17p6nbba\"]\"}\n",
      "  (Session info: chrome=106.0.5249.119)\n",
      "Stacktrace:\n",
      "0   chromedriver                        0x0000000104b62c08 chromedriver + 4402184\n",
      "1   chromedriver                        0x0000000104aea1f3 chromedriver + 3908083\n",
      "2   chromedriver                        0x0000000104797e6a chromedriver + 425578\n",
      "3   chromedriver                        0x00000001047cfc91 chromedriver + 654481\n",
      "4   chromedriver                        0x00000001047cfe91 chromedriver + 654993\n",
      "5   chromedriver                        0x0000000104807274 chromedriver + 881268\n",
      "6   chromedriver                        0x00000001047eddcd chromedriver + 777677\n",
      "7   chromedriver                        0x0000000104804f79 chromedriver + 872313\n",
      "8   chromedriver                        0x00000001047edbd3 chromedriver + 777171\n",
      "9   chromedriver                        0x00000001047c2ced chromedriver + 601325\n",
      "10  chromedriver                        0x00000001047c3e51 chromedriver + 605777\n",
      "11  chromedriver                        0x0000000104b3273e chromedriver + 4204350\n",
      "12  chromedriver                        0x0000000104b36e07 chromedriver + 4222471\n",
      "13  chromedriver                        0x0000000104b3e0bf chromedriver + 4251839\n",
      "14  chromedriver                        0x0000000104b37b4a chromedriver + 4225866\n",
      "15  chromedriver                        0x0000000104b108af chromedriver + 4065455\n",
      "16  chromedriver                        0x0000000104b54d18 chromedriver + 4345112\n",
      "17  chromedriver                        0x0000000104b54e86 chromedriver + 4345478\n",
      "18  chromedriver                        0x0000000104b69f6e chromedriver + 4431726\n",
      "19  libsystem_pthread.dylib             0x00007ff801661514 _pthread_start + 125\n",
      "20  libsystem_pthread.dylib             0x00007ff80165d02f thread_start + 15\n",
      "\n"
     ]
    },
    {
     "name": "stderr",
     "output_type": "stream",
     "text": [
      " 14%|█▍        | 497/3600 [5:01:24<61:23:15, 71.22s/it]"
     ]
    },
    {
     "name": "stdout",
     "output_type": "stream",
     "text": [
      "Message: no such element: Unable to locate element: {\"method\":\"xpath\",\"selector\":\"//span[@class=\"_17p6nbba\"]\"}\n",
      "  (Session info: chrome=106.0.5249.119)\n",
      "Stacktrace:\n",
      "0   chromedriver                        0x0000000100f59c08 chromedriver + 4402184\n",
      "1   chromedriver                        0x0000000100ee11f3 chromedriver + 3908083\n",
      "2   chromedriver                        0x0000000100b8ee6a chromedriver + 425578\n",
      "3   chromedriver                        0x0000000100bc6c91 chromedriver + 654481\n",
      "4   chromedriver                        0x0000000100bc6e91 chromedriver + 654993\n",
      "5   chromedriver                        0x0000000100bfe274 chromedriver + 881268\n",
      "6   chromedriver                        0x0000000100be4dcd chromedriver + 777677\n",
      "7   chromedriver                        0x0000000100bfbf79 chromedriver + 872313\n",
      "8   chromedriver                        0x0000000100be4bd3 chromedriver + 777171\n",
      "9   chromedriver                        0x0000000100bb9ced chromedriver + 601325\n",
      "10  chromedriver                        0x0000000100bbae51 chromedriver + 605777\n",
      "11  chromedriver                        0x0000000100f2973e chromedriver + 4204350\n",
      "12  chromedriver                        0x0000000100f2de07 chromedriver + 4222471\n",
      "13  chromedriver                        0x0000000100f350bf chromedriver + 4251839\n",
      "14  chromedriver                        0x0000000100f2eb4a chromedriver + 4225866\n",
      "15  chromedriver                        0x0000000100f078af chromedriver + 4065455\n",
      "16  chromedriver                        0x0000000100f4bd18 chromedriver + 4345112\n",
      "17  chromedriver                        0x0000000100f4be86 chromedriver + 4345478\n",
      "18  chromedriver                        0x0000000100f60f6e chromedriver + 4431726\n",
      "19  libsystem_pthread.dylib             0x00007ff801661514 _pthread_start + 125\n",
      "20  libsystem_pthread.dylib             0x00007ff80165d02f thread_start + 15\n",
      "\n"
     ]
    },
    {
     "name": "stderr",
     "output_type": "stream",
     "text": [
      " 14%|█▍        | 499/3600 [5:02:31<44:34:11, 51.74s/it]"
     ]
    },
    {
     "name": "stdout",
     "output_type": "stream",
     "text": [
      "Message: no such element: Unable to locate element: {\"method\":\"xpath\",\"selector\":\"//div[@data-section-id=\"TITLE_DEFAULT\"]/section/div/span/h1\"}\n",
      "  (Session info: chrome=106.0.5249.119)\n",
      "Stacktrace:\n",
      "0   chromedriver                        0x0000000104f55c08 chromedriver + 4402184\n",
      "1   chromedriver                        0x0000000104edd1f3 chromedriver + 3908083\n",
      "2   chromedriver                        0x0000000104b8ae6a chromedriver + 425578\n",
      "3   chromedriver                        0x0000000104bc2c91 chromedriver + 654481\n",
      "4   chromedriver                        0x0000000104bc2e91 chromedriver + 654993\n",
      "5   chromedriver                        0x0000000104bfa274 chromedriver + 881268\n",
      "6   chromedriver                        0x0000000104be0dcd chromedriver + 777677\n",
      "7   chromedriver                        0x0000000104bf7f79 chromedriver + 872313\n",
      "8   chromedriver                        0x0000000104be0bd3 chromedriver + 777171\n",
      "9   chromedriver                        0x0000000104bb5ced chromedriver + 601325\n",
      "10  chromedriver                        0x0000000104bb6e51 chromedriver + 605777\n",
      "11  chromedriver                        0x0000000104f2573e chromedriver + 4204350\n",
      "12  chromedriver                        0x0000000104f29e07 chromedriver + 4222471\n",
      "13  chromedriver                        0x0000000104f310bf chromedriver + 4251839\n",
      "14  chromedriver                        0x0000000104f2ab4a chromedriver + 4225866\n",
      "15  chromedriver                        0x0000000104f038af chromedriver + 4065455\n",
      "16  chromedriver                        0x0000000104f47d18 chromedriver + 4345112\n",
      "17  chromedriver                        0x0000000104f47e86 chromedriver + 4345478\n",
      "18  chromedriver                        0x0000000104f5cf6e chromedriver + 4431726\n",
      "19  libsystem_pthread.dylib             0x00007ff801661514 _pthread_start + 125\n",
      "20  libsystem_pthread.dylib             0x00007ff80165d02f thread_start + 15\n",
      "\n",
      "Message: no such element: Unable to locate element: {\"method\":\"xpath\",\"selector\":\"//div[@data-section-id=\"TITLE_DEFAULT\"]/section/div/span/h1\"}\n",
      "  (Session info: chrome=106.0.5249.119)\n",
      "Stacktrace:\n",
      "0   chromedriver                        0x000000010272dc08 chromedriver + 4402184\n",
      "1   chromedriver                        0x00000001026b51f3 chromedriver + 3908083\n",
      "2   chromedriver                        0x0000000102362e6a chromedriver + 425578\n",
      "3   chromedriver                        0x000000010239ac91 chromedriver + 654481\n",
      "4   chromedriver                        0x000000010239ae91 chromedriver + 654993\n",
      "5   chromedriver                        0x00000001023d2274 chromedriver + 881268\n",
      "6   chromedriver                        0x00000001023b8dcd chromedriver + 777677\n",
      "7   chromedriver                        0x00000001023cff79 chromedriver + 872313\n",
      "8   chromedriver                        0x00000001023b8bd3 chromedriver + 777171\n",
      "9   chromedriver                        0x000000010238dced chromedriver + 601325\n",
      "10  chromedriver                        0x000000010238ee51 chromedriver + 605777\n",
      "11  chromedriver                        0x00000001026fd73e chromedriver + 4204350\n",
      "12  chromedriver                        0x0000000102701e07 chromedriver + 4222471\n",
      "13  chromedriver                        0x00000001027090bf chromedriver + 4251839\n",
      "14  chromedriver                        0x0000000102702b4a chromedriver + 4225866\n",
      "15  chromedriver                        0x00000001026db8af chromedriver + 4065455\n",
      "16  chromedriver                        0x000000010271fd18 chromedriver + 4345112\n",
      "17  chromedriver                        0x000000010271fe86 chromedriver + 4345478\n",
      "18  chromedriver                        0x0000000102734f6e chromedriver + 4431726\n",
      "19  libsystem_pthread.dylib             0x00007ff801661514 _pthread_start + 125\n",
      "20  libsystem_pthread.dylib             0x00007ff80165d02f thread_start + 15\n",
      "\n",
      "Message: no such element: Unable to locate element: {\"method\":\"xpath\",\"selector\":\"//div[@data-section-id=\"TITLE_DEFAULT\"]/section/div/span/h1\"}\n",
      "  (Session info: chrome=106.0.5249.119)\n",
      "Stacktrace:\n",
      "0   chromedriver                        0x0000000104657c08 chromedriver + 4402184\n",
      "1   chromedriver                        0x00000001045df1f3 chromedriver + 3908083\n",
      "2   chromedriver                        0x000000010428ce6a chromedriver + 425578\n",
      "3   chromedriver                        0x00000001042c4c91 chromedriver + 654481\n",
      "4   chromedriver                        0x00000001042c4e91 chromedriver + 654993\n",
      "5   chromedriver                        0x00000001042fc274 chromedriver + 881268\n",
      "6   chromedriver                        0x00000001042e2dcd chromedriver + 777677\n",
      "7   chromedriver                        0x00000001042f9f79 chromedriver + 872313\n",
      "8   chromedriver                        0x00000001042e2bd3 chromedriver + 777171\n",
      "9   chromedriver                        0x00000001042b7ced chromedriver + 601325\n",
      "10  chromedriver                        0x00000001042b8e51 chromedriver + 605777\n",
      "11  chromedriver                        0x000000010462773e chromedriver + 4204350\n",
      "12  chromedriver                        0x000000010462be07 chromedriver + 4222471\n",
      "13  chromedriver                        0x00000001046330bf chromedriver + 4251839\n",
      "14  chromedriver                        0x000000010462cb4a chromedriver + 4225866\n",
      "15  chromedriver                        0x00000001046058af chromedriver + 4065455\n",
      "16  chromedriver                        0x0000000104649d18 chromedriver + 4345112\n",
      "17  chromedriver                        0x0000000104649e86 chromedriver + 4345478\n",
      "18  chromedriver                        0x000000010465ef6e chromedriver + 4431726\n",
      "19  libsystem_pthread.dylib             0x00007ff801661514 _pthread_start + 125\n",
      "20  libsystem_pthread.dylib             0x00007ff80165d02f thread_start + 15\n",
      "\n",
      "Message: no such element: Unable to locate element: {\"method\":\"xpath\",\"selector\":\"//div[@data-section-id=\"TITLE_DEFAULT\"]/section/div/span/h1\"}\n",
      "  (Session info: chrome=106.0.5249.119)\n",
      "Stacktrace:\n",
      "0   chromedriver                        0x0000000100896c08 chromedriver + 4402184\n",
      "1   chromedriver                        0x000000010081e1f3 chromedriver + 3908083\n",
      "2   chromedriver                        0x00000001004cbe6a chromedriver + 425578\n",
      "3   chromedriver                        0x0000000100503c91 chromedriver + 654481\n",
      "4   chromedriver                        0x0000000100503e91 chromedriver + 654993\n",
      "5   chromedriver                        0x000000010053b274 chromedriver + 881268\n",
      "6   chromedriver                        0x0000000100521dcd chromedriver + 777677\n",
      "7   chromedriver                        0x0000000100538f79 chromedriver + 872313\n",
      "8   chromedriver                        0x0000000100521bd3 chromedriver + 777171\n",
      "9   chromedriver                        0x00000001004f6ced chromedriver + 601325\n",
      "10  chromedriver                        0x00000001004f7e51 chromedriver + 605777\n",
      "11  chromedriver                        0x000000010086673e chromedriver + 4204350\n",
      "12  chromedriver                        0x000000010086ae07 chromedriver + 4222471\n",
      "13  chromedriver                        0x00000001008720bf chromedriver + 4251839\n",
      "14  chromedriver                        0x000000010086bb4a chromedriver + 4225866\n",
      "15  chromedriver                        0x00000001008448af chromedriver + 4065455\n",
      "16  chromedriver                        0x0000000100888d18 chromedriver + 4345112\n",
      "17  chromedriver                        0x0000000100888e86 chromedriver + 4345478\n",
      "18  chromedriver                        0x000000010089df6e chromedriver + 4431726\n",
      "19  libsystem_pthread.dylib             0x00007ff801661514 _pthread_start + 125\n",
      "20  libsystem_pthread.dylib             0x00007ff80165d02f thread_start + 15\n",
      "\n"
     ]
    },
    {
     "name": "stderr",
     "output_type": "stream",
     "text": [
      " 14%|█▍        | 500/3600 [5:05:07<71:27:44, 82.99s/it]"
     ]
    },
    {
     "name": "stdout",
     "output_type": "stream",
     "text": [
      "Message: no such element: Unable to locate element: {\"method\":\"xpath\",\"selector\":\"//div[@data-section-id=\"TITLE_DEFAULT\"]/section/div/span/h1\"}\n",
      "  (Session info: chrome=106.0.5249.119)\n",
      "Stacktrace:\n",
      "0   chromedriver                        0x0000000103146c08 chromedriver + 4402184\n",
      "1   chromedriver                        0x00000001030ce1f3 chromedriver + 3908083\n",
      "2   chromedriver                        0x0000000102d7be6a chromedriver + 425578\n",
      "3   chromedriver                        0x0000000102db3c91 chromedriver + 654481\n",
      "4   chromedriver                        0x0000000102db3e91 chromedriver + 654993\n",
      "5   chromedriver                        0x0000000102deb274 chromedriver + 881268\n",
      "6   chromedriver                        0x0000000102dd1dcd chromedriver + 777677\n",
      "7   chromedriver                        0x0000000102de8f79 chromedriver + 872313\n",
      "8   chromedriver                        0x0000000102dd1bd3 chromedriver + 777171\n",
      "9   chromedriver                        0x0000000102da6ced chromedriver + 601325\n",
      "10  chromedriver                        0x0000000102da7e51 chromedriver + 605777\n",
      "11  chromedriver                        0x000000010311673e chromedriver + 4204350\n",
      "12  chromedriver                        0x000000010311ae07 chromedriver + 4222471\n",
      "13  chromedriver                        0x00000001031220bf chromedriver + 4251839\n",
      "14  chromedriver                        0x000000010311bb4a chromedriver + 4225866\n",
      "15  chromedriver                        0x00000001030f48af chromedriver + 4065455\n",
      "16  chromedriver                        0x0000000103138d18 chromedriver + 4345112\n",
      "17  chromedriver                        0x0000000103138e86 chromedriver + 4345478\n",
      "18  chromedriver                        0x000000010314df6e chromedriver + 4431726\n",
      "19  libsystem_pthread.dylib             0x00007ff801661514 _pthread_start + 125\n",
      "20  libsystem_pthread.dylib             0x00007ff80165d02f thread_start + 15\n",
      "\n",
      "Errors total:  13\n"
     ]
    },
    {
     "name": "stderr",
     "output_type": "stream",
     "text": [
      " 14%|█▍        | 510/3600 [5:10:29<28:36:28, 33.33s/it]"
     ]
    },
    {
     "name": "stdout",
     "output_type": "stream",
     "text": [
      "Errors total:  13\n"
     ]
    },
    {
     "name": "stderr",
     "output_type": "stream",
     "text": [
      " 14%|█▍        | 513/3600 [5:12:05<27:52:15, 32.50s/it]"
     ]
    },
    {
     "name": "stdout",
     "output_type": "stream",
     "text": [
      "Message: unknown error: Chrome failed to start: crashed.\n",
      "  (chrome not reachable)\n",
      "  (The process started from chrome location /Applications/Google Chrome.app/Contents/MacOS/Google Chrome is no longer running, so ChromeDriver is assuming that Chrome has crashed.)\n",
      "Stacktrace:\n",
      "0   chromedriver                        0x0000000104fe5c08 chromedriver + 4402184\n",
      "1   chromedriver                        0x0000000104f6d1f3 chromedriver + 3908083\n",
      "2   chromedriver                        0x0000000104c1ae6a chromedriver + 425578\n",
      "3   chromedriver                        0x0000000104c3ffc6 chromedriver + 577478\n",
      "4   chromedriver                        0x0000000104c3b3be chromedriver + 558014\n",
      "5   chromedriver                        0x0000000104c788fa chromedriver + 809210\n",
      "6   chromedriver                        0x0000000104c782bf chromedriver + 807615\n",
      "7   chromedriver                        0x0000000104c70bd3 chromedriver + 777171\n",
      "8   chromedriver                        0x0000000104c45ced chromedriver + 601325\n",
      "9   chromedriver                        0x0000000104c46e51 chromedriver + 605777\n",
      "10  chromedriver                        0x0000000104fb573e chromedriver + 4204350\n",
      "11  chromedriver                        0x0000000104fb9e07 chromedriver + 4222471\n",
      "12  chromedriver                        0x0000000104fc10bf chromedriver + 4251839\n",
      "13  chromedriver                        0x0000000104fbab4a chromedriver + 4225866\n",
      "14  chromedriver                        0x0000000104f938af chromedriver + 4065455\n",
      "15  chromedriver                        0x0000000104fd7d18 chromedriver + 4345112\n",
      "16  chromedriver                        0x0000000104fd7e86 chromedriver + 4345478\n",
      "17  chromedriver                        0x0000000104fecf6e chromedriver + 4431726\n",
      "18  libsystem_pthread.dylib             0x00007ff801661514 _pthread_start + 125\n",
      "19  libsystem_pthread.dylib             0x00007ff80165d02f thread_start + 15\n",
      "\n"
     ]
    },
    {
     "name": "stderr",
     "output_type": "stream",
     "text": [
      " 14%|█▍        | 520/3600 [5:15:58<28:50:24, 33.71s/it]"
     ]
    },
    {
     "name": "stdout",
     "output_type": "stream",
     "text": [
      "Errors total:  13\n"
     ]
    },
    {
     "name": "stderr",
     "output_type": "stream",
     "text": [
      " 15%|█▍        | 523/3600 [5:17:36<28:05:31, 32.87s/it]"
     ]
    },
    {
     "name": "stdout",
     "output_type": "stream",
     "text": [
      "Message: unknown error: Chrome failed to start: crashed.\n",
      "  (chrome not reachable)\n",
      "  (The process started from chrome location /Applications/Google Chrome.app/Contents/MacOS/Google Chrome is no longer running, so ChromeDriver is assuming that Chrome has crashed.)\n",
      "Stacktrace:\n",
      "0   chromedriver                        0x000000010141dc08 chromedriver + 4402184\n",
      "1   chromedriver                        0x00000001013a51f3 chromedriver + 3908083\n",
      "2   chromedriver                        0x0000000101052e6a chromedriver + 425578\n",
      "3   chromedriver                        0x0000000101077fc6 chromedriver + 577478\n",
      "4   chromedriver                        0x00000001010733be chromedriver + 558014\n",
      "5   chromedriver                        0x00000001010b08fa chromedriver + 809210\n",
      "6   chromedriver                        0x00000001010b02bf chromedriver + 807615\n",
      "7   chromedriver                        0x00000001010a8bd3 chromedriver + 777171\n",
      "8   chromedriver                        0x000000010107dced chromedriver + 601325\n",
      "9   chromedriver                        0x000000010107ee51 chromedriver + 605777\n",
      "10  chromedriver                        0x00000001013ed73e chromedriver + 4204350\n",
      "11  chromedriver                        0x00000001013f1e07 chromedriver + 4222471\n",
      "12  chromedriver                        0x00000001013f90bf chromedriver + 4251839\n",
      "13  chromedriver                        0x00000001013f2b4a chromedriver + 4225866\n",
      "14  chromedriver                        0x00000001013cb8af chromedriver + 4065455\n",
      "15  chromedriver                        0x000000010140fd18 chromedriver + 4345112\n",
      "16  chromedriver                        0x000000010140fe86 chromedriver + 4345478\n",
      "17  chromedriver                        0x0000000101424f6e chromedriver + 4431726\n",
      "18  libsystem_pthread.dylib             0x00007ff801661514 _pthread_start + 125\n",
      "19  libsystem_pthread.dylib             0x00007ff80165d02f thread_start + 15\n",
      "\n",
      "Message: no such element: Unable to locate element: {\"method\":\"xpath\",\"selector\":\"//span[@class=\"_17p6nbba\"]\"}\n",
      "  (Session info: chrome=106.0.5249.119)\n",
      "Stacktrace:\n",
      "0   chromedriver                        0x00000001007eec08 chromedriver + 4402184\n",
      "1   chromedriver                        0x00000001007761f3 chromedriver + 3908083\n",
      "2   chromedriver                        0x0000000100423e6a chromedriver + 425578\n",
      "3   chromedriver                        0x000000010045bc91 chromedriver + 654481\n",
      "4   chromedriver                        0x000000010045be91 chromedriver + 654993\n",
      "5   chromedriver                        0x0000000100493274 chromedriver + 881268\n",
      "6   chromedriver                        0x0000000100479dcd chromedriver + 777677\n",
      "7   chromedriver                        0x0000000100490f79 chromedriver + 872313\n",
      "8   chromedriver                        0x0000000100479bd3 chromedriver + 777171\n",
      "9   chromedriver                        0x000000010044eced chromedriver + 601325\n",
      "10  chromedriver                        0x000000010044fe51 chromedriver + 605777\n",
      "11  chromedriver                        0x00000001007be73e chromedriver + 4204350\n",
      "12  chromedriver                        0x00000001007c2e07 chromedriver + 4222471\n",
      "13  chromedriver                        0x00000001007ca0bf chromedriver + 4251839\n",
      "14  chromedriver                        0x00000001007c3b4a chromedriver + 4225866\n",
      "15  chromedriver                        0x000000010079c8af chromedriver + 4065455\n",
      "16  chromedriver                        0x00000001007e0d18 chromedriver + 4345112\n",
      "17  chromedriver                        0x00000001007e0e86 chromedriver + 4345478\n",
      "18  chromedriver                        0x00000001007f5f6e chromedriver + 4431726\n",
      "19  libsystem_pthread.dylib             0x00007ff801661514 _pthread_start + 125\n",
      "20  libsystem_pthread.dylib             0x00007ff80165d02f thread_start + 15\n",
      "\n",
      "Message: no such element: Unable to locate element: {\"method\":\"xpath\",\"selector\":\"//span[@class=\"_17p6nbba\"]\"}\n",
      "  (Session info: chrome=106.0.5249.119)\n",
      "Stacktrace:\n",
      "0   chromedriver                        0x00000001053c7c08 chromedriver + 4402184\n",
      "1   chromedriver                        0x000000010534f1f3 chromedriver + 3908083\n",
      "2   chromedriver                        0x0000000104ffce6a chromedriver + 425578\n",
      "3   chromedriver                        0x0000000105034c91 chromedriver + 654481\n",
      "4   chromedriver                        0x0000000105034e91 chromedriver + 654993\n",
      "5   chromedriver                        0x000000010506c274 chromedriver + 881268\n",
      "6   chromedriver                        0x0000000105052dcd chromedriver + 777677\n",
      "7   chromedriver                        0x0000000105069f79 chromedriver + 872313\n",
      "8   chromedriver                        0x0000000105052bd3 chromedriver + 777171\n",
      "9   chromedriver                        0x0000000105027ced chromedriver + 601325\n",
      "10  chromedriver                        0x0000000105028e51 chromedriver + 605777\n",
      "11  chromedriver                        0x000000010539773e chromedriver + 4204350\n",
      "12  chromedriver                        0x000000010539be07 chromedriver + 4222471\n",
      "13  chromedriver                        0x00000001053a30bf chromedriver + 4251839\n",
      "14  chromedriver                        0x000000010539cb4a chromedriver + 4225866\n",
      "15  chromedriver                        0x00000001053758af chromedriver + 4065455\n",
      "16  chromedriver                        0x00000001053b9d18 chromedriver + 4345112\n",
      "17  chromedriver                        0x00000001053b9e86 chromedriver + 4345478\n",
      "18  chromedriver                        0x00000001053cef6e chromedriver + 4431726\n",
      "19  libsystem_pthread.dylib             0x00007ff801661514 _pthread_start + 125\n",
      "20  libsystem_pthread.dylib             0x00007ff80165d02f thread_start + 15\n",
      "\n",
      "Message: no such element: Unable to locate element: {\"method\":\"xpath\",\"selector\":\"//span[@class=\"_17p6nbba\"]\"}\n",
      "  (Session info: chrome=106.0.5249.119)\n",
      "Stacktrace:\n",
      "0   chromedriver                        0x0000000104e65c08 chromedriver + 4402184\n",
      "1   chromedriver                        0x0000000104ded1f3 chromedriver + 3908083\n",
      "2   chromedriver                        0x0000000104a9ae6a chromedriver + 425578\n",
      "3   chromedriver                        0x0000000104ad2c91 chromedriver + 654481\n",
      "4   chromedriver                        0x0000000104ad2e91 chromedriver + 654993\n",
      "5   chromedriver                        0x0000000104b0a274 chromedriver + 881268\n",
      "6   chromedriver                        0x0000000104af0dcd chromedriver + 777677\n",
      "7   chromedriver                        0x0000000104b07f79 chromedriver + 872313\n",
      "8   chromedriver                        0x0000000104af0bd3 chromedriver + 777171\n",
      "9   chromedriver                        0x0000000104ac5ced chromedriver + 601325\n",
      "10  chromedriver                        0x0000000104ac6e51 chromedriver + 605777\n",
      "11  chromedriver                        0x0000000104e3573e chromedriver + 4204350\n",
      "12  chromedriver                        0x0000000104e39e07 chromedriver + 4222471\n",
      "13  chromedriver                        0x0000000104e410bf chromedriver + 4251839\n",
      "14  chromedriver                        0x0000000104e3ab4a chromedriver + 4225866\n",
      "15  chromedriver                        0x0000000104e138af chromedriver + 4065455\n",
      "16  chromedriver                        0x0000000104e57d18 chromedriver + 4345112\n",
      "17  chromedriver                        0x0000000104e57e86 chromedriver + 4345478\n",
      "18  chromedriver                        0x0000000104e6cf6e chromedriver + 4431726\n",
      "19  libsystem_pthread.dylib             0x00007ff801661514 _pthread_start + 125\n",
      "20  libsystem_pthread.dylib             0x00007ff80165d02f thread_start + 15\n",
      "\n"
     ]
    },
    {
     "name": "stderr",
     "output_type": "stream",
     "text": [
      " 15%|█▍        | 524/3600 [5:19:44<52:39:25, 61.63s/it]"
     ]
    },
    {
     "name": "stdout",
     "output_type": "stream",
     "text": [
      "Message: no such element: Unable to locate element: {\"method\":\"xpath\",\"selector\":\"//span[@class=\"_17p6nbba\"]\"}\n",
      "  (Session info: chrome=106.0.5249.119)\n",
      "Stacktrace:\n",
      "0   chromedriver                        0x0000000101092c08 chromedriver + 4402184\n",
      "1   chromedriver                        0x000000010101a1f3 chromedriver + 3908083\n",
      "2   chromedriver                        0x0000000100cc7e6a chromedriver + 425578\n",
      "3   chromedriver                        0x0000000100cffc91 chromedriver + 654481\n",
      "4   chromedriver                        0x0000000100cffe91 chromedriver + 654993\n",
      "5   chromedriver                        0x0000000100d37274 chromedriver + 881268\n",
      "6   chromedriver                        0x0000000100d1ddcd chromedriver + 777677\n",
      "7   chromedriver                        0x0000000100d34f79 chromedriver + 872313\n",
      "8   chromedriver                        0x0000000100d1dbd3 chromedriver + 777171\n",
      "9   chromedriver                        0x0000000100cf2ced chromedriver + 601325\n",
      "10  chromedriver                        0x0000000100cf3e51 chromedriver + 605777\n",
      "11  chromedriver                        0x000000010106273e chromedriver + 4204350\n",
      "12  chromedriver                        0x0000000101066e07 chromedriver + 4222471\n",
      "13  chromedriver                        0x000000010106e0bf chromedriver + 4251839\n",
      "14  chromedriver                        0x0000000101067b4a chromedriver + 4225866\n",
      "15  chromedriver                        0x00000001010408af chromedriver + 4065455\n",
      "16  chromedriver                        0x0000000101084d18 chromedriver + 4345112\n",
      "17  chromedriver                        0x0000000101084e86 chromedriver + 4345478\n",
      "18  chromedriver                        0x0000000101099f6e chromedriver + 4431726\n",
      "19  libsystem_pthread.dylib             0x00007ff801661514 _pthread_start + 125\n",
      "20  libsystem_pthread.dylib             0x00007ff80165d02f thread_start + 15\n",
      "\n"
     ]
    },
    {
     "name": "stderr",
     "output_type": "stream",
     "text": [
      " 15%|█▍        | 530/3600 [5:22:58<30:34:10, 35.85s/it]"
     ]
    },
    {
     "name": "stdout",
     "output_type": "stream",
     "text": [
      "Errors total:  14\n"
     ]
    },
    {
     "name": "stderr",
     "output_type": "stream",
     "text": [
      " 15%|█▍        | 537/3600 [5:26:41<27:33:12, 32.38s/it]"
     ]
    },
    {
     "name": "stdout",
     "output_type": "stream",
     "text": [
      "Message: no such element: Unable to locate element: {\"method\":\"xpath\",\"selector\":\"//span[@class=\"_17p6nbba\"]\"}\n",
      "  (Session info: chrome=106.0.5249.119)\n",
      "Stacktrace:\n",
      "0   chromedriver                        0x0000000102a7ac08 chromedriver + 4402184\n",
      "1   chromedriver                        0x0000000102a021f3 chromedriver + 3908083\n",
      "2   chromedriver                        0x00000001026afe6a chromedriver + 425578\n",
      "3   chromedriver                        0x00000001026e7c91 chromedriver + 654481\n",
      "4   chromedriver                        0x00000001026e7e91 chromedriver + 654993\n",
      "5   chromedriver                        0x000000010271f274 chromedriver + 881268\n",
      "6   chromedriver                        0x0000000102705dcd chromedriver + 777677\n",
      "7   chromedriver                        0x000000010271cf79 chromedriver + 872313\n",
      "8   chromedriver                        0x0000000102705bd3 chromedriver + 777171\n",
      "9   chromedriver                        0x00000001026daced chromedriver + 601325\n",
      "10  chromedriver                        0x00000001026dbe51 chromedriver + 605777\n",
      "11  chromedriver                        0x0000000102a4a73e chromedriver + 4204350\n",
      "12  chromedriver                        0x0000000102a4ee07 chromedriver + 4222471\n",
      "13  chromedriver                        0x0000000102a560bf chromedriver + 4251839\n",
      "14  chromedriver                        0x0000000102a4fb4a chromedriver + 4225866\n",
      "15  chromedriver                        0x0000000102a288af chromedriver + 4065455\n",
      "16  chromedriver                        0x0000000102a6cd18 chromedriver + 4345112\n",
      "17  chromedriver                        0x0000000102a6ce86 chromedriver + 4345478\n",
      "18  chromedriver                        0x0000000102a81f6e chromedriver + 4431726\n",
      "19  libsystem_pthread.dylib             0x00007ff801661514 _pthread_start + 125\n",
      "20  libsystem_pthread.dylib             0x00007ff80165d02f thread_start + 15\n",
      "\n",
      "Message: no such element: Unable to locate element: {\"method\":\"xpath\",\"selector\":\"//span[@class=\"_17p6nbba\"]\"}\n",
      "  (Session info: chrome=106.0.5249.119)\n",
      "Stacktrace:\n",
      "0   chromedriver                        0x00000001013d1c08 chromedriver + 4402184\n",
      "1   chromedriver                        0x00000001013591f3 chromedriver + 3908083\n",
      "2   chromedriver                        0x0000000101006e6a chromedriver + 425578\n",
      "3   chromedriver                        0x000000010103ec91 chromedriver + 654481\n",
      "4   chromedriver                        0x000000010103ee91 chromedriver + 654993\n",
      "5   chromedriver                        0x0000000101076274 chromedriver + 881268\n",
      "6   chromedriver                        0x000000010105cdcd chromedriver + 777677\n",
      "7   chromedriver                        0x0000000101073f79 chromedriver + 872313\n",
      "8   chromedriver                        0x000000010105cbd3 chromedriver + 777171\n",
      "9   chromedriver                        0x0000000101031ced chromedriver + 601325\n",
      "10  chromedriver                        0x0000000101032e51 chromedriver + 605777\n",
      "11  chromedriver                        0x00000001013a173e chromedriver + 4204350\n",
      "12  chromedriver                        0x00000001013a5e07 chromedriver + 4222471\n",
      "13  chromedriver                        0x00000001013ad0bf chromedriver + 4251839\n",
      "14  chromedriver                        0x00000001013a6b4a chromedriver + 4225866\n",
      "15  chromedriver                        0x000000010137f8af chromedriver + 4065455\n",
      "16  chromedriver                        0x00000001013c3d18 chromedriver + 4345112\n",
      "17  chromedriver                        0x00000001013c3e86 chromedriver + 4345478\n",
      "18  chromedriver                        0x00000001013d8f6e chromedriver + 4431726\n",
      "19  libsystem_pthread.dylib             0x00007ff801661514 _pthread_start + 125\n",
      "20  libsystem_pthread.dylib             0x00007ff80165d02f thread_start + 15\n",
      "\n",
      "Message: no such element: Unable to locate element: {\"method\":\"xpath\",\"selector\":\"//span[@class=\"_17p6nbba\"]\"}\n",
      "  (Session info: chrome=106.0.5249.119)\n",
      "Stacktrace:\n",
      "0   chromedriver                        0x0000000104d0fc08 chromedriver + 4402184\n",
      "1   chromedriver                        0x0000000104c971f3 chromedriver + 3908083\n",
      "2   chromedriver                        0x0000000104944e6a chromedriver + 425578\n",
      "3   chromedriver                        0x000000010497cc91 chromedriver + 654481\n",
      "4   chromedriver                        0x000000010497ce91 chromedriver + 654993\n",
      "5   chromedriver                        0x00000001049b4274 chromedriver + 881268\n",
      "6   chromedriver                        0x000000010499adcd chromedriver + 777677\n",
      "7   chromedriver                        0x00000001049b1f79 chromedriver + 872313\n",
      "8   chromedriver                        0x000000010499abd3 chromedriver + 777171\n",
      "9   chromedriver                        0x000000010496fced chromedriver + 601325\n",
      "10  chromedriver                        0x0000000104970e51 chromedriver + 605777\n",
      "11  chromedriver                        0x0000000104cdf73e chromedriver + 4204350\n",
      "12  chromedriver                        0x0000000104ce3e07 chromedriver + 4222471\n",
      "13  chromedriver                        0x0000000104ceb0bf chromedriver + 4251839\n",
      "14  chromedriver                        0x0000000104ce4b4a chromedriver + 4225866\n",
      "15  chromedriver                        0x0000000104cbd8af chromedriver + 4065455\n",
      "16  chromedriver                        0x0000000104d01d18 chromedriver + 4345112\n",
      "17  chromedriver                        0x0000000104d01e86 chromedriver + 4345478\n",
      "18  chromedriver                        0x0000000104d16f6e chromedriver + 4431726\n",
      "19  libsystem_pthread.dylib             0x00007ff801661514 _pthread_start + 125\n",
      "20  libsystem_pthread.dylib             0x00007ff80165d02f thread_start + 15\n",
      "\n",
      "Message: no such element: Unable to locate element: {\"method\":\"xpath\",\"selector\":\"//span[@class=\"_17p6nbba\"]\"}\n",
      "  (Session info: chrome=106.0.5249.119)\n",
      "Stacktrace:\n",
      "0   chromedriver                        0x000000010077dc08 chromedriver + 4402184\n",
      "1   chromedriver                        0x00000001007051f3 chromedriver + 3908083\n",
      "2   chromedriver                        0x00000001003b2e6a chromedriver + 425578\n",
      "3   chromedriver                        0x00000001003eac91 chromedriver + 654481\n",
      "4   chromedriver                        0x00000001003eae91 chromedriver + 654993\n",
      "5   chromedriver                        0x0000000100422274 chromedriver + 881268\n",
      "6   chromedriver                        0x0000000100408dcd chromedriver + 777677\n",
      "7   chromedriver                        0x000000010041ff79 chromedriver + 872313\n",
      "8   chromedriver                        0x0000000100408bd3 chromedriver + 777171\n",
      "9   chromedriver                        0x00000001003ddced chromedriver + 601325\n",
      "10  chromedriver                        0x00000001003dee51 chromedriver + 605777\n",
      "11  chromedriver                        0x000000010074d73e chromedriver + 4204350\n",
      "12  chromedriver                        0x0000000100751e07 chromedriver + 4222471\n",
      "13  chromedriver                        0x00000001007590bf chromedriver + 4251839\n",
      "14  chromedriver                        0x0000000100752b4a chromedriver + 4225866\n",
      "15  chromedriver                        0x000000010072b8af chromedriver + 4065455\n",
      "16  chromedriver                        0x000000010076fd18 chromedriver + 4345112\n",
      "17  chromedriver                        0x000000010076fe86 chromedriver + 4345478\n",
      "18  chromedriver                        0x0000000100784f6e chromedriver + 4431726\n",
      "19  libsystem_pthread.dylib             0x00007ff801661514 _pthread_start + 125\n",
      "20  libsystem_pthread.dylib             0x00007ff80165d02f thread_start + 15\n",
      "\n"
     ]
    },
    {
     "name": "stderr",
     "output_type": "stream",
     "text": [
      " 15%|█▍        | 538/3600 [5:29:19<59:31:49, 69.99s/it]"
     ]
    },
    {
     "name": "stdout",
     "output_type": "stream",
     "text": [
      "Message: no such element: Unable to locate element: {\"method\":\"xpath\",\"selector\":\"//span[@class=\"_17p6nbba\"]\"}\n",
      "  (Session info: chrome=106.0.5249.119)\n",
      "Stacktrace:\n",
      "0   chromedriver                        0x00000001046e5c08 chromedriver + 4402184\n",
      "1   chromedriver                        0x000000010466d1f3 chromedriver + 3908083\n",
      "2   chromedriver                        0x000000010431ae6a chromedriver + 425578\n",
      "3   chromedriver                        0x0000000104352c91 chromedriver + 654481\n",
      "4   chromedriver                        0x0000000104352e91 chromedriver + 654993\n",
      "5   chromedriver                        0x000000010438a274 chromedriver + 881268\n",
      "6   chromedriver                        0x0000000104370dcd chromedriver + 777677\n",
      "7   chromedriver                        0x0000000104387f79 chromedriver + 872313\n",
      "8   chromedriver                        0x0000000104370bd3 chromedriver + 777171\n",
      "9   chromedriver                        0x0000000104345ced chromedriver + 601325\n",
      "10  chromedriver                        0x0000000104346e51 chromedriver + 605777\n",
      "11  chromedriver                        0x00000001046b573e chromedriver + 4204350\n",
      "12  chromedriver                        0x00000001046b9e07 chromedriver + 4222471\n",
      "13  chromedriver                        0x00000001046c10bf chromedriver + 4251839\n",
      "14  chromedriver                        0x00000001046bab4a chromedriver + 4225866\n",
      "15  chromedriver                        0x00000001046938af chromedriver + 4065455\n",
      "16  chromedriver                        0x00000001046d7d18 chromedriver + 4345112\n",
      "17  chromedriver                        0x00000001046d7e86 chromedriver + 4345478\n",
      "18  chromedriver                        0x00000001046ecf6e chromedriver + 4431726\n",
      "19  libsystem_pthread.dylib             0x00007ff801661514 _pthread_start + 125\n",
      "20  libsystem_pthread.dylib             0x00007ff80165d02f thread_start + 15\n",
      "\n"
     ]
    },
    {
     "name": "stderr",
     "output_type": "stream",
     "text": [
      " 15%|█▌        | 540/3600 [5:30:23<42:56:33, 50.52s/it]"
     ]
    },
    {
     "name": "stdout",
     "output_type": "stream",
     "text": [
      "Errors total:  15\n"
     ]
    },
    {
     "name": "stderr",
     "output_type": "stream",
     "text": [
      " 15%|█▌        | 550/3600 [5:35:47<27:47:36, 32.81s/it]"
     ]
    },
    {
     "name": "stdout",
     "output_type": "stream",
     "text": [
      "Errors total:  15\n"
     ]
    },
    {
     "name": "stderr",
     "output_type": "stream",
     "text": [
      " 16%|█▌        | 559/3600 [5:40:35<26:47:46, 31.72s/it]"
     ]
    },
    {
     "name": "stdout",
     "output_type": "stream",
     "text": [
      "Message: unknown error: Chrome failed to start: crashed.\n",
      "  (chrome not reachable)\n",
      "  (The process started from chrome location /Applications/Google Chrome.app/Contents/MacOS/Google Chrome is no longer running, so ChromeDriver is assuming that Chrome has crashed.)\n",
      "Stacktrace:\n",
      "0   chromedriver                        0x00000001053d0c08 chromedriver + 4402184\n",
      "1   chromedriver                        0x00000001053581f3 chromedriver + 3908083\n",
      "2   chromedriver                        0x0000000105005e6a chromedriver + 425578\n",
      "3   chromedriver                        0x000000010502afc6 chromedriver + 577478\n",
      "4   chromedriver                        0x00000001050263be chromedriver + 558014\n",
      "5   chromedriver                        0x00000001050638fa chromedriver + 809210\n",
      "6   chromedriver                        0x00000001050632bf chromedriver + 807615\n",
      "7   chromedriver                        0x000000010505bbd3 chromedriver + 777171\n",
      "8   chromedriver                        0x0000000105030ced chromedriver + 601325\n",
      "9   chromedriver                        0x0000000105031e51 chromedriver + 605777\n",
      "10  chromedriver                        0x00000001053a073e chromedriver + 4204350\n",
      "11  chromedriver                        0x00000001053a4e07 chromedriver + 4222471\n",
      "12  chromedriver                        0x00000001053ac0bf chromedriver + 4251839\n",
      "13  chromedriver                        0x00000001053a5b4a chromedriver + 4225866\n",
      "14  chromedriver                        0x000000010537e8af chromedriver + 4065455\n",
      "15  chromedriver                        0x00000001053c2d18 chromedriver + 4345112\n",
      "16  chromedriver                        0x00000001053c2e86 chromedriver + 4345478\n",
      "17  chromedriver                        0x00000001053d7f6e chromedriver + 4431726\n",
      "18  libsystem_pthread.dylib             0x00007ff801661514 _pthread_start + 125\n",
      "19  libsystem_pthread.dylib             0x00007ff80165d02f thread_start + 15\n",
      "\n"
     ]
    },
    {
     "name": "stderr",
     "output_type": "stream",
     "text": [
      " 16%|█▌        | 560/3600 [5:41:09<27:30:38, 32.58s/it]"
     ]
    },
    {
     "name": "stdout",
     "output_type": "stream",
     "text": [
      "Errors total:  15\n"
     ]
    },
    {
     "name": "stderr",
     "output_type": "stream",
     "text": [
      " 16%|█▌        | 564/3600 [5:43:14<26:43:35, 31.69s/it]"
     ]
    },
    {
     "name": "stdout",
     "output_type": "stream",
     "text": [
      "Message: no such element: Unable to locate element: {\"method\":\"xpath\",\"selector\":\"//span[@class=\"_17p6nbba\"]\"}\n",
      "  (Session info: chrome=106.0.5249.119)\n",
      "Stacktrace:\n",
      "0   chromedriver                        0x0000000104846c08 chromedriver + 4402184\n",
      "1   chromedriver                        0x00000001047ce1f3 chromedriver + 3908083\n",
      "2   chromedriver                        0x000000010447be6a chromedriver + 425578\n",
      "3   chromedriver                        0x00000001044b3c91 chromedriver + 654481\n",
      "4   chromedriver                        0x00000001044b3e91 chromedriver + 654993\n",
      "5   chromedriver                        0x00000001044eb274 chromedriver + 881268\n",
      "6   chromedriver                        0x00000001044d1dcd chromedriver + 777677\n",
      "7   chromedriver                        0x00000001044e8f79 chromedriver + 872313\n",
      "8   chromedriver                        0x00000001044d1bd3 chromedriver + 777171\n",
      "9   chromedriver                        0x00000001044a6ced chromedriver + 601325\n",
      "10  chromedriver                        0x00000001044a7e51 chromedriver + 605777\n",
      "11  chromedriver                        0x000000010481673e chromedriver + 4204350\n",
      "12  chromedriver                        0x000000010481ae07 chromedriver + 4222471\n",
      "13  chromedriver                        0x00000001048220bf chromedriver + 4251839\n",
      "14  chromedriver                        0x000000010481bb4a chromedriver + 4225866\n",
      "15  chromedriver                        0x00000001047f48af chromedriver + 4065455\n",
      "16  chromedriver                        0x0000000104838d18 chromedriver + 4345112\n",
      "17  chromedriver                        0x0000000104838e86 chromedriver + 4345478\n",
      "18  chromedriver                        0x000000010484df6e chromedriver + 4431726\n",
      "19  libsystem_pthread.dylib             0x00007ff801661514 _pthread_start + 125\n",
      "20  libsystem_pthread.dylib             0x00007ff80165d02f thread_start + 15\n",
      "\n",
      "Message: no such element: Unable to locate element: {\"method\":\"xpath\",\"selector\":\"//span[@class=\"_17p6nbba\"]\"}\n",
      "  (Session info: chrome=106.0.5249.119)\n",
      "Stacktrace:\n",
      "0   chromedriver                        0x000000010501dc08 chromedriver + 4402184\n",
      "1   chromedriver                        0x0000000104fa51f3 chromedriver + 3908083\n",
      "2   chromedriver                        0x0000000104c52e6a chromedriver + 425578\n",
      "3   chromedriver                        0x0000000104c8ac91 chromedriver + 654481\n",
      "4   chromedriver                        0x0000000104c8ae91 chromedriver + 654993\n",
      "5   chromedriver                        0x0000000104cc2274 chromedriver + 881268\n",
      "6   chromedriver                        0x0000000104ca8dcd chromedriver + 777677\n",
      "7   chromedriver                        0x0000000104cbff79 chromedriver + 872313\n",
      "8   chromedriver                        0x0000000104ca8bd3 chromedriver + 777171\n",
      "9   chromedriver                        0x0000000104c7dced chromedriver + 601325\n",
      "10  chromedriver                        0x0000000104c7ee51 chromedriver + 605777\n",
      "11  chromedriver                        0x0000000104fed73e chromedriver + 4204350\n",
      "12  chromedriver                        0x0000000104ff1e07 chromedriver + 4222471\n",
      "13  chromedriver                        0x0000000104ff90bf chromedriver + 4251839\n",
      "14  chromedriver                        0x0000000104ff2b4a chromedriver + 4225866\n",
      "15  chromedriver                        0x0000000104fcb8af chromedriver + 4065455\n",
      "16  chromedriver                        0x000000010500fd18 chromedriver + 4345112\n",
      "17  chromedriver                        0x000000010500fe86 chromedriver + 4345478\n",
      "18  chromedriver                        0x0000000105024f6e chromedriver + 4431726\n",
      "19  libsystem_pthread.dylib             0x00007ff801661514 _pthread_start + 125\n",
      "20  libsystem_pthread.dylib             0x00007ff80165d02f thread_start + 15\n",
      "\n",
      "Message: no such element: Unable to locate element: {\"method\":\"xpath\",\"selector\":\"//span[@class=\"_17p6nbba\"]\"}\n",
      "  (Session info: chrome=106.0.5249.119)\n",
      "Stacktrace:\n",
      "0   chromedriver                        0x0000000102c32c08 chromedriver + 4402184\n",
      "1   chromedriver                        0x0000000102bba1f3 chromedriver + 3908083\n",
      "2   chromedriver                        0x0000000102867e6a chromedriver + 425578\n",
      "3   chromedriver                        0x000000010289fc91 chromedriver + 654481\n",
      "4   chromedriver                        0x000000010289fe91 chromedriver + 654993\n",
      "5   chromedriver                        0x00000001028d7274 chromedriver + 881268\n",
      "6   chromedriver                        0x00000001028bddcd chromedriver + 777677\n",
      "7   chromedriver                        0x00000001028d4f79 chromedriver + 872313\n",
      "8   chromedriver                        0x00000001028bdbd3 chromedriver + 777171\n",
      "9   chromedriver                        0x0000000102892ced chromedriver + 601325\n",
      "10  chromedriver                        0x0000000102893e51 chromedriver + 605777\n",
      "11  chromedriver                        0x0000000102c0273e chromedriver + 4204350\n",
      "12  chromedriver                        0x0000000102c06e07 chromedriver + 4222471\n",
      "13  chromedriver                        0x0000000102c0e0bf chromedriver + 4251839\n",
      "14  chromedriver                        0x0000000102c07b4a chromedriver + 4225866\n",
      "15  chromedriver                        0x0000000102be08af chromedriver + 4065455\n",
      "16  chromedriver                        0x0000000102c24d18 chromedriver + 4345112\n",
      "17  chromedriver                        0x0000000102c24e86 chromedriver + 4345478\n",
      "18  chromedriver                        0x0000000102c39f6e chromedriver + 4431726\n",
      "19  libsystem_pthread.dylib             0x00007ff801661514 _pthread_start + 125\n",
      "20  libsystem_pthread.dylib             0x00007ff80165d02f thread_start + 15\n",
      "\n",
      "Message: no such element: Unable to locate element: {\"method\":\"xpath\",\"selector\":\"//span[@class=\"_17p6nbba\"]\"}\n",
      "  (Session info: chrome=106.0.5249.119)\n",
      "Stacktrace:\n",
      "0   chromedriver                        0x00000001047fec08 chromedriver + 4402184\n",
      "1   chromedriver                        0x00000001047861f3 chromedriver + 3908083\n",
      "2   chromedriver                        0x0000000104433e6a chromedriver + 425578\n",
      "3   chromedriver                        0x000000010446bc91 chromedriver + 654481\n",
      "4   chromedriver                        0x000000010446be91 chromedriver + 654993\n",
      "5   chromedriver                        0x00000001044a3274 chromedriver + 881268\n",
      "6   chromedriver                        0x0000000104489dcd chromedriver + 777677\n",
      "7   chromedriver                        0x00000001044a0f79 chromedriver + 872313\n",
      "8   chromedriver                        0x0000000104489bd3 chromedriver + 777171\n",
      "9   chromedriver                        0x000000010445eced chromedriver + 601325\n",
      "10  chromedriver                        0x000000010445fe51 chromedriver + 605777\n",
      "11  chromedriver                        0x00000001047ce73e chromedriver + 4204350\n",
      "12  chromedriver                        0x00000001047d2e07 chromedriver + 4222471\n",
      "13  chromedriver                        0x00000001047da0bf chromedriver + 4251839\n",
      "14  chromedriver                        0x00000001047d3b4a chromedriver + 4225866\n",
      "15  chromedriver                        0x00000001047ac8af chromedriver + 4065455\n",
      "16  chromedriver                        0x00000001047f0d18 chromedriver + 4345112\n",
      "17  chromedriver                        0x00000001047f0e86 chromedriver + 4345478\n",
      "18  chromedriver                        0x0000000104805f6e chromedriver + 4431726\n",
      "19  libsystem_pthread.dylib             0x00007ff801661514 _pthread_start + 125\n",
      "20  libsystem_pthread.dylib             0x00007ff80165d02f thread_start + 15\n",
      "\n"
     ]
    },
    {
     "name": "stderr",
     "output_type": "stream",
     "text": [
      " 16%|█▌        | 565/3600 [5:45:53<58:58:10, 69.95s/it]"
     ]
    },
    {
     "name": "stdout",
     "output_type": "stream",
     "text": [
      "Message: no such element: Unable to locate element: {\"method\":\"xpath\",\"selector\":\"//span[@class=\"_17p6nbba\"]\"}\n",
      "  (Session info: chrome=106.0.5249.119)\n",
      "Stacktrace:\n",
      "0   chromedriver                        0x0000000104c1bc08 chromedriver + 4402184\n",
      "1   chromedriver                        0x0000000104ba31f3 chromedriver + 3908083\n",
      "2   chromedriver                        0x0000000104850e6a chromedriver + 425578\n",
      "3   chromedriver                        0x0000000104888c91 chromedriver + 654481\n",
      "4   chromedriver                        0x0000000104888e91 chromedriver + 654993\n",
      "5   chromedriver                        0x00000001048c0274 chromedriver + 881268\n",
      "6   chromedriver                        0x00000001048a6dcd chromedriver + 777677\n",
      "7   chromedriver                        0x00000001048bdf79 chromedriver + 872313\n",
      "8   chromedriver                        0x00000001048a6bd3 chromedriver + 777171\n",
      "9   chromedriver                        0x000000010487bced chromedriver + 601325\n",
      "10  chromedriver                        0x000000010487ce51 chromedriver + 605777\n",
      "11  chromedriver                        0x0000000104beb73e chromedriver + 4204350\n",
      "12  chromedriver                        0x0000000104befe07 chromedriver + 4222471\n",
      "13  chromedriver                        0x0000000104bf70bf chromedriver + 4251839\n",
      "14  chromedriver                        0x0000000104bf0b4a chromedriver + 4225866\n",
      "15  chromedriver                        0x0000000104bc98af chromedriver + 4065455\n",
      "16  chromedriver                        0x0000000104c0dd18 chromedriver + 4345112\n",
      "17  chromedriver                        0x0000000104c0de86 chromedriver + 4345478\n",
      "18  chromedriver                        0x0000000104c22f6e chromedriver + 4431726\n",
      "19  libsystem_pthread.dylib             0x00007ff801661514 _pthread_start + 125\n",
      "20  libsystem_pthread.dylib             0x00007ff80165d02f thread_start + 15\n",
      "\n"
     ]
    },
    {
     "name": "stderr",
     "output_type": "stream",
     "text": [
      " 16%|█▌        | 570/3600 [5:48:35<32:30:02, 38.61s/it]"
     ]
    },
    {
     "name": "stdout",
     "output_type": "stream",
     "text": [
      "Errors total:  16\n"
     ]
    },
    {
     "name": "stderr",
     "output_type": "stream",
     "text": [
      " 16%|█▌        | 580/3600 [5:53:55<27:14:46, 32.48s/it]"
     ]
    },
    {
     "name": "stdout",
     "output_type": "stream",
     "text": [
      "Errors total:  16\n"
     ]
    },
    {
     "name": "stderr",
     "output_type": "stream",
     "text": [
      " 16%|█▌        | 583/3600 [5:55:31<27:06:41, 32.35s/it]"
     ]
    },
    {
     "name": "stdout",
     "output_type": "stream",
     "text": [
      "Message: unknown error: Chrome failed to start: crashed.\n",
      "  (chrome not reachable)\n",
      "  (The process started from chrome location /Applications/Google Chrome.app/Contents/MacOS/Google Chrome is no longer running, so ChromeDriver is assuming that Chrome has crashed.)\n",
      "Stacktrace:\n",
      "0   chromedriver                        0x000000010096fc08 chromedriver + 4402184\n",
      "1   chromedriver                        0x00000001008f71f3 chromedriver + 3908083\n",
      "2   chromedriver                        0x00000001005a4e6a chromedriver + 425578\n",
      "3   chromedriver                        0x00000001005c9fc6 chromedriver + 577478\n",
      "4   chromedriver                        0x00000001005c53be chromedriver + 558014\n",
      "5   chromedriver                        0x00000001006028fa chromedriver + 809210\n",
      "6   chromedriver                        0x00000001006022bf chromedriver + 807615\n",
      "7   chromedriver                        0x00000001005fabd3 chromedriver + 777171\n",
      "8   chromedriver                        0x00000001005cfced chromedriver + 601325\n",
      "9   chromedriver                        0x00000001005d0e51 chromedriver + 605777\n",
      "10  chromedriver                        0x000000010093f73e chromedriver + 4204350\n",
      "11  chromedriver                        0x0000000100943e07 chromedriver + 4222471\n",
      "12  chromedriver                        0x000000010094b0bf chromedriver + 4251839\n",
      "13  chromedriver                        0x0000000100944b4a chromedriver + 4225866\n",
      "14  chromedriver                        0x000000010091d8af chromedriver + 4065455\n",
      "15  chromedriver                        0x0000000100961d18 chromedriver + 4345112\n",
      "16  chromedriver                        0x0000000100961e86 chromedriver + 4345478\n",
      "17  chromedriver                        0x0000000100976f6e chromedriver + 4431726\n",
      "18  libsystem_pthread.dylib             0x00007ff801661514 _pthread_start + 125\n",
      "19  libsystem_pthread.dylib             0x00007ff80165d02f thread_start + 15\n",
      "\n"
     ]
    },
    {
     "name": "stderr",
     "output_type": "stream",
     "text": [
      " 16%|█▋        | 590/3600 [5:59:22<27:52:33, 33.34s/it]"
     ]
    },
    {
     "name": "stdout",
     "output_type": "stream",
     "text": [
      "Errors total:  16\n"
     ]
    },
    {
     "name": "stderr",
     "output_type": "stream",
     "text": [
      " 17%|█▋        | 600/3600 [6:04:42<26:44:24, 32.09s/it]"
     ]
    },
    {
     "name": "stdout",
     "output_type": "stream",
     "text": [
      "Errors total:  16\n"
     ]
    },
    {
     "name": "stderr",
     "output_type": "stream",
     "text": [
      " 17%|█▋        | 610/3600 [6:10:05<26:38:20, 32.07s/it]"
     ]
    },
    {
     "name": "stdout",
     "output_type": "stream",
     "text": [
      "Errors total:  16\n"
     ]
    },
    {
     "name": "stderr",
     "output_type": "stream",
     "text": [
      " 17%|█▋        | 620/3600 [6:15:29<26:44:04, 32.30s/it]"
     ]
    },
    {
     "name": "stdout",
     "output_type": "stream",
     "text": [
      "Errors total:  16\n"
     ]
    },
    {
     "name": "stderr",
     "output_type": "stream",
     "text": [
      " 18%|█▊        | 630/3600 [6:20:46<26:35:50, 32.24s/it]"
     ]
    },
    {
     "name": "stdout",
     "output_type": "stream",
     "text": [
      "Errors total:  16\n"
     ]
    },
    {
     "name": "stderr",
     "output_type": "stream",
     "text": [
      " 18%|█▊        | 636/3600 [6:24:00<26:35:45, 32.30s/it]"
     ]
    },
    {
     "name": "stdout",
     "output_type": "stream",
     "text": [
      "Message: no such element: Unable to locate element: {\"method\":\"xpath\",\"selector\":\"//span[@class=\"_17p6nbba\"]\"}\n",
      "  (Session info: chrome=106.0.5249.119)\n",
      "Stacktrace:\n",
      "0   chromedriver                        0x0000000102f33c08 chromedriver + 4402184\n",
      "1   chromedriver                        0x0000000102ebb1f3 chromedriver + 3908083\n",
      "2   chromedriver                        0x0000000102b68e6a chromedriver + 425578\n",
      "3   chromedriver                        0x0000000102ba0c91 chromedriver + 654481\n",
      "4   chromedriver                        0x0000000102ba0e91 chromedriver + 654993\n",
      "5   chromedriver                        0x0000000102bd8274 chromedriver + 881268\n",
      "6   chromedriver                        0x0000000102bbedcd chromedriver + 777677\n",
      "7   chromedriver                        0x0000000102bd5f79 chromedriver + 872313\n",
      "8   chromedriver                        0x0000000102bbebd3 chromedriver + 777171\n",
      "9   chromedriver                        0x0000000102b93ced chromedriver + 601325\n",
      "10  chromedriver                        0x0000000102b94e51 chromedriver + 605777\n",
      "11  chromedriver                        0x0000000102f0373e chromedriver + 4204350\n",
      "12  chromedriver                        0x0000000102f07e07 chromedriver + 4222471\n",
      "13  chromedriver                        0x0000000102f0f0bf chromedriver + 4251839\n",
      "14  chromedriver                        0x0000000102f08b4a chromedriver + 4225866\n",
      "15  chromedriver                        0x0000000102ee18af chromedriver + 4065455\n",
      "16  chromedriver                        0x0000000102f25d18 chromedriver + 4345112\n",
      "17  chromedriver                        0x0000000102f25e86 chromedriver + 4345478\n",
      "18  chromedriver                        0x0000000102f3af6e chromedriver + 4431726\n",
      "19  libsystem_pthread.dylib             0x00007ff801661514 _pthread_start + 125\n",
      "20  libsystem_pthread.dylib             0x00007ff80165d02f thread_start + 15\n",
      "\n",
      "Message: no such element: Unable to locate element: {\"method\":\"xpath\",\"selector\":\"//span[@class=\"_17p6nbba\"]\"}\n",
      "  (Session info: chrome=106.0.5249.119)\n",
      "Stacktrace:\n",
      "0   chromedriver                        0x00000001012d2c08 chromedriver + 4402184\n",
      "1   chromedriver                        0x000000010125a1f3 chromedriver + 3908083\n",
      "2   chromedriver                        0x0000000100f07e6a chromedriver + 425578\n",
      "3   chromedriver                        0x0000000100f3fc91 chromedriver + 654481\n",
      "4   chromedriver                        0x0000000100f3fe91 chromedriver + 654993\n",
      "5   chromedriver                        0x0000000100f77274 chromedriver + 881268\n",
      "6   chromedriver                        0x0000000100f5ddcd chromedriver + 777677\n",
      "7   chromedriver                        0x0000000100f74f79 chromedriver + 872313\n",
      "8   chromedriver                        0x0000000100f5dbd3 chromedriver + 777171\n",
      "9   chromedriver                        0x0000000100f32ced chromedriver + 601325\n",
      "10  chromedriver                        0x0000000100f33e51 chromedriver + 605777\n",
      "11  chromedriver                        0x00000001012a273e chromedriver + 4204350\n",
      "12  chromedriver                        0x00000001012a6e07 chromedriver + 4222471\n",
      "13  chromedriver                        0x00000001012ae0bf chromedriver + 4251839\n",
      "14  chromedriver                        0x00000001012a7b4a chromedriver + 4225866\n",
      "15  chromedriver                        0x00000001012808af chromedriver + 4065455\n",
      "16  chromedriver                        0x00000001012c4d18 chromedriver + 4345112\n",
      "17  chromedriver                        0x00000001012c4e86 chromedriver + 4345478\n",
      "18  chromedriver                        0x00000001012d9f6e chromedriver + 4431726\n",
      "19  libsystem_pthread.dylib             0x00007ff801661514 _pthread_start + 125\n",
      "20  libsystem_pthread.dylib             0x00007ff80165d02f thread_start + 15\n",
      "\n",
      "Message: no such element: Unable to locate element: {\"method\":\"xpath\",\"selector\":\"//span[@class=\"_17p6nbba\"]\"}\n",
      "  (Session info: chrome=106.0.5249.119)\n",
      "Stacktrace:\n",
      "0   chromedriver                        0x0000000100d79c08 chromedriver + 4402184\n",
      "1   chromedriver                        0x0000000100d011f3 chromedriver + 3908083\n",
      "2   chromedriver                        0x00000001009aee6a chromedriver + 425578\n",
      "3   chromedriver                        0x00000001009e6c91 chromedriver + 654481\n",
      "4   chromedriver                        0x00000001009e6e91 chromedriver + 654993\n",
      "5   chromedriver                        0x0000000100a1e274 chromedriver + 881268\n",
      "6   chromedriver                        0x0000000100a04dcd chromedriver + 777677\n",
      "7   chromedriver                        0x0000000100a1bf79 chromedriver + 872313\n",
      "8   chromedriver                        0x0000000100a04bd3 chromedriver + 777171\n",
      "9   chromedriver                        0x00000001009d9ced chromedriver + 601325\n",
      "10  chromedriver                        0x00000001009dae51 chromedriver + 605777\n",
      "11  chromedriver                        0x0000000100d4973e chromedriver + 4204350\n",
      "12  chromedriver                        0x0000000100d4de07 chromedriver + 4222471\n",
      "13  chromedriver                        0x0000000100d550bf chromedriver + 4251839\n",
      "14  chromedriver                        0x0000000100d4eb4a chromedriver + 4225866\n",
      "15  chromedriver                        0x0000000100d278af chromedriver + 4065455\n",
      "16  chromedriver                        0x0000000100d6bd18 chromedriver + 4345112\n",
      "17  chromedriver                        0x0000000100d6be86 chromedriver + 4345478\n",
      "18  chromedriver                        0x0000000100d80f6e chromedriver + 4431726\n",
      "19  libsystem_pthread.dylib             0x00007ff801661514 _pthread_start + 125\n",
      "20  libsystem_pthread.dylib             0x00007ff80165d02f thread_start + 15\n",
      "\n",
      "Message: no such element: Unable to locate element: {\"method\":\"xpath\",\"selector\":\"//span[@class=\"_17p6nbba\"]\"}\n",
      "  (Session info: chrome=106.0.5249.119)\n",
      "Stacktrace:\n",
      "0   chromedriver                        0x00000001008dac08 chromedriver + 4402184\n",
      "1   chromedriver                        0x00000001008621f3 chromedriver + 3908083\n",
      "2   chromedriver                        0x000000010050fe6a chromedriver + 425578\n",
      "3   chromedriver                        0x0000000100547c91 chromedriver + 654481\n",
      "4   chromedriver                        0x0000000100547e91 chromedriver + 654993\n",
      "5   chromedriver                        0x000000010057f274 chromedriver + 881268\n",
      "6   chromedriver                        0x0000000100565dcd chromedriver + 777677\n",
      "7   chromedriver                        0x000000010057cf79 chromedriver + 872313\n",
      "8   chromedriver                        0x0000000100565bd3 chromedriver + 777171\n",
      "9   chromedriver                        0x000000010053aced chromedriver + 601325\n",
      "10  chromedriver                        0x000000010053be51 chromedriver + 605777\n",
      "11  chromedriver                        0x00000001008aa73e chromedriver + 4204350\n",
      "12  chromedriver                        0x00000001008aee07 chromedriver + 4222471\n",
      "13  chromedriver                        0x00000001008b60bf chromedriver + 4251839\n",
      "14  chromedriver                        0x00000001008afb4a chromedriver + 4225866\n",
      "15  chromedriver                        0x00000001008888af chromedriver + 4065455\n",
      "16  chromedriver                        0x00000001008ccd18 chromedriver + 4345112\n",
      "17  chromedriver                        0x00000001008cce86 chromedriver + 4345478\n",
      "18  chromedriver                        0x00000001008e1f6e chromedriver + 4431726\n",
      "19  libsystem_pthread.dylib             0x00007ff801661514 _pthread_start + 125\n",
      "20  libsystem_pthread.dylib             0x00007ff80165d02f thread_start + 15\n",
      "\n"
     ]
    },
    {
     "name": "stderr",
     "output_type": "stream",
     "text": [
      " 18%|█▊        | 637/3600 [6:26:37<57:31:10, 69.89s/it]"
     ]
    },
    {
     "name": "stdout",
     "output_type": "stream",
     "text": [
      "Message: no such element: Unable to locate element: {\"method\":\"xpath\",\"selector\":\"//span[@class=\"_17p6nbba\"]\"}\n",
      "  (Session info: chrome=106.0.5249.119)\n",
      "Stacktrace:\n",
      "0   chromedriver                        0x000000010099cc08 chromedriver + 4402184\n",
      "1   chromedriver                        0x00000001009241f3 chromedriver + 3908083\n",
      "2   chromedriver                        0x00000001005d1e6a chromedriver + 425578\n",
      "3   chromedriver                        0x0000000100609c91 chromedriver + 654481\n",
      "4   chromedriver                        0x0000000100609e91 chromedriver + 654993\n",
      "5   chromedriver                        0x0000000100641274 chromedriver + 881268\n",
      "6   chromedriver                        0x0000000100627dcd chromedriver + 777677\n",
      "7   chromedriver                        0x000000010063ef79 chromedriver + 872313\n",
      "8   chromedriver                        0x0000000100627bd3 chromedriver + 777171\n",
      "9   chromedriver                        0x00000001005fcced chromedriver + 601325\n",
      "10  chromedriver                        0x00000001005fde51 chromedriver + 605777\n",
      "11  chromedriver                        0x000000010096c73e chromedriver + 4204350\n",
      "12  chromedriver                        0x0000000100970e07 chromedriver + 4222471\n",
      "13  chromedriver                        0x00000001009780bf chromedriver + 4251839\n",
      "14  chromedriver                        0x0000000100971b4a chromedriver + 4225866\n",
      "15  chromedriver                        0x000000010094a8af chromedriver + 4065455\n",
      "16  chromedriver                        0x000000010098ed18 chromedriver + 4345112\n",
      "17  chromedriver                        0x000000010098ee86 chromedriver + 4345478\n",
      "18  chromedriver                        0x00000001009a3f6e chromedriver + 4431726\n",
      "19  libsystem_pthread.dylib             0x00007ff801661514 _pthread_start + 125\n",
      "20  libsystem_pthread.dylib             0x00007ff80165d02f thread_start + 15\n",
      "\n"
     ]
    },
    {
     "name": "stderr",
     "output_type": "stream",
     "text": [
      " 18%|█▊        | 640/3600 [6:28:16<37:13:47, 45.28s/it]"
     ]
    },
    {
     "name": "stdout",
     "output_type": "stream",
     "text": [
      "Errors total:  17\n"
     ]
    },
    {
     "name": "stderr",
     "output_type": "stream",
     "text": [
      " 18%|█▊        | 650/3600 [6:33:33<26:13:51, 32.01s/it]"
     ]
    },
    {
     "name": "stdout",
     "output_type": "stream",
     "text": [
      "Errors total:  17\n"
     ]
    },
    {
     "name": "stderr",
     "output_type": "stream",
     "text": [
      " 18%|█▊        | 660/3600 [6:38:52<26:21:35, 32.28s/it]"
     ]
    },
    {
     "name": "stdout",
     "output_type": "stream",
     "text": [
      "Errors total:  17\n",
      "Message: unknown error: Chrome failed to start: crashed.\n",
      "  (chrome not reachable)\n",
      "  (The process started from chrome location /Applications/Google Chrome.app/Contents/MacOS/Google Chrome is no longer running, so ChromeDriver is assuming that Chrome has crashed.)\n",
      "Stacktrace:\n",
      "0   chromedriver                        0x0000000102f1bc08 chromedriver + 4402184\n",
      "1   chromedriver                        0x0000000102ea31f3 chromedriver + 3908083\n",
      "2   chromedriver                        0x0000000102b50e6a chromedriver + 425578\n",
      "3   chromedriver                        0x0000000102b75fc6 chromedriver + 577478\n",
      "4   chromedriver                        0x0000000102b713be chromedriver + 558014\n",
      "5   chromedriver                        0x0000000102bae8fa chromedriver + 809210\n",
      "6   chromedriver                        0x0000000102bae2bf chromedriver + 807615\n",
      "7   chromedriver                        0x0000000102ba6bd3 chromedriver + 777171\n",
      "8   chromedriver                        0x0000000102b7bced chromedriver + 601325\n",
      "9   chromedriver                        0x0000000102b7ce51 chromedriver + 605777\n",
      "10  chromedriver                        0x0000000102eeb73e chromedriver + 4204350\n",
      "11  chromedriver                        0x0000000102eefe07 chromedriver + 4222471\n",
      "12  chromedriver                        0x0000000102ef70bf chromedriver + 4251839\n",
      "13  chromedriver                        0x0000000102ef0b4a chromedriver + 4225866\n",
      "14  chromedriver                        0x0000000102ec98af chromedriver + 4065455\n",
      "15  chromedriver                        0x0000000102f0dd18 chromedriver + 4345112\n",
      "16  chromedriver                        0x0000000102f0de86 chromedriver + 4345478\n",
      "17  chromedriver                        0x0000000102f22f6e chromedriver + 4431726\n",
      "18  libsystem_pthread.dylib             0x00007ff801661514 _pthread_start + 125\n",
      "19  libsystem_pthread.dylib             0x00007ff80165d02f thread_start + 15\n",
      "\n"
     ]
    },
    {
     "name": "stderr",
     "output_type": "stream",
     "text": [
      " 19%|█▊        | 670/3600 [6:44:11<25:57:20, 31.89s/it]"
     ]
    },
    {
     "name": "stdout",
     "output_type": "stream",
     "text": [
      "Errors total:  17\n"
     ]
    },
    {
     "name": "stderr",
     "output_type": "stream",
     "text": [
      " 19%|█▉        | 680/3600 [6:49:32<25:41:27, 31.67s/it]"
     ]
    },
    {
     "name": "stdout",
     "output_type": "stream",
     "text": [
      "Errors total:  17\n"
     ]
    },
    {
     "name": "stderr",
     "output_type": "stream",
     "text": [
      " 19%|█▉        | 690/3600 [6:54:55<25:35:49, 31.67s/it]"
     ]
    },
    {
     "name": "stdout",
     "output_type": "stream",
     "text": [
      "Errors total:  17\n"
     ]
    },
    {
     "name": "stderr",
     "output_type": "stream",
     "text": [
      " 19%|█▉        | 697/3600 [6:58:36<25:48:09, 32.00s/it]"
     ]
    },
    {
     "name": "stdout",
     "output_type": "stream",
     "text": [
      "Message: no such element: Unable to locate element: {\"method\":\"xpath\",\"selector\":\"//span[@class=\"_17p6nbba\"]\"}\n",
      "  (Session info: chrome=106.0.5249.119)\n",
      "Stacktrace:\n",
      "0   chromedriver                        0x000000010117ec08 chromedriver + 4402184\n",
      "1   chromedriver                        0x00000001011061f3 chromedriver + 3908083\n",
      "2   chromedriver                        0x0000000100db3e6a chromedriver + 425578\n",
      "3   chromedriver                        0x0000000100debc91 chromedriver + 654481\n",
      "4   chromedriver                        0x0000000100debe91 chromedriver + 654993\n",
      "5   chromedriver                        0x0000000100e23274 chromedriver + 881268\n",
      "6   chromedriver                        0x0000000100e09dcd chromedriver + 777677\n",
      "7   chromedriver                        0x0000000100e20f79 chromedriver + 872313\n",
      "8   chromedriver                        0x0000000100e09bd3 chromedriver + 777171\n",
      "9   chromedriver                        0x0000000100ddeced chromedriver + 601325\n",
      "10  chromedriver                        0x0000000100ddfe51 chromedriver + 605777\n",
      "11  chromedriver                        0x000000010114e73e chromedriver + 4204350\n",
      "12  chromedriver                        0x0000000101152e07 chromedriver + 4222471\n",
      "13  chromedriver                        0x000000010115a0bf chromedriver + 4251839\n",
      "14  chromedriver                        0x0000000101153b4a chromedriver + 4225866\n",
      "15  chromedriver                        0x000000010112c8af chromedriver + 4065455\n",
      "16  chromedriver                        0x0000000101170d18 chromedriver + 4345112\n",
      "17  chromedriver                        0x0000000101170e86 chromedriver + 4345478\n",
      "18  chromedriver                        0x0000000101185f6e chromedriver + 4431726\n",
      "19  libsystem_pthread.dylib             0x00007ff801661514 _pthread_start + 125\n",
      "20  libsystem_pthread.dylib             0x00007ff80165d02f thread_start + 15\n",
      "\n",
      "Message: no such element: Unable to locate element: {\"method\":\"xpath\",\"selector\":\"//span[@class=\"_17p6nbba\"]\"}\n",
      "  (Session info: chrome=106.0.5249.119)\n",
      "Stacktrace:\n",
      "0   chromedriver                        0x000000010308fc08 chromedriver + 4402184\n",
      "1   chromedriver                        0x00000001030171f3 chromedriver + 3908083\n",
      "2   chromedriver                        0x0000000102cc4e6a chromedriver + 425578\n",
      "3   chromedriver                        0x0000000102cfcc91 chromedriver + 654481\n",
      "4   chromedriver                        0x0000000102cfce91 chromedriver + 654993\n",
      "5   chromedriver                        0x0000000102d34274 chromedriver + 881268\n",
      "6   chromedriver                        0x0000000102d1adcd chromedriver + 777677\n",
      "7   chromedriver                        0x0000000102d31f79 chromedriver + 872313\n",
      "8   chromedriver                        0x0000000102d1abd3 chromedriver + 777171\n",
      "9   chromedriver                        0x0000000102cefced chromedriver + 601325\n",
      "10  chromedriver                        0x0000000102cf0e51 chromedriver + 605777\n",
      "11  chromedriver                        0x000000010305f73e chromedriver + 4204350\n",
      "12  chromedriver                        0x0000000103063e07 chromedriver + 4222471\n",
      "13  chromedriver                        0x000000010306b0bf chromedriver + 4251839\n",
      "14  chromedriver                        0x0000000103064b4a chromedriver + 4225866\n",
      "15  chromedriver                        0x000000010303d8af chromedriver + 4065455\n",
      "16  chromedriver                        0x0000000103081d18 chromedriver + 4345112\n",
      "17  chromedriver                        0x0000000103081e86 chromedriver + 4345478\n",
      "18  chromedriver                        0x0000000103096f6e chromedriver + 4431726\n",
      "19  libsystem_pthread.dylib             0x00007ff801661514 _pthread_start + 125\n",
      "20  libsystem_pthread.dylib             0x00007ff80165d02f thread_start + 15\n",
      "\n",
      "Message: no such element: Unable to locate element: {\"method\":\"xpath\",\"selector\":\"//span[@class=\"_17p6nbba\"]\"}\n",
      "  (Session info: chrome=106.0.5249.119)\n",
      "Stacktrace:\n",
      "0   chromedriver                        0x00000001032b7c08 chromedriver + 4402184\n",
      "1   chromedriver                        0x000000010323f1f3 chromedriver + 3908083\n",
      "2   chromedriver                        0x0000000102eece6a chromedriver + 425578\n",
      "3   chromedriver                        0x0000000102f24c91 chromedriver + 654481\n",
      "4   chromedriver                        0x0000000102f24e91 chromedriver + 654993\n",
      "5   chromedriver                        0x0000000102f5c274 chromedriver + 881268\n",
      "6   chromedriver                        0x0000000102f42dcd chromedriver + 777677\n",
      "7   chromedriver                        0x0000000102f59f79 chromedriver + 872313\n",
      "8   chromedriver                        0x0000000102f42bd3 chromedriver + 777171\n",
      "9   chromedriver                        0x0000000102f17ced chromedriver + 601325\n",
      "10  chromedriver                        0x0000000102f18e51 chromedriver + 605777\n",
      "11  chromedriver                        0x000000010328773e chromedriver + 4204350\n",
      "12  chromedriver                        0x000000010328be07 chromedriver + 4222471\n",
      "13  chromedriver                        0x00000001032930bf chromedriver + 4251839\n",
      "14  chromedriver                        0x000000010328cb4a chromedriver + 4225866\n",
      "15  chromedriver                        0x00000001032658af chromedriver + 4065455\n",
      "16  chromedriver                        0x00000001032a9d18 chromedriver + 4345112\n",
      "17  chromedriver                        0x00000001032a9e86 chromedriver + 4345478\n",
      "18  chromedriver                        0x00000001032bef6e chromedriver + 4431726\n",
      "19  libsystem_pthread.dylib             0x00007ff801661514 _pthread_start + 125\n",
      "20  libsystem_pthread.dylib             0x00007ff80165d02f thread_start + 15\n",
      "\n",
      "Message: no such element: Unable to locate element: {\"method\":\"xpath\",\"selector\":\"//span[@class=\"_17p6nbba\"]\"}\n",
      "  (Session info: chrome=106.0.5249.119)\n",
      "Stacktrace:\n",
      "0   chromedriver                        0x000000010514cc08 chromedriver + 4402184\n",
      "1   chromedriver                        0x00000001050d41f3 chromedriver + 3908083\n",
      "2   chromedriver                        0x0000000104d81e6a chromedriver + 425578\n",
      "3   chromedriver                        0x0000000104db9c91 chromedriver + 654481\n",
      "4   chromedriver                        0x0000000104db9e91 chromedriver + 654993\n",
      "5   chromedriver                        0x0000000104df1274 chromedriver + 881268\n",
      "6   chromedriver                        0x0000000104dd7dcd chromedriver + 777677\n",
      "7   chromedriver                        0x0000000104deef79 chromedriver + 872313\n",
      "8   chromedriver                        0x0000000104dd7bd3 chromedriver + 777171\n",
      "9   chromedriver                        0x0000000104dacced chromedriver + 601325\n",
      "10  chromedriver                        0x0000000104dade51 chromedriver + 605777\n",
      "11  chromedriver                        0x000000010511c73e chromedriver + 4204350\n",
      "12  chromedriver                        0x0000000105120e07 chromedriver + 4222471\n",
      "13  chromedriver                        0x00000001051280bf chromedriver + 4251839\n",
      "14  chromedriver                        0x0000000105121b4a chromedriver + 4225866\n",
      "15  chromedriver                        0x00000001050fa8af chromedriver + 4065455\n",
      "16  chromedriver                        0x000000010513ed18 chromedriver + 4345112\n",
      "17  chromedriver                        0x000000010513ee86 chromedriver + 4345478\n",
      "18  chromedriver                        0x0000000105153f6e chromedriver + 4431726\n",
      "19  libsystem_pthread.dylib             0x00007ff801661514 _pthread_start + 125\n",
      "20  libsystem_pthread.dylib             0x00007ff80165d02f thread_start + 15\n",
      "\n"
     ]
    },
    {
     "name": "stderr",
     "output_type": "stream",
     "text": [
      " 19%|█▉        | 698/3600 [7:01:15<56:38:49, 70.27s/it]"
     ]
    },
    {
     "name": "stdout",
     "output_type": "stream",
     "text": [
      "Message: no such element: Unable to locate element: {\"method\":\"xpath\",\"selector\":\"//span[@class=\"_17p6nbba\"]\"}\n",
      "  (Session info: chrome=106.0.5249.119)\n",
      "Stacktrace:\n",
      "0   chromedriver                        0x00000001049fdc08 chromedriver + 4402184\n",
      "1   chromedriver                        0x00000001049851f3 chromedriver + 3908083\n",
      "2   chromedriver                        0x0000000104632e6a chromedriver + 425578\n",
      "3   chromedriver                        0x000000010466ac91 chromedriver + 654481\n",
      "4   chromedriver                        0x000000010466ae91 chromedriver + 654993\n",
      "5   chromedriver                        0x00000001046a2274 chromedriver + 881268\n",
      "6   chromedriver                        0x0000000104688dcd chromedriver + 777677\n",
      "7   chromedriver                        0x000000010469ff79 chromedriver + 872313\n",
      "8   chromedriver                        0x0000000104688bd3 chromedriver + 777171\n",
      "9   chromedriver                        0x000000010465dced chromedriver + 601325\n",
      "10  chromedriver                        0x000000010465ee51 chromedriver + 605777\n",
      "11  chromedriver                        0x00000001049cd73e chromedriver + 4204350\n",
      "12  chromedriver                        0x00000001049d1e07 chromedriver + 4222471\n",
      "13  chromedriver                        0x00000001049d90bf chromedriver + 4251839\n",
      "14  chromedriver                        0x00000001049d2b4a chromedriver + 4225866\n",
      "15  chromedriver                        0x00000001049ab8af chromedriver + 4065455\n",
      "16  chromedriver                        0x00000001049efd18 chromedriver + 4345112\n",
      "17  chromedriver                        0x00000001049efe86 chromedriver + 4345478\n",
      "18  chromedriver                        0x0000000104a04f6e chromedriver + 4431726\n",
      "19  libsystem_pthread.dylib             0x00007ff801661514 _pthread_start + 125\n",
      "20  libsystem_pthread.dylib             0x00007ff80165d02f thread_start + 15\n",
      "\n"
     ]
    },
    {
     "name": "stderr",
     "output_type": "stream",
     "text": [
      " 19%|█▉        | 700/3600 [7:02:20<40:56:41, 50.83s/it]"
     ]
    },
    {
     "name": "stdout",
     "output_type": "stream",
     "text": [
      "Errors total:  18\n"
     ]
    },
    {
     "name": "stderr",
     "output_type": "stream",
     "text": [
      " 20%|█▉        | 710/3600 [7:07:44<26:14:18, 32.68s/it]"
     ]
    },
    {
     "name": "stdout",
     "output_type": "stream",
     "text": [
      "Errors total:  18\n"
     ]
    },
    {
     "name": "stderr",
     "output_type": "stream",
     "text": [
      " 20%|██        | 720/3600 [7:13:04<25:30:17, 31.88s/it]"
     ]
    },
    {
     "name": "stdout",
     "output_type": "stream",
     "text": [
      "Errors total:  18\n"
     ]
    },
    {
     "name": "stderr",
     "output_type": "stream",
     "text": [
      " 20%|██        | 730/3600 [7:18:21<25:13:50, 31.65s/it]"
     ]
    },
    {
     "name": "stdout",
     "output_type": "stream",
     "text": [
      "Errors total:  18\n"
     ]
    },
    {
     "name": "stderr",
     "output_type": "stream",
     "text": [
      " 21%|██        | 740/3600 [7:23:37<25:21:05, 31.91s/it]"
     ]
    },
    {
     "name": "stdout",
     "output_type": "stream",
     "text": [
      "Errors total:  18\n"
     ]
    },
    {
     "name": "stderr",
     "output_type": "stream",
     "text": [
      " 21%|██        | 750/3600 [7:28:53<24:52:57, 31.43s/it]"
     ]
    },
    {
     "name": "stdout",
     "output_type": "stream",
     "text": [
      "Errors total:  18\n"
     ]
    },
    {
     "name": "stderr",
     "output_type": "stream",
     "text": [
      " 21%|██        | 760/3600 [7:34:18<25:37:33, 32.48s/it]"
     ]
    },
    {
     "name": "stdout",
     "output_type": "stream",
     "text": [
      "Errors total:  18\n"
     ]
    },
    {
     "name": "stderr",
     "output_type": "stream",
     "text": [
      " 21%|██▏       | 770/3600 [7:39:38<24:53:56, 31.67s/it]"
     ]
    },
    {
     "name": "stdout",
     "output_type": "stream",
     "text": [
      "Errors total:  18\n"
     ]
    },
    {
     "name": "stderr",
     "output_type": "stream",
     "text": [
      " 22%|██▏       | 780/3600 [7:44:56<24:53:22, 31.77s/it]"
     ]
    },
    {
     "name": "stdout",
     "output_type": "stream",
     "text": [
      "Errors total:  18\n"
     ]
    },
    {
     "name": "stderr",
     "output_type": "stream",
     "text": [
      " 22%|██▏       | 782/3600 [7:46:01<25:06:18, 32.07s/it]"
     ]
    },
    {
     "name": "stdout",
     "output_type": "stream",
     "text": [
      "Message: no such element: Unable to locate element: {\"method\":\"xpath\",\"selector\":\"//div[@data-section-id=\"TITLE_DEFAULT\"]/section/div/span/h1\"}\n",
      "  (Session info: chrome=106.0.5249.119)\n",
      "Stacktrace:\n",
      "0   chromedriver                        0x00000001013cbc08 chromedriver + 4402184\n",
      "1   chromedriver                        0x00000001013531f3 chromedriver + 3908083\n",
      "2   chromedriver                        0x0000000101000e6a chromedriver + 425578\n",
      "3   chromedriver                        0x0000000101038c91 chromedriver + 654481\n",
      "4   chromedriver                        0x0000000101038e91 chromedriver + 654993\n",
      "5   chromedriver                        0x0000000101070274 chromedriver + 881268\n",
      "6   chromedriver                        0x0000000101056dcd chromedriver + 777677\n",
      "7   chromedriver                        0x000000010106df79 chromedriver + 872313\n",
      "8   chromedriver                        0x0000000101056bd3 chromedriver + 777171\n",
      "9   chromedriver                        0x000000010102bced chromedriver + 601325\n",
      "10  chromedriver                        0x000000010102ce51 chromedriver + 605777\n",
      "11  chromedriver                        0x000000010139b73e chromedriver + 4204350\n",
      "12  chromedriver                        0x000000010139fe07 chromedriver + 4222471\n",
      "13  chromedriver                        0x00000001013a70bf chromedriver + 4251839\n",
      "14  chromedriver                        0x00000001013a0b4a chromedriver + 4225866\n",
      "15  chromedriver                        0x00000001013798af chromedriver + 4065455\n",
      "16  chromedriver                        0x00000001013bdd18 chromedriver + 4345112\n",
      "17  chromedriver                        0x00000001013bde86 chromedriver + 4345478\n",
      "18  chromedriver                        0x00000001013d2f6e chromedriver + 4431726\n",
      "19  libsystem_pthread.dylib             0x00007ff801661514 _pthread_start + 125\n",
      "20  libsystem_pthread.dylib             0x00007ff80165d02f thread_start + 15\n",
      "\n",
      "Message: no such element: Unable to locate element: {\"method\":\"xpath\",\"selector\":\"//div[@data-section-id=\"TITLE_DEFAULT\"]/section/div/span/h1\"}\n",
      "  (Session info: chrome=106.0.5249.119)\n",
      "Stacktrace:\n",
      "0   chromedriver                        0x0000000104f6cc08 chromedriver + 4402184\n",
      "1   chromedriver                        0x0000000104ef41f3 chromedriver + 3908083\n",
      "2   chromedriver                        0x0000000104ba1e6a chromedriver + 425578\n",
      "3   chromedriver                        0x0000000104bd9c91 chromedriver + 654481\n",
      "4   chromedriver                        0x0000000104bd9e91 chromedriver + 654993\n",
      "5   chromedriver                        0x0000000104c11274 chromedriver + 881268\n",
      "6   chromedriver                        0x0000000104bf7dcd chromedriver + 777677\n",
      "7   chromedriver                        0x0000000104c0ef79 chromedriver + 872313\n",
      "8   chromedriver                        0x0000000104bf7bd3 chromedriver + 777171\n",
      "9   chromedriver                        0x0000000104bccced chromedriver + 601325\n",
      "10  chromedriver                        0x0000000104bcde51 chromedriver + 605777\n",
      "11  chromedriver                        0x0000000104f3c73e chromedriver + 4204350\n",
      "12  chromedriver                        0x0000000104f40e07 chromedriver + 4222471\n",
      "13  chromedriver                        0x0000000104f480bf chromedriver + 4251839\n",
      "14  chromedriver                        0x0000000104f41b4a chromedriver + 4225866\n",
      "15  chromedriver                        0x0000000104f1a8af chromedriver + 4065455\n",
      "16  chromedriver                        0x0000000104f5ed18 chromedriver + 4345112\n",
      "17  chromedriver                        0x0000000104f5ee86 chromedriver + 4345478\n",
      "18  chromedriver                        0x0000000104f73f6e chromedriver + 4431726\n",
      "19  libsystem_pthread.dylib             0x00007ff801661514 _pthread_start + 125\n",
      "20  libsystem_pthread.dylib             0x00007ff80165d02f thread_start + 15\n",
      "\n",
      "Message: no such element: Unable to locate element: {\"method\":\"xpath\",\"selector\":\"//div[@data-section-id=\"TITLE_DEFAULT\"]/section/div/span/h1\"}\n",
      "  (Session info: chrome=106.0.5249.119)\n",
      "Stacktrace:\n",
      "0   chromedriver                        0x0000000102973c08 chromedriver + 4402184\n",
      "1   chromedriver                        0x00000001028fb1f3 chromedriver + 3908083\n",
      "2   chromedriver                        0x00000001025a8e6a chromedriver + 425578\n",
      "3   chromedriver                        0x00000001025e0c91 chromedriver + 654481\n",
      "4   chromedriver                        0x00000001025e0e91 chromedriver + 654993\n",
      "5   chromedriver                        0x0000000102618274 chromedriver + 881268\n",
      "6   chromedriver                        0x00000001025fedcd chromedriver + 777677\n",
      "7   chromedriver                        0x0000000102615f79 chromedriver + 872313\n",
      "8   chromedriver                        0x00000001025febd3 chromedriver + 777171\n",
      "9   chromedriver                        0x00000001025d3ced chromedriver + 601325\n",
      "10  chromedriver                        0x00000001025d4e51 chromedriver + 605777\n",
      "11  chromedriver                        0x000000010294373e chromedriver + 4204350\n",
      "12  chromedriver                        0x0000000102947e07 chromedriver + 4222471\n",
      "13  chromedriver                        0x000000010294f0bf chromedriver + 4251839\n",
      "14  chromedriver                        0x0000000102948b4a chromedriver + 4225866\n",
      "15  chromedriver                        0x00000001029218af chromedriver + 4065455\n",
      "16  chromedriver                        0x0000000102965d18 chromedriver + 4345112\n",
      "17  chromedriver                        0x0000000102965e86 chromedriver + 4345478\n",
      "18  chromedriver                        0x000000010297af6e chromedriver + 4431726\n",
      "19  libsystem_pthread.dylib             0x00007ff801661514 _pthread_start + 125\n",
      "20  libsystem_pthread.dylib             0x00007ff80165d02f thread_start + 15\n",
      "\n",
      "Message: no such element: Unable to locate element: {\"method\":\"xpath\",\"selector\":\"//div[@data-section-id=\"TITLE_DEFAULT\"]/section/div/span/h1\"}\n",
      "  (Session info: chrome=106.0.5249.119)\n",
      "Stacktrace:\n",
      "0   chromedriver                        0x0000000104b66c08 chromedriver + 4402184\n",
      "1   chromedriver                        0x0000000104aee1f3 chromedriver + 3908083\n",
      "2   chromedriver                        0x000000010479be6a chromedriver + 425578\n",
      "3   chromedriver                        0x00000001047d3c91 chromedriver + 654481\n",
      "4   chromedriver                        0x00000001047d3e91 chromedriver + 654993\n",
      "5   chromedriver                        0x000000010480b274 chromedriver + 881268\n",
      "6   chromedriver                        0x00000001047f1dcd chromedriver + 777677\n",
      "7   chromedriver                        0x0000000104808f79 chromedriver + 872313\n",
      "8   chromedriver                        0x00000001047f1bd3 chromedriver + 777171\n",
      "9   chromedriver                        0x00000001047c6ced chromedriver + 601325\n",
      "10  chromedriver                        0x00000001047c7e51 chromedriver + 605777\n",
      "11  chromedriver                        0x0000000104b3673e chromedriver + 4204350\n",
      "12  chromedriver                        0x0000000104b3ae07 chromedriver + 4222471\n",
      "13  chromedriver                        0x0000000104b420bf chromedriver + 4251839\n",
      "14  chromedriver                        0x0000000104b3bb4a chromedriver + 4225866\n",
      "15  chromedriver                        0x0000000104b148af chromedriver + 4065455\n",
      "16  chromedriver                        0x0000000104b58d18 chromedriver + 4345112\n",
      "17  chromedriver                        0x0000000104b58e86 chromedriver + 4345478\n",
      "18  chromedriver                        0x0000000104b6df6e chromedriver + 4431726\n",
      "19  libsystem_pthread.dylib             0x00007ff801661514 _pthread_start + 125\n",
      "20  libsystem_pthread.dylib             0x00007ff80165d02f thread_start + 15\n",
      "\n"
     ]
    },
    {
     "name": "stderr",
     "output_type": "stream",
     "text": [
      " 22%|██▏       | 783/3600 [7:48:38<54:18:40, 69.41s/it]"
     ]
    },
    {
     "name": "stdout",
     "output_type": "stream",
     "text": [
      "Message: no such element: Unable to locate element: {\"method\":\"xpath\",\"selector\":\"//div[@data-section-id=\"TITLE_DEFAULT\"]/section/div/span/h1\"}\n",
      "  (Session info: chrome=106.0.5249.119)\n",
      "Stacktrace:\n",
      "0   chromedriver                        0x0000000102f29c08 chromedriver + 4402184\n",
      "1   chromedriver                        0x0000000102eb11f3 chromedriver + 3908083\n",
      "2   chromedriver                        0x0000000102b5ee6a chromedriver + 425578\n",
      "3   chromedriver                        0x0000000102b96c91 chromedriver + 654481\n",
      "4   chromedriver                        0x0000000102b96e91 chromedriver + 654993\n",
      "5   chromedriver                        0x0000000102bce274 chromedriver + 881268\n",
      "6   chromedriver                        0x0000000102bb4dcd chromedriver + 777677\n",
      "7   chromedriver                        0x0000000102bcbf79 chromedriver + 872313\n",
      "8   chromedriver                        0x0000000102bb4bd3 chromedriver + 777171\n",
      "9   chromedriver                        0x0000000102b89ced chromedriver + 601325\n",
      "10  chromedriver                        0x0000000102b8ae51 chromedriver + 605777\n",
      "11  chromedriver                        0x0000000102ef973e chromedriver + 4204350\n",
      "12  chromedriver                        0x0000000102efde07 chromedriver + 4222471\n",
      "13  chromedriver                        0x0000000102f050bf chromedriver + 4251839\n",
      "14  chromedriver                        0x0000000102efeb4a chromedriver + 4225866\n",
      "15  chromedriver                        0x0000000102ed78af chromedriver + 4065455\n",
      "16  chromedriver                        0x0000000102f1bd18 chromedriver + 4345112\n",
      "17  chromedriver                        0x0000000102f1be86 chromedriver + 4345478\n",
      "18  chromedriver                        0x0000000102f30f6e chromedriver + 4431726\n",
      "19  libsystem_pthread.dylib             0x00007ff801661514 _pthread_start + 125\n",
      "20  libsystem_pthread.dylib             0x00007ff80165d02f thread_start + 15\n",
      "\n"
     ]
    },
    {
     "name": "stderr",
     "output_type": "stream",
     "text": [
      " 22%|██▏       | 790/3600 [7:52:21<27:20:55, 35.04s/it]"
     ]
    },
    {
     "name": "stdout",
     "output_type": "stream",
     "text": [
      "Errors total:  19\n"
     ]
    },
    {
     "name": "stderr",
     "output_type": "stream",
     "text": [
      " 22%|██▏       | 796/3600 [7:55:36<25:35:33, 32.86s/it]"
     ]
    },
    {
     "name": "stdout",
     "output_type": "stream",
     "text": [
      "Message: no such element: Unable to locate element: {\"method\":\"xpath\",\"selector\":\"//span[@class=\"_17p6nbba\"]\"}\n",
      "  (Session info: chrome=106.0.5249.119)\n",
      "Stacktrace:\n",
      "0   chromedriver                        0x000000010325cc08 chromedriver + 4402184\n",
      "1   chromedriver                        0x00000001031e41f3 chromedriver + 3908083\n",
      "2   chromedriver                        0x0000000102e91e6a chromedriver + 425578\n",
      "3   chromedriver                        0x0000000102ec9c91 chromedriver + 654481\n",
      "4   chromedriver                        0x0000000102ec9e91 chromedriver + 654993\n",
      "5   chromedriver                        0x0000000102f01274 chromedriver + 881268\n",
      "6   chromedriver                        0x0000000102ee7dcd chromedriver + 777677\n",
      "7   chromedriver                        0x0000000102efef79 chromedriver + 872313\n",
      "8   chromedriver                        0x0000000102ee7bd3 chromedriver + 777171\n",
      "9   chromedriver                        0x0000000102ebcced chromedriver + 601325\n",
      "10  chromedriver                        0x0000000102ebde51 chromedriver + 605777\n",
      "11  chromedriver                        0x000000010322c73e chromedriver + 4204350\n",
      "12  chromedriver                        0x0000000103230e07 chromedriver + 4222471\n",
      "13  chromedriver                        0x00000001032380bf chromedriver + 4251839\n",
      "14  chromedriver                        0x0000000103231b4a chromedriver + 4225866\n",
      "15  chromedriver                        0x000000010320a8af chromedriver + 4065455\n",
      "16  chromedriver                        0x000000010324ed18 chromedriver + 4345112\n",
      "17  chromedriver                        0x000000010324ee86 chromedriver + 4345478\n",
      "18  chromedriver                        0x0000000103263f6e chromedriver + 4431726\n",
      "19  libsystem_pthread.dylib             0x00007ff801661514 _pthread_start + 125\n",
      "20  libsystem_pthread.dylib             0x00007ff80165d02f thread_start + 15\n",
      "\n",
      "Message: no such element: Unable to locate element: {\"method\":\"xpath\",\"selector\":\"//span[@class=\"_17p6nbba\"]\"}\n",
      "  (Session info: chrome=106.0.5249.119)\n",
      "Stacktrace:\n",
      "0   chromedriver                        0x0000000102df6c08 chromedriver + 4402184\n",
      "1   chromedriver                        0x0000000102d7e1f3 chromedriver + 3908083\n",
      "2   chromedriver                        0x0000000102a2be6a chromedriver + 425578\n",
      "3   chromedriver                        0x0000000102a63c91 chromedriver + 654481\n",
      "4   chromedriver                        0x0000000102a63e91 chromedriver + 654993\n",
      "5   chromedriver                        0x0000000102a9b274 chromedriver + 881268\n",
      "6   chromedriver                        0x0000000102a81dcd chromedriver + 777677\n",
      "7   chromedriver                        0x0000000102a98f79 chromedriver + 872313\n",
      "8   chromedriver                        0x0000000102a81bd3 chromedriver + 777171\n",
      "9   chromedriver                        0x0000000102a56ced chromedriver + 601325\n",
      "10  chromedriver                        0x0000000102a57e51 chromedriver + 605777\n",
      "11  chromedriver                        0x0000000102dc673e chromedriver + 4204350\n",
      "12  chromedriver                        0x0000000102dcae07 chromedriver + 4222471\n",
      "13  chromedriver                        0x0000000102dd20bf chromedriver + 4251839\n",
      "14  chromedriver                        0x0000000102dcbb4a chromedriver + 4225866\n",
      "15  chromedriver                        0x0000000102da48af chromedriver + 4065455\n",
      "16  chromedriver                        0x0000000102de8d18 chromedriver + 4345112\n",
      "17  chromedriver                        0x0000000102de8e86 chromedriver + 4345478\n",
      "18  chromedriver                        0x0000000102dfdf6e chromedriver + 4431726\n",
      "19  libsystem_pthread.dylib             0x00007ff801661514 _pthread_start + 125\n",
      "20  libsystem_pthread.dylib             0x00007ff80165d02f thread_start + 15\n",
      "\n",
      "Message: no such element: Unable to locate element: {\"method\":\"xpath\",\"selector\":\"//span[@class=\"_17p6nbba\"]\"}\n",
      "  (Session info: chrome=106.0.5249.119)\n",
      "Stacktrace:\n",
      "0   chromedriver                        0x0000000102eecc08 chromedriver + 4402184\n",
      "1   chromedriver                        0x0000000102e741f3 chromedriver + 3908083\n",
      "2   chromedriver                        0x0000000102b21e6a chromedriver + 425578\n",
      "3   chromedriver                        0x0000000102b59c91 chromedriver + 654481\n",
      "4   chromedriver                        0x0000000102b59e91 chromedriver + 654993\n",
      "5   chromedriver                        0x0000000102b91274 chromedriver + 881268\n",
      "6   chromedriver                        0x0000000102b77dcd chromedriver + 777677\n",
      "7   chromedriver                        0x0000000102b8ef79 chromedriver + 872313\n",
      "8   chromedriver                        0x0000000102b77bd3 chromedriver + 777171\n",
      "9   chromedriver                        0x0000000102b4cced chromedriver + 601325\n",
      "10  chromedriver                        0x0000000102b4de51 chromedriver + 605777\n",
      "11  chromedriver                        0x0000000102ebc73e chromedriver + 4204350\n",
      "12  chromedriver                        0x0000000102ec0e07 chromedriver + 4222471\n",
      "13  chromedriver                        0x0000000102ec80bf chromedriver + 4251839\n",
      "14  chromedriver                        0x0000000102ec1b4a chromedriver + 4225866\n",
      "15  chromedriver                        0x0000000102e9a8af chromedriver + 4065455\n",
      "16  chromedriver                        0x0000000102eded18 chromedriver + 4345112\n",
      "17  chromedriver                        0x0000000102edee86 chromedriver + 4345478\n",
      "18  chromedriver                        0x0000000102ef3f6e chromedriver + 4431726\n",
      "19  libsystem_pthread.dylib             0x00007ff801661514 _pthread_start + 125\n",
      "20  libsystem_pthread.dylib             0x00007ff80165d02f thread_start + 15\n",
      "\n",
      "Message: no such element: Unable to locate element: {\"method\":\"xpath\",\"selector\":\"//span[@class=\"_17p6nbba\"]\"}\n",
      "  (Session info: chrome=106.0.5249.119)\n",
      "Stacktrace:\n",
      "0   chromedriver                        0x0000000100d2cc08 chromedriver + 4402184\n",
      "1   chromedriver                        0x0000000100cb41f3 chromedriver + 3908083\n",
      "2   chromedriver                        0x0000000100961e6a chromedriver + 425578\n",
      "3   chromedriver                        0x0000000100999c91 chromedriver + 654481\n",
      "4   chromedriver                        0x0000000100999e91 chromedriver + 654993\n",
      "5   chromedriver                        0x00000001009d1274 chromedriver + 881268\n",
      "6   chromedriver                        0x00000001009b7dcd chromedriver + 777677\n",
      "7   chromedriver                        0x00000001009cef79 chromedriver + 872313\n",
      "8   chromedriver                        0x00000001009b7bd3 chromedriver + 777171\n",
      "9   chromedriver                        0x000000010098cced chromedriver + 601325\n",
      "10  chromedriver                        0x000000010098de51 chromedriver + 605777\n",
      "11  chromedriver                        0x0000000100cfc73e chromedriver + 4204350\n",
      "12  chromedriver                        0x0000000100d00e07 chromedriver + 4222471\n",
      "13  chromedriver                        0x0000000100d080bf chromedriver + 4251839\n",
      "14  chromedriver                        0x0000000100d01b4a chromedriver + 4225866\n",
      "15  chromedriver                        0x0000000100cda8af chromedriver + 4065455\n",
      "16  chromedriver                        0x0000000100d1ed18 chromedriver + 4345112\n",
      "17  chromedriver                        0x0000000100d1ee86 chromedriver + 4345478\n",
      "18  chromedriver                        0x0000000100d33f6e chromedriver + 4431726\n",
      "19  libsystem_pthread.dylib             0x00007ff801661514 _pthread_start + 125\n",
      "20  libsystem_pthread.dylib             0x00007ff80165d02f thread_start + 15\n",
      "\n"
     ]
    },
    {
     "name": "stderr",
     "output_type": "stream",
     "text": [
      " 22%|██▏       | 797/3600 [7:58:15<55:09:37, 70.84s/it]"
     ]
    },
    {
     "name": "stdout",
     "output_type": "stream",
     "text": [
      "Message: no such element: Unable to locate element: {\"method\":\"xpath\",\"selector\":\"//span[@class=\"_17p6nbba\"]\"}\n",
      "  (Session info: chrome=106.0.5249.119)\n",
      "Stacktrace:\n",
      "0   chromedriver                        0x00000001028fbc08 chromedriver + 4402184\n",
      "1   chromedriver                        0x00000001028831f3 chromedriver + 3908083\n",
      "2   chromedriver                        0x0000000102530e6a chromedriver + 425578\n",
      "3   chromedriver                        0x0000000102568c91 chromedriver + 654481\n",
      "4   chromedriver                        0x0000000102568e91 chromedriver + 654993\n",
      "5   chromedriver                        0x00000001025a0274 chromedriver + 881268\n",
      "6   chromedriver                        0x0000000102586dcd chromedriver + 777677\n",
      "7   chromedriver                        0x000000010259df79 chromedriver + 872313\n",
      "8   chromedriver                        0x0000000102586bd3 chromedriver + 777171\n",
      "9   chromedriver                        0x000000010255bced chromedriver + 601325\n",
      "10  chromedriver                        0x000000010255ce51 chromedriver + 605777\n",
      "11  chromedriver                        0x00000001028cb73e chromedriver + 4204350\n",
      "12  chromedriver                        0x00000001028cfe07 chromedriver + 4222471\n",
      "13  chromedriver                        0x00000001028d70bf chromedriver + 4251839\n",
      "14  chromedriver                        0x00000001028d0b4a chromedriver + 4225866\n",
      "15  chromedriver                        0x00000001028a98af chromedriver + 4065455\n",
      "16  chromedriver                        0x00000001028edd18 chromedriver + 4345112\n",
      "17  chromedriver                        0x00000001028ede86 chromedriver + 4345478\n",
      "18  chromedriver                        0x0000000102902f6e chromedriver + 4431726\n",
      "19  libsystem_pthread.dylib             0x00007ff801661514 _pthread_start + 125\n",
      "20  libsystem_pthread.dylib             0x00007ff80165d02f thread_start + 15\n",
      "\n"
     ]
    },
    {
     "name": "stderr",
     "output_type": "stream",
     "text": [
      " 22%|██▏       | 799/3600 [7:59:20<39:50:04, 51.20s/it]"
     ]
    },
    {
     "name": "stdout",
     "output_type": "stream",
     "text": [
      "Message: no such element: Unable to locate element: {\"method\":\"xpath\",\"selector\":\"//div[@data-section-id=\"TITLE_DEFAULT\"]/section/div/span/h1\"}\n",
      "  (Session info: chrome=106.0.5249.119)\n",
      "Stacktrace:\n",
      "0   chromedriver                        0x0000000102c35c08 chromedriver + 4402184\n",
      "1   chromedriver                        0x0000000102bbd1f3 chromedriver + 3908083\n",
      "2   chromedriver                        0x000000010286ae6a chromedriver + 425578\n",
      "3   chromedriver                        0x00000001028a2c91 chromedriver + 654481\n",
      "4   chromedriver                        0x00000001028a2e91 chromedriver + 654993\n",
      "5   chromedriver                        0x00000001028da274 chromedriver + 881268\n",
      "6   chromedriver                        0x00000001028c0dcd chromedriver + 777677\n",
      "7   chromedriver                        0x00000001028d7f79 chromedriver + 872313\n",
      "8   chromedriver                        0x00000001028c0bd3 chromedriver + 777171\n",
      "9   chromedriver                        0x0000000102895ced chromedriver + 601325\n",
      "10  chromedriver                        0x0000000102896e51 chromedriver + 605777\n",
      "11  chromedriver                        0x0000000102c0573e chromedriver + 4204350\n",
      "12  chromedriver                        0x0000000102c09e07 chromedriver + 4222471\n",
      "13  chromedriver                        0x0000000102c110bf chromedriver + 4251839\n",
      "14  chromedriver                        0x0000000102c0ab4a chromedriver + 4225866\n",
      "15  chromedriver                        0x0000000102be38af chromedriver + 4065455\n",
      "16  chromedriver                        0x0000000102c27d18 chromedriver + 4345112\n",
      "17  chromedriver                        0x0000000102c27e86 chromedriver + 4345478\n",
      "18  chromedriver                        0x0000000102c3cf6e chromedriver + 4431726\n",
      "19  libsystem_pthread.dylib             0x00007ff801661514 _pthread_start + 125\n",
      "20  libsystem_pthread.dylib             0x00007ff80165d02f thread_start + 15\n",
      "\n",
      "Message: no such element: Unable to locate element: {\"method\":\"xpath\",\"selector\":\"//div[@data-section-id=\"TITLE_DEFAULT\"]/section/div/span/h1\"}\n",
      "  (Session info: chrome=106.0.5249.119)\n",
      "Stacktrace:\n",
      "0   chromedriver                        0x0000000102d0ac08 chromedriver + 4402184\n",
      "1   chromedriver                        0x0000000102c921f3 chromedriver + 3908083\n",
      "2   chromedriver                        0x000000010293fe6a chromedriver + 425578\n",
      "3   chromedriver                        0x0000000102977c91 chromedriver + 654481\n",
      "4   chromedriver                        0x0000000102977e91 chromedriver + 654993\n",
      "5   chromedriver                        0x00000001029af274 chromedriver + 881268\n",
      "6   chromedriver                        0x0000000102995dcd chromedriver + 777677\n",
      "7   chromedriver                        0x00000001029acf79 chromedriver + 872313\n",
      "8   chromedriver                        0x0000000102995bd3 chromedriver + 777171\n",
      "9   chromedriver                        0x000000010296aced chromedriver + 601325\n",
      "10  chromedriver                        0x000000010296be51 chromedriver + 605777\n",
      "11  chromedriver                        0x0000000102cda73e chromedriver + 4204350\n",
      "12  chromedriver                        0x0000000102cdee07 chromedriver + 4222471\n",
      "13  chromedriver                        0x0000000102ce60bf chromedriver + 4251839\n",
      "14  chromedriver                        0x0000000102cdfb4a chromedriver + 4225866\n",
      "15  chromedriver                        0x0000000102cb88af chromedriver + 4065455\n",
      "16  chromedriver                        0x0000000102cfcd18 chromedriver + 4345112\n",
      "17  chromedriver                        0x0000000102cfce86 chromedriver + 4345478\n",
      "18  chromedriver                        0x0000000102d11f6e chromedriver + 4431726\n",
      "19  libsystem_pthread.dylib             0x00007ff801661514 _pthread_start + 125\n",
      "20  libsystem_pthread.dylib             0x00007ff80165d02f thread_start + 15\n",
      "\n",
      "Message: no such element: Unable to locate element: {\"method\":\"xpath\",\"selector\":\"//div[@data-section-id=\"TITLE_DEFAULT\"]/section/div/span/h1\"}\n",
      "  (Session info: chrome=106.0.5249.119)\n",
      "Stacktrace:\n",
      "0   chromedriver                        0x0000000100778c08 chromedriver + 4402184\n",
      "1   chromedriver                        0x00000001007001f3 chromedriver + 3908083\n",
      "2   chromedriver                        0x00000001003ade6a chromedriver + 425578\n",
      "3   chromedriver                        0x00000001003e5c91 chromedriver + 654481\n",
      "4   chromedriver                        0x00000001003e5e91 chromedriver + 654993\n",
      "5   chromedriver                        0x000000010041d274 chromedriver + 881268\n",
      "6   chromedriver                        0x0000000100403dcd chromedriver + 777677\n",
      "7   chromedriver                        0x000000010041af79 chromedriver + 872313\n",
      "8   chromedriver                        0x0000000100403bd3 chromedriver + 777171\n",
      "9   chromedriver                        0x00000001003d8ced chromedriver + 601325\n",
      "10  chromedriver                        0x00000001003d9e51 chromedriver + 605777\n",
      "11  chromedriver                        0x000000010074873e chromedriver + 4204350\n",
      "12  chromedriver                        0x000000010074ce07 chromedriver + 4222471\n",
      "13  chromedriver                        0x00000001007540bf chromedriver + 4251839\n",
      "14  chromedriver                        0x000000010074db4a chromedriver + 4225866\n",
      "15  chromedriver                        0x00000001007268af chromedriver + 4065455\n",
      "16  chromedriver                        0x000000010076ad18 chromedriver + 4345112\n",
      "17  chromedriver                        0x000000010076ae86 chromedriver + 4345478\n",
      "18  chromedriver                        0x000000010077ff6e chromedriver + 4431726\n",
      "19  libsystem_pthread.dylib             0x00007ff801661514 _pthread_start + 125\n",
      "20  libsystem_pthread.dylib             0x00007ff80165d02f thread_start + 15\n",
      "\n",
      "Message: no such element: Unable to locate element: {\"method\":\"xpath\",\"selector\":\"//div[@data-section-id=\"TITLE_DEFAULT\"]/section/div/span/h1\"}\n",
      "  (Session info: chrome=106.0.5249.119)\n",
      "Stacktrace:\n",
      "0   chromedriver                        0x000000010297ac08 chromedriver + 4402184\n",
      "1   chromedriver                        0x00000001029021f3 chromedriver + 3908083\n",
      "2   chromedriver                        0x00000001025afe6a chromedriver + 425578\n",
      "3   chromedriver                        0x00000001025e7c91 chromedriver + 654481\n",
      "4   chromedriver                        0x00000001025e7e91 chromedriver + 654993\n",
      "5   chromedriver                        0x000000010261f274 chromedriver + 881268\n",
      "6   chromedriver                        0x0000000102605dcd chromedriver + 777677\n",
      "7   chromedriver                        0x000000010261cf79 chromedriver + 872313\n",
      "8   chromedriver                        0x0000000102605bd3 chromedriver + 777171\n",
      "9   chromedriver                        0x00000001025daced chromedriver + 601325\n",
      "10  chromedriver                        0x00000001025dbe51 chromedriver + 605777\n",
      "11  chromedriver                        0x000000010294a73e chromedriver + 4204350\n",
      "12  chromedriver                        0x000000010294ee07 chromedriver + 4222471\n",
      "13  chromedriver                        0x00000001029560bf chromedriver + 4251839\n",
      "14  chromedriver                        0x000000010294fb4a chromedriver + 4225866\n",
      "15  chromedriver                        0x00000001029288af chromedriver + 4065455\n",
      "16  chromedriver                        0x000000010296cd18 chromedriver + 4345112\n",
      "17  chromedriver                        0x000000010296ce86 chromedriver + 4345478\n",
      "18  chromedriver                        0x0000000102981f6e chromedriver + 4431726\n",
      "19  libsystem_pthread.dylib             0x00007ff801661514 _pthread_start + 125\n",
      "20  libsystem_pthread.dylib             0x00007ff80165d02f thread_start + 15\n",
      "\n"
     ]
    },
    {
     "name": "stderr",
     "output_type": "stream",
     "text": [
      " 22%|██▏       | 800/3600 [8:01:58<64:43:37, 83.22s/it]"
     ]
    },
    {
     "name": "stdout",
     "output_type": "stream",
     "text": [
      "Message: no such element: Unable to locate element: {\"method\":\"xpath\",\"selector\":\"//div[@data-section-id=\"TITLE_DEFAULT\"]/section/div/span/h1\"}\n",
      "  (Session info: chrome=106.0.5249.119)\n",
      "Stacktrace:\n",
      "0   chromedriver                        0x00000001045e9c08 chromedriver + 4402184\n",
      "1   chromedriver                        0x00000001045711f3 chromedriver + 3908083\n",
      "2   chromedriver                        0x000000010421ee6a chromedriver + 425578\n",
      "3   chromedriver                        0x0000000104256c91 chromedriver + 654481\n",
      "4   chromedriver                        0x0000000104256e91 chromedriver + 654993\n",
      "5   chromedriver                        0x000000010428e274 chromedriver + 881268\n",
      "6   chromedriver                        0x0000000104274dcd chromedriver + 777677\n",
      "7   chromedriver                        0x000000010428bf79 chromedriver + 872313\n",
      "8   chromedriver                        0x0000000104274bd3 chromedriver + 777171\n",
      "9   chromedriver                        0x0000000104249ced chromedriver + 601325\n",
      "10  chromedriver                        0x000000010424ae51 chromedriver + 605777\n",
      "11  chromedriver                        0x00000001045b973e chromedriver + 4204350\n",
      "12  chromedriver                        0x00000001045bde07 chromedriver + 4222471\n",
      "13  chromedriver                        0x00000001045c50bf chromedriver + 4251839\n",
      "14  chromedriver                        0x00000001045beb4a chromedriver + 4225866\n",
      "15  chromedriver                        0x00000001045978af chromedriver + 4065455\n",
      "16  chromedriver                        0x00000001045dbd18 chromedriver + 4345112\n",
      "17  chromedriver                        0x00000001045dbe86 chromedriver + 4345478\n",
      "18  chromedriver                        0x00000001045f0f6e chromedriver + 4431726\n",
      "19  libsystem_pthread.dylib             0x00007ff801661514 _pthread_start + 125\n",
      "20  libsystem_pthread.dylib             0x00007ff80165d02f thread_start + 15\n",
      "\n",
      "Errors total:  21\n"
     ]
    },
    {
     "name": "stderr",
     "output_type": "stream",
     "text": [
      " 22%|██▎       | 810/3600 [8:07:22<26:20:25, 33.99s/it]"
     ]
    },
    {
     "name": "stdout",
     "output_type": "stream",
     "text": [
      "Errors total:  21\n"
     ]
    },
    {
     "name": "stderr",
     "output_type": "stream",
     "text": [
      " 23%|██▎       | 820/3600 [8:12:41<25:00:14, 32.38s/it]"
     ]
    },
    {
     "name": "stdout",
     "output_type": "stream",
     "text": [
      "Errors total:  21\n"
     ]
    },
    {
     "name": "stderr",
     "output_type": "stream",
     "text": [
      " 23%|██▎       | 823/3600 [8:14:15<24:41:43, 32.01s/it]"
     ]
    },
    {
     "name": "stdout",
     "output_type": "stream",
     "text": [
      "Message: no such element: Unable to locate element: {\"method\":\"xpath\",\"selector\":\"//span[@class=\"_17p6nbba\"]\"}\n",
      "  (Session info: chrome=106.0.5249.119)\n",
      "Stacktrace:\n",
      "0   chromedriver                        0x0000000100801c08 chromedriver + 4402184\n",
      "1   chromedriver                        0x00000001007891f3 chromedriver + 3908083\n",
      "2   chromedriver                        0x0000000100436e6a chromedriver + 425578\n",
      "3   chromedriver                        0x000000010046ec91 chromedriver + 654481\n",
      "4   chromedriver                        0x000000010046ee91 chromedriver + 654993\n",
      "5   chromedriver                        0x00000001004a6274 chromedriver + 881268\n",
      "6   chromedriver                        0x000000010048cdcd chromedriver + 777677\n",
      "7   chromedriver                        0x00000001004a3f79 chromedriver + 872313\n",
      "8   chromedriver                        0x000000010048cbd3 chromedriver + 777171\n",
      "9   chromedriver                        0x0000000100461ced chromedriver + 601325\n",
      "10  chromedriver                        0x0000000100462e51 chromedriver + 605777\n",
      "11  chromedriver                        0x00000001007d173e chromedriver + 4204350\n",
      "12  chromedriver                        0x00000001007d5e07 chromedriver + 4222471\n",
      "13  chromedriver                        0x00000001007dd0bf chromedriver + 4251839\n",
      "14  chromedriver                        0x00000001007d6b4a chromedriver + 4225866\n",
      "15  chromedriver                        0x00000001007af8af chromedriver + 4065455\n",
      "16  chromedriver                        0x00000001007f3d18 chromedriver + 4345112\n",
      "17  chromedriver                        0x00000001007f3e86 chromedriver + 4345478\n",
      "18  chromedriver                        0x0000000100808f6e chromedriver + 4431726\n",
      "19  libsystem_pthread.dylib             0x00007ff801661514 _pthread_start + 125\n",
      "20  libsystem_pthread.dylib             0x00007ff80165d02f thread_start + 15\n",
      "\n",
      "Message: no such element: Unable to locate element: {\"method\":\"xpath\",\"selector\":\"//span[@class=\"_17p6nbba\"]\"}\n",
      "  (Session info: chrome=106.0.5249.119)\n",
      "Stacktrace:\n",
      "0   chromedriver                        0x00000001048b1c08 chromedriver + 4402184\n",
      "1   chromedriver                        0x00000001048391f3 chromedriver + 3908083\n",
      "2   chromedriver                        0x00000001044e6e6a chromedriver + 425578\n",
      "3   chromedriver                        0x000000010451ec91 chromedriver + 654481\n",
      "4   chromedriver                        0x000000010451ee91 chromedriver + 654993\n",
      "5   chromedriver                        0x0000000104556274 chromedriver + 881268\n",
      "6   chromedriver                        0x000000010453cdcd chromedriver + 777677\n",
      "7   chromedriver                        0x0000000104553f79 chromedriver + 872313\n",
      "8   chromedriver                        0x000000010453cbd3 chromedriver + 777171\n",
      "9   chromedriver                        0x0000000104511ced chromedriver + 601325\n",
      "10  chromedriver                        0x0000000104512e51 chromedriver + 605777\n",
      "11  chromedriver                        0x000000010488173e chromedriver + 4204350\n",
      "12  chromedriver                        0x0000000104885e07 chromedriver + 4222471\n",
      "13  chromedriver                        0x000000010488d0bf chromedriver + 4251839\n",
      "14  chromedriver                        0x0000000104886b4a chromedriver + 4225866\n",
      "15  chromedriver                        0x000000010485f8af chromedriver + 4065455\n",
      "16  chromedriver                        0x00000001048a3d18 chromedriver + 4345112\n",
      "17  chromedriver                        0x00000001048a3e86 chromedriver + 4345478\n",
      "18  chromedriver                        0x00000001048b8f6e chromedriver + 4431726\n",
      "19  libsystem_pthread.dylib             0x00007ff801661514 _pthread_start + 125\n",
      "20  libsystem_pthread.dylib             0x00007ff80165d02f thread_start + 15\n",
      "\n",
      "Message: no such element: Unable to locate element: {\"method\":\"xpath\",\"selector\":\"//span[@class=\"_17p6nbba\"]\"}\n",
      "  (Session info: chrome=106.0.5249.119)\n",
      "Stacktrace:\n",
      "0   chromedriver                        0x0000000104ad6c08 chromedriver + 4402184\n",
      "1   chromedriver                        0x0000000104a5e1f3 chromedriver + 3908083\n",
      "2   chromedriver                        0x000000010470be6a chromedriver + 425578\n",
      "3   chromedriver                        0x0000000104743c91 chromedriver + 654481\n",
      "4   chromedriver                        0x0000000104743e91 chromedriver + 654993\n",
      "5   chromedriver                        0x000000010477b274 chromedriver + 881268\n",
      "6   chromedriver                        0x0000000104761dcd chromedriver + 777677\n",
      "7   chromedriver                        0x0000000104778f79 chromedriver + 872313\n",
      "8   chromedriver                        0x0000000104761bd3 chromedriver + 777171\n",
      "9   chromedriver                        0x0000000104736ced chromedriver + 601325\n",
      "10  chromedriver                        0x0000000104737e51 chromedriver + 605777\n",
      "11  chromedriver                        0x0000000104aa673e chromedriver + 4204350\n",
      "12  chromedriver                        0x0000000104aaae07 chromedriver + 4222471\n",
      "13  chromedriver                        0x0000000104ab20bf chromedriver + 4251839\n",
      "14  chromedriver                        0x0000000104aabb4a chromedriver + 4225866\n",
      "15  chromedriver                        0x0000000104a848af chromedriver + 4065455\n",
      "16  chromedriver                        0x0000000104ac8d18 chromedriver + 4345112\n",
      "17  chromedriver                        0x0000000104ac8e86 chromedriver + 4345478\n",
      "18  chromedriver                        0x0000000104addf6e chromedriver + 4431726\n",
      "19  libsystem_pthread.dylib             0x00007ff801661514 _pthread_start + 125\n",
      "20  libsystem_pthread.dylib             0x00007ff80165d02f thread_start + 15\n",
      "\n",
      "Message: no such element: Unable to locate element: {\"method\":\"xpath\",\"selector\":\"//span[@class=\"_17p6nbba\"]\"}\n",
      "  (Session info: chrome=106.0.5249.119)\n",
      "Stacktrace:\n",
      "0   chromedriver                        0x000000010330bc08 chromedriver + 4402184\n",
      "1   chromedriver                        0x00000001032931f3 chromedriver + 3908083\n",
      "2   chromedriver                        0x0000000102f40e6a chromedriver + 425578\n",
      "3   chromedriver                        0x0000000102f78c91 chromedriver + 654481\n",
      "4   chromedriver                        0x0000000102f78e91 chromedriver + 654993\n",
      "5   chromedriver                        0x0000000102fb0274 chromedriver + 881268\n",
      "6   chromedriver                        0x0000000102f96dcd chromedriver + 777677\n",
      "7   chromedriver                        0x0000000102fadf79 chromedriver + 872313\n",
      "8   chromedriver                        0x0000000102f96bd3 chromedriver + 777171\n",
      "9   chromedriver                        0x0000000102f6bced chromedriver + 601325\n",
      "10  chromedriver                        0x0000000102f6ce51 chromedriver + 605777\n",
      "11  chromedriver                        0x00000001032db73e chromedriver + 4204350\n",
      "12  chromedriver                        0x00000001032dfe07 chromedriver + 4222471\n",
      "13  chromedriver                        0x00000001032e70bf chromedriver + 4251839\n",
      "14  chromedriver                        0x00000001032e0b4a chromedriver + 4225866\n",
      "15  chromedriver                        0x00000001032b98af chromedriver + 4065455\n",
      "16  chromedriver                        0x00000001032fdd18 chromedriver + 4345112\n",
      "17  chromedriver                        0x00000001032fde86 chromedriver + 4345478\n",
      "18  chromedriver                        0x0000000103312f6e chromedriver + 4431726\n",
      "19  libsystem_pthread.dylib             0x00007ff801661514 _pthread_start + 125\n",
      "20  libsystem_pthread.dylib             0x00007ff80165d02f thread_start + 15\n",
      "\n"
     ]
    },
    {
     "name": "stderr",
     "output_type": "stream",
     "text": [
      " 23%|██▎       | 824/3600 [8:16:55<54:15:57, 70.37s/it]"
     ]
    },
    {
     "name": "stdout",
     "output_type": "stream",
     "text": [
      "Message: no such element: Unable to locate element: {\"method\":\"xpath\",\"selector\":\"//span[@class=\"_17p6nbba\"]\"}\n",
      "  (Session info: chrome=106.0.5249.119)\n",
      "Stacktrace:\n",
      "0   chromedriver                        0x00000001006e7c08 chromedriver + 4402184\n",
      "1   chromedriver                        0x000000010066f1f3 chromedriver + 3908083\n",
      "2   chromedriver                        0x000000010031ce6a chromedriver + 425578\n",
      "3   chromedriver                        0x0000000100354c91 chromedriver + 654481\n",
      "4   chromedriver                        0x0000000100354e91 chromedriver + 654993\n",
      "5   chromedriver                        0x000000010038c274 chromedriver + 881268\n",
      "6   chromedriver                        0x0000000100372dcd chromedriver + 777677\n",
      "7   chromedriver                        0x0000000100389f79 chromedriver + 872313\n",
      "8   chromedriver                        0x0000000100372bd3 chromedriver + 777171\n",
      "9   chromedriver                        0x0000000100347ced chromedriver + 601325\n",
      "10  chromedriver                        0x0000000100348e51 chromedriver + 605777\n",
      "11  chromedriver                        0x00000001006b773e chromedriver + 4204350\n",
      "12  chromedriver                        0x00000001006bbe07 chromedriver + 4222471\n",
      "13  chromedriver                        0x00000001006c30bf chromedriver + 4251839\n",
      "14  chromedriver                        0x00000001006bcb4a chromedriver + 4225866\n",
      "15  chromedriver                        0x00000001006958af chromedriver + 4065455\n",
      "16  chromedriver                        0x00000001006d9d18 chromedriver + 4345112\n",
      "17  chromedriver                        0x00000001006d9e86 chromedriver + 4345478\n",
      "18  chromedriver                        0x00000001006eef6e chromedriver + 4431726\n",
      "19  libsystem_pthread.dylib             0x00007ff801661514 _pthread_start + 125\n",
      "20  libsystem_pthread.dylib             0x00007ff80165d02f thread_start + 15\n",
      "\n"
     ]
    },
    {
     "name": "stderr",
     "output_type": "stream",
     "text": [
      " 23%|██▎       | 830/3600 [8:20:09<28:29:20, 37.03s/it]"
     ]
    },
    {
     "name": "stdout",
     "output_type": "stream",
     "text": [
      "Errors total:  22\n"
     ]
    },
    {
     "name": "stderr",
     "output_type": "stream",
     "text": [
      " 23%|██▎       | 837/3600 [8:23:56<25:05:50, 32.70s/it]"
     ]
    },
    {
     "name": "stdout",
     "output_type": "stream",
     "text": [
      "Message: no such element: Unable to locate element: {\"method\":\"xpath\",\"selector\":\"//span[@class=\"_17p6nbba\"]\"}\n",
      "  (Session info: chrome=106.0.5249.119)\n",
      "Stacktrace:\n",
      "0   chromedriver                        0x000000010482fc08 chromedriver + 4402184\n",
      "1   chromedriver                        0x00000001047b71f3 chromedriver + 3908083\n",
      "2   chromedriver                        0x0000000104464e6a chromedriver + 425578\n",
      "3   chromedriver                        0x000000010449cc91 chromedriver + 654481\n",
      "4   chromedriver                        0x000000010449ce91 chromedriver + 654993\n",
      "5   chromedriver                        0x00000001044d4274 chromedriver + 881268\n",
      "6   chromedriver                        0x00000001044badcd chromedriver + 777677\n",
      "7   chromedriver                        0x00000001044d1f79 chromedriver + 872313\n",
      "8   chromedriver                        0x00000001044babd3 chromedriver + 777171\n",
      "9   chromedriver                        0x000000010448fced chromedriver + 601325\n",
      "10  chromedriver                        0x0000000104490e51 chromedriver + 605777\n",
      "11  chromedriver                        0x00000001047ff73e chromedriver + 4204350\n",
      "12  chromedriver                        0x0000000104803e07 chromedriver + 4222471\n",
      "13  chromedriver                        0x000000010480b0bf chromedriver + 4251839\n",
      "14  chromedriver                        0x0000000104804b4a chromedriver + 4225866\n",
      "15  chromedriver                        0x00000001047dd8af chromedriver + 4065455\n",
      "16  chromedriver                        0x0000000104821d18 chromedriver + 4345112\n",
      "17  chromedriver                        0x0000000104821e86 chromedriver + 4345478\n",
      "18  chromedriver                        0x0000000104836f6e chromedriver + 4431726\n",
      "19  libsystem_pthread.dylib             0x00007ff801661514 _pthread_start + 125\n",
      "20  libsystem_pthread.dylib             0x00007ff80165d02f thread_start + 15\n",
      "\n",
      "Message: no such element: Unable to locate element: {\"method\":\"xpath\",\"selector\":\"//span[@class=\"_17p6nbba\"]\"}\n",
      "  (Session info: chrome=106.0.5249.119)\n",
      "Stacktrace:\n",
      "0   chromedriver                        0x00000001010ccc08 chromedriver + 4402184\n",
      "1   chromedriver                        0x00000001010541f3 chromedriver + 3908083\n",
      "2   chromedriver                        0x0000000100d01e6a chromedriver + 425578\n",
      "3   chromedriver                        0x0000000100d39c91 chromedriver + 654481\n",
      "4   chromedriver                        0x0000000100d39e91 chromedriver + 654993\n",
      "5   chromedriver                        0x0000000100d71274 chromedriver + 881268\n",
      "6   chromedriver                        0x0000000100d57dcd chromedriver + 777677\n",
      "7   chromedriver                        0x0000000100d6ef79 chromedriver + 872313\n",
      "8   chromedriver                        0x0000000100d57bd3 chromedriver + 777171\n",
      "9   chromedriver                        0x0000000100d2cced chromedriver + 601325\n",
      "10  chromedriver                        0x0000000100d2de51 chromedriver + 605777\n",
      "11  chromedriver                        0x000000010109c73e chromedriver + 4204350\n",
      "12  chromedriver                        0x00000001010a0e07 chromedriver + 4222471\n",
      "13  chromedriver                        0x00000001010a80bf chromedriver + 4251839\n",
      "14  chromedriver                        0x00000001010a1b4a chromedriver + 4225866\n",
      "15  chromedriver                        0x000000010107a8af chromedriver + 4065455\n",
      "16  chromedriver                        0x00000001010bed18 chromedriver + 4345112\n",
      "17  chromedriver                        0x00000001010bee86 chromedriver + 4345478\n",
      "18  chromedriver                        0x00000001010d3f6e chromedriver + 4431726\n",
      "19  libsystem_pthread.dylib             0x00007ff801661514 _pthread_start + 125\n",
      "20  libsystem_pthread.dylib             0x00007ff80165d02f thread_start + 15\n",
      "\n",
      "Message: no such element: Unable to locate element: {\"method\":\"xpath\",\"selector\":\"//span[@class=\"_17p6nbba\"]\"}\n",
      "  (Session info: chrome=106.0.5249.119)\n",
      "Stacktrace:\n",
      "0   chromedriver                        0x00000001050c7c08 chromedriver + 4402184\n",
      "1   chromedriver                        0x000000010504f1f3 chromedriver + 3908083\n",
      "2   chromedriver                        0x0000000104cfce6a chromedriver + 425578\n",
      "3   chromedriver                        0x0000000104d34c91 chromedriver + 654481\n",
      "4   chromedriver                        0x0000000104d34e91 chromedriver + 654993\n",
      "5   chromedriver                        0x0000000104d6c274 chromedriver + 881268\n",
      "6   chromedriver                        0x0000000104d52dcd chromedriver + 777677\n",
      "7   chromedriver                        0x0000000104d69f79 chromedriver + 872313\n",
      "8   chromedriver                        0x0000000104d52bd3 chromedriver + 777171\n",
      "9   chromedriver                        0x0000000104d27ced chromedriver + 601325\n",
      "10  chromedriver                        0x0000000104d28e51 chromedriver + 605777\n",
      "11  chromedriver                        0x000000010509773e chromedriver + 4204350\n",
      "12  chromedriver                        0x000000010509be07 chromedriver + 4222471\n",
      "13  chromedriver                        0x00000001050a30bf chromedriver + 4251839\n",
      "14  chromedriver                        0x000000010509cb4a chromedriver + 4225866\n",
      "15  chromedriver                        0x00000001050758af chromedriver + 4065455\n",
      "16  chromedriver                        0x00000001050b9d18 chromedriver + 4345112\n",
      "17  chromedriver                        0x00000001050b9e86 chromedriver + 4345478\n",
      "18  chromedriver                        0x00000001050cef6e chromedriver + 4431726\n",
      "19  libsystem_pthread.dylib             0x00007ff801661514 _pthread_start + 125\n",
      "20  libsystem_pthread.dylib             0x00007ff80165d02f thread_start + 15\n",
      "\n",
      "Message: no such element: Unable to locate element: {\"method\":\"xpath\",\"selector\":\"//span[@class=\"_17p6nbba\"]\"}\n",
      "  (Session info: chrome=106.0.5249.119)\n",
      "Stacktrace:\n",
      "0   chromedriver                        0x00000001004a8c08 chromedriver + 4402184\n",
      "1   chromedriver                        0x00000001004301f3 chromedriver + 3908083\n",
      "2   chromedriver                        0x00000001000dde6a chromedriver + 425578\n",
      "3   chromedriver                        0x0000000100115c91 chromedriver + 654481\n",
      "4   chromedriver                        0x0000000100115e91 chromedriver + 654993\n",
      "5   chromedriver                        0x000000010014d274 chromedriver + 881268\n",
      "6   chromedriver                        0x0000000100133dcd chromedriver + 777677\n",
      "7   chromedriver                        0x000000010014af79 chromedriver + 872313\n",
      "8   chromedriver                        0x0000000100133bd3 chromedriver + 777171\n",
      "9   chromedriver                        0x0000000100108ced chromedriver + 601325\n",
      "10  chromedriver                        0x0000000100109e51 chromedriver + 605777\n",
      "11  chromedriver                        0x000000010047873e chromedriver + 4204350\n",
      "12  chromedriver                        0x000000010047ce07 chromedriver + 4222471\n",
      "13  chromedriver                        0x00000001004840bf chromedriver + 4251839\n",
      "14  chromedriver                        0x000000010047db4a chromedriver + 4225866\n",
      "15  chromedriver                        0x00000001004568af chromedriver + 4065455\n",
      "16  chromedriver                        0x000000010049ad18 chromedriver + 4345112\n",
      "17  chromedriver                        0x000000010049ae86 chromedriver + 4345478\n",
      "18  chromedriver                        0x00000001004aff6e chromedriver + 4431726\n",
      "19  libsystem_pthread.dylib             0x00007ff801661514 _pthread_start + 125\n",
      "20  libsystem_pthread.dylib             0x00007ff80165d02f thread_start + 15\n",
      "\n"
     ]
    },
    {
     "name": "stderr",
     "output_type": "stream",
     "text": [
      " 23%|██▎       | 838/3600 [8:26:34<53:52:58, 70.23s/it]"
     ]
    },
    {
     "name": "stdout",
     "output_type": "stream",
     "text": [
      "Message: no such element: Unable to locate element: {\"method\":\"xpath\",\"selector\":\"//span[@class=\"_17p6nbba\"]\"}\n",
      "  (Session info: chrome=106.0.5249.119)\n",
      "Stacktrace:\n",
      "0   chromedriver                        0x0000000100fa8c08 chromedriver + 4402184\n",
      "1   chromedriver                        0x0000000100f301f3 chromedriver + 3908083\n",
      "2   chromedriver                        0x0000000100bdde6a chromedriver + 425578\n",
      "3   chromedriver                        0x0000000100c15c91 chromedriver + 654481\n",
      "4   chromedriver                        0x0000000100c15e91 chromedriver + 654993\n",
      "5   chromedriver                        0x0000000100c4d274 chromedriver + 881268\n",
      "6   chromedriver                        0x0000000100c33dcd chromedriver + 777677\n",
      "7   chromedriver                        0x0000000100c4af79 chromedriver + 872313\n",
      "8   chromedriver                        0x0000000100c33bd3 chromedriver + 777171\n",
      "9   chromedriver                        0x0000000100c08ced chromedriver + 601325\n",
      "10  chromedriver                        0x0000000100c09e51 chromedriver + 605777\n",
      "11  chromedriver                        0x0000000100f7873e chromedriver + 4204350\n",
      "12  chromedriver                        0x0000000100f7ce07 chromedriver + 4222471\n",
      "13  chromedriver                        0x0000000100f840bf chromedriver + 4251839\n",
      "14  chromedriver                        0x0000000100f7db4a chromedriver + 4225866\n",
      "15  chromedriver                        0x0000000100f568af chromedriver + 4065455\n",
      "16  chromedriver                        0x0000000100f9ad18 chromedriver + 4345112\n",
      "17  chromedriver                        0x0000000100f9ae86 chromedriver + 4345478\n",
      "18  chromedriver                        0x0000000100faff6e chromedriver + 4431726\n",
      "19  libsystem_pthread.dylib             0x00007ff801661514 _pthread_start + 125\n",
      "20  libsystem_pthread.dylib             0x00007ff80165d02f thread_start + 15\n",
      "\n"
     ]
    },
    {
     "name": "stderr",
     "output_type": "stream",
     "text": [
      " 23%|██▎       | 840/3600 [8:27:39<39:11:43, 51.12s/it]"
     ]
    },
    {
     "name": "stdout",
     "output_type": "stream",
     "text": [
      "Errors total:  23\n"
     ]
    },
    {
     "name": "stderr",
     "output_type": "stream",
     "text": [
      " 24%|██▎       | 850/3600 [8:33:04<24:55:13, 32.62s/it]"
     ]
    },
    {
     "name": "stdout",
     "output_type": "stream",
     "text": [
      "Errors total:  23\n"
     ]
    },
    {
     "name": "stderr",
     "output_type": "stream",
     "text": [
      " 24%|██▍       | 860/3600 [8:38:25<24:23:59, 32.06s/it]"
     ]
    },
    {
     "name": "stdout",
     "output_type": "stream",
     "text": [
      "Errors total:  23\n"
     ]
    },
    {
     "name": "stderr",
     "output_type": "stream",
     "text": [
      " 24%|██▍       | 864/3600 [8:40:33<24:21:13, 32.04s/it]"
     ]
    },
    {
     "name": "stdout",
     "output_type": "stream",
     "text": [
      "Message: no such element: Unable to locate element: {\"method\":\"xpath\",\"selector\":\"//span[@class=\"_17p6nbba\"]\"}\n",
      "  (Session info: chrome=106.0.5249.119)\n",
      "Stacktrace:\n",
      "0   chromedriver                        0x000000010249ac08 chromedriver + 4402184\n",
      "1   chromedriver                        0x00000001024221f3 chromedriver + 3908083\n",
      "2   chromedriver                        0x00000001020cfe6a chromedriver + 425578\n",
      "3   chromedriver                        0x0000000102107c91 chromedriver + 654481\n",
      "4   chromedriver                        0x0000000102107e91 chromedriver + 654993\n",
      "5   chromedriver                        0x000000010213f274 chromedriver + 881268\n",
      "6   chromedriver                        0x0000000102125dcd chromedriver + 777677\n",
      "7   chromedriver                        0x000000010213cf79 chromedriver + 872313\n",
      "8   chromedriver                        0x0000000102125bd3 chromedriver + 777171\n",
      "9   chromedriver                        0x00000001020faced chromedriver + 601325\n",
      "10  chromedriver                        0x00000001020fbe51 chromedriver + 605777\n",
      "11  chromedriver                        0x000000010246a73e chromedriver + 4204350\n",
      "12  chromedriver                        0x000000010246ee07 chromedriver + 4222471\n",
      "13  chromedriver                        0x00000001024760bf chromedriver + 4251839\n",
      "14  chromedriver                        0x000000010246fb4a chromedriver + 4225866\n",
      "15  chromedriver                        0x00000001024488af chromedriver + 4065455\n",
      "16  chromedriver                        0x000000010248cd18 chromedriver + 4345112\n",
      "17  chromedriver                        0x000000010248ce86 chromedriver + 4345478\n",
      "18  chromedriver                        0x00000001024a1f6e chromedriver + 4431726\n",
      "19  libsystem_pthread.dylib             0x00007ff801661514 _pthread_start + 125\n",
      "20  libsystem_pthread.dylib             0x00007ff80165d02f thread_start + 15\n",
      "\n",
      "Message: no such element: Unable to locate element: {\"method\":\"xpath\",\"selector\":\"//span[@class=\"_17p6nbba\"]\"}\n",
      "  (Session info: chrome=106.0.5249.119)\n",
      "Stacktrace:\n",
      "0   chromedriver                        0x00000001008b2c08 chromedriver + 4402184\n",
      "1   chromedriver                        0x000000010083a1f3 chromedriver + 3908083\n",
      "2   chromedriver                        0x00000001004e7e6a chromedriver + 425578\n",
      "3   chromedriver                        0x000000010051fc91 chromedriver + 654481\n",
      "4   chromedriver                        0x000000010051fe91 chromedriver + 654993\n",
      "5   chromedriver                        0x0000000100557274 chromedriver + 881268\n",
      "6   chromedriver                        0x000000010053ddcd chromedriver + 777677\n",
      "7   chromedriver                        0x0000000100554f79 chromedriver + 872313\n",
      "8   chromedriver                        0x000000010053dbd3 chromedriver + 777171\n",
      "9   chromedriver                        0x0000000100512ced chromedriver + 601325\n",
      "10  chromedriver                        0x0000000100513e51 chromedriver + 605777\n",
      "11  chromedriver                        0x000000010088273e chromedriver + 4204350\n",
      "12  chromedriver                        0x0000000100886e07 chromedriver + 4222471\n",
      "13  chromedriver                        0x000000010088e0bf chromedriver + 4251839\n",
      "14  chromedriver                        0x0000000100887b4a chromedriver + 4225866\n",
      "15  chromedriver                        0x00000001008608af chromedriver + 4065455\n",
      "16  chromedriver                        0x00000001008a4d18 chromedriver + 4345112\n",
      "17  chromedriver                        0x00000001008a4e86 chromedriver + 4345478\n",
      "18  chromedriver                        0x00000001008b9f6e chromedriver + 4431726\n",
      "19  libsystem_pthread.dylib             0x00007ff801661514 _pthread_start + 125\n",
      "20  libsystem_pthread.dylib             0x00007ff80165d02f thread_start + 15\n",
      "\n",
      "Message: no such element: Unable to locate element: {\"method\":\"xpath\",\"selector\":\"//span[@class=\"_17p6nbba\"]\"}\n",
      "  (Session info: chrome=106.0.5249.119)\n",
      "Stacktrace:\n",
      "0   chromedriver                        0x0000000104571c08 chromedriver + 4402184\n",
      "1   chromedriver                        0x00000001044f91f3 chromedriver + 3908083\n",
      "2   chromedriver                        0x00000001041a6e6a chromedriver + 425578\n",
      "3   chromedriver                        0x00000001041dec91 chromedriver + 654481\n",
      "4   chromedriver                        0x00000001041dee91 chromedriver + 654993\n",
      "5   chromedriver                        0x0000000104216274 chromedriver + 881268\n",
      "6   chromedriver                        0x00000001041fcdcd chromedriver + 777677\n",
      "7   chromedriver                        0x0000000104213f79 chromedriver + 872313\n",
      "8   chromedriver                        0x00000001041fcbd3 chromedriver + 777171\n",
      "9   chromedriver                        0x00000001041d1ced chromedriver + 601325\n",
      "10  chromedriver                        0x00000001041d2e51 chromedriver + 605777\n",
      "11  chromedriver                        0x000000010454173e chromedriver + 4204350\n",
      "12  chromedriver                        0x0000000104545e07 chromedriver + 4222471\n",
      "13  chromedriver                        0x000000010454d0bf chromedriver + 4251839\n",
      "14  chromedriver                        0x0000000104546b4a chromedriver + 4225866\n",
      "15  chromedriver                        0x000000010451f8af chromedriver + 4065455\n",
      "16  chromedriver                        0x0000000104563d18 chromedriver + 4345112\n",
      "17  chromedriver                        0x0000000104563e86 chromedriver + 4345478\n",
      "18  chromedriver                        0x0000000104578f6e chromedriver + 4431726\n",
      "19  libsystem_pthread.dylib             0x00007ff801661514 _pthread_start + 125\n",
      "20  libsystem_pthread.dylib             0x00007ff80165d02f thread_start + 15\n",
      "\n",
      "Message: no such element: Unable to locate element: {\"method\":\"xpath\",\"selector\":\"//span[@class=\"_17p6nbba\"]\"}\n",
      "  (Session info: chrome=106.0.5249.119)\n",
      "Stacktrace:\n",
      "0   chromedriver                        0x00000001048d9c08 chromedriver + 4402184\n",
      "1   chromedriver                        0x00000001048611f3 chromedriver + 3908083\n",
      "2   chromedriver                        0x000000010450ee6a chromedriver + 425578\n",
      "3   chromedriver                        0x0000000104546c91 chromedriver + 654481\n",
      "4   chromedriver                        0x0000000104546e91 chromedriver + 654993\n",
      "5   chromedriver                        0x000000010457e274 chromedriver + 881268\n",
      "6   chromedriver                        0x0000000104564dcd chromedriver + 777677\n",
      "7   chromedriver                        0x000000010457bf79 chromedriver + 872313\n",
      "8   chromedriver                        0x0000000104564bd3 chromedriver + 777171\n",
      "9   chromedriver                        0x0000000104539ced chromedriver + 601325\n",
      "10  chromedriver                        0x000000010453ae51 chromedriver + 605777\n",
      "11  chromedriver                        0x00000001048a973e chromedriver + 4204350\n",
      "12  chromedriver                        0x00000001048ade07 chromedriver + 4222471\n",
      "13  chromedriver                        0x00000001048b50bf chromedriver + 4251839\n",
      "14  chromedriver                        0x00000001048aeb4a chromedriver + 4225866\n",
      "15  chromedriver                        0x00000001048878af chromedriver + 4065455\n",
      "16  chromedriver                        0x00000001048cbd18 chromedriver + 4345112\n",
      "17  chromedriver                        0x00000001048cbe86 chromedriver + 4345478\n",
      "18  chromedriver                        0x00000001048e0f6e chromedriver + 4431726\n",
      "19  libsystem_pthread.dylib             0x00007ff801661514 _pthread_start + 125\n",
      "20  libsystem_pthread.dylib             0x00007ff80165d02f thread_start + 15\n",
      "\n"
     ]
    },
    {
     "name": "stderr",
     "output_type": "stream",
     "text": [
      " 24%|██▍       | 865/3600 [8:43:13<53:38:16, 70.60s/it]"
     ]
    },
    {
     "name": "stdout",
     "output_type": "stream",
     "text": [
      "Message: no such element: Unable to locate element: {\"method\":\"xpath\",\"selector\":\"//span[@class=\"_17p6nbba\"]\"}\n",
      "  (Session info: chrome=106.0.5249.119)\n",
      "Stacktrace:\n",
      "0   chromedriver                        0x000000010279ac08 chromedriver + 4402184\n",
      "1   chromedriver                        0x00000001027221f3 chromedriver + 3908083\n",
      "2   chromedriver                        0x00000001023cfe6a chromedriver + 425578\n",
      "3   chromedriver                        0x0000000102407c91 chromedriver + 654481\n",
      "4   chromedriver                        0x0000000102407e91 chromedriver + 654993\n",
      "5   chromedriver                        0x000000010243f274 chromedriver + 881268\n",
      "6   chromedriver                        0x0000000102425dcd chromedriver + 777677\n",
      "7   chromedriver                        0x000000010243cf79 chromedriver + 872313\n",
      "8   chromedriver                        0x0000000102425bd3 chromedriver + 777171\n",
      "9   chromedriver                        0x00000001023faced chromedriver + 601325\n",
      "10  chromedriver                        0x00000001023fbe51 chromedriver + 605777\n",
      "11  chromedriver                        0x000000010276a73e chromedriver + 4204350\n",
      "12  chromedriver                        0x000000010276ee07 chromedriver + 4222471\n",
      "13  chromedriver                        0x00000001027760bf chromedriver + 4251839\n",
      "14  chromedriver                        0x000000010276fb4a chromedriver + 4225866\n",
      "15  chromedriver                        0x00000001027488af chromedriver + 4065455\n",
      "16  chromedriver                        0x000000010278cd18 chromedriver + 4345112\n",
      "17  chromedriver                        0x000000010278ce86 chromedriver + 4345478\n",
      "18  chromedriver                        0x00000001027a1f6e chromedriver + 4431726\n",
      "19  libsystem_pthread.dylib             0x00007ff801661514 _pthread_start + 125\n",
      "20  libsystem_pthread.dylib             0x00007ff80165d02f thread_start + 15\n",
      "\n"
     ]
    },
    {
     "name": "stderr",
     "output_type": "stream",
     "text": [
      " 24%|██▍       | 870/3600 [8:45:59<29:43:16, 39.19s/it]"
     ]
    },
    {
     "name": "stdout",
     "output_type": "stream",
     "text": [
      "Errors total:  24\n"
     ]
    },
    {
     "name": "stderr",
     "output_type": "stream",
     "text": [
      " 24%|██▍       | 880/3600 [8:51:17<24:22:35, 32.26s/it]"
     ]
    },
    {
     "name": "stdout",
     "output_type": "stream",
     "text": [
      "Errors total:  24\n"
     ]
    },
    {
     "name": "stderr",
     "output_type": "stream",
     "text": [
      " 25%|██▍       | 890/3600 [8:56:38<23:55:58, 31.79s/it]"
     ]
    },
    {
     "name": "stdout",
     "output_type": "stream",
     "text": [
      "Errors total:  24\n"
     ]
    },
    {
     "name": "stderr",
     "output_type": "stream",
     "text": [
      " 25%|██▌       | 900/3600 [9:02:00<24:30:17, 32.67s/it]"
     ]
    },
    {
     "name": "stdout",
     "output_type": "stream",
     "text": [
      "Errors total:  24\n"
     ]
    },
    {
     "name": "stderr",
     "output_type": "stream",
     "text": [
      " 25%|██▌       | 910/3600 [9:07:16<23:49:33, 31.89s/it]"
     ]
    },
    {
     "name": "stdout",
     "output_type": "stream",
     "text": [
      "Errors total:  24\n"
     ]
    },
    {
     "name": "stderr",
     "output_type": "stream",
     "text": [
      " 26%|██▌       | 920/3600 [9:12:40<23:49:25, 32.00s/it]"
     ]
    },
    {
     "name": "stdout",
     "output_type": "stream",
     "text": [
      "Errors total:  24\n"
     ]
    },
    {
     "name": "stderr",
     "output_type": "stream",
     "text": [
      " 26%|██▌       | 930/3600 [9:18:00<23:31:12, 31.71s/it]"
     ]
    },
    {
     "name": "stdout",
     "output_type": "stream",
     "text": [
      "Errors total:  24\n"
     ]
    },
    {
     "name": "stderr",
     "output_type": "stream",
     "text": [
      " 26%|██▌       | 936/3600 [9:21:12<24:00:13, 32.44s/it]"
     ]
    },
    {
     "name": "stdout",
     "output_type": "stream",
     "text": [
      "Message: no such element: Unable to locate element: {\"method\":\"xpath\",\"selector\":\"//span[@class=\"_17p6nbba\"]\"}\n",
      "  (Session info: chrome=106.0.5249.119)\n",
      "Stacktrace:\n",
      "0   chromedriver                        0x00000001026e8c08 chromedriver + 4402184\n",
      "1   chromedriver                        0x00000001026701f3 chromedriver + 3908083\n",
      "2   chromedriver                        0x000000010231de6a chromedriver + 425578\n",
      "3   chromedriver                        0x0000000102355c91 chromedriver + 654481\n",
      "4   chromedriver                        0x0000000102355e91 chromedriver + 654993\n",
      "5   chromedriver                        0x000000010238d274 chromedriver + 881268\n",
      "6   chromedriver                        0x0000000102373dcd chromedriver + 777677\n",
      "7   chromedriver                        0x000000010238af79 chromedriver + 872313\n",
      "8   chromedriver                        0x0000000102373bd3 chromedriver + 777171\n",
      "9   chromedriver                        0x0000000102348ced chromedriver + 601325\n",
      "10  chromedriver                        0x0000000102349e51 chromedriver + 605777\n",
      "11  chromedriver                        0x00000001026b873e chromedriver + 4204350\n",
      "12  chromedriver                        0x00000001026bce07 chromedriver + 4222471\n",
      "13  chromedriver                        0x00000001026c40bf chromedriver + 4251839\n",
      "14  chromedriver                        0x00000001026bdb4a chromedriver + 4225866\n",
      "15  chromedriver                        0x00000001026968af chromedriver + 4065455\n",
      "16  chromedriver                        0x00000001026dad18 chromedriver + 4345112\n",
      "17  chromedriver                        0x00000001026dae86 chromedriver + 4345478\n",
      "18  chromedriver                        0x00000001026eff6e chromedriver + 4431726\n",
      "19  libsystem_pthread.dylib             0x00007ff801661514 _pthread_start + 125\n",
      "20  libsystem_pthread.dylib             0x00007ff80165d02f thread_start + 15\n",
      "\n",
      "Message: no such element: Unable to locate element: {\"method\":\"xpath\",\"selector\":\"//span[@class=\"_17p6nbba\"]\"}\n",
      "  (Session info: chrome=106.0.5249.119)\n",
      "Stacktrace:\n",
      "0   chromedriver                        0x0000000103355c08 chromedriver + 4402184\n",
      "1   chromedriver                        0x00000001032dd1f3 chromedriver + 3908083\n",
      "2   chromedriver                        0x0000000102f8ae6a chromedriver + 425578\n",
      "3   chromedriver                        0x0000000102fc2c91 chromedriver + 654481\n",
      "4   chromedriver                        0x0000000102fc2e91 chromedriver + 654993\n",
      "5   chromedriver                        0x0000000102ffa274 chromedriver + 881268\n",
      "6   chromedriver                        0x0000000102fe0dcd chromedriver + 777677\n",
      "7   chromedriver                        0x0000000102ff7f79 chromedriver + 872313\n",
      "8   chromedriver                        0x0000000102fe0bd3 chromedriver + 777171\n",
      "9   chromedriver                        0x0000000102fb5ced chromedriver + 601325\n",
      "10  chromedriver                        0x0000000102fb6e51 chromedriver + 605777\n",
      "11  chromedriver                        0x000000010332573e chromedriver + 4204350\n",
      "12  chromedriver                        0x0000000103329e07 chromedriver + 4222471\n",
      "13  chromedriver                        0x00000001033310bf chromedriver + 4251839\n",
      "14  chromedriver                        0x000000010332ab4a chromedriver + 4225866\n",
      "15  chromedriver                        0x00000001033038af chromedriver + 4065455\n",
      "16  chromedriver                        0x0000000103347d18 chromedriver + 4345112\n",
      "17  chromedriver                        0x0000000103347e86 chromedriver + 4345478\n",
      "18  chromedriver                        0x000000010335cf6e chromedriver + 4431726\n",
      "19  libsystem_pthread.dylib             0x00007ff801661514 _pthread_start + 125\n",
      "20  libsystem_pthread.dylib             0x00007ff80165d02f thread_start + 15\n",
      "\n",
      "Message: no such element: Unable to locate element: {\"method\":\"xpath\",\"selector\":\"//span[@class=\"_17p6nbba\"]\"}\n",
      "  (Session info: chrome=106.0.5249.119)\n",
      "Stacktrace:\n",
      "0   chromedriver                        0x00000001024efc08 chromedriver + 4402184\n",
      "1   chromedriver                        0x00000001024771f3 chromedriver + 3908083\n",
      "2   chromedriver                        0x0000000102124e6a chromedriver + 425578\n",
      "3   chromedriver                        0x000000010215cc91 chromedriver + 654481\n",
      "4   chromedriver                        0x000000010215ce91 chromedriver + 654993\n",
      "5   chromedriver                        0x0000000102194274 chromedriver + 881268\n",
      "6   chromedriver                        0x000000010217adcd chromedriver + 777677\n",
      "7   chromedriver                        0x0000000102191f79 chromedriver + 872313\n",
      "8   chromedriver                        0x000000010217abd3 chromedriver + 777171\n",
      "9   chromedriver                        0x000000010214fced chromedriver + 601325\n",
      "10  chromedriver                        0x0000000102150e51 chromedriver + 605777\n",
      "11  chromedriver                        0x00000001024bf73e chromedriver + 4204350\n",
      "12  chromedriver                        0x00000001024c3e07 chromedriver + 4222471\n",
      "13  chromedriver                        0x00000001024cb0bf chromedriver + 4251839\n",
      "14  chromedriver                        0x00000001024c4b4a chromedriver + 4225866\n",
      "15  chromedriver                        0x000000010249d8af chromedriver + 4065455\n",
      "16  chromedriver                        0x00000001024e1d18 chromedriver + 4345112\n",
      "17  chromedriver                        0x00000001024e1e86 chromedriver + 4345478\n",
      "18  chromedriver                        0x00000001024f6f6e chromedriver + 4431726\n",
      "19  libsystem_pthread.dylib             0x00007ff801661514 _pthread_start + 125\n",
      "20  libsystem_pthread.dylib             0x00007ff80165d02f thread_start + 15\n",
      "\n",
      "Message: no such element: Unable to locate element: {\"method\":\"xpath\",\"selector\":\"//span[@class=\"_17p6nbba\"]\"}\n",
      "  (Session info: chrome=106.0.5249.119)\n",
      "Stacktrace:\n",
      "0   chromedriver                        0x00000001050f6c08 chromedriver + 4402184\n",
      "1   chromedriver                        0x000000010507e1f3 chromedriver + 3908083\n",
      "2   chromedriver                        0x0000000104d2be6a chromedriver + 425578\n",
      "3   chromedriver                        0x0000000104d63c91 chromedriver + 654481\n",
      "4   chromedriver                        0x0000000104d63e91 chromedriver + 654993\n",
      "5   chromedriver                        0x0000000104d9b274 chromedriver + 881268\n",
      "6   chromedriver                        0x0000000104d81dcd chromedriver + 777677\n",
      "7   chromedriver                        0x0000000104d98f79 chromedriver + 872313\n",
      "8   chromedriver                        0x0000000104d81bd3 chromedriver + 777171\n",
      "9   chromedriver                        0x0000000104d56ced chromedriver + 601325\n",
      "10  chromedriver                        0x0000000104d57e51 chromedriver + 605777\n",
      "11  chromedriver                        0x00000001050c673e chromedriver + 4204350\n",
      "12  chromedriver                        0x00000001050cae07 chromedriver + 4222471\n",
      "13  chromedriver                        0x00000001050d20bf chromedriver + 4251839\n",
      "14  chromedriver                        0x00000001050cbb4a chromedriver + 4225866\n",
      "15  chromedriver                        0x00000001050a48af chromedriver + 4065455\n",
      "16  chromedriver                        0x00000001050e8d18 chromedriver + 4345112\n",
      "17  chromedriver                        0x00000001050e8e86 chromedriver + 4345478\n",
      "18  chromedriver                        0x00000001050fdf6e chromedriver + 4431726\n",
      "19  libsystem_pthread.dylib             0x00007ff801661514 _pthread_start + 125\n",
      "20  libsystem_pthread.dylib             0x00007ff80165d02f thread_start + 15\n",
      "\n"
     ]
    },
    {
     "name": "stderr",
     "output_type": "stream",
     "text": [
      " 26%|██▌       | 937/3600 [9:23:58<53:35:52, 72.46s/it]"
     ]
    },
    {
     "name": "stdout",
     "output_type": "stream",
     "text": [
      "Message: no such element: Unable to locate element: {\"method\":\"xpath\",\"selector\":\"//span[@class=\"_17p6nbba\"]\"}\n",
      "  (Session info: chrome=106.0.5249.119)\n",
      "Stacktrace:\n",
      "0   chromedriver                        0x000000010510fc08 chromedriver + 4402184\n",
      "1   chromedriver                        0x00000001050971f3 chromedriver + 3908083\n",
      "2   chromedriver                        0x0000000104d44e6a chromedriver + 425578\n",
      "3   chromedriver                        0x0000000104d7cc91 chromedriver + 654481\n",
      "4   chromedriver                        0x0000000104d7ce91 chromedriver + 654993\n",
      "5   chromedriver                        0x0000000104db4274 chromedriver + 881268\n",
      "6   chromedriver                        0x0000000104d9adcd chromedriver + 777677\n",
      "7   chromedriver                        0x0000000104db1f79 chromedriver + 872313\n",
      "8   chromedriver                        0x0000000104d9abd3 chromedriver + 777171\n",
      "9   chromedriver                        0x0000000104d6fced chromedriver + 601325\n",
      "10  chromedriver                        0x0000000104d70e51 chromedriver + 605777\n",
      "11  chromedriver                        0x00000001050df73e chromedriver + 4204350\n",
      "12  chromedriver                        0x00000001050e3e07 chromedriver + 4222471\n",
      "13  chromedriver                        0x00000001050eb0bf chromedriver + 4251839\n",
      "14  chromedriver                        0x00000001050e4b4a chromedriver + 4225866\n",
      "15  chromedriver                        0x00000001050bd8af chromedriver + 4065455\n",
      "16  chromedriver                        0x0000000105101d18 chromedriver + 4345112\n",
      "17  chromedriver                        0x0000000105101e86 chromedriver + 4345478\n",
      "18  chromedriver                        0x0000000105116f6e chromedriver + 4431726\n",
      "19  libsystem_pthread.dylib             0x00007ff801661514 _pthread_start + 125\n",
      "20  libsystem_pthread.dylib             0x00007ff80165d02f thread_start + 15\n",
      "\n"
     ]
    },
    {
     "name": "stderr",
     "output_type": "stream",
     "text": [
      " 26%|██▌       | 940/3600 [9:25:38<34:45:45, 47.05s/it]"
     ]
    },
    {
     "name": "stdout",
     "output_type": "stream",
     "text": [
      "Errors total:  25\n"
     ]
    },
    {
     "name": "stderr",
     "output_type": "stream",
     "text": [
      " 26%|██▋       | 950/3600 [9:30:59<24:22:36, 33.12s/it]"
     ]
    },
    {
     "name": "stdout",
     "output_type": "stream",
     "text": [
      "Errors total:  25\n"
     ]
    },
    {
     "name": "stderr",
     "output_type": "stream",
     "text": [
      " 27%|██▋       | 960/3600 [9:36:18<23:32:26, 32.10s/it]"
     ]
    },
    {
     "name": "stdout",
     "output_type": "stream",
     "text": [
      "Errors total:  25\n"
     ]
    },
    {
     "name": "stderr",
     "output_type": "stream",
     "text": [
      " 27%|██▋       | 970/3600 [9:41:39<23:31:07, 32.19s/it]"
     ]
    },
    {
     "name": "stdout",
     "output_type": "stream",
     "text": [
      "Errors total:  25\n"
     ]
    },
    {
     "name": "stderr",
     "output_type": "stream",
     "text": [
      " 27%|██▋       | 980/3600 [9:47:01<23:02:02, 31.65s/it]"
     ]
    },
    {
     "name": "stdout",
     "output_type": "stream",
     "text": [
      "Errors total:  25\n"
     ]
    },
    {
     "name": "stderr",
     "output_type": "stream",
     "text": [
      " 28%|██▊       | 990/3600 [9:52:22<22:45:01, 31.38s/it]"
     ]
    },
    {
     "name": "stdout",
     "output_type": "stream",
     "text": [
      "Errors total:  25\n"
     ]
    },
    {
     "name": "stderr",
     "output_type": "stream",
     "text": [
      " 28%|██▊       | 997/3600 [9:56:05<22:43:51, 31.44s/it]"
     ]
    },
    {
     "name": "stdout",
     "output_type": "stream",
     "text": [
      "Message: no such element: Unable to locate element: {\"method\":\"xpath\",\"selector\":\"//span[@class=\"_17p6nbba\"]\"}\n",
      "  (Session info: chrome=106.0.5249.119)\n",
      "Stacktrace:\n",
      "0   chromedriver                        0x0000000100888c08 chromedriver + 4402184\n",
      "1   chromedriver                        0x00000001008101f3 chromedriver + 3908083\n",
      "2   chromedriver                        0x00000001004bde6a chromedriver + 425578\n",
      "3   chromedriver                        0x00000001004f5c91 chromedriver + 654481\n",
      "4   chromedriver                        0x00000001004f5e91 chromedriver + 654993\n",
      "5   chromedriver                        0x000000010052d274 chromedriver + 881268\n",
      "6   chromedriver                        0x0000000100513dcd chromedriver + 777677\n",
      "7   chromedriver                        0x000000010052af79 chromedriver + 872313\n",
      "8   chromedriver                        0x0000000100513bd3 chromedriver + 777171\n",
      "9   chromedriver                        0x00000001004e8ced chromedriver + 601325\n",
      "10  chromedriver                        0x00000001004e9e51 chromedriver + 605777\n",
      "11  chromedriver                        0x000000010085873e chromedriver + 4204350\n",
      "12  chromedriver                        0x000000010085ce07 chromedriver + 4222471\n",
      "13  chromedriver                        0x00000001008640bf chromedriver + 4251839\n",
      "14  chromedriver                        0x000000010085db4a chromedriver + 4225866\n",
      "15  chromedriver                        0x00000001008368af chromedriver + 4065455\n",
      "16  chromedriver                        0x000000010087ad18 chromedriver + 4345112\n",
      "17  chromedriver                        0x000000010087ae86 chromedriver + 4345478\n",
      "18  chromedriver                        0x000000010088ff6e chromedriver + 4431726\n",
      "19  libsystem_pthread.dylib             0x00007ff801661514 _pthread_start + 125\n",
      "20  libsystem_pthread.dylib             0x00007ff80165d02f thread_start + 15\n",
      "\n",
      "Message: no such element: Unable to locate element: {\"method\":\"xpath\",\"selector\":\"//span[@class=\"_17p6nbba\"]\"}\n",
      "  (Session info: chrome=106.0.5249.119)\n",
      "Stacktrace:\n",
      "0   chromedriver                        0x0000000105372c08 chromedriver + 4402184\n",
      "1   chromedriver                        0x00000001052fa1f3 chromedriver + 3908083\n",
      "2   chromedriver                        0x0000000104fa7e6a chromedriver + 425578\n",
      "3   chromedriver                        0x0000000104fdfc91 chromedriver + 654481\n",
      "4   chromedriver                        0x0000000104fdfe91 chromedriver + 654993\n",
      "5   chromedriver                        0x0000000105017274 chromedriver + 881268\n",
      "6   chromedriver                        0x0000000104ffddcd chromedriver + 777677\n",
      "7   chromedriver                        0x0000000105014f79 chromedriver + 872313\n",
      "8   chromedriver                        0x0000000104ffdbd3 chromedriver + 777171\n",
      "9   chromedriver                        0x0000000104fd2ced chromedriver + 601325\n",
      "10  chromedriver                        0x0000000104fd3e51 chromedriver + 605777\n",
      "11  chromedriver                        0x000000010534273e chromedriver + 4204350\n",
      "12  chromedriver                        0x0000000105346e07 chromedriver + 4222471\n",
      "13  chromedriver                        0x000000010534e0bf chromedriver + 4251839\n",
      "14  chromedriver                        0x0000000105347b4a chromedriver + 4225866\n",
      "15  chromedriver                        0x00000001053208af chromedriver + 4065455\n",
      "16  chromedriver                        0x0000000105364d18 chromedriver + 4345112\n",
      "17  chromedriver                        0x0000000105364e86 chromedriver + 4345478\n",
      "18  chromedriver                        0x0000000105379f6e chromedriver + 4431726\n",
      "19  libsystem_pthread.dylib             0x00007ff801661514 _pthread_start + 125\n",
      "20  libsystem_pthread.dylib             0x00007ff80165d02f thread_start + 15\n",
      "\n",
      "Message: no such element: Unable to locate element: {\"method\":\"xpath\",\"selector\":\"//span[@class=\"_17p6nbba\"]\"}\n",
      "  (Session info: chrome=106.0.5249.119)\n",
      "Stacktrace:\n",
      "0   chromedriver                        0x00000001032afc08 chromedriver + 4402184\n",
      "1   chromedriver                        0x00000001032371f3 chromedriver + 3908083\n",
      "2   chromedriver                        0x0000000102ee4e6a chromedriver + 425578\n",
      "3   chromedriver                        0x0000000102f1cc91 chromedriver + 654481\n",
      "4   chromedriver                        0x0000000102f1ce91 chromedriver + 654993\n",
      "5   chromedriver                        0x0000000102f54274 chromedriver + 881268\n",
      "6   chromedriver                        0x0000000102f3adcd chromedriver + 777677\n",
      "7   chromedriver                        0x0000000102f51f79 chromedriver + 872313\n",
      "8   chromedriver                        0x0000000102f3abd3 chromedriver + 777171\n",
      "9   chromedriver                        0x0000000102f0fced chromedriver + 601325\n",
      "10  chromedriver                        0x0000000102f10e51 chromedriver + 605777\n",
      "11  chromedriver                        0x000000010327f73e chromedriver + 4204350\n",
      "12  chromedriver                        0x0000000103283e07 chromedriver + 4222471\n",
      "13  chromedriver                        0x000000010328b0bf chromedriver + 4251839\n",
      "14  chromedriver                        0x0000000103284b4a chromedriver + 4225866\n",
      "15  chromedriver                        0x000000010325d8af chromedriver + 4065455\n",
      "16  chromedriver                        0x00000001032a1d18 chromedriver + 4345112\n",
      "17  chromedriver                        0x00000001032a1e86 chromedriver + 4345478\n",
      "18  chromedriver                        0x00000001032b6f6e chromedriver + 4431726\n",
      "19  libsystem_pthread.dylib             0x00007ff801661514 _pthread_start + 125\n",
      "20  libsystem_pthread.dylib             0x00007ff80165d02f thread_start + 15\n",
      "\n",
      "Message: no such element: Unable to locate element: {\"method\":\"xpath\",\"selector\":\"//span[@class=\"_17p6nbba\"]\"}\n",
      "  (Session info: chrome=106.0.5249.119)\n",
      "Stacktrace:\n",
      "0   chromedriver                        0x0000000104a9bc08 chromedriver + 4402184\n",
      "1   chromedriver                        0x0000000104a231f3 chromedriver + 3908083\n",
      "2   chromedriver                        0x00000001046d0e6a chromedriver + 425578\n",
      "3   chromedriver                        0x0000000104708c91 chromedriver + 654481\n",
      "4   chromedriver                        0x0000000104708e91 chromedriver + 654993\n",
      "5   chromedriver                        0x0000000104740274 chromedriver + 881268\n",
      "6   chromedriver                        0x0000000104726dcd chromedriver + 777677\n",
      "7   chromedriver                        0x000000010473df79 chromedriver + 872313\n",
      "8   chromedriver                        0x0000000104726bd3 chromedriver + 777171\n",
      "9   chromedriver                        0x00000001046fbced chromedriver + 601325\n",
      "10  chromedriver                        0x00000001046fce51 chromedriver + 605777\n",
      "11  chromedriver                        0x0000000104a6b73e chromedriver + 4204350\n",
      "12  chromedriver                        0x0000000104a6fe07 chromedriver + 4222471\n",
      "13  chromedriver                        0x0000000104a770bf chromedriver + 4251839\n",
      "14  chromedriver                        0x0000000104a70b4a chromedriver + 4225866\n",
      "15  chromedriver                        0x0000000104a498af chromedriver + 4065455\n",
      "16  chromedriver                        0x0000000104a8dd18 chromedriver + 4345112\n",
      "17  chromedriver                        0x0000000104a8de86 chromedriver + 4345478\n",
      "18  chromedriver                        0x0000000104aa2f6e chromedriver + 4431726\n",
      "19  libsystem_pthread.dylib             0x00007ff801661514 _pthread_start + 125\n",
      "20  libsystem_pthread.dylib             0x00007ff80165d02f thread_start + 15\n",
      "\n"
     ]
    },
    {
     "name": "stderr",
     "output_type": "stream",
     "text": [
      " 28%|██▊       | 998/3600 [9:58:42<49:51:50, 68.99s/it]"
     ]
    },
    {
     "name": "stdout",
     "output_type": "stream",
     "text": [
      "Message: no such element: Unable to locate element: {\"method\":\"xpath\",\"selector\":\"//span[@class=\"_17p6nbba\"]\"}\n",
      "  (Session info: chrome=106.0.5249.119)\n",
      "Stacktrace:\n",
      "0   chromedriver                        0x0000000102803c08 chromedriver + 4402184\n",
      "1   chromedriver                        0x000000010278b1f3 chromedriver + 3908083\n",
      "2   chromedriver                        0x0000000102438e6a chromedriver + 425578\n",
      "3   chromedriver                        0x0000000102470c91 chromedriver + 654481\n",
      "4   chromedriver                        0x0000000102470e91 chromedriver + 654993\n",
      "5   chromedriver                        0x00000001024a8274 chromedriver + 881268\n",
      "6   chromedriver                        0x000000010248edcd chromedriver + 777677\n",
      "7   chromedriver                        0x00000001024a5f79 chromedriver + 872313\n",
      "8   chromedriver                        0x000000010248ebd3 chromedriver + 777171\n",
      "9   chromedriver                        0x0000000102463ced chromedriver + 601325\n",
      "10  chromedriver                        0x0000000102464e51 chromedriver + 605777\n",
      "11  chromedriver                        0x00000001027d373e chromedriver + 4204350\n",
      "12  chromedriver                        0x00000001027d7e07 chromedriver + 4222471\n",
      "13  chromedriver                        0x00000001027df0bf chromedriver + 4251839\n",
      "14  chromedriver                        0x00000001027d8b4a chromedriver + 4225866\n",
      "15  chromedriver                        0x00000001027b18af chromedriver + 4065455\n",
      "16  chromedriver                        0x00000001027f5d18 chromedriver + 4345112\n",
      "17  chromedriver                        0x00000001027f5e86 chromedriver + 4345478\n",
      "18  chromedriver                        0x000000010280af6e chromedriver + 4431726\n",
      "19  libsystem_pthread.dylib             0x00007ff801661514 _pthread_start + 125\n",
      "20  libsystem_pthread.dylib             0x00007ff80165d02f thread_start + 15\n",
      "\n"
     ]
    },
    {
     "name": "stderr",
     "output_type": "stream",
     "text": [
      " 28%|██▊       | 1000/3600 [9:59:47<36:18:57, 50.28s/it]"
     ]
    },
    {
     "name": "stdout",
     "output_type": "stream",
     "text": [
      "Errors total:  26\n"
     ]
    },
    {
     "name": "stderr",
     "output_type": "stream",
     "text": [
      " 28%|██▊       | 1010/3600 [10:05:10<23:51:04, 33.15s/it]"
     ]
    },
    {
     "name": "stdout",
     "output_type": "stream",
     "text": [
      "Errors total:  26\n"
     ]
    },
    {
     "name": "stderr",
     "output_type": "stream",
     "text": [
      " 28%|██▊       | 1020/3600 [10:10:33<23:41:15, 33.05s/it]"
     ]
    },
    {
     "name": "stdout",
     "output_type": "stream",
     "text": [
      "Errors total:  26\n"
     ]
    },
    {
     "name": "stderr",
     "output_type": "stream",
     "text": [
      " 29%|██▊       | 1030/3600 [10:15:52<22:54:43, 32.09s/it]"
     ]
    },
    {
     "name": "stdout",
     "output_type": "stream",
     "text": [
      "Errors total:  26\n"
     ]
    },
    {
     "name": "stderr",
     "output_type": "stream",
     "text": [
      " 29%|██▉       | 1040/3600 [10:21:19<23:12:51, 32.65s/it]"
     ]
    },
    {
     "name": "stdout",
     "output_type": "stream",
     "text": [
      "Errors total:  26\n"
     ]
    },
    {
     "name": "stderr",
     "output_type": "stream",
     "text": [
      " 29%|██▉       | 1050/3600 [10:26:35<22:39:29, 31.99s/it]"
     ]
    },
    {
     "name": "stdout",
     "output_type": "stream",
     "text": [
      "Errors total:  26\n"
     ]
    },
    {
     "name": "stderr",
     "output_type": "stream",
     "text": [
      " 29%|██▉       | 1060/3600 [10:31:55<22:25:53, 31.79s/it]"
     ]
    },
    {
     "name": "stdout",
     "output_type": "stream",
     "text": [
      "Errors total:  26\n"
     ]
    },
    {
     "name": "stderr",
     "output_type": "stream",
     "text": [
      " 30%|██▉       | 1063/3600 [10:33:32<22:29:22, 31.91s/it]"
     ]
    },
    {
     "name": "stdout",
     "output_type": "stream",
     "text": [
      "Message: unknown error: Chrome failed to start: crashed.\n",
      "  (chrome not reachable)\n",
      "  (The process started from chrome location /Applications/Google Chrome.app/Contents/MacOS/Google Chrome is no longer running, so ChromeDriver is assuming that Chrome has crashed.)\n",
      "Stacktrace:\n",
      "0   chromedriver                        0x0000000104f27c08 chromedriver + 4402184\n",
      "1   chromedriver                        0x0000000104eaf1f3 chromedriver + 3908083\n",
      "2   chromedriver                        0x0000000104b5ce6a chromedriver + 425578\n",
      "3   chromedriver                        0x0000000104b81fc6 chromedriver + 577478\n",
      "4   chromedriver                        0x0000000104b7d3be chromedriver + 558014\n",
      "5   chromedriver                        0x0000000104bba8fa chromedriver + 809210\n",
      "6   chromedriver                        0x0000000104bba2bf chromedriver + 807615\n",
      "7   chromedriver                        0x0000000104bb2bd3 chromedriver + 777171\n",
      "8   chromedriver                        0x0000000104b87ced chromedriver + 601325\n",
      "9   chromedriver                        0x0000000104b88e51 chromedriver + 605777\n",
      "10  chromedriver                        0x0000000104ef773e chromedriver + 4204350\n",
      "11  chromedriver                        0x0000000104efbe07 chromedriver + 4222471\n",
      "12  chromedriver                        0x0000000104f030bf chromedriver + 4251839\n",
      "13  chromedriver                        0x0000000104efcb4a chromedriver + 4225866\n",
      "14  chromedriver                        0x0000000104ed58af chromedriver + 4065455\n",
      "15  chromedriver                        0x0000000104f19d18 chromedriver + 4345112\n",
      "16  chromedriver                        0x0000000104f19e86 chromedriver + 4345478\n",
      "17  chromedriver                        0x0000000104f2ef6e chromedriver + 4431726\n",
      "18  libsystem_pthread.dylib             0x00007ff801661514 _pthread_start + 125\n",
      "19  libsystem_pthread.dylib             0x00007ff80165d02f thread_start + 15\n",
      "\n"
     ]
    },
    {
     "name": "stderr",
     "output_type": "stream",
     "text": [
      " 30%|██▉       | 1070/3600 [10:37:22<22:40:15, 32.26s/it]"
     ]
    },
    {
     "name": "stdout",
     "output_type": "stream",
     "text": [
      "Errors total:  26\n"
     ]
    },
    {
     "name": "stderr",
     "output_type": "stream",
     "text": [
      " 30%|███       | 1080/3600 [10:42:44<22:32:57, 32.21s/it]"
     ]
    },
    {
     "name": "stdout",
     "output_type": "stream",
     "text": [
      "Errors total:  26\n"
     ]
    },
    {
     "name": "stderr",
     "output_type": "stream",
     "text": [
      " 30%|███       | 1082/3600 [10:43:47<22:25:09, 32.05s/it]"
     ]
    },
    {
     "name": "stdout",
     "output_type": "stream",
     "text": [
      "Message: no such element: Unable to locate element: {\"method\":\"xpath\",\"selector\":\"//div[@data-section-id=\"TITLE_DEFAULT\"]/section/div/span/h1\"}\n",
      "  (Session info: chrome=106.0.5249.119)\n",
      "Stacktrace:\n",
      "0   chromedriver                        0x0000000102b74c08 chromedriver + 4402184\n",
      "1   chromedriver                        0x0000000102afc1f3 chromedriver + 3908083\n",
      "2   chromedriver                        0x00000001027a9e6a chromedriver + 425578\n",
      "3   chromedriver                        0x00000001027e1c91 chromedriver + 654481\n",
      "4   chromedriver                        0x00000001027e1e91 chromedriver + 654993\n",
      "5   chromedriver                        0x0000000102819274 chromedriver + 881268\n",
      "6   chromedriver                        0x00000001027ffdcd chromedriver + 777677\n",
      "7   chromedriver                        0x0000000102816f79 chromedriver + 872313\n",
      "8   chromedriver                        0x00000001027ffbd3 chromedriver + 777171\n",
      "9   chromedriver                        0x00000001027d4ced chromedriver + 601325\n",
      "10  chromedriver                        0x00000001027d5e51 chromedriver + 605777\n",
      "11  chromedriver                        0x0000000102b4473e chromedriver + 4204350\n",
      "12  chromedriver                        0x0000000102b48e07 chromedriver + 4222471\n",
      "13  chromedriver                        0x0000000102b500bf chromedriver + 4251839\n",
      "14  chromedriver                        0x0000000102b49b4a chromedriver + 4225866\n",
      "15  chromedriver                        0x0000000102b228af chromedriver + 4065455\n",
      "16  chromedriver                        0x0000000102b66d18 chromedriver + 4345112\n",
      "17  chromedriver                        0x0000000102b66e86 chromedriver + 4345478\n",
      "18  chromedriver                        0x0000000102b7bf6e chromedriver + 4431726\n",
      "19  libsystem_pthread.dylib             0x00007ff801661514 _pthread_start + 125\n",
      "20  libsystem_pthread.dylib             0x00007ff80165d02f thread_start + 15\n",
      "\n",
      "Message: no such element: Unable to locate element: {\"method\":\"xpath\",\"selector\":\"//div[@data-section-id=\"TITLE_DEFAULT\"]/section/div/span/h1\"}\n",
      "  (Session info: chrome=106.0.5249.119)\n",
      "Stacktrace:\n",
      "0   chromedriver                        0x00000001044aec08 chromedriver + 4402184\n",
      "1   chromedriver                        0x00000001044361f3 chromedriver + 3908083\n",
      "2   chromedriver                        0x00000001040e3e6a chromedriver + 425578\n",
      "3   chromedriver                        0x000000010411bc91 chromedriver + 654481\n",
      "4   chromedriver                        0x000000010411be91 chromedriver + 654993\n",
      "5   chromedriver                        0x0000000104153274 chromedriver + 881268\n",
      "6   chromedriver                        0x0000000104139dcd chromedriver + 777677\n",
      "7   chromedriver                        0x0000000104150f79 chromedriver + 872313\n",
      "8   chromedriver                        0x0000000104139bd3 chromedriver + 777171\n",
      "9   chromedriver                        0x000000010410eced chromedriver + 601325\n",
      "10  chromedriver                        0x000000010410fe51 chromedriver + 605777\n",
      "11  chromedriver                        0x000000010447e73e chromedriver + 4204350\n",
      "12  chromedriver                        0x0000000104482e07 chromedriver + 4222471\n",
      "13  chromedriver                        0x000000010448a0bf chromedriver + 4251839\n",
      "14  chromedriver                        0x0000000104483b4a chromedriver + 4225866\n",
      "15  chromedriver                        0x000000010445c8af chromedriver + 4065455\n",
      "16  chromedriver                        0x00000001044a0d18 chromedriver + 4345112\n",
      "17  chromedriver                        0x00000001044a0e86 chromedriver + 4345478\n",
      "18  chromedriver                        0x00000001044b5f6e chromedriver + 4431726\n",
      "19  libsystem_pthread.dylib             0x00007ff801661514 _pthread_start + 125\n",
      "20  libsystem_pthread.dylib             0x00007ff80165d02f thread_start + 15\n",
      "\n",
      "Message: no such element: Unable to locate element: {\"method\":\"xpath\",\"selector\":\"//div[@data-section-id=\"TITLE_DEFAULT\"]/section/div/span/h1\"}\n",
      "  (Session info: chrome=106.0.5249.119)\n",
      "Stacktrace:\n",
      "0   chromedriver                        0x0000000104f9dc08 chromedriver + 4402184\n",
      "1   chromedriver                        0x0000000104f251f3 chromedriver + 3908083\n",
      "2   chromedriver                        0x0000000104bd2e6a chromedriver + 425578\n",
      "3   chromedriver                        0x0000000104c0ac91 chromedriver + 654481\n",
      "4   chromedriver                        0x0000000104c0ae91 chromedriver + 654993\n",
      "5   chromedriver                        0x0000000104c42274 chromedriver + 881268\n",
      "6   chromedriver                        0x0000000104c28dcd chromedriver + 777677\n",
      "7   chromedriver                        0x0000000104c3ff79 chromedriver + 872313\n",
      "8   chromedriver                        0x0000000104c28bd3 chromedriver + 777171\n",
      "9   chromedriver                        0x0000000104bfdced chromedriver + 601325\n",
      "10  chromedriver                        0x0000000104bfee51 chromedriver + 605777\n",
      "11  chromedriver                        0x0000000104f6d73e chromedriver + 4204350\n",
      "12  chromedriver                        0x0000000104f71e07 chromedriver + 4222471\n",
      "13  chromedriver                        0x0000000104f790bf chromedriver + 4251839\n",
      "14  chromedriver                        0x0000000104f72b4a chromedriver + 4225866\n",
      "15  chromedriver                        0x0000000104f4b8af chromedriver + 4065455\n",
      "16  chromedriver                        0x0000000104f8fd18 chromedriver + 4345112\n",
      "17  chromedriver                        0x0000000104f8fe86 chromedriver + 4345478\n",
      "18  chromedriver                        0x0000000104fa4f6e chromedriver + 4431726\n",
      "19  libsystem_pthread.dylib             0x00007ff801661514 _pthread_start + 125\n",
      "20  libsystem_pthread.dylib             0x00007ff80165d02f thread_start + 15\n",
      "\n",
      "Message: no such element: Unable to locate element: {\"method\":\"xpath\",\"selector\":\"//div[@data-section-id=\"TITLE_DEFAULT\"]/section/div/span/h1\"}\n",
      "  (Session info: chrome=106.0.5249.119)\n",
      "Stacktrace:\n",
      "0   chromedriver                        0x0000000102db0c08 chromedriver + 4402184\n",
      "1   chromedriver                        0x0000000102d381f3 chromedriver + 3908083\n",
      "2   chromedriver                        0x00000001029e5e6a chromedriver + 425578\n",
      "3   chromedriver                        0x0000000102a1dc91 chromedriver + 654481\n",
      "4   chromedriver                        0x0000000102a1de91 chromedriver + 654993\n",
      "5   chromedriver                        0x0000000102a55274 chromedriver + 881268\n",
      "6   chromedriver                        0x0000000102a3bdcd chromedriver + 777677\n",
      "7   chromedriver                        0x0000000102a52f79 chromedriver + 872313\n",
      "8   chromedriver                        0x0000000102a3bbd3 chromedriver + 777171\n",
      "9   chromedriver                        0x0000000102a10ced chromedriver + 601325\n",
      "10  chromedriver                        0x0000000102a11e51 chromedriver + 605777\n",
      "11  chromedriver                        0x0000000102d8073e chromedriver + 4204350\n",
      "12  chromedriver                        0x0000000102d84e07 chromedriver + 4222471\n",
      "13  chromedriver                        0x0000000102d8c0bf chromedriver + 4251839\n",
      "14  chromedriver                        0x0000000102d85b4a chromedriver + 4225866\n",
      "15  chromedriver                        0x0000000102d5e8af chromedriver + 4065455\n",
      "16  chromedriver                        0x0000000102da2d18 chromedriver + 4345112\n",
      "17  chromedriver                        0x0000000102da2e86 chromedriver + 4345478\n",
      "18  chromedriver                        0x0000000102db7f6e chromedriver + 4431726\n",
      "19  libsystem_pthread.dylib             0x00007ff801661514 _pthread_start + 125\n",
      "20  libsystem_pthread.dylib             0x00007ff80165d02f thread_start + 15\n",
      "\n"
     ]
    },
    {
     "name": "stderr",
     "output_type": "stream",
     "text": [
      " 30%|███       | 1083/3600 [10:46:25<48:48:02, 69.80s/it]"
     ]
    },
    {
     "name": "stdout",
     "output_type": "stream",
     "text": [
      "Message: no such element: Unable to locate element: {\"method\":\"xpath\",\"selector\":\"//div[@data-section-id=\"TITLE_DEFAULT\"]/section/div/span/h1\"}\n",
      "  (Session info: chrome=106.0.5249.119)\n",
      "Stacktrace:\n",
      "0   chromedriver                        0x0000000102878c08 chromedriver + 4402184\n",
      "1   chromedriver                        0x00000001028001f3 chromedriver + 3908083\n",
      "2   chromedriver                        0x00000001024ade6a chromedriver + 425578\n",
      "3   chromedriver                        0x00000001024e5c91 chromedriver + 654481\n",
      "4   chromedriver                        0x00000001024e5e91 chromedriver + 654993\n",
      "5   chromedriver                        0x000000010251d274 chromedriver + 881268\n",
      "6   chromedriver                        0x0000000102503dcd chromedriver + 777677\n",
      "7   chromedriver                        0x000000010251af79 chromedriver + 872313\n",
      "8   chromedriver                        0x0000000102503bd3 chromedriver + 777171\n",
      "9   chromedriver                        0x00000001024d8ced chromedriver + 601325\n",
      "10  chromedriver                        0x00000001024d9e51 chromedriver + 605777\n",
      "11  chromedriver                        0x000000010284873e chromedriver + 4204350\n",
      "12  chromedriver                        0x000000010284ce07 chromedriver + 4222471\n",
      "13  chromedriver                        0x00000001028540bf chromedriver + 4251839\n",
      "14  chromedriver                        0x000000010284db4a chromedriver + 4225866\n",
      "15  chromedriver                        0x00000001028268af chromedriver + 4065455\n",
      "16  chromedriver                        0x000000010286ad18 chromedriver + 4345112\n",
      "17  chromedriver                        0x000000010286ae86 chromedriver + 4345478\n",
      "18  chromedriver                        0x000000010287ff6e chromedriver + 4431726\n",
      "19  libsystem_pthread.dylib             0x00007ff801661514 _pthread_start + 125\n",
      "20  libsystem_pthread.dylib             0x00007ff80165d02f thread_start + 15\n",
      "\n"
     ]
    },
    {
     "name": "stderr",
     "output_type": "stream",
     "text": [
      " 30%|███       | 1090/3600 [10:50:13<24:43:00, 35.45s/it]"
     ]
    },
    {
     "name": "stdout",
     "output_type": "stream",
     "text": [
      "Errors total:  27\n"
     ]
    },
    {
     "name": "stderr",
     "output_type": "stream",
     "text": [
      " 30%|███       | 1096/3600 [10:53:23<22:17:08, 32.04s/it]"
     ]
    },
    {
     "name": "stdout",
     "output_type": "stream",
     "text": [
      "Message: no such element: Unable to locate element: {\"method\":\"xpath\",\"selector\":\"//span[@class=\"_17p6nbba\"]\"}\n",
      "  (Session info: chrome=106.0.5249.119)\n",
      "Stacktrace:\n",
      "0   chromedriver                        0x00000001013c6c08 chromedriver + 4402184\n",
      "1   chromedriver                        0x000000010134e1f3 chromedriver + 3908083\n",
      "2   chromedriver                        0x0000000100ffbe6a chromedriver + 425578\n",
      "3   chromedriver                        0x0000000101033c91 chromedriver + 654481\n",
      "4   chromedriver                        0x0000000101033e91 chromedriver + 654993\n",
      "5   chromedriver                        0x000000010106b274 chromedriver + 881268\n",
      "6   chromedriver                        0x0000000101051dcd chromedriver + 777677\n",
      "7   chromedriver                        0x0000000101068f79 chromedriver + 872313\n",
      "8   chromedriver                        0x0000000101051bd3 chromedriver + 777171\n",
      "9   chromedriver                        0x0000000101026ced chromedriver + 601325\n",
      "10  chromedriver                        0x0000000101027e51 chromedriver + 605777\n",
      "11  chromedriver                        0x000000010139673e chromedriver + 4204350\n",
      "12  chromedriver                        0x000000010139ae07 chromedriver + 4222471\n",
      "13  chromedriver                        0x00000001013a20bf chromedriver + 4251839\n",
      "14  chromedriver                        0x000000010139bb4a chromedriver + 4225866\n",
      "15  chromedriver                        0x00000001013748af chromedriver + 4065455\n",
      "16  chromedriver                        0x00000001013b8d18 chromedriver + 4345112\n",
      "17  chromedriver                        0x00000001013b8e86 chromedriver + 4345478\n",
      "18  chromedriver                        0x00000001013cdf6e chromedriver + 4431726\n",
      "19  libsystem_pthread.dylib             0x00007ff801661514 _pthread_start + 125\n",
      "20  libsystem_pthread.dylib             0x00007ff80165d02f thread_start + 15\n",
      "\n",
      "Message: no such element: Unable to locate element: {\"method\":\"xpath\",\"selector\":\"//span[@class=\"_17p6nbba\"]\"}\n",
      "  (Session info: chrome=106.0.5249.119)\n",
      "Stacktrace:\n",
      "0   chromedriver                        0x00000001052d8c08 chromedriver + 4402184\n",
      "1   chromedriver                        0x00000001052601f3 chromedriver + 3908083\n",
      "2   chromedriver                        0x0000000104f0de6a chromedriver + 425578\n",
      "3   chromedriver                        0x0000000104f45c91 chromedriver + 654481\n",
      "4   chromedriver                        0x0000000104f45e91 chromedriver + 654993\n",
      "5   chromedriver                        0x0000000104f7d274 chromedriver + 881268\n",
      "6   chromedriver                        0x0000000104f63dcd chromedriver + 777677\n",
      "7   chromedriver                        0x0000000104f7af79 chromedriver + 872313\n",
      "8   chromedriver                        0x0000000104f63bd3 chromedriver + 777171\n",
      "9   chromedriver                        0x0000000104f38ced chromedriver + 601325\n",
      "10  chromedriver                        0x0000000104f39e51 chromedriver + 605777\n",
      "11  chromedriver                        0x00000001052a873e chromedriver + 4204350\n",
      "12  chromedriver                        0x00000001052ace07 chromedriver + 4222471\n",
      "13  chromedriver                        0x00000001052b40bf chromedriver + 4251839\n",
      "14  chromedriver                        0x00000001052adb4a chromedriver + 4225866\n",
      "15  chromedriver                        0x00000001052868af chromedriver + 4065455\n",
      "16  chromedriver                        0x00000001052cad18 chromedriver + 4345112\n",
      "17  chromedriver                        0x00000001052cae86 chromedriver + 4345478\n",
      "18  chromedriver                        0x00000001052dff6e chromedriver + 4431726\n",
      "19  libsystem_pthread.dylib             0x00007ff801661514 _pthread_start + 125\n",
      "20  libsystem_pthread.dylib             0x00007ff80165d02f thread_start + 15\n",
      "\n",
      "Message: no such element: Unable to locate element: {\"method\":\"xpath\",\"selector\":\"//span[@class=\"_17p6nbba\"]\"}\n",
      "  (Session info: chrome=106.0.5249.119)\n",
      "Stacktrace:\n",
      "0   chromedriver                        0x0000000104904c08 chromedriver + 4402184\n",
      "1   chromedriver                        0x000000010488c1f3 chromedriver + 3908083\n",
      "2   chromedriver                        0x0000000104539e6a chromedriver + 425578\n",
      "3   chromedriver                        0x0000000104571c91 chromedriver + 654481\n",
      "4   chromedriver                        0x0000000104571e91 chromedriver + 654993\n",
      "5   chromedriver                        0x00000001045a9274 chromedriver + 881268\n",
      "6   chromedriver                        0x000000010458fdcd chromedriver + 777677\n",
      "7   chromedriver                        0x00000001045a6f79 chromedriver + 872313\n",
      "8   chromedriver                        0x000000010458fbd3 chromedriver + 777171\n",
      "9   chromedriver                        0x0000000104564ced chromedriver + 601325\n",
      "10  chromedriver                        0x0000000104565e51 chromedriver + 605777\n",
      "11  chromedriver                        0x00000001048d473e chromedriver + 4204350\n",
      "12  chromedriver                        0x00000001048d8e07 chromedriver + 4222471\n",
      "13  chromedriver                        0x00000001048e00bf chromedriver + 4251839\n",
      "14  chromedriver                        0x00000001048d9b4a chromedriver + 4225866\n",
      "15  chromedriver                        0x00000001048b28af chromedriver + 4065455\n",
      "16  chromedriver                        0x00000001048f6d18 chromedriver + 4345112\n",
      "17  chromedriver                        0x00000001048f6e86 chromedriver + 4345478\n",
      "18  chromedriver                        0x000000010490bf6e chromedriver + 4431726\n",
      "19  libsystem_pthread.dylib             0x00007ff801661514 _pthread_start + 125\n",
      "20  libsystem_pthread.dylib             0x00007ff80165d02f thread_start + 15\n",
      "\n",
      "Message: no such element: Unable to locate element: {\"method\":\"xpath\",\"selector\":\"//span[@class=\"_17p6nbba\"]\"}\n",
      "  (Session info: chrome=106.0.5249.119)\n",
      "Stacktrace:\n",
      "0   chromedriver                        0x0000000104e24c08 chromedriver + 4402184\n",
      "1   chromedriver                        0x0000000104dac1f3 chromedriver + 3908083\n",
      "2   chromedriver                        0x0000000104a59e6a chromedriver + 425578\n",
      "3   chromedriver                        0x0000000104a91c91 chromedriver + 654481\n",
      "4   chromedriver                        0x0000000104a91e91 chromedriver + 654993\n",
      "5   chromedriver                        0x0000000104ac9274 chromedriver + 881268\n",
      "6   chromedriver                        0x0000000104aafdcd chromedriver + 777677\n",
      "7   chromedriver                        0x0000000104ac6f79 chromedriver + 872313\n",
      "8   chromedriver                        0x0000000104aafbd3 chromedriver + 777171\n",
      "9   chromedriver                        0x0000000104a84ced chromedriver + 601325\n",
      "10  chromedriver                        0x0000000104a85e51 chromedriver + 605777\n",
      "11  chromedriver                        0x0000000104df473e chromedriver + 4204350\n",
      "12  chromedriver                        0x0000000104df8e07 chromedriver + 4222471\n",
      "13  chromedriver                        0x0000000104e000bf chromedriver + 4251839\n",
      "14  chromedriver                        0x0000000104df9b4a chromedriver + 4225866\n",
      "15  chromedriver                        0x0000000104dd28af chromedriver + 4065455\n",
      "16  chromedriver                        0x0000000104e16d18 chromedriver + 4345112\n",
      "17  chromedriver                        0x0000000104e16e86 chromedriver + 4345478\n",
      "18  chromedriver                        0x0000000104e2bf6e chromedriver + 4431726\n",
      "19  libsystem_pthread.dylib             0x00007ff801661514 _pthread_start + 125\n",
      "20  libsystem_pthread.dylib             0x00007ff80165d02f thread_start + 15\n",
      "\n"
     ]
    },
    {
     "name": "stderr",
     "output_type": "stream",
     "text": [
      " 30%|███       | 1097/3600 [10:56:00<48:16:24, 69.43s/it]"
     ]
    },
    {
     "name": "stdout",
     "output_type": "stream",
     "text": [
      "Message: no such element: Unable to locate element: {\"method\":\"xpath\",\"selector\":\"//span[@class=\"_17p6nbba\"]\"}\n",
      "  (Session info: chrome=106.0.5249.119)\n",
      "Stacktrace:\n",
      "0   chromedriver                        0x0000000105294c08 chromedriver + 4402184\n",
      "1   chromedriver                        0x000000010521c1f3 chromedriver + 3908083\n",
      "2   chromedriver                        0x0000000104ec9e6a chromedriver + 425578\n",
      "3   chromedriver                        0x0000000104f01c91 chromedriver + 654481\n",
      "4   chromedriver                        0x0000000104f01e91 chromedriver + 654993\n",
      "5   chromedriver                        0x0000000104f39274 chromedriver + 881268\n",
      "6   chromedriver                        0x0000000104f1fdcd chromedriver + 777677\n",
      "7   chromedriver                        0x0000000104f36f79 chromedriver + 872313\n",
      "8   chromedriver                        0x0000000104f1fbd3 chromedriver + 777171\n",
      "9   chromedriver                        0x0000000104ef4ced chromedriver + 601325\n",
      "10  chromedriver                        0x0000000104ef5e51 chromedriver + 605777\n",
      "11  chromedriver                        0x000000010526473e chromedriver + 4204350\n",
      "12  chromedriver                        0x0000000105268e07 chromedriver + 4222471\n",
      "13  chromedriver                        0x00000001052700bf chromedriver + 4251839\n",
      "14  chromedriver                        0x0000000105269b4a chromedriver + 4225866\n",
      "15  chromedriver                        0x00000001052428af chromedriver + 4065455\n",
      "16  chromedriver                        0x0000000105286d18 chromedriver + 4345112\n",
      "17  chromedriver                        0x0000000105286e86 chromedriver + 4345478\n",
      "18  chromedriver                        0x000000010529bf6e chromedriver + 4431726\n",
      "19  libsystem_pthread.dylib             0x00007ff801661514 _pthread_start + 125\n",
      "20  libsystem_pthread.dylib             0x00007ff80165d02f thread_start + 15\n",
      "\n"
     ]
    },
    {
     "name": "stderr",
     "output_type": "stream",
     "text": [
      " 31%|███       | 1099/3600 [10:57:04<35:05:54, 50.52s/it]"
     ]
    },
    {
     "name": "stdout",
     "output_type": "stream",
     "text": [
      "Message: no such element: Unable to locate element: {\"method\":\"xpath\",\"selector\":\"//div[@data-section-id=\"TITLE_DEFAULT\"]/section/div/span/h1\"}\n",
      "  (Session info: chrome=106.0.5249.119)\n",
      "Stacktrace:\n",
      "0   chromedriver                        0x0000000103080c08 chromedriver + 4402184\n",
      "1   chromedriver                        0x00000001030081f3 chromedriver + 3908083\n",
      "2   chromedriver                        0x0000000102cb5e6a chromedriver + 425578\n",
      "3   chromedriver                        0x0000000102cedc91 chromedriver + 654481\n",
      "4   chromedriver                        0x0000000102cede91 chromedriver + 654993\n",
      "5   chromedriver                        0x0000000102d25274 chromedriver + 881268\n",
      "6   chromedriver                        0x0000000102d0bdcd chromedriver + 777677\n",
      "7   chromedriver                        0x0000000102d22f79 chromedriver + 872313\n",
      "8   chromedriver                        0x0000000102d0bbd3 chromedriver + 777171\n",
      "9   chromedriver                        0x0000000102ce0ced chromedriver + 601325\n",
      "10  chromedriver                        0x0000000102ce1e51 chromedriver + 605777\n",
      "11  chromedriver                        0x000000010305073e chromedriver + 4204350\n",
      "12  chromedriver                        0x0000000103054e07 chromedriver + 4222471\n",
      "13  chromedriver                        0x000000010305c0bf chromedriver + 4251839\n",
      "14  chromedriver                        0x0000000103055b4a chromedriver + 4225866\n",
      "15  chromedriver                        0x000000010302e8af chromedriver + 4065455\n",
      "16  chromedriver                        0x0000000103072d18 chromedriver + 4345112\n",
      "17  chromedriver                        0x0000000103072e86 chromedriver + 4345478\n",
      "18  chromedriver                        0x0000000103087f6e chromedriver + 4431726\n",
      "19  libsystem_pthread.dylib             0x00007ff801661514 _pthread_start + 125\n",
      "20  libsystem_pthread.dylib             0x00007ff80165d02f thread_start + 15\n",
      "\n",
      "Message: no such element: Unable to locate element: {\"method\":\"xpath\",\"selector\":\"//div[@data-section-id=\"TITLE_DEFAULT\"]/section/div/span/h1\"}\n",
      "  (Session info: chrome=106.0.5249.119)\n",
      "Stacktrace:\n",
      "0   chromedriver                        0x0000000102db7c08 chromedriver + 4402184\n",
      "1   chromedriver                        0x0000000102d3f1f3 chromedriver + 3908083\n",
      "2   chromedriver                        0x00000001029ece6a chromedriver + 425578\n",
      "3   chromedriver                        0x0000000102a24c91 chromedriver + 654481\n",
      "4   chromedriver                        0x0000000102a24e91 chromedriver + 654993\n",
      "5   chromedriver                        0x0000000102a5c274 chromedriver + 881268\n",
      "6   chromedriver                        0x0000000102a42dcd chromedriver + 777677\n",
      "7   chromedriver                        0x0000000102a59f79 chromedriver + 872313\n",
      "8   chromedriver                        0x0000000102a42bd3 chromedriver + 777171\n",
      "9   chromedriver                        0x0000000102a17ced chromedriver + 601325\n",
      "10  chromedriver                        0x0000000102a18e51 chromedriver + 605777\n",
      "11  chromedriver                        0x0000000102d8773e chromedriver + 4204350\n",
      "12  chromedriver                        0x0000000102d8be07 chromedriver + 4222471\n",
      "13  chromedriver                        0x0000000102d930bf chromedriver + 4251839\n",
      "14  chromedriver                        0x0000000102d8cb4a chromedriver + 4225866\n",
      "15  chromedriver                        0x0000000102d658af chromedriver + 4065455\n",
      "16  chromedriver                        0x0000000102da9d18 chromedriver + 4345112\n",
      "17  chromedriver                        0x0000000102da9e86 chromedriver + 4345478\n",
      "18  chromedriver                        0x0000000102dbef6e chromedriver + 4431726\n",
      "19  libsystem_pthread.dylib             0x00007ff801661514 _pthread_start + 125\n",
      "20  libsystem_pthread.dylib             0x00007ff80165d02f thread_start + 15\n",
      "\n",
      "Message: no such element: Unable to locate element: {\"method\":\"xpath\",\"selector\":\"//div[@data-section-id=\"TITLE_DEFAULT\"]/section/div/span/h1\"}\n",
      "  (Session info: chrome=106.0.5249.119)\n",
      "Stacktrace:\n",
      "0   chromedriver                        0x0000000104a27c08 chromedriver + 4402184\n",
      "1   chromedriver                        0x00000001049af1f3 chromedriver + 3908083\n",
      "2   chromedriver                        0x000000010465ce6a chromedriver + 425578\n",
      "3   chromedriver                        0x0000000104694c91 chromedriver + 654481\n",
      "4   chromedriver                        0x0000000104694e91 chromedriver + 654993\n",
      "5   chromedriver                        0x00000001046cc274 chromedriver + 881268\n",
      "6   chromedriver                        0x00000001046b2dcd chromedriver + 777677\n",
      "7   chromedriver                        0x00000001046c9f79 chromedriver + 872313\n",
      "8   chromedriver                        0x00000001046b2bd3 chromedriver + 777171\n",
      "9   chromedriver                        0x0000000104687ced chromedriver + 601325\n",
      "10  chromedriver                        0x0000000104688e51 chromedriver + 605777\n",
      "11  chromedriver                        0x00000001049f773e chromedriver + 4204350\n",
      "12  chromedriver                        0x00000001049fbe07 chromedriver + 4222471\n",
      "13  chromedriver                        0x0000000104a030bf chromedriver + 4251839\n",
      "14  chromedriver                        0x00000001049fcb4a chromedriver + 4225866\n",
      "15  chromedriver                        0x00000001049d58af chromedriver + 4065455\n",
      "16  chromedriver                        0x0000000104a19d18 chromedriver + 4345112\n",
      "17  chromedriver                        0x0000000104a19e86 chromedriver + 4345478\n",
      "18  chromedriver                        0x0000000104a2ef6e chromedriver + 4431726\n",
      "19  libsystem_pthread.dylib             0x00007ff801661514 _pthread_start + 125\n",
      "20  libsystem_pthread.dylib             0x00007ff80165d02f thread_start + 15\n",
      "\n",
      "Message: no such element: Unable to locate element: {\"method\":\"xpath\",\"selector\":\"//div[@data-section-id=\"TITLE_DEFAULT\"]/section/div/span/h1\"}\n",
      "  (Session info: chrome=106.0.5249.119)\n",
      "Stacktrace:\n",
      "0   chromedriver                        0x00000001013e8c08 chromedriver + 4402184\n",
      "1   chromedriver                        0x00000001013701f3 chromedriver + 3908083\n",
      "2   chromedriver                        0x000000010101de6a chromedriver + 425578\n",
      "3   chromedriver                        0x0000000101055c91 chromedriver + 654481\n",
      "4   chromedriver                        0x0000000101055e91 chromedriver + 654993\n",
      "5   chromedriver                        0x000000010108d274 chromedriver + 881268\n",
      "6   chromedriver                        0x0000000101073dcd chromedriver + 777677\n",
      "7   chromedriver                        0x000000010108af79 chromedriver + 872313\n",
      "8   chromedriver                        0x0000000101073bd3 chromedriver + 777171\n",
      "9   chromedriver                        0x0000000101048ced chromedriver + 601325\n",
      "10  chromedriver                        0x0000000101049e51 chromedriver + 605777\n",
      "11  chromedriver                        0x00000001013b873e chromedriver + 4204350\n",
      "12  chromedriver                        0x00000001013bce07 chromedriver + 4222471\n",
      "13  chromedriver                        0x00000001013c40bf chromedriver + 4251839\n",
      "14  chromedriver                        0x00000001013bdb4a chromedriver + 4225866\n",
      "15  chromedriver                        0x00000001013968af chromedriver + 4065455\n",
      "16  chromedriver                        0x00000001013dad18 chromedriver + 4345112\n",
      "17  chromedriver                        0x00000001013dae86 chromedriver + 4345478\n",
      "18  chromedriver                        0x00000001013eff6e chromedriver + 4431726\n",
      "19  libsystem_pthread.dylib             0x00007ff801661514 _pthread_start + 125\n",
      "20  libsystem_pthread.dylib             0x00007ff80165d02f thread_start + 15\n",
      "\n"
     ]
    },
    {
     "name": "stderr",
     "output_type": "stream",
     "text": [
      " 31%|███       | 1100/3600 [10:59:46<58:15:58, 83.90s/it]"
     ]
    },
    {
     "name": "stdout",
     "output_type": "stream",
     "text": [
      "Message: no such element: Unable to locate element: {\"method\":\"xpath\",\"selector\":\"//div[@data-section-id=\"TITLE_DEFAULT\"]/section/div/span/h1\"}\n",
      "  (Session info: chrome=106.0.5249.119)\n",
      "Stacktrace:\n",
      "0   chromedriver                        0x0000000100f7ac08 chromedriver + 4402184\n",
      "1   chromedriver                        0x0000000100f021f3 chromedriver + 3908083\n",
      "2   chromedriver                        0x0000000100bafe6a chromedriver + 425578\n",
      "3   chromedriver                        0x0000000100be7c91 chromedriver + 654481\n",
      "4   chromedriver                        0x0000000100be7e91 chromedriver + 654993\n",
      "5   chromedriver                        0x0000000100c1f274 chromedriver + 881268\n",
      "6   chromedriver                        0x0000000100c05dcd chromedriver + 777677\n",
      "7   chromedriver                        0x0000000100c1cf79 chromedriver + 872313\n",
      "8   chromedriver                        0x0000000100c05bd3 chromedriver + 777171\n",
      "9   chromedriver                        0x0000000100bdaced chromedriver + 601325\n",
      "10  chromedriver                        0x0000000100bdbe51 chromedriver + 605777\n",
      "11  chromedriver                        0x0000000100f4a73e chromedriver + 4204350\n",
      "12  chromedriver                        0x0000000100f4ee07 chromedriver + 4222471\n",
      "13  chromedriver                        0x0000000100f560bf chromedriver + 4251839\n",
      "14  chromedriver                        0x0000000100f4fb4a chromedriver + 4225866\n",
      "15  chromedriver                        0x0000000100f288af chromedriver + 4065455\n",
      "16  chromedriver                        0x0000000100f6cd18 chromedriver + 4345112\n",
      "17  chromedriver                        0x0000000100f6ce86 chromedriver + 4345478\n",
      "18  chromedriver                        0x0000000100f81f6e chromedriver + 4431726\n",
      "19  libsystem_pthread.dylib             0x00007ff801661514 _pthread_start + 125\n",
      "20  libsystem_pthread.dylib             0x00007ff80165d02f thread_start + 15\n",
      "\n",
      "Errors total:  29\n"
     ]
    },
    {
     "name": "stderr",
     "output_type": "stream",
     "text": [
      " 31%|███       | 1110/3600 [11:05:06<22:48:09, 32.97s/it]"
     ]
    },
    {
     "name": "stdout",
     "output_type": "stream",
     "text": [
      "Errors total:  29\n"
     ]
    },
    {
     "name": "stderr",
     "output_type": "stream",
     "text": [
      " 31%|███       | 1120/3600 [11:10:20<21:30:21, 31.22s/it]"
     ]
    },
    {
     "name": "stdout",
     "output_type": "stream",
     "text": [
      "Errors total:  29\n"
     ]
    },
    {
     "name": "stderr",
     "output_type": "stream",
     "text": [
      " 31%|███       | 1123/3600 [11:11:55<21:37:17, 31.42s/it]"
     ]
    },
    {
     "name": "stdout",
     "output_type": "stream",
     "text": [
      "Message: no such element: Unable to locate element: {\"method\":\"xpath\",\"selector\":\"//span[@class=\"_17p6nbba\"]\"}\n",
      "  (Session info: chrome=106.0.5249.119)\n",
      "Stacktrace:\n",
      "0   chromedriver                        0x00000001045d8c08 chromedriver + 4402184\n",
      "1   chromedriver                        0x00000001045601f3 chromedriver + 3908083\n",
      "2   chromedriver                        0x000000010420de6a chromedriver + 425578\n",
      "3   chromedriver                        0x0000000104245c91 chromedriver + 654481\n",
      "4   chromedriver                        0x0000000104245e91 chromedriver + 654993\n",
      "5   chromedriver                        0x000000010427d274 chromedriver + 881268\n",
      "6   chromedriver                        0x0000000104263dcd chromedriver + 777677\n",
      "7   chromedriver                        0x000000010427af79 chromedriver + 872313\n",
      "8   chromedriver                        0x0000000104263bd3 chromedriver + 777171\n",
      "9   chromedriver                        0x0000000104238ced chromedriver + 601325\n",
      "10  chromedriver                        0x0000000104239e51 chromedriver + 605777\n",
      "11  chromedriver                        0x00000001045a873e chromedriver + 4204350\n",
      "12  chromedriver                        0x00000001045ace07 chromedriver + 4222471\n",
      "13  chromedriver                        0x00000001045b40bf chromedriver + 4251839\n",
      "14  chromedriver                        0x00000001045adb4a chromedriver + 4225866\n",
      "15  chromedriver                        0x00000001045868af chromedriver + 4065455\n",
      "16  chromedriver                        0x00000001045cad18 chromedriver + 4345112\n",
      "17  chromedriver                        0x00000001045cae86 chromedriver + 4345478\n",
      "18  chromedriver                        0x00000001045dff6e chromedriver + 4431726\n",
      "19  libsystem_pthread.dylib             0x00007ff801661514 _pthread_start + 125\n",
      "20  libsystem_pthread.dylib             0x00007ff80165d02f thread_start + 15\n",
      "\n",
      "Message: no such element: Unable to locate element: {\"method\":\"xpath\",\"selector\":\"//span[@class=\"_17p6nbba\"]\"}\n",
      "  (Session info: chrome=106.0.5249.119)\n",
      "Stacktrace:\n",
      "0   chromedriver                        0x0000000100c12c08 chromedriver + 4402184\n",
      "1   chromedriver                        0x0000000100b9a1f3 chromedriver + 3908083\n",
      "2   chromedriver                        0x0000000100847e6a chromedriver + 425578\n",
      "3   chromedriver                        0x000000010087fc91 chromedriver + 654481\n",
      "4   chromedriver                        0x000000010087fe91 chromedriver + 654993\n",
      "5   chromedriver                        0x00000001008b7274 chromedriver + 881268\n",
      "6   chromedriver                        0x000000010089ddcd chromedriver + 777677\n",
      "7   chromedriver                        0x00000001008b4f79 chromedriver + 872313\n",
      "8   chromedriver                        0x000000010089dbd3 chromedriver + 777171\n",
      "9   chromedriver                        0x0000000100872ced chromedriver + 601325\n",
      "10  chromedriver                        0x0000000100873e51 chromedriver + 605777\n",
      "11  chromedriver                        0x0000000100be273e chromedriver + 4204350\n",
      "12  chromedriver                        0x0000000100be6e07 chromedriver + 4222471\n",
      "13  chromedriver                        0x0000000100bee0bf chromedriver + 4251839\n",
      "14  chromedriver                        0x0000000100be7b4a chromedriver + 4225866\n",
      "15  chromedriver                        0x0000000100bc08af chromedriver + 4065455\n",
      "16  chromedriver                        0x0000000100c04d18 chromedriver + 4345112\n",
      "17  chromedriver                        0x0000000100c04e86 chromedriver + 4345478\n",
      "18  chromedriver                        0x0000000100c19f6e chromedriver + 4431726\n",
      "19  libsystem_pthread.dylib             0x00007ff801661514 _pthread_start + 125\n",
      "20  libsystem_pthread.dylib             0x00007ff80165d02f thread_start + 15\n",
      "\n",
      "Message: no such element: Unable to locate element: {\"method\":\"xpath\",\"selector\":\"//span[@class=\"_17p6nbba\"]\"}\n",
      "  (Session info: chrome=106.0.5249.119)\n",
      "Stacktrace:\n",
      "0   chromedriver                        0x0000000104dfcc08 chromedriver + 4402184\n",
      "1   chromedriver                        0x0000000104d841f3 chromedriver + 3908083\n",
      "2   chromedriver                        0x0000000104a31e6a chromedriver + 425578\n",
      "3   chromedriver                        0x0000000104a69c91 chromedriver + 654481\n",
      "4   chromedriver                        0x0000000104a69e91 chromedriver + 654993\n",
      "5   chromedriver                        0x0000000104aa1274 chromedriver + 881268\n",
      "6   chromedriver                        0x0000000104a87dcd chromedriver + 777677\n",
      "7   chromedriver                        0x0000000104a9ef79 chromedriver + 872313\n",
      "8   chromedriver                        0x0000000104a87bd3 chromedriver + 777171\n",
      "9   chromedriver                        0x0000000104a5cced chromedriver + 601325\n",
      "10  chromedriver                        0x0000000104a5de51 chromedriver + 605777\n",
      "11  chromedriver                        0x0000000104dcc73e chromedriver + 4204350\n",
      "12  chromedriver                        0x0000000104dd0e07 chromedriver + 4222471\n",
      "13  chromedriver                        0x0000000104dd80bf chromedriver + 4251839\n",
      "14  chromedriver                        0x0000000104dd1b4a chromedriver + 4225866\n",
      "15  chromedriver                        0x0000000104daa8af chromedriver + 4065455\n",
      "16  chromedriver                        0x0000000104deed18 chromedriver + 4345112\n",
      "17  chromedriver                        0x0000000104deee86 chromedriver + 4345478\n",
      "18  chromedriver                        0x0000000104e03f6e chromedriver + 4431726\n",
      "19  libsystem_pthread.dylib             0x00007ff801661514 _pthread_start + 125\n",
      "20  libsystem_pthread.dylib             0x00007ff80165d02f thread_start + 15\n",
      "\n",
      "Message: no such element: Unable to locate element: {\"method\":\"xpath\",\"selector\":\"//span[@class=\"_17p6nbba\"]\"}\n",
      "  (Session info: chrome=106.0.5249.119)\n",
      "Stacktrace:\n",
      "0   chromedriver                        0x0000000104e50c08 chromedriver + 4402184\n",
      "1   chromedriver                        0x0000000104dd81f3 chromedriver + 3908083\n",
      "2   chromedriver                        0x0000000104a85e6a chromedriver + 425578\n",
      "3   chromedriver                        0x0000000104abdc91 chromedriver + 654481\n",
      "4   chromedriver                        0x0000000104abde91 chromedriver + 654993\n",
      "5   chromedriver                        0x0000000104af5274 chromedriver + 881268\n",
      "6   chromedriver                        0x0000000104adbdcd chromedriver + 777677\n",
      "7   chromedriver                        0x0000000104af2f79 chromedriver + 872313\n",
      "8   chromedriver                        0x0000000104adbbd3 chromedriver + 777171\n",
      "9   chromedriver                        0x0000000104ab0ced chromedriver + 601325\n",
      "10  chromedriver                        0x0000000104ab1e51 chromedriver + 605777\n",
      "11  chromedriver                        0x0000000104e2073e chromedriver + 4204350\n",
      "12  chromedriver                        0x0000000104e24e07 chromedriver + 4222471\n",
      "13  chromedriver                        0x0000000104e2c0bf chromedriver + 4251839\n",
      "14  chromedriver                        0x0000000104e25b4a chromedriver + 4225866\n",
      "15  chromedriver                        0x0000000104dfe8af chromedriver + 4065455\n",
      "16  chromedriver                        0x0000000104e42d18 chromedriver + 4345112\n",
      "17  chromedriver                        0x0000000104e42e86 chromedriver + 4345478\n",
      "18  chromedriver                        0x0000000104e57f6e chromedriver + 4431726\n",
      "19  libsystem_pthread.dylib             0x00007ff801661514 _pthread_start + 125\n",
      "20  libsystem_pthread.dylib             0x00007ff80165d02f thread_start + 15\n",
      "\n"
     ]
    },
    {
     "name": "stderr",
     "output_type": "stream",
     "text": [
      " 31%|███       | 1124/3600 [11:14:32<47:30:10, 69.07s/it]"
     ]
    },
    {
     "name": "stdout",
     "output_type": "stream",
     "text": [
      "Message: no such element: Unable to locate element: {\"method\":\"xpath\",\"selector\":\"//span[@class=\"_17p6nbba\"]\"}\n",
      "  (Session info: chrome=106.0.5249.119)\n",
      "Stacktrace:\n",
      "0   chromedriver                        0x00000001053c4c08 chromedriver + 4402184\n",
      "1   chromedriver                        0x000000010534c1f3 chromedriver + 3908083\n",
      "2   chromedriver                        0x0000000104ff9e6a chromedriver + 425578\n",
      "3   chromedriver                        0x0000000105031c91 chromedriver + 654481\n",
      "4   chromedriver                        0x0000000105031e91 chromedriver + 654993\n",
      "5   chromedriver                        0x0000000105069274 chromedriver + 881268\n",
      "6   chromedriver                        0x000000010504fdcd chromedriver + 777677\n",
      "7   chromedriver                        0x0000000105066f79 chromedriver + 872313\n",
      "8   chromedriver                        0x000000010504fbd3 chromedriver + 777171\n",
      "9   chromedriver                        0x0000000105024ced chromedriver + 601325\n",
      "10  chromedriver                        0x0000000105025e51 chromedriver + 605777\n",
      "11  chromedriver                        0x000000010539473e chromedriver + 4204350\n",
      "12  chromedriver                        0x0000000105398e07 chromedriver + 4222471\n",
      "13  chromedriver                        0x00000001053a00bf chromedriver + 4251839\n",
      "14  chromedriver                        0x0000000105399b4a chromedriver + 4225866\n",
      "15  chromedriver                        0x00000001053728af chromedriver + 4065455\n",
      "16  chromedriver                        0x00000001053b6d18 chromedriver + 4345112\n",
      "17  chromedriver                        0x00000001053b6e86 chromedriver + 4345478\n",
      "18  chromedriver                        0x00000001053cbf6e chromedriver + 4431726\n",
      "19  libsystem_pthread.dylib             0x00007ff801661514 _pthread_start + 125\n",
      "20  libsystem_pthread.dylib             0x00007ff80165d02f thread_start + 15\n",
      "\n"
     ]
    },
    {
     "name": "stderr",
     "output_type": "stream",
     "text": [
      " 31%|███▏      | 1126/3600 [11:15:39<34:51:33, 50.72s/it]"
     ]
    },
    {
     "name": "stdout",
     "output_type": "stream",
     "text": [
      "Message: unknown error: Chrome failed to start: crashed.\n",
      "  (chrome not reachable)\n",
      "  (The process started from chrome location /Applications/Google Chrome.app/Contents/MacOS/Google Chrome is no longer running, so ChromeDriver is assuming that Chrome has crashed.)\n",
      "Stacktrace:\n",
      "0   chromedriver                        0x000000010050dc08 chromedriver + 4402184\n",
      "1   chromedriver                        0x00000001004951f3 chromedriver + 3908083\n",
      "2   chromedriver                        0x0000000100142e6a chromedriver + 425578\n",
      "3   chromedriver                        0x0000000100167fc6 chromedriver + 577478\n",
      "4   chromedriver                        0x00000001001633be chromedriver + 558014\n",
      "5   chromedriver                        0x00000001001a08fa chromedriver + 809210\n",
      "6   chromedriver                        0x00000001001a02bf chromedriver + 807615\n",
      "7   chromedriver                        0x0000000100198bd3 chromedriver + 777171\n",
      "8   chromedriver                        0x000000010016dced chromedriver + 601325\n",
      "9   chromedriver                        0x000000010016ee51 chromedriver + 605777\n",
      "10  chromedriver                        0x00000001004dd73e chromedriver + 4204350\n",
      "11  chromedriver                        0x00000001004e1e07 chromedriver + 4222471\n",
      "12  chromedriver                        0x00000001004e90bf chromedriver + 4251839\n",
      "13  chromedriver                        0x00000001004e2b4a chromedriver + 4225866\n",
      "14  chromedriver                        0x00000001004bb8af chromedriver + 4065455\n",
      "15  chromedriver                        0x00000001004ffd18 chromedriver + 4345112\n",
      "16  chromedriver                        0x00000001004ffe86 chromedriver + 4345478\n",
      "17  chromedriver                        0x0000000100514f6e chromedriver + 4431726\n",
      "18  libsystem_pthread.dylib             0x00007ff801661514 _pthread_start + 125\n",
      "19  libsystem_pthread.dylib             0x00007ff80165d02f thread_start + 15\n",
      "\n"
     ]
    },
    {
     "name": "stderr",
     "output_type": "stream",
     "text": [
      " 31%|███▏      | 1130/3600 [11:17:49<25:01:14, 36.47s/it]"
     ]
    },
    {
     "name": "stdout",
     "output_type": "stream",
     "text": [
      "Errors total:  30\n"
     ]
    },
    {
     "name": "stderr",
     "output_type": "stream",
     "text": [
      " 32%|███▏      | 1137/3600 [11:21:37<22:27:10, 32.82s/it]"
     ]
    },
    {
     "name": "stdout",
     "output_type": "stream",
     "text": [
      "Message: no such element: Unable to locate element: {\"method\":\"xpath\",\"selector\":\"//span[@class=\"_17p6nbba\"]\"}\n",
      "  (Session info: chrome=106.0.5249.119)\n",
      "Stacktrace:\n",
      "0   chromedriver                        0x000000010478fc08 chromedriver + 4402184\n",
      "1   chromedriver                        0x00000001047171f3 chromedriver + 3908083\n",
      "2   chromedriver                        0x00000001043c4e6a chromedriver + 425578\n",
      "3   chromedriver                        0x00000001043fcc91 chromedriver + 654481\n",
      "4   chromedriver                        0x00000001043fce91 chromedriver + 654993\n",
      "5   chromedriver                        0x0000000104434274 chromedriver + 881268\n",
      "6   chromedriver                        0x000000010441adcd chromedriver + 777677\n",
      "7   chromedriver                        0x0000000104431f79 chromedriver + 872313\n",
      "8   chromedriver                        0x000000010441abd3 chromedriver + 777171\n",
      "9   chromedriver                        0x00000001043efced chromedriver + 601325\n",
      "10  chromedriver                        0x00000001043f0e51 chromedriver + 605777\n",
      "11  chromedriver                        0x000000010475f73e chromedriver + 4204350\n",
      "12  chromedriver                        0x0000000104763e07 chromedriver + 4222471\n",
      "13  chromedriver                        0x000000010476b0bf chromedriver + 4251839\n",
      "14  chromedriver                        0x0000000104764b4a chromedriver + 4225866\n",
      "15  chromedriver                        0x000000010473d8af chromedriver + 4065455\n",
      "16  chromedriver                        0x0000000104781d18 chromedriver + 4345112\n",
      "17  chromedriver                        0x0000000104781e86 chromedriver + 4345478\n",
      "18  chromedriver                        0x0000000104796f6e chromedriver + 4431726\n",
      "19  libsystem_pthread.dylib             0x00007ff801661514 _pthread_start + 125\n",
      "20  libsystem_pthread.dylib             0x00007ff80165d02f thread_start + 15\n",
      "\n",
      "Message: no such element: Unable to locate element: {\"method\":\"xpath\",\"selector\":\"//span[@class=\"_17p6nbba\"]\"}\n",
      "  (Session info: chrome=106.0.5249.119)\n",
      "Stacktrace:\n",
      "0   chromedriver                        0x0000000104d0fc08 chromedriver + 4402184\n",
      "1   chromedriver                        0x0000000104c971f3 chromedriver + 3908083\n",
      "2   chromedriver                        0x0000000104944e6a chromedriver + 425578\n",
      "3   chromedriver                        0x000000010497cc91 chromedriver + 654481\n",
      "4   chromedriver                        0x000000010497ce91 chromedriver + 654993\n",
      "5   chromedriver                        0x00000001049b4274 chromedriver + 881268\n",
      "6   chromedriver                        0x000000010499adcd chromedriver + 777677\n",
      "7   chromedriver                        0x00000001049b1f79 chromedriver + 872313\n",
      "8   chromedriver                        0x000000010499abd3 chromedriver + 777171\n",
      "9   chromedriver                        0x000000010496fced chromedriver + 601325\n",
      "10  chromedriver                        0x0000000104970e51 chromedriver + 605777\n",
      "11  chromedriver                        0x0000000104cdf73e chromedriver + 4204350\n",
      "12  chromedriver                        0x0000000104ce3e07 chromedriver + 4222471\n",
      "13  chromedriver                        0x0000000104ceb0bf chromedriver + 4251839\n",
      "14  chromedriver                        0x0000000104ce4b4a chromedriver + 4225866\n",
      "15  chromedriver                        0x0000000104cbd8af chromedriver + 4065455\n",
      "16  chromedriver                        0x0000000104d01d18 chromedriver + 4345112\n",
      "17  chromedriver                        0x0000000104d01e86 chromedriver + 4345478\n",
      "18  chromedriver                        0x0000000104d16f6e chromedriver + 4431726\n",
      "19  libsystem_pthread.dylib             0x00007ff801661514 _pthread_start + 125\n",
      "20  libsystem_pthread.dylib             0x00007ff80165d02f thread_start + 15\n",
      "\n",
      "Message: no such element: Unable to locate element: {\"method\":\"xpath\",\"selector\":\"//span[@class=\"_17p6nbba\"]\"}\n",
      "  (Session info: chrome=106.0.5249.119)\n",
      "Stacktrace:\n",
      "0   chromedriver                        0x000000010449cc08 chromedriver + 4402184\n",
      "1   chromedriver                        0x00000001044241f3 chromedriver + 3908083\n",
      "2   chromedriver                        0x00000001040d1e6a chromedriver + 425578\n",
      "3   chromedriver                        0x0000000104109c91 chromedriver + 654481\n",
      "4   chromedriver                        0x0000000104109e91 chromedriver + 654993\n",
      "5   chromedriver                        0x0000000104141274 chromedriver + 881268\n",
      "6   chromedriver                        0x0000000104127dcd chromedriver + 777677\n",
      "7   chromedriver                        0x000000010413ef79 chromedriver + 872313\n",
      "8   chromedriver                        0x0000000104127bd3 chromedriver + 777171\n",
      "9   chromedriver                        0x00000001040fcced chromedriver + 601325\n",
      "10  chromedriver                        0x00000001040fde51 chromedriver + 605777\n",
      "11  chromedriver                        0x000000010446c73e chromedriver + 4204350\n",
      "12  chromedriver                        0x0000000104470e07 chromedriver + 4222471\n",
      "13  chromedriver                        0x00000001044780bf chromedriver + 4251839\n",
      "14  chromedriver                        0x0000000104471b4a chromedriver + 4225866\n",
      "15  chromedriver                        0x000000010444a8af chromedriver + 4065455\n",
      "16  chromedriver                        0x000000010448ed18 chromedriver + 4345112\n",
      "17  chromedriver                        0x000000010448ee86 chromedriver + 4345478\n",
      "18  chromedriver                        0x00000001044a3f6e chromedriver + 4431726\n",
      "19  libsystem_pthread.dylib             0x00007ff801661514 _pthread_start + 125\n",
      "20  libsystem_pthread.dylib             0x00007ff80165d02f thread_start + 15\n",
      "\n",
      "Message: no such element: Unable to locate element: {\"method\":\"xpath\",\"selector\":\"//span[@class=\"_17p6nbba\"]\"}\n",
      "  (Session info: chrome=106.0.5249.119)\n",
      "Stacktrace:\n",
      "0   chromedriver                        0x00000001053e9c08 chromedriver + 4402184\n",
      "1   chromedriver                        0x00000001053711f3 chromedriver + 3908083\n",
      "2   chromedriver                        0x000000010501ee6a chromedriver + 425578\n",
      "3   chromedriver                        0x0000000105056c91 chromedriver + 654481\n",
      "4   chromedriver                        0x0000000105056e91 chromedriver + 654993\n",
      "5   chromedriver                        0x000000010508e274 chromedriver + 881268\n",
      "6   chromedriver                        0x0000000105074dcd chromedriver + 777677\n",
      "7   chromedriver                        0x000000010508bf79 chromedriver + 872313\n",
      "8   chromedriver                        0x0000000105074bd3 chromedriver + 777171\n",
      "9   chromedriver                        0x0000000105049ced chromedriver + 601325\n",
      "10  chromedriver                        0x000000010504ae51 chromedriver + 605777\n",
      "11  chromedriver                        0x00000001053b973e chromedriver + 4204350\n",
      "12  chromedriver                        0x00000001053bde07 chromedriver + 4222471\n",
      "13  chromedriver                        0x00000001053c50bf chromedriver + 4251839\n",
      "14  chromedriver                        0x00000001053beb4a chromedriver + 4225866\n",
      "15  chromedriver                        0x00000001053978af chromedriver + 4065455\n",
      "16  chromedriver                        0x00000001053dbd18 chromedriver + 4345112\n",
      "17  chromedriver                        0x00000001053dbe86 chromedriver + 4345478\n",
      "18  chromedriver                        0x00000001053f0f6e chromedriver + 4431726\n",
      "19  libsystem_pthread.dylib             0x00007ff801661514 _pthread_start + 125\n",
      "20  libsystem_pthread.dylib             0x00007ff80165d02f thread_start + 15\n",
      "\n"
     ]
    },
    {
     "name": "stderr",
     "output_type": "stream",
     "text": [
      " 32%|███▏      | 1138/3600 [11:24:16<48:19:40, 70.67s/it]"
     ]
    },
    {
     "name": "stdout",
     "output_type": "stream",
     "text": [
      "Message: no such element: Unable to locate element: {\"method\":\"xpath\",\"selector\":\"//span[@class=\"_17p6nbba\"]\"}\n",
      "  (Session info: chrome=106.0.5249.119)\n",
      "Stacktrace:\n",
      "0   chromedriver                        0x000000010326cc08 chromedriver + 4402184\n",
      "1   chromedriver                        0x00000001031f41f3 chromedriver + 3908083\n",
      "2   chromedriver                        0x0000000102ea1e6a chromedriver + 425578\n",
      "3   chromedriver                        0x0000000102ed9c91 chromedriver + 654481\n",
      "4   chromedriver                        0x0000000102ed9e91 chromedriver + 654993\n",
      "5   chromedriver                        0x0000000102f11274 chromedriver + 881268\n",
      "6   chromedriver                        0x0000000102ef7dcd chromedriver + 777677\n",
      "7   chromedriver                        0x0000000102f0ef79 chromedriver + 872313\n",
      "8   chromedriver                        0x0000000102ef7bd3 chromedriver + 777171\n",
      "9   chromedriver                        0x0000000102eccced chromedriver + 601325\n",
      "10  chromedriver                        0x0000000102ecde51 chromedriver + 605777\n",
      "11  chromedriver                        0x000000010323c73e chromedriver + 4204350\n",
      "12  chromedriver                        0x0000000103240e07 chromedriver + 4222471\n",
      "13  chromedriver                        0x00000001032480bf chromedriver + 4251839\n",
      "14  chromedriver                        0x0000000103241b4a chromedriver + 4225866\n",
      "15  chromedriver                        0x000000010321a8af chromedriver + 4065455\n",
      "16  chromedriver                        0x000000010325ed18 chromedriver + 4345112\n",
      "17  chromedriver                        0x000000010325ee86 chromedriver + 4345478\n",
      "18  chromedriver                        0x0000000103273f6e chromedriver + 4431726\n",
      "19  libsystem_pthread.dylib             0x00007ff801661514 _pthread_start + 125\n",
      "20  libsystem_pthread.dylib             0x00007ff80165d02f thread_start + 15\n",
      "\n"
     ]
    },
    {
     "name": "stderr",
     "output_type": "stream",
     "text": [
      " 32%|███▏      | 1140/3600 [11:25:19<34:36:48, 50.65s/it]"
     ]
    },
    {
     "name": "stdout",
     "output_type": "stream",
     "text": [
      "Errors total:  31\n"
     ]
    },
    {
     "name": "stderr",
     "output_type": "stream",
     "text": [
      " 32%|███▏      | 1150/3600 [11:30:40<22:22:00, 32.87s/it]"
     ]
    },
    {
     "name": "stdout",
     "output_type": "stream",
     "text": [
      "Errors total:  31\n"
     ]
    },
    {
     "name": "stderr",
     "output_type": "stream",
     "text": [
      " 32%|███▏      | 1160/3600 [11:36:03<21:23:36, 31.56s/it]"
     ]
    },
    {
     "name": "stdout",
     "output_type": "stream",
     "text": [
      "Errors total:  31\n"
     ]
    },
    {
     "name": "stderr",
     "output_type": "stream",
     "text": [
      " 32%|███▏      | 1164/3600 [11:38:13<21:53:25, 32.35s/it]"
     ]
    },
    {
     "name": "stdout",
     "output_type": "stream",
     "text": [
      "Message: no such element: Unable to locate element: {\"method\":\"xpath\",\"selector\":\"//span[@class=\"_17p6nbba\"]\"}\n",
      "  (Session info: chrome=106.0.5249.119)\n",
      "Stacktrace:\n",
      "0   chromedriver                        0x0000000100fc8c08 chromedriver + 4402184\n",
      "1   chromedriver                        0x0000000100f501f3 chromedriver + 3908083\n",
      "2   chromedriver                        0x0000000100bfde6a chromedriver + 425578\n",
      "3   chromedriver                        0x0000000100c35c91 chromedriver + 654481\n",
      "4   chromedriver                        0x0000000100c35e91 chromedriver + 654993\n",
      "5   chromedriver                        0x0000000100c6d274 chromedriver + 881268\n",
      "6   chromedriver                        0x0000000100c53dcd chromedriver + 777677\n",
      "7   chromedriver                        0x0000000100c6af79 chromedriver + 872313\n",
      "8   chromedriver                        0x0000000100c53bd3 chromedriver + 777171\n",
      "9   chromedriver                        0x0000000100c28ced chromedriver + 601325\n",
      "10  chromedriver                        0x0000000100c29e51 chromedriver + 605777\n",
      "11  chromedriver                        0x0000000100f9873e chromedriver + 4204350\n",
      "12  chromedriver                        0x0000000100f9ce07 chromedriver + 4222471\n",
      "13  chromedriver                        0x0000000100fa40bf chromedriver + 4251839\n",
      "14  chromedriver                        0x0000000100f9db4a chromedriver + 4225866\n",
      "15  chromedriver                        0x0000000100f768af chromedriver + 4065455\n",
      "16  chromedriver                        0x0000000100fbad18 chromedriver + 4345112\n",
      "17  chromedriver                        0x0000000100fbae86 chromedriver + 4345478\n",
      "18  chromedriver                        0x0000000100fcff6e chromedriver + 4431726\n",
      "19  libsystem_pthread.dylib             0x00007ff801661514 _pthread_start + 125\n",
      "20  libsystem_pthread.dylib             0x00007ff80165d02f thread_start + 15\n",
      "\n",
      "Message: no such element: Unable to locate element: {\"method\":\"xpath\",\"selector\":\"//span[@class=\"_17p6nbba\"]\"}\n",
      "  (Session info: chrome=106.0.5249.119)\n",
      "Stacktrace:\n",
      "0   chromedriver                        0x00000001013a2c08 chromedriver + 4402184\n",
      "1   chromedriver                        0x000000010132a1f3 chromedriver + 3908083\n",
      "2   chromedriver                        0x0000000100fd7e6a chromedriver + 425578\n",
      "3   chromedriver                        0x000000010100fc91 chromedriver + 654481\n",
      "4   chromedriver                        0x000000010100fe91 chromedriver + 654993\n",
      "5   chromedriver                        0x0000000101047274 chromedriver + 881268\n",
      "6   chromedriver                        0x000000010102ddcd chromedriver + 777677\n",
      "7   chromedriver                        0x0000000101044f79 chromedriver + 872313\n",
      "8   chromedriver                        0x000000010102dbd3 chromedriver + 777171\n",
      "9   chromedriver                        0x0000000101002ced chromedriver + 601325\n",
      "10  chromedriver                        0x0000000101003e51 chromedriver + 605777\n",
      "11  chromedriver                        0x000000010137273e chromedriver + 4204350\n",
      "12  chromedriver                        0x0000000101376e07 chromedriver + 4222471\n",
      "13  chromedriver                        0x000000010137e0bf chromedriver + 4251839\n",
      "14  chromedriver                        0x0000000101377b4a chromedriver + 4225866\n",
      "15  chromedriver                        0x00000001013508af chromedriver + 4065455\n",
      "16  chromedriver                        0x0000000101394d18 chromedriver + 4345112\n",
      "17  chromedriver                        0x0000000101394e86 chromedriver + 4345478\n",
      "18  chromedriver                        0x00000001013a9f6e chromedriver + 4431726\n",
      "19  libsystem_pthread.dylib             0x00007ff801661514 _pthread_start + 125\n",
      "20  libsystem_pthread.dylib             0x00007ff80165d02f thread_start + 15\n",
      "\n",
      "Message: no such element: Unable to locate element: {\"method\":\"xpath\",\"selector\":\"//span[@class=\"_17p6nbba\"]\"}\n",
      "  (Session info: chrome=106.0.5249.119)\n",
      "Stacktrace:\n",
      "0   chromedriver                        0x00000001008cdc08 chromedriver + 4402184\n",
      "1   chromedriver                        0x00000001008551f3 chromedriver + 3908083\n",
      "2   chromedriver                        0x0000000100502e6a chromedriver + 425578\n",
      "3   chromedriver                        0x000000010053ac91 chromedriver + 654481\n",
      "4   chromedriver                        0x000000010053ae91 chromedriver + 654993\n",
      "5   chromedriver                        0x0000000100572274 chromedriver + 881268\n",
      "6   chromedriver                        0x0000000100558dcd chromedriver + 777677\n",
      "7   chromedriver                        0x000000010056ff79 chromedriver + 872313\n",
      "8   chromedriver                        0x0000000100558bd3 chromedriver + 777171\n",
      "9   chromedriver                        0x000000010052dced chromedriver + 601325\n",
      "10  chromedriver                        0x000000010052ee51 chromedriver + 605777\n",
      "11  chromedriver                        0x000000010089d73e chromedriver + 4204350\n",
      "12  chromedriver                        0x00000001008a1e07 chromedriver + 4222471\n",
      "13  chromedriver                        0x00000001008a90bf chromedriver + 4251839\n",
      "14  chromedriver                        0x00000001008a2b4a chromedriver + 4225866\n",
      "15  chromedriver                        0x000000010087b8af chromedriver + 4065455\n",
      "16  chromedriver                        0x00000001008bfd18 chromedriver + 4345112\n",
      "17  chromedriver                        0x00000001008bfe86 chromedriver + 4345478\n",
      "18  chromedriver                        0x00000001008d4f6e chromedriver + 4431726\n",
      "19  libsystem_pthread.dylib             0x00007ff801661514 _pthread_start + 125\n",
      "20  libsystem_pthread.dylib             0x00007ff80165d02f thread_start + 15\n",
      "\n",
      "Message: no such element: Unable to locate element: {\"method\":\"xpath\",\"selector\":\"//span[@class=\"_17p6nbba\"]\"}\n",
      "  (Session info: chrome=106.0.5249.119)\n",
      "Stacktrace:\n",
      "0   chromedriver                        0x00000001033dec08 chromedriver + 4402184\n",
      "1   chromedriver                        0x00000001033661f3 chromedriver + 3908083\n",
      "2   chromedriver                        0x0000000103013e6a chromedriver + 425578\n",
      "3   chromedriver                        0x000000010304bc91 chromedriver + 654481\n",
      "4   chromedriver                        0x000000010304be91 chromedriver + 654993\n",
      "5   chromedriver                        0x0000000103083274 chromedriver + 881268\n",
      "6   chromedriver                        0x0000000103069dcd chromedriver + 777677\n",
      "7   chromedriver                        0x0000000103080f79 chromedriver + 872313\n",
      "8   chromedriver                        0x0000000103069bd3 chromedriver + 777171\n",
      "9   chromedriver                        0x000000010303eced chromedriver + 601325\n",
      "10  chromedriver                        0x000000010303fe51 chromedriver + 605777\n",
      "11  chromedriver                        0x00000001033ae73e chromedriver + 4204350\n",
      "12  chromedriver                        0x00000001033b2e07 chromedriver + 4222471\n",
      "13  chromedriver                        0x00000001033ba0bf chromedriver + 4251839\n",
      "14  chromedriver                        0x00000001033b3b4a chromedriver + 4225866\n",
      "15  chromedriver                        0x000000010338c8af chromedriver + 4065455\n",
      "16  chromedriver                        0x00000001033d0d18 chromedriver + 4345112\n",
      "17  chromedriver                        0x00000001033d0e86 chromedriver + 4345478\n",
      "18  chromedriver                        0x00000001033e5f6e chromedriver + 4431726\n",
      "19  libsystem_pthread.dylib             0x00007ff801661514 _pthread_start + 125\n",
      "20  libsystem_pthread.dylib             0x00007ff80165d02f thread_start + 15\n",
      "\n"
     ]
    },
    {
     "name": "stderr",
     "output_type": "stream",
     "text": [
      " 32%|███▏      | 1165/3600 [11:40:54<47:52:27, 70.78s/it]"
     ]
    },
    {
     "name": "stdout",
     "output_type": "stream",
     "text": [
      "Message: no such element: Unable to locate element: {\"method\":\"xpath\",\"selector\":\"//span[@class=\"_17p6nbba\"]\"}\n",
      "  (Session info: chrome=106.0.5249.119)\n",
      "Stacktrace:\n",
      "0   chromedriver                        0x00000001031c0c08 chromedriver + 4402184\n",
      "1   chromedriver                        0x00000001031481f3 chromedriver + 3908083\n",
      "2   chromedriver                        0x0000000102df5e6a chromedriver + 425578\n",
      "3   chromedriver                        0x0000000102e2dc91 chromedriver + 654481\n",
      "4   chromedriver                        0x0000000102e2de91 chromedriver + 654993\n",
      "5   chromedriver                        0x0000000102e65274 chromedriver + 881268\n",
      "6   chromedriver                        0x0000000102e4bdcd chromedriver + 777677\n",
      "7   chromedriver                        0x0000000102e62f79 chromedriver + 872313\n",
      "8   chromedriver                        0x0000000102e4bbd3 chromedriver + 777171\n",
      "9   chromedriver                        0x0000000102e20ced chromedriver + 601325\n",
      "10  chromedriver                        0x0000000102e21e51 chromedriver + 605777\n",
      "11  chromedriver                        0x000000010319073e chromedriver + 4204350\n",
      "12  chromedriver                        0x0000000103194e07 chromedriver + 4222471\n",
      "13  chromedriver                        0x000000010319c0bf chromedriver + 4251839\n",
      "14  chromedriver                        0x0000000103195b4a chromedriver + 4225866\n",
      "15  chromedriver                        0x000000010316e8af chromedriver + 4065455\n",
      "16  chromedriver                        0x00000001031b2d18 chromedriver + 4345112\n",
      "17  chromedriver                        0x00000001031b2e86 chromedriver + 4345478\n",
      "18  chromedriver                        0x00000001031c7f6e chromedriver + 4431726\n",
      "19  libsystem_pthread.dylib             0x00007ff801661514 _pthread_start + 125\n",
      "20  libsystem_pthread.dylib             0x00007ff80165d02f thread_start + 15\n",
      "\n"
     ]
    },
    {
     "name": "stderr",
     "output_type": "stream",
     "text": [
      " 32%|███▎      | 1170/3600 [11:43:36<26:03:45, 38.61s/it]"
     ]
    },
    {
     "name": "stdout",
     "output_type": "stream",
     "text": [
      "Errors total:  32\n"
     ]
    },
    {
     "name": "stderr",
     "output_type": "stream",
     "text": [
      " 33%|███▎      | 1171/3600 [11:44:10<25:15:43, 37.44s/it]"
     ]
    },
    {
     "name": "stdout",
     "output_type": "stream",
     "text": [
      "Message: unknown error: Chrome failed to start: crashed.\n",
      "  (chrome not reachable)\n",
      "  (The process started from chrome location /Applications/Google Chrome.app/Contents/MacOS/Google Chrome is no longer running, so ChromeDriver is assuming that Chrome has crashed.)\n",
      "Stacktrace:\n",
      "0   chromedriver                        0x0000000102df7c08 chromedriver + 4402184\n",
      "1   chromedriver                        0x0000000102d7f1f3 chromedriver + 3908083\n",
      "2   chromedriver                        0x0000000102a2ce6a chromedriver + 425578\n",
      "3   chromedriver                        0x0000000102a51fc6 chromedriver + 577478\n",
      "4   chromedriver                        0x0000000102a4d3be chromedriver + 558014\n",
      "5   chromedriver                        0x0000000102a8a8fa chromedriver + 809210\n",
      "6   chromedriver                        0x0000000102a8a2bf chromedriver + 807615\n",
      "7   chromedriver                        0x0000000102a82bd3 chromedriver + 777171\n",
      "8   chromedriver                        0x0000000102a57ced chromedriver + 601325\n",
      "9   chromedriver                        0x0000000102a58e51 chromedriver + 605777\n",
      "10  chromedriver                        0x0000000102dc773e chromedriver + 4204350\n",
      "11  chromedriver                        0x0000000102dcbe07 chromedriver + 4222471\n",
      "12  chromedriver                        0x0000000102dd30bf chromedriver + 4251839\n",
      "13  chromedriver                        0x0000000102dccb4a chromedriver + 4225866\n",
      "14  chromedriver                        0x0000000102da58af chromedriver + 4065455\n",
      "15  chromedriver                        0x0000000102de9d18 chromedriver + 4345112\n",
      "16  chromedriver                        0x0000000102de9e86 chromedriver + 4345478\n",
      "17  chromedriver                        0x0000000102dfef6e chromedriver + 4431726\n",
      "18  libsystem_pthread.dylib             0x00007ff801661514 _pthread_start + 125\n",
      "19  libsystem_pthread.dylib             0x00007ff80165d02f thread_start + 15\n",
      "\n"
     ]
    },
    {
     "name": "stderr",
     "output_type": "stream",
     "text": [
      " 33%|███▎      | 1180/3600 [11:49:03<21:53:30, 32.57s/it]"
     ]
    },
    {
     "name": "stdout",
     "output_type": "stream",
     "text": [
      "Errors total:  32\n"
     ]
    },
    {
     "name": "stderr",
     "output_type": "stream",
     "text": [
      " 33%|███▎      | 1190/3600 [11:54:23<21:24:42, 31.98s/it]"
     ]
    },
    {
     "name": "stdout",
     "output_type": "stream",
     "text": [
      "Errors total:  32\n"
     ]
    },
    {
     "name": "stderr",
     "output_type": "stream",
     "text": [
      " 33%|███▎      | 1200/3600 [11:59:44<21:25:48, 32.15s/it]"
     ]
    },
    {
     "name": "stdout",
     "output_type": "stream",
     "text": [
      "Errors total:  32\n"
     ]
    },
    {
     "name": "stderr",
     "output_type": "stream",
     "text": [
      " 34%|███▎      | 1210/3600 [12:05:01<20:50:17, 31.39s/it]"
     ]
    },
    {
     "name": "stdout",
     "output_type": "stream",
     "text": [
      "Errors total:  32\n"
     ]
    },
    {
     "name": "stderr",
     "output_type": "stream",
     "text": [
      " 34%|███▍      | 1220/3600 [12:10:19<20:52:12, 31.57s/it]"
     ]
    },
    {
     "name": "stdout",
     "output_type": "stream",
     "text": [
      "Errors total:  32\n"
     ]
    },
    {
     "name": "stderr",
     "output_type": "stream",
     "text": [
      " 34%|███▍      | 1230/3600 [12:15:42<21:05:45, 32.04s/it]"
     ]
    },
    {
     "name": "stdout",
     "output_type": "stream",
     "text": [
      "Errors total:  32\n"
     ]
    },
    {
     "name": "stderr",
     "output_type": "stream",
     "text": [
      " 34%|███▍      | 1236/3600 [12:18:55<20:56:08, 31.88s/it]"
     ]
    },
    {
     "name": "stdout",
     "output_type": "stream",
     "text": [
      "Message: no such element: Unable to locate element: {\"method\":\"xpath\",\"selector\":\"//span[@class=\"_17p6nbba\"]\"}\n",
      "  (Session info: chrome=106.0.5249.119)\n",
      "Stacktrace:\n",
      "0   chromedriver                        0x0000000104837c08 chromedriver + 4402184\n",
      "1   chromedriver                        0x00000001047bf1f3 chromedriver + 3908083\n",
      "2   chromedriver                        0x000000010446ce6a chromedriver + 425578\n",
      "3   chromedriver                        0x00000001044a4c91 chromedriver + 654481\n",
      "4   chromedriver                        0x00000001044a4e91 chromedriver + 654993\n",
      "5   chromedriver                        0x00000001044dc274 chromedriver + 881268\n",
      "6   chromedriver                        0x00000001044c2dcd chromedriver + 777677\n",
      "7   chromedriver                        0x00000001044d9f79 chromedriver + 872313\n",
      "8   chromedriver                        0x00000001044c2bd3 chromedriver + 777171\n",
      "9   chromedriver                        0x0000000104497ced chromedriver + 601325\n",
      "10  chromedriver                        0x0000000104498e51 chromedriver + 605777\n",
      "11  chromedriver                        0x000000010480773e chromedriver + 4204350\n",
      "12  chromedriver                        0x000000010480be07 chromedriver + 4222471\n",
      "13  chromedriver                        0x00000001048130bf chromedriver + 4251839\n",
      "14  chromedriver                        0x000000010480cb4a chromedriver + 4225866\n",
      "15  chromedriver                        0x00000001047e58af chromedriver + 4065455\n",
      "16  chromedriver                        0x0000000104829d18 chromedriver + 4345112\n",
      "17  chromedriver                        0x0000000104829e86 chromedriver + 4345478\n",
      "18  chromedriver                        0x000000010483ef6e chromedriver + 4431726\n",
      "19  libsystem_pthread.dylib             0x00007ff801661514 _pthread_start + 125\n",
      "20  libsystem_pthread.dylib             0x00007ff80165d02f thread_start + 15\n",
      "\n",
      "Message: no such element: Unable to locate element: {\"method\":\"xpath\",\"selector\":\"//span[@class=\"_17p6nbba\"]\"}\n",
      "  (Session info: chrome=106.0.5249.119)\n",
      "Stacktrace:\n",
      "0   chromedriver                        0x00000001008a5c08 chromedriver + 4402184\n",
      "1   chromedriver                        0x000000010082d1f3 chromedriver + 3908083\n",
      "2   chromedriver                        0x00000001004dae6a chromedriver + 425578\n",
      "3   chromedriver                        0x0000000100512c91 chromedriver + 654481\n",
      "4   chromedriver                        0x0000000100512e91 chromedriver + 654993\n",
      "5   chromedriver                        0x000000010054a274 chromedriver + 881268\n",
      "6   chromedriver                        0x0000000100530dcd chromedriver + 777677\n",
      "7   chromedriver                        0x0000000100547f79 chromedriver + 872313\n",
      "8   chromedriver                        0x0000000100530bd3 chromedriver + 777171\n",
      "9   chromedriver                        0x0000000100505ced chromedriver + 601325\n",
      "10  chromedriver                        0x0000000100506e51 chromedriver + 605777\n",
      "11  chromedriver                        0x000000010087573e chromedriver + 4204350\n",
      "12  chromedriver                        0x0000000100879e07 chromedriver + 4222471\n",
      "13  chromedriver                        0x00000001008810bf chromedriver + 4251839\n",
      "14  chromedriver                        0x000000010087ab4a chromedriver + 4225866\n",
      "15  chromedriver                        0x00000001008538af chromedriver + 4065455\n",
      "16  chromedriver                        0x0000000100897d18 chromedriver + 4345112\n",
      "17  chromedriver                        0x0000000100897e86 chromedriver + 4345478\n",
      "18  chromedriver                        0x00000001008acf6e chromedriver + 4431726\n",
      "19  libsystem_pthread.dylib             0x00007ff801661514 _pthread_start + 125\n",
      "20  libsystem_pthread.dylib             0x00007ff80165d02f thread_start + 15\n",
      "\n",
      "Message: no such element: Unable to locate element: {\"method\":\"xpath\",\"selector\":\"//span[@class=\"_17p6nbba\"]\"}\n",
      "  (Session info: chrome=106.0.5249.119)\n",
      "Stacktrace:\n",
      "0   chromedriver                        0x0000000104b3ac08 chromedriver + 4402184\n",
      "1   chromedriver                        0x0000000104ac21f3 chromedriver + 3908083\n",
      "2   chromedriver                        0x000000010476fe6a chromedriver + 425578\n",
      "3   chromedriver                        0x00000001047a7c91 chromedriver + 654481\n",
      "4   chromedriver                        0x00000001047a7e91 chromedriver + 654993\n",
      "5   chromedriver                        0x00000001047df274 chromedriver + 881268\n",
      "6   chromedriver                        0x00000001047c5dcd chromedriver + 777677\n",
      "7   chromedriver                        0x00000001047dcf79 chromedriver + 872313\n",
      "8   chromedriver                        0x00000001047c5bd3 chromedriver + 777171\n",
      "9   chromedriver                        0x000000010479aced chromedriver + 601325\n",
      "10  chromedriver                        0x000000010479be51 chromedriver + 605777\n",
      "11  chromedriver                        0x0000000104b0a73e chromedriver + 4204350\n",
      "12  chromedriver                        0x0000000104b0ee07 chromedriver + 4222471\n",
      "13  chromedriver                        0x0000000104b160bf chromedriver + 4251839\n",
      "14  chromedriver                        0x0000000104b0fb4a chromedriver + 4225866\n",
      "15  chromedriver                        0x0000000104ae88af chromedriver + 4065455\n",
      "16  chromedriver                        0x0000000104b2cd18 chromedriver + 4345112\n",
      "17  chromedriver                        0x0000000104b2ce86 chromedriver + 4345478\n",
      "18  chromedriver                        0x0000000104b41f6e chromedriver + 4431726\n",
      "19  libsystem_pthread.dylib             0x00007ff801661514 _pthread_start + 125\n",
      "20  libsystem_pthread.dylib             0x00007ff80165d02f thread_start + 15\n",
      "\n",
      "Message: no such element: Unable to locate element: {\"method\":\"xpath\",\"selector\":\"//span[@class=\"_17p6nbba\"]\"}\n",
      "  (Session info: chrome=106.0.5249.119)\n",
      "Stacktrace:\n",
      "0   chromedriver                        0x0000000104ea5c08 chromedriver + 4402184\n",
      "1   chromedriver                        0x0000000104e2d1f3 chromedriver + 3908083\n",
      "2   chromedriver                        0x0000000104adae6a chromedriver + 425578\n",
      "3   chromedriver                        0x0000000104b12c91 chromedriver + 654481\n",
      "4   chromedriver                        0x0000000104b12e91 chromedriver + 654993\n",
      "5   chromedriver                        0x0000000104b4a274 chromedriver + 881268\n",
      "6   chromedriver                        0x0000000104b30dcd chromedriver + 777677\n",
      "7   chromedriver                        0x0000000104b47f79 chromedriver + 872313\n",
      "8   chromedriver                        0x0000000104b30bd3 chromedriver + 777171\n",
      "9   chromedriver                        0x0000000104b05ced chromedriver + 601325\n",
      "10  chromedriver                        0x0000000104b06e51 chromedriver + 605777\n",
      "11  chromedriver                        0x0000000104e7573e chromedriver + 4204350\n",
      "12  chromedriver                        0x0000000104e79e07 chromedriver + 4222471\n",
      "13  chromedriver                        0x0000000104e810bf chromedriver + 4251839\n",
      "14  chromedriver                        0x0000000104e7ab4a chromedriver + 4225866\n",
      "15  chromedriver                        0x0000000104e538af chromedriver + 4065455\n",
      "16  chromedriver                        0x0000000104e97d18 chromedriver + 4345112\n",
      "17  chromedriver                        0x0000000104e97e86 chromedriver + 4345478\n",
      "18  chromedriver                        0x0000000104eacf6e chromedriver + 4431726\n",
      "19  libsystem_pthread.dylib             0x00007ff801661514 _pthread_start + 125\n",
      "20  libsystem_pthread.dylib             0x00007ff80165d02f thread_start + 15\n",
      "\n"
     ]
    },
    {
     "name": "stderr",
     "output_type": "stream",
     "text": [
      " 34%|███▍      | 1237/3600 [12:21:35<46:03:13, 70.16s/it]"
     ]
    },
    {
     "name": "stdout",
     "output_type": "stream",
     "text": [
      "Message: no such element: Unable to locate element: {\"method\":\"xpath\",\"selector\":\"//span[@class=\"_17p6nbba\"]\"}\n",
      "  (Session info: chrome=106.0.5249.119)\n",
      "Stacktrace:\n",
      "0   chromedriver                        0x0000000104dfdc08 chromedriver + 4402184\n",
      "1   chromedriver                        0x0000000104d851f3 chromedriver + 3908083\n",
      "2   chromedriver                        0x0000000104a32e6a chromedriver + 425578\n",
      "3   chromedriver                        0x0000000104a6ac91 chromedriver + 654481\n",
      "4   chromedriver                        0x0000000104a6ae91 chromedriver + 654993\n",
      "5   chromedriver                        0x0000000104aa2274 chromedriver + 881268\n",
      "6   chromedriver                        0x0000000104a88dcd chromedriver + 777677\n",
      "7   chromedriver                        0x0000000104a9ff79 chromedriver + 872313\n",
      "8   chromedriver                        0x0000000104a88bd3 chromedriver + 777171\n",
      "9   chromedriver                        0x0000000104a5dced chromedriver + 601325\n",
      "10  chromedriver                        0x0000000104a5ee51 chromedriver + 605777\n",
      "11  chromedriver                        0x0000000104dcd73e chromedriver + 4204350\n",
      "12  chromedriver                        0x0000000104dd1e07 chromedriver + 4222471\n",
      "13  chromedriver                        0x0000000104dd90bf chromedriver + 4251839\n",
      "14  chromedriver                        0x0000000104dd2b4a chromedriver + 4225866\n",
      "15  chromedriver                        0x0000000104dab8af chromedriver + 4065455\n",
      "16  chromedriver                        0x0000000104defd18 chromedriver + 4345112\n",
      "17  chromedriver                        0x0000000104defe86 chromedriver + 4345478\n",
      "18  chromedriver                        0x0000000104e04f6e chromedriver + 4431726\n",
      "19  libsystem_pthread.dylib             0x00007ff801661514 _pthread_start + 125\n",
      "20  libsystem_pthread.dylib             0x00007ff80165d02f thread_start + 15\n",
      "\n"
     ]
    },
    {
     "name": "stderr",
     "output_type": "stream",
     "text": [
      " 34%|███▍      | 1240/3600 [12:23:12<29:40:17, 45.26s/it]"
     ]
    },
    {
     "name": "stdout",
     "output_type": "stream",
     "text": [
      "Errors total:  33\n"
     ]
    },
    {
     "name": "stderr",
     "output_type": "stream",
     "text": [
      " 35%|███▍      | 1250/3600 [12:28:27<20:51:31, 31.95s/it]"
     ]
    },
    {
     "name": "stdout",
     "output_type": "stream",
     "text": [
      "Errors total:  33\n"
     ]
    },
    {
     "name": "stderr",
     "output_type": "stream",
     "text": [
      " 35%|███▌      | 1260/3600 [12:33:47<20:45:02, 31.92s/it]"
     ]
    },
    {
     "name": "stdout",
     "output_type": "stream",
     "text": [
      "Errors total:  33\n"
     ]
    },
    {
     "name": "stderr",
     "output_type": "stream",
     "text": [
      " 35%|███▌      | 1270/3600 [12:39:08<21:01:52, 32.49s/it]"
     ]
    },
    {
     "name": "stdout",
     "output_type": "stream",
     "text": [
      "Errors total:  33\n"
     ]
    },
    {
     "name": "stderr",
     "output_type": "stream",
     "text": [
      " 36%|███▌      | 1280/3600 [12:44:33<20:54:04, 32.43s/it]"
     ]
    },
    {
     "name": "stdout",
     "output_type": "stream",
     "text": [
      "Errors total:  33\n"
     ]
    },
    {
     "name": "stderr",
     "output_type": "stream",
     "text": [
      " 36%|███▌      | 1290/3600 [12:49:49<20:13:56, 31.53s/it]"
     ]
    },
    {
     "name": "stdout",
     "output_type": "stream",
     "text": [
      "Errors total:  33\n"
     ]
    },
    {
     "name": "stderr",
     "output_type": "stream",
     "text": [
      " 36%|███▌      | 1297/3600 [12:53:31<20:30:09, 32.05s/it]"
     ]
    },
    {
     "name": "stdout",
     "output_type": "stream",
     "text": [
      "Message: no such element: Unable to locate element: {\"method\":\"xpath\",\"selector\":\"//span[@class=\"_17p6nbba\"]\"}\n",
      "  (Session info: chrome=106.0.5249.119)\n",
      "Stacktrace:\n",
      "0   chromedriver                        0x00000001005c6c08 chromedriver + 4402184\n",
      "1   chromedriver                        0x000000010054e1f3 chromedriver + 3908083\n",
      "2   chromedriver                        0x00000001001fbe6a chromedriver + 425578\n",
      "3   chromedriver                        0x0000000100233c91 chromedriver + 654481\n",
      "4   chromedriver                        0x0000000100233e91 chromedriver + 654993\n",
      "5   chromedriver                        0x000000010026b274 chromedriver + 881268\n",
      "6   chromedriver                        0x0000000100251dcd chromedriver + 777677\n",
      "7   chromedriver                        0x0000000100268f79 chromedriver + 872313\n",
      "8   chromedriver                        0x0000000100251bd3 chromedriver + 777171\n",
      "9   chromedriver                        0x0000000100226ced chromedriver + 601325\n",
      "10  chromedriver                        0x0000000100227e51 chromedriver + 605777\n",
      "11  chromedriver                        0x000000010059673e chromedriver + 4204350\n",
      "12  chromedriver                        0x000000010059ae07 chromedriver + 4222471\n",
      "13  chromedriver                        0x00000001005a20bf chromedriver + 4251839\n",
      "14  chromedriver                        0x000000010059bb4a chromedriver + 4225866\n",
      "15  chromedriver                        0x00000001005748af chromedriver + 4065455\n",
      "16  chromedriver                        0x00000001005b8d18 chromedriver + 4345112\n",
      "17  chromedriver                        0x00000001005b8e86 chromedriver + 4345478\n",
      "18  chromedriver                        0x00000001005cdf6e chromedriver + 4431726\n",
      "19  libsystem_pthread.dylib             0x00007ff801661514 _pthread_start + 125\n",
      "20  libsystem_pthread.dylib             0x00007ff80165d02f thread_start + 15\n",
      "\n",
      "Message: no such element: Unable to locate element: {\"method\":\"xpath\",\"selector\":\"//span[@class=\"_17p6nbba\"]\"}\n",
      "  (Session info: chrome=106.0.5249.119)\n",
      "Stacktrace:\n",
      "0   chromedriver                        0x0000000102ef3c08 chromedriver + 4402184\n",
      "1   chromedriver                        0x0000000102e7b1f3 chromedriver + 3908083\n",
      "2   chromedriver                        0x0000000102b28e6a chromedriver + 425578\n",
      "3   chromedriver                        0x0000000102b60c91 chromedriver + 654481\n",
      "4   chromedriver                        0x0000000102b60e91 chromedriver + 654993\n",
      "5   chromedriver                        0x0000000102b98274 chromedriver + 881268\n",
      "6   chromedriver                        0x0000000102b7edcd chromedriver + 777677\n",
      "7   chromedriver                        0x0000000102b95f79 chromedriver + 872313\n",
      "8   chromedriver                        0x0000000102b7ebd3 chromedriver + 777171\n",
      "9   chromedriver                        0x0000000102b53ced chromedriver + 601325\n",
      "10  chromedriver                        0x0000000102b54e51 chromedriver + 605777\n",
      "11  chromedriver                        0x0000000102ec373e chromedriver + 4204350\n",
      "12  chromedriver                        0x0000000102ec7e07 chromedriver + 4222471\n",
      "13  chromedriver                        0x0000000102ecf0bf chromedriver + 4251839\n",
      "14  chromedriver                        0x0000000102ec8b4a chromedriver + 4225866\n",
      "15  chromedriver                        0x0000000102ea18af chromedriver + 4065455\n",
      "16  chromedriver                        0x0000000102ee5d18 chromedriver + 4345112\n",
      "17  chromedriver                        0x0000000102ee5e86 chromedriver + 4345478\n",
      "18  chromedriver                        0x0000000102efaf6e chromedriver + 4431726\n",
      "19  libsystem_pthread.dylib             0x00007ff801661514 _pthread_start + 125\n",
      "20  libsystem_pthread.dylib             0x00007ff80165d02f thread_start + 15\n",
      "\n",
      "Message: no such element: Unable to locate element: {\"method\":\"xpath\",\"selector\":\"//span[@class=\"_17p6nbba\"]\"}\n",
      "  (Session info: chrome=106.0.5249.119)\n",
      "Stacktrace:\n",
      "0   chromedriver                        0x0000000104c89c08 chromedriver + 4402184\n",
      "1   chromedriver                        0x0000000104c111f3 chromedriver + 3908083\n",
      "2   chromedriver                        0x00000001048bee6a chromedriver + 425578\n",
      "3   chromedriver                        0x00000001048f6c91 chromedriver + 654481\n",
      "4   chromedriver                        0x00000001048f6e91 chromedriver + 654993\n",
      "5   chromedriver                        0x000000010492e274 chromedriver + 881268\n",
      "6   chromedriver                        0x0000000104914dcd chromedriver + 777677\n",
      "7   chromedriver                        0x000000010492bf79 chromedriver + 872313\n",
      "8   chromedriver                        0x0000000104914bd3 chromedriver + 777171\n",
      "9   chromedriver                        0x00000001048e9ced chromedriver + 601325\n",
      "10  chromedriver                        0x00000001048eae51 chromedriver + 605777\n",
      "11  chromedriver                        0x0000000104c5973e chromedriver + 4204350\n",
      "12  chromedriver                        0x0000000104c5de07 chromedriver + 4222471\n",
      "13  chromedriver                        0x0000000104c650bf chromedriver + 4251839\n",
      "14  chromedriver                        0x0000000104c5eb4a chromedriver + 4225866\n",
      "15  chromedriver                        0x0000000104c378af chromedriver + 4065455\n",
      "16  chromedriver                        0x0000000104c7bd18 chromedriver + 4345112\n",
      "17  chromedriver                        0x0000000104c7be86 chromedriver + 4345478\n",
      "18  chromedriver                        0x0000000104c90f6e chromedriver + 4431726\n",
      "19  libsystem_pthread.dylib             0x00007ff801661514 _pthread_start + 125\n",
      "20  libsystem_pthread.dylib             0x00007ff80165d02f thread_start + 15\n",
      "\n",
      "Message: no such element: Unable to locate element: {\"method\":\"xpath\",\"selector\":\"//span[@class=\"_17p6nbba\"]\"}\n",
      "  (Session info: chrome=106.0.5249.119)\n",
      "Stacktrace:\n",
      "0   chromedriver                        0x0000000101215c08 chromedriver + 4402184\n",
      "1   chromedriver                        0x000000010119d1f3 chromedriver + 3908083\n",
      "2   chromedriver                        0x0000000100e4ae6a chromedriver + 425578\n",
      "3   chromedriver                        0x0000000100e82c91 chromedriver + 654481\n",
      "4   chromedriver                        0x0000000100e82e91 chromedriver + 654993\n",
      "5   chromedriver                        0x0000000100eba274 chromedriver + 881268\n",
      "6   chromedriver                        0x0000000100ea0dcd chromedriver + 777677\n",
      "7   chromedriver                        0x0000000100eb7f79 chromedriver + 872313\n",
      "8   chromedriver                        0x0000000100ea0bd3 chromedriver + 777171\n",
      "9   chromedriver                        0x0000000100e75ced chromedriver + 601325\n",
      "10  chromedriver                        0x0000000100e76e51 chromedriver + 605777\n",
      "11  chromedriver                        0x00000001011e573e chromedriver + 4204350\n",
      "12  chromedriver                        0x00000001011e9e07 chromedriver + 4222471\n",
      "13  chromedriver                        0x00000001011f10bf chromedriver + 4251839\n",
      "14  chromedriver                        0x00000001011eab4a chromedriver + 4225866\n",
      "15  chromedriver                        0x00000001011c38af chromedriver + 4065455\n",
      "16  chromedriver                        0x0000000101207d18 chromedriver + 4345112\n",
      "17  chromedriver                        0x0000000101207e86 chromedriver + 4345478\n",
      "18  chromedriver                        0x000000010121cf6e chromedriver + 4431726\n",
      "19  libsystem_pthread.dylib             0x00007ff801661514 _pthread_start + 125\n",
      "20  libsystem_pthread.dylib             0x00007ff80165d02f thread_start + 15\n",
      "\n"
     ]
    },
    {
     "name": "stderr",
     "output_type": "stream",
     "text": [
      " 36%|███▌      | 1298/3600 [12:56:10<44:45:48, 70.00s/it]"
     ]
    },
    {
     "name": "stdout",
     "output_type": "stream",
     "text": [
      "Message: no such element: Unable to locate element: {\"method\":\"xpath\",\"selector\":\"//span[@class=\"_17p6nbba\"]\"}\n",
      "  (Session info: chrome=106.0.5249.119)\n",
      "Stacktrace:\n",
      "0   chromedriver                        0x00000001012c2c08 chromedriver + 4402184\n",
      "1   chromedriver                        0x000000010124a1f3 chromedriver + 3908083\n",
      "2   chromedriver                        0x0000000100ef7e6a chromedriver + 425578\n",
      "3   chromedriver                        0x0000000100f2fc91 chromedriver + 654481\n",
      "4   chromedriver                        0x0000000100f2fe91 chromedriver + 654993\n",
      "5   chromedriver                        0x0000000100f67274 chromedriver + 881268\n",
      "6   chromedriver                        0x0000000100f4ddcd chromedriver + 777677\n",
      "7   chromedriver                        0x0000000100f64f79 chromedriver + 872313\n",
      "8   chromedriver                        0x0000000100f4dbd3 chromedriver + 777171\n",
      "9   chromedriver                        0x0000000100f22ced chromedriver + 601325\n",
      "10  chromedriver                        0x0000000100f23e51 chromedriver + 605777\n",
      "11  chromedriver                        0x000000010129273e chromedriver + 4204350\n",
      "12  chromedriver                        0x0000000101296e07 chromedriver + 4222471\n",
      "13  chromedriver                        0x000000010129e0bf chromedriver + 4251839\n",
      "14  chromedriver                        0x0000000101297b4a chromedriver + 4225866\n",
      "15  chromedriver                        0x00000001012708af chromedriver + 4065455\n",
      "16  chromedriver                        0x00000001012b4d18 chromedriver + 4345112\n",
      "17  chromedriver                        0x00000001012b4e86 chromedriver + 4345478\n",
      "18  chromedriver                        0x00000001012c9f6e chromedriver + 4431726\n",
      "19  libsystem_pthread.dylib             0x00007ff801661514 _pthread_start + 125\n",
      "20  libsystem_pthread.dylib             0x00007ff80165d02f thread_start + 15\n",
      "\n"
     ]
    },
    {
     "name": "stderr",
     "output_type": "stream",
     "text": [
      " 36%|███▌      | 1300/3600 [12:57:15<32:33:49, 50.97s/it]"
     ]
    },
    {
     "name": "stdout",
     "output_type": "stream",
     "text": [
      "Errors total:  34\n"
     ]
    },
    {
     "name": "stderr",
     "output_type": "stream",
     "text": [
      " 36%|███▋      | 1310/3600 [13:02:35<20:58:26, 32.97s/it]"
     ]
    },
    {
     "name": "stdout",
     "output_type": "stream",
     "text": [
      "Errors total:  34\n"
     ]
    },
    {
     "name": "stderr",
     "output_type": "stream",
     "text": [
      " 37%|███▋      | 1320/3600 [13:07:54<20:14:02, 31.95s/it]"
     ]
    },
    {
     "name": "stdout",
     "output_type": "stream",
     "text": [
      "Errors total:  34\n"
     ]
    },
    {
     "name": "stderr",
     "output_type": "stream",
     "text": [
      " 37%|███▋      | 1330/3600 [13:13:13<20:14:05, 32.09s/it]"
     ]
    },
    {
     "name": "stdout",
     "output_type": "stream",
     "text": [
      "Errors total:  34\n"
     ]
    },
    {
     "name": "stderr",
     "output_type": "stream",
     "text": [
      " 37%|███▋      | 1340/3600 [13:18:33<19:48:33, 31.55s/it]"
     ]
    },
    {
     "name": "stdout",
     "output_type": "stream",
     "text": [
      "Errors total:  34\n"
     ]
    },
    {
     "name": "stderr",
     "output_type": "stream",
     "text": [
      " 37%|███▋      | 1348/3600 [13:22:55<20:21:20, 32.54s/it]"
     ]
    },
    {
     "name": "stdout",
     "output_type": "stream",
     "text": [
      "Message: unknown error: Chrome failed to start: crashed.\n",
      "  (chrome not reachable)\n",
      "  (The process started from chrome location /Applications/Google Chrome.app/Contents/MacOS/Google Chrome is no longer running, so ChromeDriver is assuming that Chrome has crashed.)\n",
      "Stacktrace:\n",
      "0   chromedriver                        0x0000000100ff7c08 chromedriver + 4402184\n",
      "1   chromedriver                        0x0000000100f7f1f3 chromedriver + 3908083\n",
      "2   chromedriver                        0x0000000100c2ce6a chromedriver + 425578\n",
      "3   chromedriver                        0x0000000100c51fc6 chromedriver + 577478\n",
      "4   chromedriver                        0x0000000100c4d3be chromedriver + 558014\n",
      "5   chromedriver                        0x0000000100c8a8fa chromedriver + 809210\n",
      "6   chromedriver                        0x0000000100c8a2bf chromedriver + 807615\n",
      "7   chromedriver                        0x0000000100c82bd3 chromedriver + 777171\n",
      "8   chromedriver                        0x0000000100c57ced chromedriver + 601325\n",
      "9   chromedriver                        0x0000000100c58e51 chromedriver + 605777\n",
      "10  chromedriver                        0x0000000100fc773e chromedriver + 4204350\n",
      "11  chromedriver                        0x0000000100fcbe07 chromedriver + 4222471\n",
      "12  chromedriver                        0x0000000100fd30bf chromedriver + 4251839\n",
      "13  chromedriver                        0x0000000100fccb4a chromedriver + 4225866\n",
      "14  chromedriver                        0x0000000100fa58af chromedriver + 4065455\n",
      "15  chromedriver                        0x0000000100fe9d18 chromedriver + 4345112\n",
      "16  chromedriver                        0x0000000100fe9e86 chromedriver + 4345478\n",
      "17  chromedriver                        0x0000000100ffef6e chromedriver + 4431726\n",
      "18  libsystem_pthread.dylib             0x00007ff801661514 _pthread_start + 125\n",
      "19  libsystem_pthread.dylib             0x00007ff80165d02f thread_start + 15\n",
      "\n"
     ]
    },
    {
     "name": "stderr",
     "output_type": "stream",
     "text": [
      " 38%|███▊      | 1350/3600 [13:24:00<20:14:16, 32.38s/it]"
     ]
    },
    {
     "name": "stdout",
     "output_type": "stream",
     "text": [
      "Errors total:  34\n"
     ]
    },
    {
     "name": "stderr",
     "output_type": "stream",
     "text": [
      " 38%|███▊      | 1360/3600 [13:29:24<19:55:40, 32.03s/it]"
     ]
    },
    {
     "name": "stdout",
     "output_type": "stream",
     "text": [
      "Errors total:  34\n"
     ]
    },
    {
     "name": "stderr",
     "output_type": "stream",
     "text": [
      " 38%|███▊      | 1370/3600 [13:34:52<20:08:02, 32.50s/it]"
     ]
    },
    {
     "name": "stdout",
     "output_type": "stream",
     "text": [
      "Errors total:  34\n"
     ]
    },
    {
     "name": "stderr",
     "output_type": "stream",
     "text": [
      " 38%|███▊      | 1380/3600 [13:40:09<19:31:57, 31.67s/it]"
     ]
    },
    {
     "name": "stdout",
     "output_type": "stream",
     "text": [
      "Errors total:  34\n"
     ]
    },
    {
     "name": "stderr",
     "output_type": "stream",
     "text": [
      " 38%|███▊      | 1382/3600 [13:41:13<19:40:53, 31.94s/it]"
     ]
    },
    {
     "name": "stdout",
     "output_type": "stream",
     "text": [
      "Message: no such element: Unable to locate element: {\"method\":\"xpath\",\"selector\":\"//div[@data-section-id=\"TITLE_DEFAULT\"]/section/div/span/h1\"}\n",
      "  (Session info: chrome=106.0.5249.119)\n",
      "Stacktrace:\n",
      "0   chromedriver                        0x0000000102631c08 chromedriver + 4402184\n",
      "1   chromedriver                        0x00000001025b91f3 chromedriver + 3908083\n",
      "2   chromedriver                        0x0000000102266e6a chromedriver + 425578\n",
      "3   chromedriver                        0x000000010229ec91 chromedriver + 654481\n",
      "4   chromedriver                        0x000000010229ee91 chromedriver + 654993\n",
      "5   chromedriver                        0x00000001022d6274 chromedriver + 881268\n",
      "6   chromedriver                        0x00000001022bcdcd chromedriver + 777677\n",
      "7   chromedriver                        0x00000001022d3f79 chromedriver + 872313\n",
      "8   chromedriver                        0x00000001022bcbd3 chromedriver + 777171\n",
      "9   chromedriver                        0x0000000102291ced chromedriver + 601325\n",
      "10  chromedriver                        0x0000000102292e51 chromedriver + 605777\n",
      "11  chromedriver                        0x000000010260173e chromedriver + 4204350\n",
      "12  chromedriver                        0x0000000102605e07 chromedriver + 4222471\n",
      "13  chromedriver                        0x000000010260d0bf chromedriver + 4251839\n",
      "14  chromedriver                        0x0000000102606b4a chromedriver + 4225866\n",
      "15  chromedriver                        0x00000001025df8af chromedriver + 4065455\n",
      "16  chromedriver                        0x0000000102623d18 chromedriver + 4345112\n",
      "17  chromedriver                        0x0000000102623e86 chromedriver + 4345478\n",
      "18  chromedriver                        0x0000000102638f6e chromedriver + 4431726\n",
      "19  libsystem_pthread.dylib             0x00007ff801661514 _pthread_start + 125\n",
      "20  libsystem_pthread.dylib             0x00007ff80165d02f thread_start + 15\n",
      "\n",
      "Message: no such element: Unable to locate element: {\"method\":\"xpath\",\"selector\":\"//div[@data-section-id=\"TITLE_DEFAULT\"]/section/div/span/h1\"}\n",
      "  (Session info: chrome=106.0.5249.119)\n",
      "Stacktrace:\n",
      "0   chromedriver                        0x0000000104438c08 chromedriver + 4402184\n",
      "1   chromedriver                        0x00000001043c01f3 chromedriver + 3908083\n",
      "2   chromedriver                        0x000000010406de6a chromedriver + 425578\n",
      "3   chromedriver                        0x00000001040a5c91 chromedriver + 654481\n",
      "4   chromedriver                        0x00000001040a5e91 chromedriver + 654993\n",
      "5   chromedriver                        0x00000001040dd274 chromedriver + 881268\n",
      "6   chromedriver                        0x00000001040c3dcd chromedriver + 777677\n",
      "7   chromedriver                        0x00000001040daf79 chromedriver + 872313\n",
      "8   chromedriver                        0x00000001040c3bd3 chromedriver + 777171\n",
      "9   chromedriver                        0x0000000104098ced chromedriver + 601325\n",
      "10  chromedriver                        0x0000000104099e51 chromedriver + 605777\n",
      "11  chromedriver                        0x000000010440873e chromedriver + 4204350\n",
      "12  chromedriver                        0x000000010440ce07 chromedriver + 4222471\n",
      "13  chromedriver                        0x00000001044140bf chromedriver + 4251839\n",
      "14  chromedriver                        0x000000010440db4a chromedriver + 4225866\n",
      "15  chromedriver                        0x00000001043e68af chromedriver + 4065455\n",
      "16  chromedriver                        0x000000010442ad18 chromedriver + 4345112\n",
      "17  chromedriver                        0x000000010442ae86 chromedriver + 4345478\n",
      "18  chromedriver                        0x000000010443ff6e chromedriver + 4431726\n",
      "19  libsystem_pthread.dylib             0x00007ff801661514 _pthread_start + 125\n",
      "20  libsystem_pthread.dylib             0x00007ff80165d02f thread_start + 15\n",
      "\n",
      "Message: no such element: Unable to locate element: {\"method\":\"xpath\",\"selector\":\"//div[@data-section-id=\"TITLE_DEFAULT\"]/section/div/span/h1\"}\n",
      "  (Session info: chrome=106.0.5249.119)\n",
      "Stacktrace:\n",
      "0   chromedriver                        0x0000000100b4ec08 chromedriver + 4402184\n",
      "1   chromedriver                        0x0000000100ad61f3 chromedriver + 3908083\n",
      "2   chromedriver                        0x0000000100783e6a chromedriver + 425578\n",
      "3   chromedriver                        0x00000001007bbc91 chromedriver + 654481\n",
      "4   chromedriver                        0x00000001007bbe91 chromedriver + 654993\n",
      "5   chromedriver                        0x00000001007f3274 chromedriver + 881268\n",
      "6   chromedriver                        0x00000001007d9dcd chromedriver + 777677\n",
      "7   chromedriver                        0x00000001007f0f79 chromedriver + 872313\n",
      "8   chromedriver                        0x00000001007d9bd3 chromedriver + 777171\n",
      "9   chromedriver                        0x00000001007aeced chromedriver + 601325\n",
      "10  chromedriver                        0x00000001007afe51 chromedriver + 605777\n",
      "11  chromedriver                        0x0000000100b1e73e chromedriver + 4204350\n",
      "12  chromedriver                        0x0000000100b22e07 chromedriver + 4222471\n",
      "13  chromedriver                        0x0000000100b2a0bf chromedriver + 4251839\n",
      "14  chromedriver                        0x0000000100b23b4a chromedriver + 4225866\n",
      "15  chromedriver                        0x0000000100afc8af chromedriver + 4065455\n",
      "16  chromedriver                        0x0000000100b40d18 chromedriver + 4345112\n",
      "17  chromedriver                        0x0000000100b40e86 chromedriver + 4345478\n",
      "18  chromedriver                        0x0000000100b55f6e chromedriver + 4431726\n",
      "19  libsystem_pthread.dylib             0x00007ff801661514 _pthread_start + 125\n",
      "20  libsystem_pthread.dylib             0x00007ff80165d02f thread_start + 15\n",
      "\n",
      "Message: no such element: Unable to locate element: {\"method\":\"xpath\",\"selector\":\"//div[@data-section-id=\"TITLE_DEFAULT\"]/section/div/span/h1\"}\n",
      "  (Session info: chrome=106.0.5249.119)\n",
      "Stacktrace:\n",
      "0   chromedriver                        0x0000000104fa9c08 chromedriver + 4402184\n",
      "1   chromedriver                        0x0000000104f311f3 chromedriver + 3908083\n",
      "2   chromedriver                        0x0000000104bdee6a chromedriver + 425578\n",
      "3   chromedriver                        0x0000000104c16c91 chromedriver + 654481\n",
      "4   chromedriver                        0x0000000104c16e91 chromedriver + 654993\n",
      "5   chromedriver                        0x0000000104c4e274 chromedriver + 881268\n",
      "6   chromedriver                        0x0000000104c34dcd chromedriver + 777677\n",
      "7   chromedriver                        0x0000000104c4bf79 chromedriver + 872313\n",
      "8   chromedriver                        0x0000000104c34bd3 chromedriver + 777171\n",
      "9   chromedriver                        0x0000000104c09ced chromedriver + 601325\n",
      "10  chromedriver                        0x0000000104c0ae51 chromedriver + 605777\n",
      "11  chromedriver                        0x0000000104f7973e chromedriver + 4204350\n",
      "12  chromedriver                        0x0000000104f7de07 chromedriver + 4222471\n",
      "13  chromedriver                        0x0000000104f850bf chromedriver + 4251839\n",
      "14  chromedriver                        0x0000000104f7eb4a chromedriver + 4225866\n",
      "15  chromedriver                        0x0000000104f578af chromedriver + 4065455\n",
      "16  chromedriver                        0x0000000104f9bd18 chromedriver + 4345112\n",
      "17  chromedriver                        0x0000000104f9be86 chromedriver + 4345478\n",
      "18  chromedriver                        0x0000000104fb0f6e chromedriver + 4431726\n",
      "19  libsystem_pthread.dylib             0x00007ff801661514 _pthread_start + 125\n",
      "20  libsystem_pthread.dylib             0x00007ff80165d02f thread_start + 15\n",
      "\n"
     ]
    },
    {
     "name": "stderr",
     "output_type": "stream",
     "text": [
      " 38%|███▊      | 1383/3600 [13:43:50<42:39:17, 69.26s/it]"
     ]
    },
    {
     "name": "stdout",
     "output_type": "stream",
     "text": [
      "Message: no such element: Unable to locate element: {\"method\":\"xpath\",\"selector\":\"//div[@data-section-id=\"TITLE_DEFAULT\"]/section/div/span/h1\"}\n",
      "  (Session info: chrome=106.0.5249.119)\n",
      "Stacktrace:\n",
      "0   chromedriver                        0x0000000101199c08 chromedriver + 4402184\n",
      "1   chromedriver                        0x00000001011211f3 chromedriver + 3908083\n",
      "2   chromedriver                        0x0000000100dcee6a chromedriver + 425578\n",
      "3   chromedriver                        0x0000000100e06c91 chromedriver + 654481\n",
      "4   chromedriver                        0x0000000100e06e91 chromedriver + 654993\n",
      "5   chromedriver                        0x0000000100e3e274 chromedriver + 881268\n",
      "6   chromedriver                        0x0000000100e24dcd chromedriver + 777677\n",
      "7   chromedriver                        0x0000000100e3bf79 chromedriver + 872313\n",
      "8   chromedriver                        0x0000000100e24bd3 chromedriver + 777171\n",
      "9   chromedriver                        0x0000000100df9ced chromedriver + 601325\n",
      "10  chromedriver                        0x0000000100dfae51 chromedriver + 605777\n",
      "11  chromedriver                        0x000000010116973e chromedriver + 4204350\n",
      "12  chromedriver                        0x000000010116de07 chromedriver + 4222471\n",
      "13  chromedriver                        0x00000001011750bf chromedriver + 4251839\n",
      "14  chromedriver                        0x000000010116eb4a chromedriver + 4225866\n",
      "15  chromedriver                        0x00000001011478af chromedriver + 4065455\n",
      "16  chromedriver                        0x000000010118bd18 chromedriver + 4345112\n",
      "17  chromedriver                        0x000000010118be86 chromedriver + 4345478\n",
      "18  chromedriver                        0x00000001011a0f6e chromedriver + 4431726\n",
      "19  libsystem_pthread.dylib             0x00007ff801661514 _pthread_start + 125\n",
      "20  libsystem_pthread.dylib             0x00007ff80165d02f thread_start + 15\n",
      "\n"
     ]
    },
    {
     "name": "stderr",
     "output_type": "stream",
     "text": [
      " 39%|███▊      | 1390/3600 [13:47:33<21:18:13, 34.70s/it]"
     ]
    },
    {
     "name": "stdout",
     "output_type": "stream",
     "text": [
      "Errors total:  35\n"
     ]
    },
    {
     "name": "stderr",
     "output_type": "stream",
     "text": [
      " 39%|███▉      | 1396/3600 [13:50:45<19:48:56, 32.37s/it]"
     ]
    },
    {
     "name": "stdout",
     "output_type": "stream",
     "text": [
      "Message: no such element: Unable to locate element: {\"method\":\"xpath\",\"selector\":\"//span[@class=\"_17p6nbba\"]\"}\n",
      "  (Session info: chrome=106.0.5249.119)\n",
      "Stacktrace:\n",
      "0   chromedriver                        0x00000001029cac08 chromedriver + 4402184\n",
      "1   chromedriver                        0x00000001029521f3 chromedriver + 3908083\n",
      "2   chromedriver                        0x00000001025ffe6a chromedriver + 425578\n",
      "3   chromedriver                        0x0000000102637c91 chromedriver + 654481\n",
      "4   chromedriver                        0x0000000102637e91 chromedriver + 654993\n",
      "5   chromedriver                        0x000000010266f274 chromedriver + 881268\n",
      "6   chromedriver                        0x0000000102655dcd chromedriver + 777677\n",
      "7   chromedriver                        0x000000010266cf79 chromedriver + 872313\n",
      "8   chromedriver                        0x0000000102655bd3 chromedriver + 777171\n",
      "9   chromedriver                        0x000000010262aced chromedriver + 601325\n",
      "10  chromedriver                        0x000000010262be51 chromedriver + 605777\n",
      "11  chromedriver                        0x000000010299a73e chromedriver + 4204350\n",
      "12  chromedriver                        0x000000010299ee07 chromedriver + 4222471\n",
      "13  chromedriver                        0x00000001029a60bf chromedriver + 4251839\n",
      "14  chromedriver                        0x000000010299fb4a chromedriver + 4225866\n",
      "15  chromedriver                        0x00000001029788af chromedriver + 4065455\n",
      "16  chromedriver                        0x00000001029bcd18 chromedriver + 4345112\n",
      "17  chromedriver                        0x00000001029bce86 chromedriver + 4345478\n",
      "18  chromedriver                        0x00000001029d1f6e chromedriver + 4431726\n",
      "19  libsystem_pthread.dylib             0x00007ff801661514 _pthread_start + 125\n",
      "20  libsystem_pthread.dylib             0x00007ff80165d02f thread_start + 15\n",
      "\n",
      "Message: no such element: Unable to locate element: {\"method\":\"xpath\",\"selector\":\"//span[@class=\"_17p6nbba\"]\"}\n",
      "  (Session info: chrome=106.0.5249.119)\n",
      "Stacktrace:\n",
      "0   chromedriver                        0x0000000102becc08 chromedriver + 4402184\n",
      "1   chromedriver                        0x0000000102b741f3 chromedriver + 3908083\n",
      "2   chromedriver                        0x0000000102821e6a chromedriver + 425578\n",
      "3   chromedriver                        0x0000000102859c91 chromedriver + 654481\n",
      "4   chromedriver                        0x0000000102859e91 chromedriver + 654993\n",
      "5   chromedriver                        0x0000000102891274 chromedriver + 881268\n",
      "6   chromedriver                        0x0000000102877dcd chromedriver + 777677\n",
      "7   chromedriver                        0x000000010288ef79 chromedriver + 872313\n",
      "8   chromedriver                        0x0000000102877bd3 chromedriver + 777171\n",
      "9   chromedriver                        0x000000010284cced chromedriver + 601325\n",
      "10  chromedriver                        0x000000010284de51 chromedriver + 605777\n",
      "11  chromedriver                        0x0000000102bbc73e chromedriver + 4204350\n",
      "12  chromedriver                        0x0000000102bc0e07 chromedriver + 4222471\n",
      "13  chromedriver                        0x0000000102bc80bf chromedriver + 4251839\n",
      "14  chromedriver                        0x0000000102bc1b4a chromedriver + 4225866\n",
      "15  chromedriver                        0x0000000102b9a8af chromedriver + 4065455\n",
      "16  chromedriver                        0x0000000102bded18 chromedriver + 4345112\n",
      "17  chromedriver                        0x0000000102bdee86 chromedriver + 4345478\n",
      "18  chromedriver                        0x0000000102bf3f6e chromedriver + 4431726\n",
      "19  libsystem_pthread.dylib             0x00007ff801661514 _pthread_start + 125\n",
      "20  libsystem_pthread.dylib             0x00007ff80165d02f thread_start + 15\n",
      "\n",
      "Message: no such element: Unable to locate element: {\"method\":\"xpath\",\"selector\":\"//span[@class=\"_17p6nbba\"]\"}\n",
      "  (Session info: chrome=106.0.5249.119)\n",
      "Stacktrace:\n",
      "0   chromedriver                        0x000000010472bc08 chromedriver + 4402184\n",
      "1   chromedriver                        0x00000001046b31f3 chromedriver + 3908083\n",
      "2   chromedriver                        0x0000000104360e6a chromedriver + 425578\n",
      "3   chromedriver                        0x0000000104398c91 chromedriver + 654481\n",
      "4   chromedriver                        0x0000000104398e91 chromedriver + 654993\n",
      "5   chromedriver                        0x00000001043d0274 chromedriver + 881268\n",
      "6   chromedriver                        0x00000001043b6dcd chromedriver + 777677\n",
      "7   chromedriver                        0x00000001043cdf79 chromedriver + 872313\n",
      "8   chromedriver                        0x00000001043b6bd3 chromedriver + 777171\n",
      "9   chromedriver                        0x000000010438bced chromedriver + 601325\n",
      "10  chromedriver                        0x000000010438ce51 chromedriver + 605777\n",
      "11  chromedriver                        0x00000001046fb73e chromedriver + 4204350\n",
      "12  chromedriver                        0x00000001046ffe07 chromedriver + 4222471\n",
      "13  chromedriver                        0x00000001047070bf chromedriver + 4251839\n",
      "14  chromedriver                        0x0000000104700b4a chromedriver + 4225866\n",
      "15  chromedriver                        0x00000001046d98af chromedriver + 4065455\n",
      "16  chromedriver                        0x000000010471dd18 chromedriver + 4345112\n",
      "17  chromedriver                        0x000000010471de86 chromedriver + 4345478\n",
      "18  chromedriver                        0x0000000104732f6e chromedriver + 4431726\n",
      "19  libsystem_pthread.dylib             0x00007ff801661514 _pthread_start + 125\n",
      "20  libsystem_pthread.dylib             0x00007ff80165d02f thread_start + 15\n",
      "\n",
      "Message: no such element: Unable to locate element: {\"method\":\"xpath\",\"selector\":\"//span[@class=\"_17p6nbba\"]\"}\n",
      "  (Session info: chrome=106.0.5249.119)\n",
      "Stacktrace:\n",
      "0   chromedriver                        0x0000000102ca3c08 chromedriver + 4402184\n",
      "1   chromedriver                        0x0000000102c2b1f3 chromedriver + 3908083\n",
      "2   chromedriver                        0x00000001028d8e6a chromedriver + 425578\n",
      "3   chromedriver                        0x0000000102910c91 chromedriver + 654481\n",
      "4   chromedriver                        0x0000000102910e91 chromedriver + 654993\n",
      "5   chromedriver                        0x0000000102948274 chromedriver + 881268\n",
      "6   chromedriver                        0x000000010292edcd chromedriver + 777677\n",
      "7   chromedriver                        0x0000000102945f79 chromedriver + 872313\n",
      "8   chromedriver                        0x000000010292ebd3 chromedriver + 777171\n",
      "9   chromedriver                        0x0000000102903ced chromedriver + 601325\n",
      "10  chromedriver                        0x0000000102904e51 chromedriver + 605777\n",
      "11  chromedriver                        0x0000000102c7373e chromedriver + 4204350\n",
      "12  chromedriver                        0x0000000102c77e07 chromedriver + 4222471\n",
      "13  chromedriver                        0x0000000102c7f0bf chromedriver + 4251839\n",
      "14  chromedriver                        0x0000000102c78b4a chromedriver + 4225866\n",
      "15  chromedriver                        0x0000000102c518af chromedriver + 4065455\n",
      "16  chromedriver                        0x0000000102c95d18 chromedriver + 4345112\n",
      "17  chromedriver                        0x0000000102c95e86 chromedriver + 4345478\n",
      "18  chromedriver                        0x0000000102caaf6e chromedriver + 4431726\n",
      "19  libsystem_pthread.dylib             0x00007ff801661514 _pthread_start + 125\n",
      "20  libsystem_pthread.dylib             0x00007ff80165d02f thread_start + 15\n",
      "\n"
     ]
    },
    {
     "name": "stderr",
     "output_type": "stream",
     "text": [
      " 39%|███▉      | 1397/3600 [13:53:22<42:40:54, 69.75s/it]"
     ]
    },
    {
     "name": "stdout",
     "output_type": "stream",
     "text": [
      "Message: no such element: Unable to locate element: {\"method\":\"xpath\",\"selector\":\"//span[@class=\"_17p6nbba\"]\"}\n",
      "  (Session info: chrome=106.0.5249.119)\n",
      "Stacktrace:\n",
      "0   chromedriver                        0x0000000102446c08 chromedriver + 4402184\n",
      "1   chromedriver                        0x00000001023ce1f3 chromedriver + 3908083\n",
      "2   chromedriver                        0x000000010207be6a chromedriver + 425578\n",
      "3   chromedriver                        0x00000001020b3c91 chromedriver + 654481\n",
      "4   chromedriver                        0x00000001020b3e91 chromedriver + 654993\n",
      "5   chromedriver                        0x00000001020eb274 chromedriver + 881268\n",
      "6   chromedriver                        0x00000001020d1dcd chromedriver + 777677\n",
      "7   chromedriver                        0x00000001020e8f79 chromedriver + 872313\n",
      "8   chromedriver                        0x00000001020d1bd3 chromedriver + 777171\n",
      "9   chromedriver                        0x00000001020a6ced chromedriver + 601325\n",
      "10  chromedriver                        0x00000001020a7e51 chromedriver + 605777\n",
      "11  chromedriver                        0x000000010241673e chromedriver + 4204350\n",
      "12  chromedriver                        0x000000010241ae07 chromedriver + 4222471\n",
      "13  chromedriver                        0x00000001024220bf chromedriver + 4251839\n",
      "14  chromedriver                        0x000000010241bb4a chromedriver + 4225866\n",
      "15  chromedriver                        0x00000001023f48af chromedriver + 4065455\n",
      "16  chromedriver                        0x0000000102438d18 chromedriver + 4345112\n",
      "17  chromedriver                        0x0000000102438e86 chromedriver + 4345478\n",
      "18  chromedriver                        0x000000010244df6e chromedriver + 4431726\n",
      "19  libsystem_pthread.dylib             0x00007ff801661514 _pthread_start + 125\n",
      "20  libsystem_pthread.dylib             0x00007ff80165d02f thread_start + 15\n",
      "\n"
     ]
    },
    {
     "name": "stderr",
     "output_type": "stream",
     "text": [
      " 39%|███▉      | 1399/3600 [13:54:26<30:50:23, 50.44s/it]"
     ]
    },
    {
     "name": "stdout",
     "output_type": "stream",
     "text": [
      "Message: no such element: Unable to locate element: {\"method\":\"xpath\",\"selector\":\"//div[@data-section-id=\"TITLE_DEFAULT\"]/section/div/span/h1\"}\n",
      "  (Session info: chrome=106.0.5249.119)\n",
      "Stacktrace:\n",
      "0   chromedriver                        0x0000000102b56c08 chromedriver + 4402184\n",
      "1   chromedriver                        0x0000000102ade1f3 chromedriver + 3908083\n",
      "2   chromedriver                        0x000000010278be6a chromedriver + 425578\n",
      "3   chromedriver                        0x00000001027c3c91 chromedriver + 654481\n",
      "4   chromedriver                        0x00000001027c3e91 chromedriver + 654993\n",
      "5   chromedriver                        0x00000001027fb274 chromedriver + 881268\n",
      "6   chromedriver                        0x00000001027e1dcd chromedriver + 777677\n",
      "7   chromedriver                        0x00000001027f8f79 chromedriver + 872313\n",
      "8   chromedriver                        0x00000001027e1bd3 chromedriver + 777171\n",
      "9   chromedriver                        0x00000001027b6ced chromedriver + 601325\n",
      "10  chromedriver                        0x00000001027b7e51 chromedriver + 605777\n",
      "11  chromedriver                        0x0000000102b2673e chromedriver + 4204350\n",
      "12  chromedriver                        0x0000000102b2ae07 chromedriver + 4222471\n",
      "13  chromedriver                        0x0000000102b320bf chromedriver + 4251839\n",
      "14  chromedriver                        0x0000000102b2bb4a chromedriver + 4225866\n",
      "15  chromedriver                        0x0000000102b048af chromedriver + 4065455\n",
      "16  chromedriver                        0x0000000102b48d18 chromedriver + 4345112\n",
      "17  chromedriver                        0x0000000102b48e86 chromedriver + 4345478\n",
      "18  chromedriver                        0x0000000102b5df6e chromedriver + 4431726\n",
      "19  libsystem_pthread.dylib             0x00007ff801661514 _pthread_start + 125\n",
      "20  libsystem_pthread.dylib             0x00007ff80165d02f thread_start + 15\n",
      "\n",
      "Message: no such element: Unable to locate element: {\"method\":\"xpath\",\"selector\":\"//div[@data-section-id=\"TITLE_DEFAULT\"]/section/div/span/h1\"}\n",
      "  (Session info: chrome=106.0.5249.119)\n",
      "Stacktrace:\n",
      "0   chromedriver                        0x0000000100e1ec08 chromedriver + 4402184\n",
      "1   chromedriver                        0x0000000100da61f3 chromedriver + 3908083\n",
      "2   chromedriver                        0x0000000100a53e6a chromedriver + 425578\n",
      "3   chromedriver                        0x0000000100a8bc91 chromedriver + 654481\n",
      "4   chromedriver                        0x0000000100a8be91 chromedriver + 654993\n",
      "5   chromedriver                        0x0000000100ac3274 chromedriver + 881268\n",
      "6   chromedriver                        0x0000000100aa9dcd chromedriver + 777677\n",
      "7   chromedriver                        0x0000000100ac0f79 chromedriver + 872313\n",
      "8   chromedriver                        0x0000000100aa9bd3 chromedriver + 777171\n",
      "9   chromedriver                        0x0000000100a7eced chromedriver + 601325\n",
      "10  chromedriver                        0x0000000100a7fe51 chromedriver + 605777\n",
      "11  chromedriver                        0x0000000100dee73e chromedriver + 4204350\n",
      "12  chromedriver                        0x0000000100df2e07 chromedriver + 4222471\n",
      "13  chromedriver                        0x0000000100dfa0bf chromedriver + 4251839\n",
      "14  chromedriver                        0x0000000100df3b4a chromedriver + 4225866\n",
      "15  chromedriver                        0x0000000100dcc8af chromedriver + 4065455\n",
      "16  chromedriver                        0x0000000100e10d18 chromedriver + 4345112\n",
      "17  chromedriver                        0x0000000100e10e86 chromedriver + 4345478\n",
      "18  chromedriver                        0x0000000100e25f6e chromedriver + 4431726\n",
      "19  libsystem_pthread.dylib             0x00007ff801661514 _pthread_start + 125\n",
      "20  libsystem_pthread.dylib             0x00007ff80165d02f thread_start + 15\n",
      "\n",
      "Message: no such element: Unable to locate element: {\"method\":\"xpath\",\"selector\":\"//div[@data-section-id=\"TITLE_DEFAULT\"]/section/div/span/h1\"}\n",
      "  (Session info: chrome=106.0.5249.119)\n",
      "Stacktrace:\n",
      "0   chromedriver                        0x0000000101381c08 chromedriver + 4402184\n",
      "1   chromedriver                        0x00000001013091f3 chromedriver + 3908083\n",
      "2   chromedriver                        0x0000000100fb6e6a chromedriver + 425578\n",
      "3   chromedriver                        0x0000000100feec91 chromedriver + 654481\n",
      "4   chromedriver                        0x0000000100feee91 chromedriver + 654993\n",
      "5   chromedriver                        0x0000000101026274 chromedriver + 881268\n",
      "6   chromedriver                        0x000000010100cdcd chromedriver + 777677\n",
      "7   chromedriver                        0x0000000101023f79 chromedriver + 872313\n",
      "8   chromedriver                        0x000000010100cbd3 chromedriver + 777171\n",
      "9   chromedriver                        0x0000000100fe1ced chromedriver + 601325\n",
      "10  chromedriver                        0x0000000100fe2e51 chromedriver + 605777\n",
      "11  chromedriver                        0x000000010135173e chromedriver + 4204350\n",
      "12  chromedriver                        0x0000000101355e07 chromedriver + 4222471\n",
      "13  chromedriver                        0x000000010135d0bf chromedriver + 4251839\n",
      "14  chromedriver                        0x0000000101356b4a chromedriver + 4225866\n",
      "15  chromedriver                        0x000000010132f8af chromedriver + 4065455\n",
      "16  chromedriver                        0x0000000101373d18 chromedriver + 4345112\n",
      "17  chromedriver                        0x0000000101373e86 chromedriver + 4345478\n",
      "18  chromedriver                        0x0000000101388f6e chromedriver + 4431726\n",
      "19  libsystem_pthread.dylib             0x00007ff801661514 _pthread_start + 125\n",
      "20  libsystem_pthread.dylib             0x00007ff80165d02f thread_start + 15\n",
      "\n",
      "Message: no such element: Unable to locate element: {\"method\":\"xpath\",\"selector\":\"//div[@data-section-id=\"TITLE_DEFAULT\"]/section/div/span/h1\"}\n",
      "  (Session info: chrome=106.0.5249.119)\n",
      "Stacktrace:\n",
      "0   chromedriver                        0x0000000105355c08 chromedriver + 4402184\n",
      "1   chromedriver                        0x00000001052dd1f3 chromedriver + 3908083\n",
      "2   chromedriver                        0x0000000104f8ae6a chromedriver + 425578\n",
      "3   chromedriver                        0x0000000104fc2c91 chromedriver + 654481\n",
      "4   chromedriver                        0x0000000104fc2e91 chromedriver + 654993\n",
      "5   chromedriver                        0x0000000104ffa274 chromedriver + 881268\n",
      "6   chromedriver                        0x0000000104fe0dcd chromedriver + 777677\n",
      "7   chromedriver                        0x0000000104ff7f79 chromedriver + 872313\n",
      "8   chromedriver                        0x0000000104fe0bd3 chromedriver + 777171\n",
      "9   chromedriver                        0x0000000104fb5ced chromedriver + 601325\n",
      "10  chromedriver                        0x0000000104fb6e51 chromedriver + 605777\n",
      "11  chromedriver                        0x000000010532573e chromedriver + 4204350\n",
      "12  chromedriver                        0x0000000105329e07 chromedriver + 4222471\n",
      "13  chromedriver                        0x00000001053310bf chromedriver + 4251839\n",
      "14  chromedriver                        0x000000010532ab4a chromedriver + 4225866\n",
      "15  chromedriver                        0x00000001053038af chromedriver + 4065455\n",
      "16  chromedriver                        0x0000000105347d18 chromedriver + 4345112\n",
      "17  chromedriver                        0x0000000105347e86 chromedriver + 4345478\n",
      "18  chromedriver                        0x000000010535cf6e chromedriver + 4431726\n",
      "19  libsystem_pthread.dylib             0x00007ff801661514 _pthread_start + 125\n",
      "20  libsystem_pthread.dylib             0x00007ff80165d02f thread_start + 15\n",
      "\n"
     ]
    },
    {
     "name": "stderr",
     "output_type": "stream",
     "text": [
      " 39%|███▉      | 1400/3600 [13:57:06<50:52:13, 83.24s/it]"
     ]
    },
    {
     "name": "stdout",
     "output_type": "stream",
     "text": [
      "Message: no such element: Unable to locate element: {\"method\":\"xpath\",\"selector\":\"//div[@data-section-id=\"TITLE_DEFAULT\"]/section/div/span/h1\"}\n",
      "  (Session info: chrome=106.0.5249.119)\n",
      "Stacktrace:\n",
      "0   chromedriver                        0x000000010523cc08 chromedriver + 4402184\n",
      "1   chromedriver                        0x00000001051c41f3 chromedriver + 3908083\n",
      "2   chromedriver                        0x0000000104e71e6a chromedriver + 425578\n",
      "3   chromedriver                        0x0000000104ea9c91 chromedriver + 654481\n",
      "4   chromedriver                        0x0000000104ea9e91 chromedriver + 654993\n",
      "5   chromedriver                        0x0000000104ee1274 chromedriver + 881268\n",
      "6   chromedriver                        0x0000000104ec7dcd chromedriver + 777677\n",
      "7   chromedriver                        0x0000000104edef79 chromedriver + 872313\n",
      "8   chromedriver                        0x0000000104ec7bd3 chromedriver + 777171\n",
      "9   chromedriver                        0x0000000104e9cced chromedriver + 601325\n",
      "10  chromedriver                        0x0000000104e9de51 chromedriver + 605777\n",
      "11  chromedriver                        0x000000010520c73e chromedriver + 4204350\n",
      "12  chromedriver                        0x0000000105210e07 chromedriver + 4222471\n",
      "13  chromedriver                        0x00000001052180bf chromedriver + 4251839\n",
      "14  chromedriver                        0x0000000105211b4a chromedriver + 4225866\n",
      "15  chromedriver                        0x00000001051ea8af chromedriver + 4065455\n",
      "16  chromedriver                        0x000000010522ed18 chromedriver + 4345112\n",
      "17  chromedriver                        0x000000010522ee86 chromedriver + 4345478\n",
      "18  chromedriver                        0x0000000105243f6e chromedriver + 4431726\n",
      "19  libsystem_pthread.dylib             0x00007ff801661514 _pthread_start + 125\n",
      "20  libsystem_pthread.dylib             0x00007ff80165d02f thread_start + 15\n",
      "\n",
      "Errors total:  37\n"
     ]
    },
    {
     "name": "stderr",
     "output_type": "stream",
     "text": [
      " 39%|███▉      | 1407/3600 [14:00:50<21:58:11, 36.07s/it]"
     ]
    },
    {
     "name": "stdout",
     "output_type": "stream",
     "text": [
      "Message: unknown error: Chrome failed to start: crashed.\n",
      "  (chrome not reachable)\n",
      "  (The process started from chrome location /Applications/Google Chrome.app/Contents/MacOS/Google Chrome is no longer running, so ChromeDriver is assuming that Chrome has crashed.)\n",
      "Stacktrace:\n",
      "0   chromedriver                        0x00000001048a2c08 chromedriver + 4402184\n",
      "1   chromedriver                        0x000000010482a1f3 chromedriver + 3908083\n",
      "2   chromedriver                        0x00000001044d7e6a chromedriver + 425578\n",
      "3   chromedriver                        0x00000001044fcfc6 chromedriver + 577478\n",
      "4   chromedriver                        0x00000001044f83be chromedriver + 558014\n",
      "5   chromedriver                        0x00000001045358fa chromedriver + 809210\n",
      "6   chromedriver                        0x00000001045352bf chromedriver + 807615\n",
      "7   chromedriver                        0x000000010452dbd3 chromedriver + 777171\n",
      "8   chromedriver                        0x0000000104502ced chromedriver + 601325\n",
      "9   chromedriver                        0x0000000104503e51 chromedriver + 605777\n",
      "10  chromedriver                        0x000000010487273e chromedriver + 4204350\n",
      "11  chromedriver                        0x0000000104876e07 chromedriver + 4222471\n",
      "12  chromedriver                        0x000000010487e0bf chromedriver + 4251839\n",
      "13  chromedriver                        0x0000000104877b4a chromedriver + 4225866\n",
      "14  chromedriver                        0x00000001048508af chromedriver + 4065455\n",
      "15  chromedriver                        0x0000000104894d18 chromedriver + 4345112\n",
      "16  chromedriver                        0x0000000104894e86 chromedriver + 4345478\n",
      "17  chromedriver                        0x00000001048a9f6e chromedriver + 4431726\n",
      "18  libsystem_pthread.dylib             0x00007ff801661514 _pthread_start + 125\n",
      "19  libsystem_pthread.dylib             0x00007ff80165d02f thread_start + 15\n",
      "\n"
     ]
    },
    {
     "name": "stderr",
     "output_type": "stream",
     "text": [
      " 39%|███▉      | 1410/3600 [14:02:30<20:39:35, 33.96s/it]"
     ]
    },
    {
     "name": "stdout",
     "output_type": "stream",
     "text": [
      "Errors total:  37\n"
     ]
    },
    {
     "name": "stderr",
     "output_type": "stream",
     "text": [
      " 39%|███▉      | 1420/3600 [14:07:56<19:21:00, 31.95s/it]"
     ]
    },
    {
     "name": "stdout",
     "output_type": "stream",
     "text": [
      "Errors total:  37\n"
     ]
    },
    {
     "name": "stderr",
     "output_type": "stream",
     "text": [
      " 40%|███▉      | 1423/3600 [14:09:32<19:23:16, 32.06s/it]"
     ]
    },
    {
     "name": "stdout",
     "output_type": "stream",
     "text": [
      "Message: no such element: Unable to locate element: {\"method\":\"xpath\",\"selector\":\"//span[@class=\"_17p6nbba\"]\"}\n",
      "  (Session info: chrome=106.0.5249.119)\n",
      "Stacktrace:\n",
      "0   chromedriver                        0x0000000100de6c08 chromedriver + 4402184\n",
      "1   chromedriver                        0x0000000100d6e1f3 chromedriver + 3908083\n",
      "2   chromedriver                        0x0000000100a1be6a chromedriver + 425578\n",
      "3   chromedriver                        0x0000000100a53c91 chromedriver + 654481\n",
      "4   chromedriver                        0x0000000100a53e91 chromedriver + 654993\n",
      "5   chromedriver                        0x0000000100a8b274 chromedriver + 881268\n",
      "6   chromedriver                        0x0000000100a71dcd chromedriver + 777677\n",
      "7   chromedriver                        0x0000000100a88f79 chromedriver + 872313\n",
      "8   chromedriver                        0x0000000100a71bd3 chromedriver + 777171\n",
      "9   chromedriver                        0x0000000100a46ced chromedriver + 601325\n",
      "10  chromedriver                        0x0000000100a47e51 chromedriver + 605777\n",
      "11  chromedriver                        0x0000000100db673e chromedriver + 4204350\n",
      "12  chromedriver                        0x0000000100dbae07 chromedriver + 4222471\n",
      "13  chromedriver                        0x0000000100dc20bf chromedriver + 4251839\n",
      "14  chromedriver                        0x0000000100dbbb4a chromedriver + 4225866\n",
      "15  chromedriver                        0x0000000100d948af chromedriver + 4065455\n",
      "16  chromedriver                        0x0000000100dd8d18 chromedriver + 4345112\n",
      "17  chromedriver                        0x0000000100dd8e86 chromedriver + 4345478\n",
      "18  chromedriver                        0x0000000100dedf6e chromedriver + 4431726\n",
      "19  libsystem_pthread.dylib             0x00007ff801661514 _pthread_start + 125\n",
      "20  libsystem_pthread.dylib             0x00007ff80165d02f thread_start + 15\n",
      "\n",
      "Message: no such element: Unable to locate element: {\"method\":\"xpath\",\"selector\":\"//span[@class=\"_17p6nbba\"]\"}\n",
      "  (Session info: chrome=106.0.5249.119)\n",
      "Stacktrace:\n",
      "0   chromedriver                        0x000000010302ac08 chromedriver + 4402184\n",
      "1   chromedriver                        0x0000000102fb21f3 chromedriver + 3908083\n",
      "2   chromedriver                        0x0000000102c5fe6a chromedriver + 425578\n",
      "3   chromedriver                        0x0000000102c97c91 chromedriver + 654481\n",
      "4   chromedriver                        0x0000000102c97e91 chromedriver + 654993\n",
      "5   chromedriver                        0x0000000102ccf274 chromedriver + 881268\n",
      "6   chromedriver                        0x0000000102cb5dcd chromedriver + 777677\n",
      "7   chromedriver                        0x0000000102cccf79 chromedriver + 872313\n",
      "8   chromedriver                        0x0000000102cb5bd3 chromedriver + 777171\n",
      "9   chromedriver                        0x0000000102c8aced chromedriver + 601325\n",
      "10  chromedriver                        0x0000000102c8be51 chromedriver + 605777\n",
      "11  chromedriver                        0x0000000102ffa73e chromedriver + 4204350\n",
      "12  chromedriver                        0x0000000102ffee07 chromedriver + 4222471\n",
      "13  chromedriver                        0x00000001030060bf chromedriver + 4251839\n",
      "14  chromedriver                        0x0000000102fffb4a chromedriver + 4225866\n",
      "15  chromedriver                        0x0000000102fd88af chromedriver + 4065455\n",
      "16  chromedriver                        0x000000010301cd18 chromedriver + 4345112\n",
      "17  chromedriver                        0x000000010301ce86 chromedriver + 4345478\n",
      "18  chromedriver                        0x0000000103031f6e chromedriver + 4431726\n",
      "19  libsystem_pthread.dylib             0x00007ff801661514 _pthread_start + 125\n",
      "20  libsystem_pthread.dylib             0x00007ff80165d02f thread_start + 15\n",
      "\n",
      "Message: no such element: Unable to locate element: {\"method\":\"xpath\",\"selector\":\"//span[@class=\"_17p6nbba\"]\"}\n",
      "  (Session info: chrome=106.0.5249.119)\n",
      "Stacktrace:\n",
      "0   chromedriver                        0x0000000102aeec08 chromedriver + 4402184\n",
      "1   chromedriver                        0x0000000102a761f3 chromedriver + 3908083\n",
      "2   chromedriver                        0x0000000102723e6a chromedriver + 425578\n",
      "3   chromedriver                        0x000000010275bc91 chromedriver + 654481\n",
      "4   chromedriver                        0x000000010275be91 chromedriver + 654993\n",
      "5   chromedriver                        0x0000000102793274 chromedriver + 881268\n",
      "6   chromedriver                        0x0000000102779dcd chromedriver + 777677\n",
      "7   chromedriver                        0x0000000102790f79 chromedriver + 872313\n",
      "8   chromedriver                        0x0000000102779bd3 chromedriver + 777171\n",
      "9   chromedriver                        0x000000010274eced chromedriver + 601325\n",
      "10  chromedriver                        0x000000010274fe51 chromedriver + 605777\n",
      "11  chromedriver                        0x0000000102abe73e chromedriver + 4204350\n",
      "12  chromedriver                        0x0000000102ac2e07 chromedriver + 4222471\n",
      "13  chromedriver                        0x0000000102aca0bf chromedriver + 4251839\n",
      "14  chromedriver                        0x0000000102ac3b4a chromedriver + 4225866\n",
      "15  chromedriver                        0x0000000102a9c8af chromedriver + 4065455\n",
      "16  chromedriver                        0x0000000102ae0d18 chromedriver + 4345112\n",
      "17  chromedriver                        0x0000000102ae0e86 chromedriver + 4345478\n",
      "18  chromedriver                        0x0000000102af5f6e chromedriver + 4431726\n",
      "19  libsystem_pthread.dylib             0x00007ff801661514 _pthread_start + 125\n",
      "20  libsystem_pthread.dylib             0x00007ff80165d02f thread_start + 15\n",
      "\n",
      "Message: no such element: Unable to locate element: {\"method\":\"xpath\",\"selector\":\"//span[@class=\"_17p6nbba\"]\"}\n",
      "  (Session info: chrome=106.0.5249.119)\n",
      "Stacktrace:\n",
      "0   chromedriver                        0x0000000102434c08 chromedriver + 4402184\n",
      "1   chromedriver                        0x00000001023bc1f3 chromedriver + 3908083\n",
      "2   chromedriver                        0x0000000102069e6a chromedriver + 425578\n",
      "3   chromedriver                        0x00000001020a1c91 chromedriver + 654481\n",
      "4   chromedriver                        0x00000001020a1e91 chromedriver + 654993\n",
      "5   chromedriver                        0x00000001020d9274 chromedriver + 881268\n",
      "6   chromedriver                        0x00000001020bfdcd chromedriver + 777677\n",
      "7   chromedriver                        0x00000001020d6f79 chromedriver + 872313\n",
      "8   chromedriver                        0x00000001020bfbd3 chromedriver + 777171\n",
      "9   chromedriver                        0x0000000102094ced chromedriver + 601325\n",
      "10  chromedriver                        0x0000000102095e51 chromedriver + 605777\n",
      "11  chromedriver                        0x000000010240473e chromedriver + 4204350\n",
      "12  chromedriver                        0x0000000102408e07 chromedriver + 4222471\n",
      "13  chromedriver                        0x00000001024100bf chromedriver + 4251839\n",
      "14  chromedriver                        0x0000000102409b4a chromedriver + 4225866\n",
      "15  chromedriver                        0x00000001023e28af chromedriver + 4065455\n",
      "16  chromedriver                        0x0000000102426d18 chromedriver + 4345112\n",
      "17  chromedriver                        0x0000000102426e86 chromedriver + 4345478\n",
      "18  chromedriver                        0x000000010243bf6e chromedriver + 4431726\n",
      "19  libsystem_pthread.dylib             0x00007ff801661514 _pthread_start + 125\n",
      "20  libsystem_pthread.dylib             0x00007ff80165d02f thread_start + 15\n",
      "\n"
     ]
    },
    {
     "name": "stderr",
     "output_type": "stream",
     "text": [
      " 40%|███▉      | 1424/3600 [14:12:04<41:16:05, 68.27s/it]"
     ]
    },
    {
     "name": "stdout",
     "output_type": "stream",
     "text": [
      "Message: no such element: Unable to locate element: {\"method\":\"xpath\",\"selector\":\"//span[@class=\"_17p6nbba\"]\"}\n",
      "  (Session info: chrome=106.0.5249.119)\n",
      "Stacktrace:\n",
      "0   chromedriver                        0x000000010504bc08 chromedriver + 4402184\n",
      "1   chromedriver                        0x0000000104fd31f3 chromedriver + 3908083\n",
      "2   chromedriver                        0x0000000104c80e6a chromedriver + 425578\n",
      "3   chromedriver                        0x0000000104cb8c91 chromedriver + 654481\n",
      "4   chromedriver                        0x0000000104cb8e91 chromedriver + 654993\n",
      "5   chromedriver                        0x0000000104cf0274 chromedriver + 881268\n",
      "6   chromedriver                        0x0000000104cd6dcd chromedriver + 777677\n",
      "7   chromedriver                        0x0000000104cedf79 chromedriver + 872313\n",
      "8   chromedriver                        0x0000000104cd6bd3 chromedriver + 777171\n",
      "9   chromedriver                        0x0000000104cabced chromedriver + 601325\n",
      "10  chromedriver                        0x0000000104cace51 chromedriver + 605777\n",
      "11  chromedriver                        0x000000010501b73e chromedriver + 4204350\n",
      "12  chromedriver                        0x000000010501fe07 chromedriver + 4222471\n",
      "13  chromedriver                        0x00000001050270bf chromedriver + 4251839\n",
      "14  chromedriver                        0x0000000105020b4a chromedriver + 4225866\n",
      "15  chromedriver                        0x0000000104ff98af chromedriver + 4065455\n",
      "16  chromedriver                        0x000000010503dd18 chromedriver + 4345112\n",
      "17  chromedriver                        0x000000010503de86 chromedriver + 4345478\n",
      "18  chromedriver                        0x0000000105052f6e chromedriver + 4431726\n",
      "19  libsystem_pthread.dylib             0x00007ff801661514 _pthread_start + 125\n",
      "20  libsystem_pthread.dylib             0x00007ff80165d02f thread_start + 15\n",
      "\n"
     ]
    },
    {
     "name": "stderr",
     "output_type": "stream",
     "text": [
      " 40%|███▉      | 1430/3600 [14:15:17<21:47:47, 36.16s/it]"
     ]
    },
    {
     "name": "stdout",
     "output_type": "stream",
     "text": [
      "Errors total:  38\n"
     ]
    },
    {
     "name": "stderr",
     "output_type": "stream",
     "text": [
      " 40%|███▉      | 1437/3600 [14:18:57<18:58:46, 31.59s/it]"
     ]
    },
    {
     "name": "stdout",
     "output_type": "stream",
     "text": [
      "Message: no such element: Unable to locate element: {\"method\":\"xpath\",\"selector\":\"//span[@class=\"_17p6nbba\"]\"}\n",
      "  (Session info: chrome=106.0.5249.119)\n",
      "Stacktrace:\n",
      "0   chromedriver                        0x0000000102bdac08 chromedriver + 4402184\n",
      "1   chromedriver                        0x0000000102b621f3 chromedriver + 3908083\n",
      "2   chromedriver                        0x000000010280fe6a chromedriver + 425578\n",
      "3   chromedriver                        0x0000000102847c91 chromedriver + 654481\n",
      "4   chromedriver                        0x0000000102847e91 chromedriver + 654993\n",
      "5   chromedriver                        0x000000010287f274 chromedriver + 881268\n",
      "6   chromedriver                        0x0000000102865dcd chromedriver + 777677\n",
      "7   chromedriver                        0x000000010287cf79 chromedriver + 872313\n",
      "8   chromedriver                        0x0000000102865bd3 chromedriver + 777171\n",
      "9   chromedriver                        0x000000010283aced chromedriver + 601325\n",
      "10  chromedriver                        0x000000010283be51 chromedriver + 605777\n",
      "11  chromedriver                        0x0000000102baa73e chromedriver + 4204350\n",
      "12  chromedriver                        0x0000000102baee07 chromedriver + 4222471\n",
      "13  chromedriver                        0x0000000102bb60bf chromedriver + 4251839\n",
      "14  chromedriver                        0x0000000102bafb4a chromedriver + 4225866\n",
      "15  chromedriver                        0x0000000102b888af chromedriver + 4065455\n",
      "16  chromedriver                        0x0000000102bccd18 chromedriver + 4345112\n",
      "17  chromedriver                        0x0000000102bcce86 chromedriver + 4345478\n",
      "18  chromedriver                        0x0000000102be1f6e chromedriver + 4431726\n",
      "19  libsystem_pthread.dylib             0x00007ff801661514 _pthread_start + 125\n",
      "20  libsystem_pthread.dylib             0x00007ff80165d02f thread_start + 15\n",
      "\n",
      "Message: no such element: Unable to locate element: {\"method\":\"xpath\",\"selector\":\"//span[@class=\"_17p6nbba\"]\"}\n",
      "  (Session info: chrome=106.0.5249.119)\n",
      "Stacktrace:\n",
      "0   chromedriver                        0x0000000102c5fc08 chromedriver + 4402184\n",
      "1   chromedriver                        0x0000000102be71f3 chromedriver + 3908083\n",
      "2   chromedriver                        0x0000000102894e6a chromedriver + 425578\n",
      "3   chromedriver                        0x00000001028ccc91 chromedriver + 654481\n",
      "4   chromedriver                        0x00000001028cce91 chromedriver + 654993\n",
      "5   chromedriver                        0x0000000102904274 chromedriver + 881268\n",
      "6   chromedriver                        0x00000001028eadcd chromedriver + 777677\n",
      "7   chromedriver                        0x0000000102901f79 chromedriver + 872313\n",
      "8   chromedriver                        0x00000001028eabd3 chromedriver + 777171\n",
      "9   chromedriver                        0x00000001028bfced chromedriver + 601325\n",
      "10  chromedriver                        0x00000001028c0e51 chromedriver + 605777\n",
      "11  chromedriver                        0x0000000102c2f73e chromedriver + 4204350\n",
      "12  chromedriver                        0x0000000102c33e07 chromedriver + 4222471\n",
      "13  chromedriver                        0x0000000102c3b0bf chromedriver + 4251839\n",
      "14  chromedriver                        0x0000000102c34b4a chromedriver + 4225866\n",
      "15  chromedriver                        0x0000000102c0d8af chromedriver + 4065455\n",
      "16  chromedriver                        0x0000000102c51d18 chromedriver + 4345112\n",
      "17  chromedriver                        0x0000000102c51e86 chromedriver + 4345478\n",
      "18  chromedriver                        0x0000000102c66f6e chromedriver + 4431726\n",
      "19  libsystem_pthread.dylib             0x00007ff801661514 _pthread_start + 125\n",
      "20  libsystem_pthread.dylib             0x00007ff80165d02f thread_start + 15\n",
      "\n",
      "Message: no such element: Unable to locate element: {\"method\":\"xpath\",\"selector\":\"//span[@class=\"_17p6nbba\"]\"}\n",
      "  (Session info: chrome=106.0.5249.119)\n",
      "Stacktrace:\n",
      "0   chromedriver                        0x000000010468dc08 chromedriver + 4402184\n",
      "1   chromedriver                        0x00000001046151f3 chromedriver + 3908083\n",
      "2   chromedriver                        0x00000001042c2e6a chromedriver + 425578\n",
      "3   chromedriver                        0x00000001042fac91 chromedriver + 654481\n",
      "4   chromedriver                        0x00000001042fae91 chromedriver + 654993\n",
      "5   chromedriver                        0x0000000104332274 chromedriver + 881268\n",
      "6   chromedriver                        0x0000000104318dcd chromedriver + 777677\n",
      "7   chromedriver                        0x000000010432ff79 chromedriver + 872313\n",
      "8   chromedriver                        0x0000000104318bd3 chromedriver + 777171\n",
      "9   chromedriver                        0x00000001042edced chromedriver + 601325\n",
      "10  chromedriver                        0x00000001042eee51 chromedriver + 605777\n",
      "11  chromedriver                        0x000000010465d73e chromedriver + 4204350\n",
      "12  chromedriver                        0x0000000104661e07 chromedriver + 4222471\n",
      "13  chromedriver                        0x00000001046690bf chromedriver + 4251839\n",
      "14  chromedriver                        0x0000000104662b4a chromedriver + 4225866\n",
      "15  chromedriver                        0x000000010463b8af chromedriver + 4065455\n",
      "16  chromedriver                        0x000000010467fd18 chromedriver + 4345112\n",
      "17  chromedriver                        0x000000010467fe86 chromedriver + 4345478\n",
      "18  chromedriver                        0x0000000104694f6e chromedriver + 4431726\n",
      "19  libsystem_pthread.dylib             0x00007ff801661514 _pthread_start + 125\n",
      "20  libsystem_pthread.dylib             0x00007ff80165d02f thread_start + 15\n",
      "\n",
      "Message: no such element: Unable to locate element: {\"method\":\"xpath\",\"selector\":\"//span[@class=\"_17p6nbba\"]\"}\n",
      "  (Session info: chrome=106.0.5249.119)\n",
      "Stacktrace:\n",
      "0   chromedriver                        0x0000000102894c08 chromedriver + 4402184\n",
      "1   chromedriver                        0x000000010281c1f3 chromedriver + 3908083\n",
      "2   chromedriver                        0x00000001024c9e6a chromedriver + 425578\n",
      "3   chromedriver                        0x0000000102501c91 chromedriver + 654481\n",
      "4   chromedriver                        0x0000000102501e91 chromedriver + 654993\n",
      "5   chromedriver                        0x0000000102539274 chromedriver + 881268\n",
      "6   chromedriver                        0x000000010251fdcd chromedriver + 777677\n",
      "7   chromedriver                        0x0000000102536f79 chromedriver + 872313\n",
      "8   chromedriver                        0x000000010251fbd3 chromedriver + 777171\n",
      "9   chromedriver                        0x00000001024f4ced chromedriver + 601325\n",
      "10  chromedriver                        0x00000001024f5e51 chromedriver + 605777\n",
      "11  chromedriver                        0x000000010286473e chromedriver + 4204350\n",
      "12  chromedriver                        0x0000000102868e07 chromedriver + 4222471\n",
      "13  chromedriver                        0x00000001028700bf chromedriver + 4251839\n",
      "14  chromedriver                        0x0000000102869b4a chromedriver + 4225866\n",
      "15  chromedriver                        0x00000001028428af chromedriver + 4065455\n",
      "16  chromedriver                        0x0000000102886d18 chromedriver + 4345112\n",
      "17  chromedriver                        0x0000000102886e86 chromedriver + 4345478\n",
      "18  chromedriver                        0x000000010289bf6e chromedriver + 4431726\n",
      "19  libsystem_pthread.dylib             0x00007ff801661514 _pthread_start + 125\n",
      "20  libsystem_pthread.dylib             0x00007ff80165d02f thread_start + 15\n",
      "\n"
     ]
    },
    {
     "name": "stderr",
     "output_type": "stream",
     "text": [
      " 40%|███▉      | 1438/3600 [14:21:32<41:10:19, 68.56s/it]"
     ]
    },
    {
     "name": "stdout",
     "output_type": "stream",
     "text": [
      "Message: no such element: Unable to locate element: {\"method\":\"xpath\",\"selector\":\"//span[@class=\"_17p6nbba\"]\"}\n",
      "  (Session info: chrome=106.0.5249.119)\n",
      "Stacktrace:\n",
      "0   chromedriver                        0x00000001029a4c08 chromedriver + 4402184\n",
      "1   chromedriver                        0x000000010292c1f3 chromedriver + 3908083\n",
      "2   chromedriver                        0x00000001025d9e6a chromedriver + 425578\n",
      "3   chromedriver                        0x0000000102611c91 chromedriver + 654481\n",
      "4   chromedriver                        0x0000000102611e91 chromedriver + 654993\n",
      "5   chromedriver                        0x0000000102649274 chromedriver + 881268\n",
      "6   chromedriver                        0x000000010262fdcd chromedriver + 777677\n",
      "7   chromedriver                        0x0000000102646f79 chromedriver + 872313\n",
      "8   chromedriver                        0x000000010262fbd3 chromedriver + 777171\n",
      "9   chromedriver                        0x0000000102604ced chromedriver + 601325\n",
      "10  chromedriver                        0x0000000102605e51 chromedriver + 605777\n",
      "11  chromedriver                        0x000000010297473e chromedriver + 4204350\n",
      "12  chromedriver                        0x0000000102978e07 chromedriver + 4222471\n",
      "13  chromedriver                        0x00000001029800bf chromedriver + 4251839\n",
      "14  chromedriver                        0x0000000102979b4a chromedriver + 4225866\n",
      "15  chromedriver                        0x00000001029528af chromedriver + 4065455\n",
      "16  chromedriver                        0x0000000102996d18 chromedriver + 4345112\n",
      "17  chromedriver                        0x0000000102996e86 chromedriver + 4345478\n",
      "18  chromedriver                        0x00000001029abf6e chromedriver + 4431726\n",
      "19  libsystem_pthread.dylib             0x00007ff801661514 _pthread_start + 125\n",
      "20  libsystem_pthread.dylib             0x00007ff80165d02f thread_start + 15\n",
      "\n"
     ]
    },
    {
     "name": "stderr",
     "output_type": "stream",
     "text": [
      " 40%|███▉      | 1439/3600 [14:22:04<34:31:02, 57.50s/it]"
     ]
    },
    {
     "name": "stdout",
     "output_type": "stream",
     "text": [
      "Message: unknown error: Chrome failed to start: crashed.\n",
      "  (chrome not reachable)\n",
      "  (The process started from chrome location /Applications/Google Chrome.app/Contents/MacOS/Google Chrome is no longer running, so ChromeDriver is assuming that Chrome has crashed.)\n",
      "Stacktrace:\n",
      "0   chromedriver                        0x0000000100ff5c08 chromedriver + 4402184\n",
      "1   chromedriver                        0x0000000100f7d1f3 chromedriver + 3908083\n",
      "2   chromedriver                        0x0000000100c2ae6a chromedriver + 425578\n",
      "3   chromedriver                        0x0000000100c4ffc6 chromedriver + 577478\n",
      "4   chromedriver                        0x0000000100c4b3be chromedriver + 558014\n",
      "5   chromedriver                        0x0000000100c888fa chromedriver + 809210\n",
      "6   chromedriver                        0x0000000100c882bf chromedriver + 807615\n",
      "7   chromedriver                        0x0000000100c80bd3 chromedriver + 777171\n",
      "8   chromedriver                        0x0000000100c55ced chromedriver + 601325\n",
      "9   chromedriver                        0x0000000100c56e51 chromedriver + 605777\n",
      "10  chromedriver                        0x0000000100fc573e chromedriver + 4204350\n",
      "11  chromedriver                        0x0000000100fc9e07 chromedriver + 4222471\n",
      "12  chromedriver                        0x0000000100fd10bf chromedriver + 4251839\n",
      "13  chromedriver                        0x0000000100fcab4a chromedriver + 4225866\n",
      "14  chromedriver                        0x0000000100fa38af chromedriver + 4065455\n",
      "15  chromedriver                        0x0000000100fe7d18 chromedriver + 4345112\n",
      "16  chromedriver                        0x0000000100fe7e86 chromedriver + 4345478\n",
      "17  chromedriver                        0x0000000100ffcf6e chromedriver + 4431726\n",
      "18  libsystem_pthread.dylib             0x00007ff801661514 _pthread_start + 125\n",
      "19  libsystem_pthread.dylib             0x00007ff80165d02f thread_start + 15\n",
      "\n"
     ]
    },
    {
     "name": "stderr",
     "output_type": "stream",
     "text": [
      " 40%|████      | 1440/3600 [14:22:40<30:43:29, 51.21s/it]"
     ]
    },
    {
     "name": "stdout",
     "output_type": "stream",
     "text": [
      "Errors total:  39\n"
     ]
    },
    {
     "name": "stderr",
     "output_type": "stream",
     "text": [
      " 40%|████      | 1450/3600 [14:28:01<19:13:29, 32.19s/it]"
     ]
    },
    {
     "name": "stdout",
     "output_type": "stream",
     "text": [
      "Errors total:  39\n"
     ]
    },
    {
     "name": "stderr",
     "output_type": "stream",
     "text": [
      " 41%|████      | 1460/3600 [14:33:13<18:22:14, 30.90s/it]"
     ]
    },
    {
     "name": "stdout",
     "output_type": "stream",
     "text": [
      "Errors total:  39\n"
     ]
    },
    {
     "name": "stderr",
     "output_type": "stream",
     "text": [
      " 41%|████      | 1464/3600 [14:35:18<18:22:56, 30.98s/it]"
     ]
    },
    {
     "name": "stdout",
     "output_type": "stream",
     "text": [
      "Message: no such element: Unable to locate element: {\"method\":\"xpath\",\"selector\":\"//span[@class=\"_17p6nbba\"]\"}\n",
      "  (Session info: chrome=106.0.5249.119)\n",
      "Stacktrace:\n",
      "0   chromedriver                        0x0000000102542c08 chromedriver + 4402184\n",
      "1   chromedriver                        0x00000001024ca1f3 chromedriver + 3908083\n",
      "2   chromedriver                        0x0000000102177e6a chromedriver + 425578\n",
      "3   chromedriver                        0x00000001021afc91 chromedriver + 654481\n",
      "4   chromedriver                        0x00000001021afe91 chromedriver + 654993\n",
      "5   chromedriver                        0x00000001021e7274 chromedriver + 881268\n",
      "6   chromedriver                        0x00000001021cddcd chromedriver + 777677\n",
      "7   chromedriver                        0x00000001021e4f79 chromedriver + 872313\n",
      "8   chromedriver                        0x00000001021cdbd3 chromedriver + 777171\n",
      "9   chromedriver                        0x00000001021a2ced chromedriver + 601325\n",
      "10  chromedriver                        0x00000001021a3e51 chromedriver + 605777\n",
      "11  chromedriver                        0x000000010251273e chromedriver + 4204350\n",
      "12  chromedriver                        0x0000000102516e07 chromedriver + 4222471\n",
      "13  chromedriver                        0x000000010251e0bf chromedriver + 4251839\n",
      "14  chromedriver                        0x0000000102517b4a chromedriver + 4225866\n",
      "15  chromedriver                        0x00000001024f08af chromedriver + 4065455\n",
      "16  chromedriver                        0x0000000102534d18 chromedriver + 4345112\n",
      "17  chromedriver                        0x0000000102534e86 chromedriver + 4345478\n",
      "18  chromedriver                        0x0000000102549f6e chromedriver + 4431726\n",
      "19  libsystem_pthread.dylib             0x00007ff801661514 _pthread_start + 125\n",
      "20  libsystem_pthread.dylib             0x00007ff80165d02f thread_start + 15\n",
      "\n",
      "Message: no such element: Unable to locate element: {\"method\":\"xpath\",\"selector\":\"//span[@class=\"_17p6nbba\"]\"}\n",
      "  (Session info: chrome=106.0.5249.119)\n",
      "Stacktrace:\n",
      "0   chromedriver                        0x0000000102b9ec08 chromedriver + 4402184\n",
      "1   chromedriver                        0x0000000102b261f3 chromedriver + 3908083\n",
      "2   chromedriver                        0x00000001027d3e6a chromedriver + 425578\n",
      "3   chromedriver                        0x000000010280bc91 chromedriver + 654481\n",
      "4   chromedriver                        0x000000010280be91 chromedriver + 654993\n",
      "5   chromedriver                        0x0000000102843274 chromedriver + 881268\n",
      "6   chromedriver                        0x0000000102829dcd chromedriver + 777677\n",
      "7   chromedriver                        0x0000000102840f79 chromedriver + 872313\n",
      "8   chromedriver                        0x0000000102829bd3 chromedriver + 777171\n",
      "9   chromedriver                        0x00000001027feced chromedriver + 601325\n",
      "10  chromedriver                        0x00000001027ffe51 chromedriver + 605777\n",
      "11  chromedriver                        0x0000000102b6e73e chromedriver + 4204350\n",
      "12  chromedriver                        0x0000000102b72e07 chromedriver + 4222471\n",
      "13  chromedriver                        0x0000000102b7a0bf chromedriver + 4251839\n",
      "14  chromedriver                        0x0000000102b73b4a chromedriver + 4225866\n",
      "15  chromedriver                        0x0000000102b4c8af chromedriver + 4065455\n",
      "16  chromedriver                        0x0000000102b90d18 chromedriver + 4345112\n",
      "17  chromedriver                        0x0000000102b90e86 chromedriver + 4345478\n",
      "18  chromedriver                        0x0000000102ba5f6e chromedriver + 4431726\n",
      "19  libsystem_pthread.dylib             0x00007ff801661514 _pthread_start + 125\n",
      "20  libsystem_pthread.dylib             0x00007ff80165d02f thread_start + 15\n",
      "\n",
      "Message: no such element: Unable to locate element: {\"method\":\"xpath\",\"selector\":\"//span[@class=\"_17p6nbba\"]\"}\n",
      "  (Session info: chrome=106.0.5249.119)\n",
      "Stacktrace:\n",
      "0   chromedriver                        0x00000001008b7c08 chromedriver + 4402184\n",
      "1   chromedriver                        0x000000010083f1f3 chromedriver + 3908083\n",
      "2   chromedriver                        0x00000001004ece6a chromedriver + 425578\n",
      "3   chromedriver                        0x0000000100524c91 chromedriver + 654481\n",
      "4   chromedriver                        0x0000000100524e91 chromedriver + 654993\n",
      "5   chromedriver                        0x000000010055c274 chromedriver + 881268\n",
      "6   chromedriver                        0x0000000100542dcd chromedriver + 777677\n",
      "7   chromedriver                        0x0000000100559f79 chromedriver + 872313\n",
      "8   chromedriver                        0x0000000100542bd3 chromedriver + 777171\n",
      "9   chromedriver                        0x0000000100517ced chromedriver + 601325\n",
      "10  chromedriver                        0x0000000100518e51 chromedriver + 605777\n",
      "11  chromedriver                        0x000000010088773e chromedriver + 4204350\n",
      "12  chromedriver                        0x000000010088be07 chromedriver + 4222471\n",
      "13  chromedriver                        0x00000001008930bf chromedriver + 4251839\n",
      "14  chromedriver                        0x000000010088cb4a chromedriver + 4225866\n",
      "15  chromedriver                        0x00000001008658af chromedriver + 4065455\n",
      "16  chromedriver                        0x00000001008a9d18 chromedriver + 4345112\n",
      "17  chromedriver                        0x00000001008a9e86 chromedriver + 4345478\n",
      "18  chromedriver                        0x00000001008bef6e chromedriver + 4431726\n",
      "19  libsystem_pthread.dylib             0x00007ff801661514 _pthread_start + 125\n",
      "20  libsystem_pthread.dylib             0x00007ff80165d02f thread_start + 15\n",
      "\n",
      "Message: no such element: Unable to locate element: {\"method\":\"xpath\",\"selector\":\"//span[@class=\"_17p6nbba\"]\"}\n",
      "  (Session info: chrome=106.0.5249.119)\n",
      "Stacktrace:\n",
      "0   chromedriver                        0x0000000102662c08 chromedriver + 4402184\n",
      "1   chromedriver                        0x00000001025ea1f3 chromedriver + 3908083\n",
      "2   chromedriver                        0x0000000102297e6a chromedriver + 425578\n",
      "3   chromedriver                        0x00000001022cfc91 chromedriver + 654481\n",
      "4   chromedriver                        0x00000001022cfe91 chromedriver + 654993\n",
      "5   chromedriver                        0x0000000102307274 chromedriver + 881268\n",
      "6   chromedriver                        0x00000001022eddcd chromedriver + 777677\n",
      "7   chromedriver                        0x0000000102304f79 chromedriver + 872313\n",
      "8   chromedriver                        0x00000001022edbd3 chromedriver + 777171\n",
      "9   chromedriver                        0x00000001022c2ced chromedriver + 601325\n",
      "10  chromedriver                        0x00000001022c3e51 chromedriver + 605777\n",
      "11  chromedriver                        0x000000010263273e chromedriver + 4204350\n",
      "12  chromedriver                        0x0000000102636e07 chromedriver + 4222471\n",
      "13  chromedriver                        0x000000010263e0bf chromedriver + 4251839\n",
      "14  chromedriver                        0x0000000102637b4a chromedriver + 4225866\n",
      "15  chromedriver                        0x00000001026108af chromedriver + 4065455\n",
      "16  chromedriver                        0x0000000102654d18 chromedriver + 4345112\n",
      "17  chromedriver                        0x0000000102654e86 chromedriver + 4345478\n",
      "18  chromedriver                        0x0000000102669f6e chromedriver + 4431726\n",
      "19  libsystem_pthread.dylib             0x00007ff801661514 _pthread_start + 125\n",
      "20  libsystem_pthread.dylib             0x00007ff80165d02f thread_start + 15\n",
      "\n"
     ]
    },
    {
     "name": "stderr",
     "output_type": "stream",
     "text": [
      " 41%|████      | 1465/3600 [14:37:57<41:04:31, 69.26s/it]"
     ]
    },
    {
     "name": "stdout",
     "output_type": "stream",
     "text": [
      "Message: no such element: Unable to locate element: {\"method\":\"xpath\",\"selector\":\"//span[@class=\"_17p6nbba\"]\"}\n",
      "  (Session info: chrome=106.0.5249.119)\n",
      "Stacktrace:\n",
      "0   chromedriver                        0x00000001008cbc08 chromedriver + 4402184\n",
      "1   chromedriver                        0x00000001008531f3 chromedriver + 3908083\n",
      "2   chromedriver                        0x0000000100500e6a chromedriver + 425578\n",
      "3   chromedriver                        0x0000000100538c91 chromedriver + 654481\n",
      "4   chromedriver                        0x0000000100538e91 chromedriver + 654993\n",
      "5   chromedriver                        0x0000000100570274 chromedriver + 881268\n",
      "6   chromedriver                        0x0000000100556dcd chromedriver + 777677\n",
      "7   chromedriver                        0x000000010056df79 chromedriver + 872313\n",
      "8   chromedriver                        0x0000000100556bd3 chromedriver + 777171\n",
      "9   chromedriver                        0x000000010052bced chromedriver + 601325\n",
      "10  chromedriver                        0x000000010052ce51 chromedriver + 605777\n",
      "11  chromedriver                        0x000000010089b73e chromedriver + 4204350\n",
      "12  chromedriver                        0x000000010089fe07 chromedriver + 4222471\n",
      "13  chromedriver                        0x00000001008a70bf chromedriver + 4251839\n",
      "14  chromedriver                        0x00000001008a0b4a chromedriver + 4225866\n",
      "15  chromedriver                        0x00000001008798af chromedriver + 4065455\n",
      "16  chromedriver                        0x00000001008bdd18 chromedriver + 4345112\n",
      "17  chromedriver                        0x00000001008bde86 chromedriver + 4345478\n",
      "18  chromedriver                        0x00000001008d2f6e chromedriver + 4431726\n",
      "19  libsystem_pthread.dylib             0x00007ff801661514 _pthread_start + 125\n",
      "20  libsystem_pthread.dylib             0x00007ff80165d02f thread_start + 15\n",
      "\n"
     ]
    },
    {
     "name": "stderr",
     "output_type": "stream",
     "text": [
      " 41%|████      | 1470/3600 [14:40:37<22:37:58, 38.25s/it]"
     ]
    },
    {
     "name": "stdout",
     "output_type": "stream",
     "text": [
      "Errors total:  40\n"
     ]
    },
    {
     "name": "stderr",
     "output_type": "stream",
     "text": [
      " 41%|████      | 1480/3600 [14:46:03<19:27:38, 33.05s/it]"
     ]
    },
    {
     "name": "stdout",
     "output_type": "stream",
     "text": [
      "Errors total:  40\n"
     ]
    },
    {
     "name": "stderr",
     "output_type": "stream",
     "text": [
      " 41%|████▏     | 1490/3600 [14:51:18<18:34:53, 31.70s/it]"
     ]
    },
    {
     "name": "stdout",
     "output_type": "stream",
     "text": [
      "Errors total:  40\n"
     ]
    },
    {
     "name": "stderr",
     "output_type": "stream",
     "text": [
      " 42%|████▏     | 1500/3600 [14:56:44<19:22:36, 33.22s/it]"
     ]
    },
    {
     "name": "stdout",
     "output_type": "stream",
     "text": [
      "Errors total:  40\n"
     ]
    },
    {
     "name": "stderr",
     "output_type": "stream",
     "text": [
      " 42%|████▏     | 1510/3600 [15:02:02<18:35:46, 32.03s/it]"
     ]
    },
    {
     "name": "stdout",
     "output_type": "stream",
     "text": [
      "Errors total:  40\n"
     ]
    },
    {
     "name": "stderr",
     "output_type": "stream",
     "text": [
      " 42%|████▏     | 1520/3600 [15:07:17<18:16:04, 31.62s/it]"
     ]
    },
    {
     "name": "stdout",
     "output_type": "stream",
     "text": [
      "Errors total:  40\n"
     ]
    },
    {
     "name": "stderr",
     "output_type": "stream",
     "text": [
      " 42%|████▎     | 1530/3600 [15:12:39<18:32:32, 32.25s/it]"
     ]
    },
    {
     "name": "stdout",
     "output_type": "stream",
     "text": [
      "Errors total:  40\n"
     ]
    },
    {
     "name": "stderr",
     "output_type": "stream",
     "text": [
      " 43%|████▎     | 1536/3600 [15:15:56<18:49:00, 32.82s/it]"
     ]
    },
    {
     "name": "stdout",
     "output_type": "stream",
     "text": [
      "Message: no such element: Unable to locate element: {\"method\":\"xpath\",\"selector\":\"//span[@class=\"_17p6nbba\"]\"}\n",
      "  (Session info: chrome=106.0.5249.119)\n",
      "Stacktrace:\n",
      "0   chromedriver                        0x0000000104949c08 chromedriver + 4402184\n",
      "1   chromedriver                        0x00000001048d11f3 chromedriver + 3908083\n",
      "2   chromedriver                        0x000000010457ee6a chromedriver + 425578\n",
      "3   chromedriver                        0x00000001045b6c91 chromedriver + 654481\n",
      "4   chromedriver                        0x00000001045b6e91 chromedriver + 654993\n",
      "5   chromedriver                        0x00000001045ee274 chromedriver + 881268\n",
      "6   chromedriver                        0x00000001045d4dcd chromedriver + 777677\n",
      "7   chromedriver                        0x00000001045ebf79 chromedriver + 872313\n",
      "8   chromedriver                        0x00000001045d4bd3 chromedriver + 777171\n",
      "9   chromedriver                        0x00000001045a9ced chromedriver + 601325\n",
      "10  chromedriver                        0x00000001045aae51 chromedriver + 605777\n",
      "11  chromedriver                        0x000000010491973e chromedriver + 4204350\n",
      "12  chromedriver                        0x000000010491de07 chromedriver + 4222471\n",
      "13  chromedriver                        0x00000001049250bf chromedriver + 4251839\n",
      "14  chromedriver                        0x000000010491eb4a chromedriver + 4225866\n",
      "15  chromedriver                        0x00000001048f78af chromedriver + 4065455\n",
      "16  chromedriver                        0x000000010493bd18 chromedriver + 4345112\n",
      "17  chromedriver                        0x000000010493be86 chromedriver + 4345478\n",
      "18  chromedriver                        0x0000000104950f6e chromedriver + 4431726\n",
      "19  libsystem_pthread.dylib             0x00007ff801661514 _pthread_start + 125\n",
      "20  libsystem_pthread.dylib             0x00007ff80165d02f thread_start + 15\n",
      "\n",
      "Message: no such element: Unable to locate element: {\"method\":\"xpath\",\"selector\":\"//span[@class=\"_17p6nbba\"]\"}\n",
      "  (Session info: chrome=106.0.5249.119)\n",
      "Stacktrace:\n",
      "0   chromedriver                        0x00000001007a4c08 chromedriver + 4402184\n",
      "1   chromedriver                        0x000000010072c1f3 chromedriver + 3908083\n",
      "2   chromedriver                        0x00000001003d9e6a chromedriver + 425578\n",
      "3   chromedriver                        0x0000000100411c91 chromedriver + 654481\n",
      "4   chromedriver                        0x0000000100411e91 chromedriver + 654993\n",
      "5   chromedriver                        0x0000000100449274 chromedriver + 881268\n",
      "6   chromedriver                        0x000000010042fdcd chromedriver + 777677\n",
      "7   chromedriver                        0x0000000100446f79 chromedriver + 872313\n",
      "8   chromedriver                        0x000000010042fbd3 chromedriver + 777171\n",
      "9   chromedriver                        0x0000000100404ced chromedriver + 601325\n",
      "10  chromedriver                        0x0000000100405e51 chromedriver + 605777\n",
      "11  chromedriver                        0x000000010077473e chromedriver + 4204350\n",
      "12  chromedriver                        0x0000000100778e07 chromedriver + 4222471\n",
      "13  chromedriver                        0x00000001007800bf chromedriver + 4251839\n",
      "14  chromedriver                        0x0000000100779b4a chromedriver + 4225866\n",
      "15  chromedriver                        0x00000001007528af chromedriver + 4065455\n",
      "16  chromedriver                        0x0000000100796d18 chromedriver + 4345112\n",
      "17  chromedriver                        0x0000000100796e86 chromedriver + 4345478\n",
      "18  chromedriver                        0x00000001007abf6e chromedriver + 4431726\n",
      "19  libsystem_pthread.dylib             0x00007ff801661514 _pthread_start + 125\n",
      "20  libsystem_pthread.dylib             0x00007ff80165d02f thread_start + 15\n",
      "\n",
      "Message: no such element: Unable to locate element: {\"method\":\"xpath\",\"selector\":\"//span[@class=\"_17p6nbba\"]\"}\n",
      "  (Session info: chrome=106.0.5249.119)\n",
      "Stacktrace:\n",
      "0   chromedriver                        0x0000000100650c08 chromedriver + 4402184\n",
      "1   chromedriver                        0x00000001005d81f3 chromedriver + 3908083\n",
      "2   chromedriver                        0x0000000100285e6a chromedriver + 425578\n",
      "3   chromedriver                        0x00000001002bdc91 chromedriver + 654481\n",
      "4   chromedriver                        0x00000001002bde91 chromedriver + 654993\n",
      "5   chromedriver                        0x00000001002f5274 chromedriver + 881268\n",
      "6   chromedriver                        0x00000001002dbdcd chromedriver + 777677\n",
      "7   chromedriver                        0x00000001002f2f79 chromedriver + 872313\n",
      "8   chromedriver                        0x00000001002dbbd3 chromedriver + 777171\n",
      "9   chromedriver                        0x00000001002b0ced chromedriver + 601325\n",
      "10  chromedriver                        0x00000001002b1e51 chromedriver + 605777\n",
      "11  chromedriver                        0x000000010062073e chromedriver + 4204350\n",
      "12  chromedriver                        0x0000000100624e07 chromedriver + 4222471\n",
      "13  chromedriver                        0x000000010062c0bf chromedriver + 4251839\n",
      "14  chromedriver                        0x0000000100625b4a chromedriver + 4225866\n",
      "15  chromedriver                        0x00000001005fe8af chromedriver + 4065455\n",
      "16  chromedriver                        0x0000000100642d18 chromedriver + 4345112\n",
      "17  chromedriver                        0x0000000100642e86 chromedriver + 4345478\n",
      "18  chromedriver                        0x0000000100657f6e chromedriver + 4431726\n",
      "19  libsystem_pthread.dylib             0x00007ff801661514 _pthread_start + 125\n",
      "20  libsystem_pthread.dylib             0x00007ff80165d02f thread_start + 15\n",
      "\n",
      "Message: no such element: Unable to locate element: {\"method\":\"xpath\",\"selector\":\"//span[@class=\"_17p6nbba\"]\"}\n",
      "  (Session info: chrome=106.0.5249.119)\n",
      "Stacktrace:\n",
      "0   chromedriver                        0x000000010108fc08 chromedriver + 4402184\n",
      "1   chromedriver                        0x00000001010171f3 chromedriver + 3908083\n",
      "2   chromedriver                        0x0000000100cc4e6a chromedriver + 425578\n",
      "3   chromedriver                        0x0000000100cfcc91 chromedriver + 654481\n",
      "4   chromedriver                        0x0000000100cfce91 chromedriver + 654993\n",
      "5   chromedriver                        0x0000000100d34274 chromedriver + 881268\n",
      "6   chromedriver                        0x0000000100d1adcd chromedriver + 777677\n",
      "7   chromedriver                        0x0000000100d31f79 chromedriver + 872313\n",
      "8   chromedriver                        0x0000000100d1abd3 chromedriver + 777171\n",
      "9   chromedriver                        0x0000000100cefced chromedriver + 601325\n",
      "10  chromedriver                        0x0000000100cf0e51 chromedriver + 605777\n",
      "11  chromedriver                        0x000000010105f73e chromedriver + 4204350\n",
      "12  chromedriver                        0x0000000101063e07 chromedriver + 4222471\n",
      "13  chromedriver                        0x000000010106b0bf chromedriver + 4251839\n",
      "14  chromedriver                        0x0000000101064b4a chromedriver + 4225866\n",
      "15  chromedriver                        0x000000010103d8af chromedriver + 4065455\n",
      "16  chromedriver                        0x0000000101081d18 chromedriver + 4345112\n",
      "17  chromedriver                        0x0000000101081e86 chromedriver + 4345478\n",
      "18  chromedriver                        0x0000000101096f6e chromedriver + 4431726\n",
      "19  libsystem_pthread.dylib             0x00007ff801661514 _pthread_start + 125\n",
      "20  libsystem_pthread.dylib             0x00007ff80165d02f thread_start + 15\n",
      "\n"
     ]
    },
    {
     "name": "stderr",
     "output_type": "stream",
     "text": [
      " 43%|████▎     | 1537/3600 [15:18:35<40:26:09, 70.56s/it]"
     ]
    },
    {
     "name": "stdout",
     "output_type": "stream",
     "text": [
      "Message: no such element: Unable to locate element: {\"method\":\"xpath\",\"selector\":\"//span[@class=\"_17p6nbba\"]\"}\n",
      "  (Session info: chrome=106.0.5249.119)\n",
      "Stacktrace:\n",
      "0   chromedriver                        0x0000000100fcdc08 chromedriver + 4402184\n",
      "1   chromedriver                        0x0000000100f551f3 chromedriver + 3908083\n",
      "2   chromedriver                        0x0000000100c02e6a chromedriver + 425578\n",
      "3   chromedriver                        0x0000000100c3ac91 chromedriver + 654481\n",
      "4   chromedriver                        0x0000000100c3ae91 chromedriver + 654993\n",
      "5   chromedriver                        0x0000000100c72274 chromedriver + 881268\n",
      "6   chromedriver                        0x0000000100c58dcd chromedriver + 777677\n",
      "7   chromedriver                        0x0000000100c6ff79 chromedriver + 872313\n",
      "8   chromedriver                        0x0000000100c58bd3 chromedriver + 777171\n",
      "9   chromedriver                        0x0000000100c2dced chromedriver + 601325\n",
      "10  chromedriver                        0x0000000100c2ee51 chromedriver + 605777\n",
      "11  chromedriver                        0x0000000100f9d73e chromedriver + 4204350\n",
      "12  chromedriver                        0x0000000100fa1e07 chromedriver + 4222471\n",
      "13  chromedriver                        0x0000000100fa90bf chromedriver + 4251839\n",
      "14  chromedriver                        0x0000000100fa2b4a chromedriver + 4225866\n",
      "15  chromedriver                        0x0000000100f7b8af chromedriver + 4065455\n",
      "16  chromedriver                        0x0000000100fbfd18 chromedriver + 4345112\n",
      "17  chromedriver                        0x0000000100fbfe86 chromedriver + 4345478\n",
      "18  chromedriver                        0x0000000100fd4f6e chromedriver + 4431726\n",
      "19  libsystem_pthread.dylib             0x00007ff801661514 _pthread_start + 125\n",
      "20  libsystem_pthread.dylib             0x00007ff80165d02f thread_start + 15\n",
      "\n"
     ]
    },
    {
     "name": "stderr",
     "output_type": "stream",
     "text": [
      " 43%|████▎     | 1540/3600 [15:20:14<26:17:06, 45.94s/it]"
     ]
    },
    {
     "name": "stdout",
     "output_type": "stream",
     "text": [
      "Errors total:  41\n"
     ]
    },
    {
     "name": "stderr",
     "output_type": "stream",
     "text": [
      " 43%|████▎     | 1550/3600 [15:25:39<18:27:25, 32.41s/it]"
     ]
    },
    {
     "name": "stdout",
     "output_type": "stream",
     "text": [
      "Errors total:  41\n"
     ]
    },
    {
     "name": "stderr",
     "output_type": "stream",
     "text": [
      " 43%|████▎     | 1560/3600 [15:31:01<17:53:14, 31.57s/it]"
     ]
    },
    {
     "name": "stdout",
     "output_type": "stream",
     "text": [
      "Errors total:  41\n"
     ]
    },
    {
     "name": "stderr",
     "output_type": "stream",
     "text": [
      " 44%|████▎     | 1570/3600 [15:36:21<17:49:32, 31.61s/it]"
     ]
    },
    {
     "name": "stdout",
     "output_type": "stream",
     "text": [
      "Errors total:  41\n"
     ]
    },
    {
     "name": "stderr",
     "output_type": "stream",
     "text": [
      " 44%|████▍     | 1580/3600 [15:41:39<18:01:59, 32.14s/it]"
     ]
    },
    {
     "name": "stdout",
     "output_type": "stream",
     "text": [
      "Errors total:  41\n"
     ]
    },
    {
     "name": "stderr",
     "output_type": "stream",
     "text": [
      " 44%|████▍     | 1590/3600 [15:47:01<17:50:02, 31.94s/it]"
     ]
    },
    {
     "name": "stdout",
     "output_type": "stream",
     "text": [
      "Errors total:  41\n"
     ]
    },
    {
     "name": "stderr",
     "output_type": "stream",
     "text": [
      " 44%|████▍     | 1597/3600 [15:50:45<17:36:42, 31.65s/it]"
     ]
    },
    {
     "name": "stdout",
     "output_type": "stream",
     "text": [
      "Message: no such element: Unable to locate element: {\"method\":\"xpath\",\"selector\":\"//span[@class=\"_17p6nbba\"]\"}\n",
      "  (Session info: chrome=106.0.5249.119)\n",
      "Stacktrace:\n",
      "0   chromedriver                        0x0000000102e4ec08 chromedriver + 4402184\n",
      "1   chromedriver                        0x0000000102dd61f3 chromedriver + 3908083\n",
      "2   chromedriver                        0x0000000102a83e6a chromedriver + 425578\n",
      "3   chromedriver                        0x0000000102abbc91 chromedriver + 654481\n",
      "4   chromedriver                        0x0000000102abbe91 chromedriver + 654993\n",
      "5   chromedriver                        0x0000000102af3274 chromedriver + 881268\n",
      "6   chromedriver                        0x0000000102ad9dcd chromedriver + 777677\n",
      "7   chromedriver                        0x0000000102af0f79 chromedriver + 872313\n",
      "8   chromedriver                        0x0000000102ad9bd3 chromedriver + 777171\n",
      "9   chromedriver                        0x0000000102aaeced chromedriver + 601325\n",
      "10  chromedriver                        0x0000000102aafe51 chromedriver + 605777\n",
      "11  chromedriver                        0x0000000102e1e73e chromedriver + 4204350\n",
      "12  chromedriver                        0x0000000102e22e07 chromedriver + 4222471\n",
      "13  chromedriver                        0x0000000102e2a0bf chromedriver + 4251839\n",
      "14  chromedriver                        0x0000000102e23b4a chromedriver + 4225866\n",
      "15  chromedriver                        0x0000000102dfc8af chromedriver + 4065455\n",
      "16  chromedriver                        0x0000000102e40d18 chromedriver + 4345112\n",
      "17  chromedriver                        0x0000000102e40e86 chromedriver + 4345478\n",
      "18  chromedriver                        0x0000000102e55f6e chromedriver + 4431726\n",
      "19  libsystem_pthread.dylib             0x00007ff801661514 _pthread_start + 125\n",
      "20  libsystem_pthread.dylib             0x00007ff80165d02f thread_start + 15\n",
      "\n",
      "Message: no such element: Unable to locate element: {\"method\":\"xpath\",\"selector\":\"//span[@class=\"_17p6nbba\"]\"}\n",
      "  (Session info: chrome=106.0.5249.119)\n",
      "Stacktrace:\n",
      "0   chromedriver                        0x0000000104710c08 chromedriver + 4402184\n",
      "1   chromedriver                        0x00000001046981f3 chromedriver + 3908083\n",
      "2   chromedriver                        0x0000000104345e6a chromedriver + 425578\n",
      "3   chromedriver                        0x000000010437dc91 chromedriver + 654481\n",
      "4   chromedriver                        0x000000010437de91 chromedriver + 654993\n",
      "5   chromedriver                        0x00000001043b5274 chromedriver + 881268\n",
      "6   chromedriver                        0x000000010439bdcd chromedriver + 777677\n",
      "7   chromedriver                        0x00000001043b2f79 chromedriver + 872313\n",
      "8   chromedriver                        0x000000010439bbd3 chromedriver + 777171\n",
      "9   chromedriver                        0x0000000104370ced chromedriver + 601325\n",
      "10  chromedriver                        0x0000000104371e51 chromedriver + 605777\n",
      "11  chromedriver                        0x00000001046e073e chromedriver + 4204350\n",
      "12  chromedriver                        0x00000001046e4e07 chromedriver + 4222471\n",
      "13  chromedriver                        0x00000001046ec0bf chromedriver + 4251839\n",
      "14  chromedriver                        0x00000001046e5b4a chromedriver + 4225866\n",
      "15  chromedriver                        0x00000001046be8af chromedriver + 4065455\n",
      "16  chromedriver                        0x0000000104702d18 chromedriver + 4345112\n",
      "17  chromedriver                        0x0000000104702e86 chromedriver + 4345478\n",
      "18  chromedriver                        0x0000000104717f6e chromedriver + 4431726\n",
      "19  libsystem_pthread.dylib             0x00007ff801661514 _pthread_start + 125\n",
      "20  libsystem_pthread.dylib             0x00007ff80165d02f thread_start + 15\n",
      "\n",
      "Message: no such element: Unable to locate element: {\"method\":\"xpath\",\"selector\":\"//span[@class=\"_17p6nbba\"]\"}\n",
      "  (Session info: chrome=106.0.5249.119)\n",
      "Stacktrace:\n",
      "0   chromedriver                        0x000000010075ec08 chromedriver + 4402184\n",
      "1   chromedriver                        0x00000001006e61f3 chromedriver + 3908083\n",
      "2   chromedriver                        0x0000000100393e6a chromedriver + 425578\n",
      "3   chromedriver                        0x00000001003cbc91 chromedriver + 654481\n",
      "4   chromedriver                        0x00000001003cbe91 chromedriver + 654993\n",
      "5   chromedriver                        0x0000000100403274 chromedriver + 881268\n",
      "6   chromedriver                        0x00000001003e9dcd chromedriver + 777677\n",
      "7   chromedriver                        0x0000000100400f79 chromedriver + 872313\n",
      "8   chromedriver                        0x00000001003e9bd3 chromedriver + 777171\n",
      "9   chromedriver                        0x00000001003beced chromedriver + 601325\n",
      "10  chromedriver                        0x00000001003bfe51 chromedriver + 605777\n",
      "11  chromedriver                        0x000000010072e73e chromedriver + 4204350\n",
      "12  chromedriver                        0x0000000100732e07 chromedriver + 4222471\n",
      "13  chromedriver                        0x000000010073a0bf chromedriver + 4251839\n",
      "14  chromedriver                        0x0000000100733b4a chromedriver + 4225866\n",
      "15  chromedriver                        0x000000010070c8af chromedriver + 4065455\n",
      "16  chromedriver                        0x0000000100750d18 chromedriver + 4345112\n",
      "17  chromedriver                        0x0000000100750e86 chromedriver + 4345478\n",
      "18  chromedriver                        0x0000000100765f6e chromedriver + 4431726\n",
      "19  libsystem_pthread.dylib             0x00007ff801661514 _pthread_start + 125\n",
      "20  libsystem_pthread.dylib             0x00007ff80165d02f thread_start + 15\n",
      "\n",
      "Message: no such element: Unable to locate element: {\"method\":\"xpath\",\"selector\":\"//span[@class=\"_17p6nbba\"]\"}\n",
      "  (Session info: chrome=106.0.5249.119)\n",
      "Stacktrace:\n",
      "0   chromedriver                        0x0000000100ff6c08 chromedriver + 4402184\n",
      "1   chromedriver                        0x0000000100f7e1f3 chromedriver + 3908083\n",
      "2   chromedriver                        0x0000000100c2be6a chromedriver + 425578\n",
      "3   chromedriver                        0x0000000100c63c91 chromedriver + 654481\n",
      "4   chromedriver                        0x0000000100c63e91 chromedriver + 654993\n",
      "5   chromedriver                        0x0000000100c9b274 chromedriver + 881268\n",
      "6   chromedriver                        0x0000000100c81dcd chromedriver + 777677\n",
      "7   chromedriver                        0x0000000100c98f79 chromedriver + 872313\n",
      "8   chromedriver                        0x0000000100c81bd3 chromedriver + 777171\n",
      "9   chromedriver                        0x0000000100c56ced chromedriver + 601325\n",
      "10  chromedriver                        0x0000000100c57e51 chromedriver + 605777\n",
      "11  chromedriver                        0x0000000100fc673e chromedriver + 4204350\n",
      "12  chromedriver                        0x0000000100fcae07 chromedriver + 4222471\n",
      "13  chromedriver                        0x0000000100fd20bf chromedriver + 4251839\n",
      "14  chromedriver                        0x0000000100fcbb4a chromedriver + 4225866\n",
      "15  chromedriver                        0x0000000100fa48af chromedriver + 4065455\n",
      "16  chromedriver                        0x0000000100fe8d18 chromedriver + 4345112\n",
      "17  chromedriver                        0x0000000100fe8e86 chromedriver + 4345478\n",
      "18  chromedriver                        0x0000000100ffdf6e chromedriver + 4431726\n",
      "19  libsystem_pthread.dylib             0x00007ff801661514 _pthread_start + 125\n",
      "20  libsystem_pthread.dylib             0x00007ff80165d02f thread_start + 15\n",
      "\n"
     ]
    },
    {
     "name": "stderr",
     "output_type": "stream",
     "text": [
      " 44%|████▍     | 1598/3600 [15:53:24<38:49:40, 69.82s/it]"
     ]
    },
    {
     "name": "stdout",
     "output_type": "stream",
     "text": [
      "Message: no such element: Unable to locate element: {\"method\":\"xpath\",\"selector\":\"//span[@class=\"_17p6nbba\"]\"}\n",
      "  (Session info: chrome=106.0.5249.119)\n",
      "Stacktrace:\n",
      "0   chromedriver                        0x0000000102d36c08 chromedriver + 4402184\n",
      "1   chromedriver                        0x0000000102cbe1f3 chromedriver + 3908083\n",
      "2   chromedriver                        0x000000010296be6a chromedriver + 425578\n",
      "3   chromedriver                        0x00000001029a3c91 chromedriver + 654481\n",
      "4   chromedriver                        0x00000001029a3e91 chromedriver + 654993\n",
      "5   chromedriver                        0x00000001029db274 chromedriver + 881268\n",
      "6   chromedriver                        0x00000001029c1dcd chromedriver + 777677\n",
      "7   chromedriver                        0x00000001029d8f79 chromedriver + 872313\n",
      "8   chromedriver                        0x00000001029c1bd3 chromedriver + 777171\n",
      "9   chromedriver                        0x0000000102996ced chromedriver + 601325\n",
      "10  chromedriver                        0x0000000102997e51 chromedriver + 605777\n",
      "11  chromedriver                        0x0000000102d0673e chromedriver + 4204350\n",
      "12  chromedriver                        0x0000000102d0ae07 chromedriver + 4222471\n",
      "13  chromedriver                        0x0000000102d120bf chromedriver + 4251839\n",
      "14  chromedriver                        0x0000000102d0bb4a chromedriver + 4225866\n",
      "15  chromedriver                        0x0000000102ce48af chromedriver + 4065455\n",
      "16  chromedriver                        0x0000000102d28d18 chromedriver + 4345112\n",
      "17  chromedriver                        0x0000000102d28e86 chromedriver + 4345478\n",
      "18  chromedriver                        0x0000000102d3df6e chromedriver + 4431726\n",
      "19  libsystem_pthread.dylib             0x00007ff801661514 _pthread_start + 125\n",
      "20  libsystem_pthread.dylib             0x00007ff80165d02f thread_start + 15\n",
      "\n"
     ]
    },
    {
     "name": "stderr",
     "output_type": "stream",
     "text": [
      " 44%|████▍     | 1600/3600 [15:54:27<27:49:33, 50.09s/it]"
     ]
    },
    {
     "name": "stdout",
     "output_type": "stream",
     "text": [
      "Errors total:  42\n"
     ]
    },
    {
     "name": "stderr",
     "output_type": "stream",
     "text": [
      " 45%|████▍     | 1610/3600 [15:59:49<18:12:17, 32.93s/it]"
     ]
    },
    {
     "name": "stdout",
     "output_type": "stream",
     "text": [
      "Errors total:  42\n"
     ]
    },
    {
     "name": "stderr",
     "output_type": "stream",
     "text": [
      " 45%|████▌     | 1620/3600 [16:05:14<17:41:40, 32.17s/it]"
     ]
    },
    {
     "name": "stdout",
     "output_type": "stream",
     "text": [
      "Errors total:  42\n"
     ]
    },
    {
     "name": "stderr",
     "output_type": "stream",
     "text": [
      " 45%|████▌     | 1630/3600 [16:10:35<17:35:31, 32.15s/it]"
     ]
    },
    {
     "name": "stdout",
     "output_type": "stream",
     "text": [
      "Errors total:  42\n"
     ]
    },
    {
     "name": "stderr",
     "output_type": "stream",
     "text": [
      " 46%|████▌     | 1640/3600 [16:16:02<18:13:11, 33.47s/it]"
     ]
    },
    {
     "name": "stdout",
     "output_type": "stream",
     "text": [
      "Errors total:  42\n",
      "Message: unknown error: Chrome failed to start: crashed.\n",
      "  (chrome not reachable)\n",
      "  (The process started from chrome location /Applications/Google Chrome.app/Contents/MacOS/Google Chrome is no longer running, so ChromeDriver is assuming that Chrome has crashed.)\n",
      "Stacktrace:\n",
      "0   chromedriver                        0x000000010327cc08 chromedriver + 4402184\n",
      "1   chromedriver                        0x00000001032041f3 chromedriver + 3908083\n",
      "2   chromedriver                        0x0000000102eb1e6a chromedriver + 425578\n",
      "3   chromedriver                        0x0000000102ed6fc6 chromedriver + 577478\n",
      "4   chromedriver                        0x0000000102ed23be chromedriver + 558014\n",
      "5   chromedriver                        0x0000000102f0f8fa chromedriver + 809210\n",
      "6   chromedriver                        0x0000000102f0f2bf chromedriver + 807615\n",
      "7   chromedriver                        0x0000000102f07bd3 chromedriver + 777171\n",
      "8   chromedriver                        0x0000000102edcced chromedriver + 601325\n",
      "9   chromedriver                        0x0000000102edde51 chromedriver + 605777\n",
      "10  chromedriver                        0x000000010324c73e chromedriver + 4204350\n",
      "11  chromedriver                        0x0000000103250e07 chromedriver + 4222471\n",
      "12  chromedriver                        0x00000001032580bf chromedriver + 4251839\n",
      "13  chromedriver                        0x0000000103251b4a chromedriver + 4225866\n",
      "14  chromedriver                        0x000000010322a8af chromedriver + 4065455\n",
      "15  chromedriver                        0x000000010326ed18 chromedriver + 4345112\n",
      "16  chromedriver                        0x000000010326ee86 chromedriver + 4345478\n",
      "17  chromedriver                        0x0000000103283f6e chromedriver + 4431726\n",
      "18  libsystem_pthread.dylib             0x00007ff801661514 _pthread_start + 125\n",
      "19  libsystem_pthread.dylib             0x00007ff80165d02f thread_start + 15\n",
      "\n"
     ]
    },
    {
     "name": "stderr",
     "output_type": "stream",
     "text": [
      " 46%|████▌     | 1650/3600 [16:21:30<17:56:35, 33.13s/it]"
     ]
    },
    {
     "name": "stdout",
     "output_type": "stream",
     "text": [
      "Errors total:  42\n"
     ]
    },
    {
     "name": "stderr",
     "output_type": "stream",
     "text": [
      " 46%|████▌     | 1660/3600 [16:26:47<17:08:17, 31.80s/it]"
     ]
    },
    {
     "name": "stdout",
     "output_type": "stream",
     "text": [
      "Errors total:  42\n"
     ]
    },
    {
     "name": "stderr",
     "output_type": "stream",
     "text": [
      " 46%|████▋     | 1670/3600 [16:32:16<17:38:07, 32.89s/it]"
     ]
    },
    {
     "name": "stdout",
     "output_type": "stream",
     "text": [
      "Errors total:  42\n"
     ]
    },
    {
     "name": "stderr",
     "output_type": "stream",
     "text": [
      " 47%|████▋     | 1680/3600 [16:37:37<16:38:30, 31.20s/it]"
     ]
    },
    {
     "name": "stdout",
     "output_type": "stream",
     "text": [
      "Errors total:  42\n"
     ]
    },
    {
     "name": "stderr",
     "output_type": "stream",
     "text": [
      " 47%|████▋     | 1682/3600 [16:38:38<16:27:14, 30.88s/it]"
     ]
    },
    {
     "name": "stdout",
     "output_type": "stream",
     "text": [
      "Message: no such element: Unable to locate element: {\"method\":\"xpath\",\"selector\":\"//div[@data-section-id=\"TITLE_DEFAULT\"]/section/div/span/h1\"}\n",
      "  (Session info: chrome=106.0.5249.119)\n",
      "Stacktrace:\n",
      "0   chromedriver                        0x0000000102f6dc08 chromedriver + 4402184\n",
      "1   chromedriver                        0x0000000102ef51f3 chromedriver + 3908083\n",
      "2   chromedriver                        0x0000000102ba2e6a chromedriver + 425578\n",
      "3   chromedriver                        0x0000000102bdac91 chromedriver + 654481\n",
      "4   chromedriver                        0x0000000102bdae91 chromedriver + 654993\n",
      "5   chromedriver                        0x0000000102c12274 chromedriver + 881268\n",
      "6   chromedriver                        0x0000000102bf8dcd chromedriver + 777677\n",
      "7   chromedriver                        0x0000000102c0ff79 chromedriver + 872313\n",
      "8   chromedriver                        0x0000000102bf8bd3 chromedriver + 777171\n",
      "9   chromedriver                        0x0000000102bcdced chromedriver + 601325\n",
      "10  chromedriver                        0x0000000102bcee51 chromedriver + 605777\n",
      "11  chromedriver                        0x0000000102f3d73e chromedriver + 4204350\n",
      "12  chromedriver                        0x0000000102f41e07 chromedriver + 4222471\n",
      "13  chromedriver                        0x0000000102f490bf chromedriver + 4251839\n",
      "14  chromedriver                        0x0000000102f42b4a chromedriver + 4225866\n",
      "15  chromedriver                        0x0000000102f1b8af chromedriver + 4065455\n",
      "16  chromedriver                        0x0000000102f5fd18 chromedriver + 4345112\n",
      "17  chromedriver                        0x0000000102f5fe86 chromedriver + 4345478\n",
      "18  chromedriver                        0x0000000102f74f6e chromedriver + 4431726\n",
      "19  libsystem_pthread.dylib             0x00007ff801661514 _pthread_start + 125\n",
      "20  libsystem_pthread.dylib             0x00007ff80165d02f thread_start + 15\n",
      "\n",
      "Message: no such element: Unable to locate element: {\"method\":\"xpath\",\"selector\":\"//div[@data-section-id=\"TITLE_DEFAULT\"]/section/div/span/h1\"}\n",
      "  (Session info: chrome=106.0.5249.119)\n",
      "Stacktrace:\n",
      "0   chromedriver                        0x0000000100f70c08 chromedriver + 4402184\n",
      "1   chromedriver                        0x0000000100ef81f3 chromedriver + 3908083\n",
      "2   chromedriver                        0x0000000100ba5e6a chromedriver + 425578\n",
      "3   chromedriver                        0x0000000100bddc91 chromedriver + 654481\n",
      "4   chromedriver                        0x0000000100bdde91 chromedriver + 654993\n",
      "5   chromedriver                        0x0000000100c15274 chromedriver + 881268\n",
      "6   chromedriver                        0x0000000100bfbdcd chromedriver + 777677\n",
      "7   chromedriver                        0x0000000100c12f79 chromedriver + 872313\n",
      "8   chromedriver                        0x0000000100bfbbd3 chromedriver + 777171\n",
      "9   chromedriver                        0x0000000100bd0ced chromedriver + 601325\n",
      "10  chromedriver                        0x0000000100bd1e51 chromedriver + 605777\n",
      "11  chromedriver                        0x0000000100f4073e chromedriver + 4204350\n",
      "12  chromedriver                        0x0000000100f44e07 chromedriver + 4222471\n",
      "13  chromedriver                        0x0000000100f4c0bf chromedriver + 4251839\n",
      "14  chromedriver                        0x0000000100f45b4a chromedriver + 4225866\n",
      "15  chromedriver                        0x0000000100f1e8af chromedriver + 4065455\n",
      "16  chromedriver                        0x0000000100f62d18 chromedriver + 4345112\n",
      "17  chromedriver                        0x0000000100f62e86 chromedriver + 4345478\n",
      "18  chromedriver                        0x0000000100f77f6e chromedriver + 4431726\n",
      "19  libsystem_pthread.dylib             0x00007ff801661514 _pthread_start + 125\n",
      "20  libsystem_pthread.dylib             0x00007ff80165d02f thread_start + 15\n",
      "\n",
      "Message: no such element: Unable to locate element: {\"method\":\"xpath\",\"selector\":\"//div[@data-section-id=\"TITLE_DEFAULT\"]/section/div/span/h1\"}\n",
      "  (Session info: chrome=106.0.5249.119)\n",
      "Stacktrace:\n",
      "0   chromedriver                        0x000000010245cc08 chromedriver + 4402184\n",
      "1   chromedriver                        0x00000001023e41f3 chromedriver + 3908083\n",
      "2   chromedriver                        0x0000000102091e6a chromedriver + 425578\n",
      "3   chromedriver                        0x00000001020c9c91 chromedriver + 654481\n",
      "4   chromedriver                        0x00000001020c9e91 chromedriver + 654993\n",
      "5   chromedriver                        0x0000000102101274 chromedriver + 881268\n",
      "6   chromedriver                        0x00000001020e7dcd chromedriver + 777677\n",
      "7   chromedriver                        0x00000001020fef79 chromedriver + 872313\n",
      "8   chromedriver                        0x00000001020e7bd3 chromedriver + 777171\n",
      "9   chromedriver                        0x00000001020bcced chromedriver + 601325\n",
      "10  chromedriver                        0x00000001020bde51 chromedriver + 605777\n",
      "11  chromedriver                        0x000000010242c73e chromedriver + 4204350\n",
      "12  chromedriver                        0x0000000102430e07 chromedriver + 4222471\n",
      "13  chromedriver                        0x00000001024380bf chromedriver + 4251839\n",
      "14  chromedriver                        0x0000000102431b4a chromedriver + 4225866\n",
      "15  chromedriver                        0x000000010240a8af chromedriver + 4065455\n",
      "16  chromedriver                        0x000000010244ed18 chromedriver + 4345112\n",
      "17  chromedriver                        0x000000010244ee86 chromedriver + 4345478\n",
      "18  chromedriver                        0x0000000102463f6e chromedriver + 4431726\n",
      "19  libsystem_pthread.dylib             0x00007ff801661514 _pthread_start + 125\n",
      "20  libsystem_pthread.dylib             0x00007ff80165d02f thread_start + 15\n",
      "\n",
      "Message: no such element: Unable to locate element: {\"method\":\"xpath\",\"selector\":\"//div[@data-section-id=\"TITLE_DEFAULT\"]/section/div/span/h1\"}\n",
      "  (Session info: chrome=106.0.5249.119)\n",
      "Stacktrace:\n",
      "0   chromedriver                        0x0000000102ca5c08 chromedriver + 4402184\n",
      "1   chromedriver                        0x0000000102c2d1f3 chromedriver + 3908083\n",
      "2   chromedriver                        0x00000001028dae6a chromedriver + 425578\n",
      "3   chromedriver                        0x0000000102912c91 chromedriver + 654481\n",
      "4   chromedriver                        0x0000000102912e91 chromedriver + 654993\n",
      "5   chromedriver                        0x000000010294a274 chromedriver + 881268\n",
      "6   chromedriver                        0x0000000102930dcd chromedriver + 777677\n",
      "7   chromedriver                        0x0000000102947f79 chromedriver + 872313\n",
      "8   chromedriver                        0x0000000102930bd3 chromedriver + 777171\n",
      "9   chromedriver                        0x0000000102905ced chromedriver + 601325\n",
      "10  chromedriver                        0x0000000102906e51 chromedriver + 605777\n",
      "11  chromedriver                        0x0000000102c7573e chromedriver + 4204350\n",
      "12  chromedriver                        0x0000000102c79e07 chromedriver + 4222471\n",
      "13  chromedriver                        0x0000000102c810bf chromedriver + 4251839\n",
      "14  chromedriver                        0x0000000102c7ab4a chromedriver + 4225866\n",
      "15  chromedriver                        0x0000000102c538af chromedriver + 4065455\n",
      "16  chromedriver                        0x0000000102c97d18 chromedriver + 4345112\n",
      "17  chromedriver                        0x0000000102c97e86 chromedriver + 4345478\n",
      "18  chromedriver                        0x0000000102cacf6e chromedriver + 4431726\n",
      "19  libsystem_pthread.dylib             0x00007ff801661514 _pthread_start + 125\n",
      "20  libsystem_pthread.dylib             0x00007ff80165d02f thread_start + 15\n",
      "\n"
     ]
    },
    {
     "name": "stderr",
     "output_type": "stream",
     "text": [
      " 47%|████▋     | 1683/3600 [16:41:13<36:16:01, 68.11s/it]"
     ]
    },
    {
     "name": "stdout",
     "output_type": "stream",
     "text": [
      "Message: no such element: Unable to locate element: {\"method\":\"xpath\",\"selector\":\"//div[@data-section-id=\"TITLE_DEFAULT\"]/section/div/span/h1\"}\n",
      "  (Session info: chrome=106.0.5249.119)\n",
      "Stacktrace:\n",
      "0   chromedriver                        0x0000000104d26c08 chromedriver + 4402184\n",
      "1   chromedriver                        0x0000000104cae1f3 chromedriver + 3908083\n",
      "2   chromedriver                        0x000000010495be6a chromedriver + 425578\n",
      "3   chromedriver                        0x0000000104993c91 chromedriver + 654481\n",
      "4   chromedriver                        0x0000000104993e91 chromedriver + 654993\n",
      "5   chromedriver                        0x00000001049cb274 chromedriver + 881268\n",
      "6   chromedriver                        0x00000001049b1dcd chromedriver + 777677\n",
      "7   chromedriver                        0x00000001049c8f79 chromedriver + 872313\n",
      "8   chromedriver                        0x00000001049b1bd3 chromedriver + 777171\n",
      "9   chromedriver                        0x0000000104986ced chromedriver + 601325\n",
      "10  chromedriver                        0x0000000104987e51 chromedriver + 605777\n",
      "11  chromedriver                        0x0000000104cf673e chromedriver + 4204350\n",
      "12  chromedriver                        0x0000000104cfae07 chromedriver + 4222471\n",
      "13  chromedriver                        0x0000000104d020bf chromedriver + 4251839\n",
      "14  chromedriver                        0x0000000104cfbb4a chromedriver + 4225866\n",
      "15  chromedriver                        0x0000000104cd48af chromedriver + 4065455\n",
      "16  chromedriver                        0x0000000104d18d18 chromedriver + 4345112\n",
      "17  chromedriver                        0x0000000104d18e86 chromedriver + 4345478\n",
      "18  chromedriver                        0x0000000104d2df6e chromedriver + 4431726\n",
      "19  libsystem_pthread.dylib             0x00007ff801661514 _pthread_start + 125\n",
      "20  libsystem_pthread.dylib             0x00007ff80165d02f thread_start + 15\n",
      "\n"
     ]
    },
    {
     "name": "stderr",
     "output_type": "stream",
     "text": [
      " 47%|████▋     | 1690/3600 [16:44:54<18:20:51, 34.58s/it]"
     ]
    },
    {
     "name": "stdout",
     "output_type": "stream",
     "text": [
      "Errors total:  43\n"
     ]
    },
    {
     "name": "stderr",
     "output_type": "stream",
     "text": [
      " 47%|████▋     | 1696/3600 [16:48:07<17:06:39, 32.35s/it]"
     ]
    },
    {
     "name": "stdout",
     "output_type": "stream",
     "text": [
      "Message: no such element: Unable to locate element: {\"method\":\"xpath\",\"selector\":\"//span[@class=\"_17p6nbba\"]\"}\n",
      "  (Session info: chrome=106.0.5249.119)\n",
      "Stacktrace:\n",
      "0   chromedriver                        0x0000000102824c08 chromedriver + 4402184\n",
      "1   chromedriver                        0x00000001027ac1f3 chromedriver + 3908083\n",
      "2   chromedriver                        0x0000000102459e6a chromedriver + 425578\n",
      "3   chromedriver                        0x0000000102491c91 chromedriver + 654481\n",
      "4   chromedriver                        0x0000000102491e91 chromedriver + 654993\n",
      "5   chromedriver                        0x00000001024c9274 chromedriver + 881268\n",
      "6   chromedriver                        0x00000001024afdcd chromedriver + 777677\n",
      "7   chromedriver                        0x00000001024c6f79 chromedriver + 872313\n",
      "8   chromedriver                        0x00000001024afbd3 chromedriver + 777171\n",
      "9   chromedriver                        0x0000000102484ced chromedriver + 601325\n",
      "10  chromedriver                        0x0000000102485e51 chromedriver + 605777\n",
      "11  chromedriver                        0x00000001027f473e chromedriver + 4204350\n",
      "12  chromedriver                        0x00000001027f8e07 chromedriver + 4222471\n",
      "13  chromedriver                        0x00000001028000bf chromedriver + 4251839\n",
      "14  chromedriver                        0x00000001027f9b4a chromedriver + 4225866\n",
      "15  chromedriver                        0x00000001027d28af chromedriver + 4065455\n",
      "16  chromedriver                        0x0000000102816d18 chromedriver + 4345112\n",
      "17  chromedriver                        0x0000000102816e86 chromedriver + 4345478\n",
      "18  chromedriver                        0x000000010282bf6e chromedriver + 4431726\n",
      "19  libsystem_pthread.dylib             0x00007ff801661514 _pthread_start + 125\n",
      "20  libsystem_pthread.dylib             0x00007ff80165d02f thread_start + 15\n",
      "\n",
      "Message: no such element: Unable to locate element: {\"method\":\"xpath\",\"selector\":\"//span[@class=\"_17p6nbba\"]\"}\n",
      "  (Session info: chrome=106.0.5249.119)\n",
      "Stacktrace:\n",
      "0   chromedriver                        0x0000000102c06c08 chromedriver + 4402184\n",
      "1   chromedriver                        0x0000000102b8e1f3 chromedriver + 3908083\n",
      "2   chromedriver                        0x000000010283be6a chromedriver + 425578\n",
      "3   chromedriver                        0x0000000102873c91 chromedriver + 654481\n",
      "4   chromedriver                        0x0000000102873e91 chromedriver + 654993\n",
      "5   chromedriver                        0x00000001028ab274 chromedriver + 881268\n",
      "6   chromedriver                        0x0000000102891dcd chromedriver + 777677\n",
      "7   chromedriver                        0x00000001028a8f79 chromedriver + 872313\n",
      "8   chromedriver                        0x0000000102891bd3 chromedriver + 777171\n",
      "9   chromedriver                        0x0000000102866ced chromedriver + 601325\n",
      "10  chromedriver                        0x0000000102867e51 chromedriver + 605777\n",
      "11  chromedriver                        0x0000000102bd673e chromedriver + 4204350\n",
      "12  chromedriver                        0x0000000102bdae07 chromedriver + 4222471\n",
      "13  chromedriver                        0x0000000102be20bf chromedriver + 4251839\n",
      "14  chromedriver                        0x0000000102bdbb4a chromedriver + 4225866\n",
      "15  chromedriver                        0x0000000102bb48af chromedriver + 4065455\n",
      "16  chromedriver                        0x0000000102bf8d18 chromedriver + 4345112\n",
      "17  chromedriver                        0x0000000102bf8e86 chromedriver + 4345478\n",
      "18  chromedriver                        0x0000000102c0df6e chromedriver + 4431726\n",
      "19  libsystem_pthread.dylib             0x00007ff801661514 _pthread_start + 125\n",
      "20  libsystem_pthread.dylib             0x00007ff80165d02f thread_start + 15\n",
      "\n",
      "Message: no such element: Unable to locate element: {\"method\":\"xpath\",\"selector\":\"//span[@class=\"_17p6nbba\"]\"}\n",
      "  (Session info: chrome=106.0.5249.119)\n",
      "Stacktrace:\n",
      "0   chromedriver                        0x0000000101277c08 chromedriver + 4402184\n",
      "1   chromedriver                        0x00000001011ff1f3 chromedriver + 3908083\n",
      "2   chromedriver                        0x0000000100eace6a chromedriver + 425578\n",
      "3   chromedriver                        0x0000000100ee4c91 chromedriver + 654481\n",
      "4   chromedriver                        0x0000000100ee4e91 chromedriver + 654993\n",
      "5   chromedriver                        0x0000000100f1c274 chromedriver + 881268\n",
      "6   chromedriver                        0x0000000100f02dcd chromedriver + 777677\n",
      "7   chromedriver                        0x0000000100f19f79 chromedriver + 872313\n",
      "8   chromedriver                        0x0000000100f02bd3 chromedriver + 777171\n",
      "9   chromedriver                        0x0000000100ed7ced chromedriver + 601325\n",
      "10  chromedriver                        0x0000000100ed8e51 chromedriver + 605777\n",
      "11  chromedriver                        0x000000010124773e chromedriver + 4204350\n",
      "12  chromedriver                        0x000000010124be07 chromedriver + 4222471\n",
      "13  chromedriver                        0x00000001012530bf chromedriver + 4251839\n",
      "14  chromedriver                        0x000000010124cb4a chromedriver + 4225866\n",
      "15  chromedriver                        0x00000001012258af chromedriver + 4065455\n",
      "16  chromedriver                        0x0000000101269d18 chromedriver + 4345112\n",
      "17  chromedriver                        0x0000000101269e86 chromedriver + 4345478\n",
      "18  chromedriver                        0x000000010127ef6e chromedriver + 4431726\n",
      "19  libsystem_pthread.dylib             0x00007ff801661514 _pthread_start + 125\n",
      "20  libsystem_pthread.dylib             0x00007ff80165d02f thread_start + 15\n",
      "\n",
      "Message: no such element: Unable to locate element: {\"method\":\"xpath\",\"selector\":\"//span[@class=\"_17p6nbba\"]\"}\n",
      "  (Session info: chrome=106.0.5249.119)\n",
      "Stacktrace:\n",
      "0   chromedriver                        0x00000001027acc08 chromedriver + 4402184\n",
      "1   chromedriver                        0x00000001027341f3 chromedriver + 3908083\n",
      "2   chromedriver                        0x00000001023e1e6a chromedriver + 425578\n",
      "3   chromedriver                        0x0000000102419c91 chromedriver + 654481\n",
      "4   chromedriver                        0x0000000102419e91 chromedriver + 654993\n",
      "5   chromedriver                        0x0000000102451274 chromedriver + 881268\n",
      "6   chromedriver                        0x0000000102437dcd chromedriver + 777677\n",
      "7   chromedriver                        0x000000010244ef79 chromedriver + 872313\n",
      "8   chromedriver                        0x0000000102437bd3 chromedriver + 777171\n",
      "9   chromedriver                        0x000000010240cced chromedriver + 601325\n",
      "10  chromedriver                        0x000000010240de51 chromedriver + 605777\n",
      "11  chromedriver                        0x000000010277c73e chromedriver + 4204350\n",
      "12  chromedriver                        0x0000000102780e07 chromedriver + 4222471\n",
      "13  chromedriver                        0x00000001027880bf chromedriver + 4251839\n",
      "14  chromedriver                        0x0000000102781b4a chromedriver + 4225866\n",
      "15  chromedriver                        0x000000010275a8af chromedriver + 4065455\n",
      "16  chromedriver                        0x000000010279ed18 chromedriver + 4345112\n",
      "17  chromedriver                        0x000000010279ee86 chromedriver + 4345478\n",
      "18  chromedriver                        0x00000001027b3f6e chromedriver + 4431726\n",
      "19  libsystem_pthread.dylib             0x00007ff801661514 _pthread_start + 125\n",
      "20  libsystem_pthread.dylib             0x00007ff80165d02f thread_start + 15\n",
      "\n"
     ]
    },
    {
     "name": "stderr",
     "output_type": "stream",
     "text": [
      " 47%|████▋     | 1697/3600 [16:50:47<37:19:46, 70.62s/it]"
     ]
    },
    {
     "name": "stdout",
     "output_type": "stream",
     "text": [
      "Message: no such element: Unable to locate element: {\"method\":\"xpath\",\"selector\":\"//span[@class=\"_17p6nbba\"]\"}\n",
      "  (Session info: chrome=106.0.5249.119)\n",
      "Stacktrace:\n",
      "0   chromedriver                        0x0000000100610c08 chromedriver + 4402184\n",
      "1   chromedriver                        0x00000001005981f3 chromedriver + 3908083\n",
      "2   chromedriver                        0x0000000100245e6a chromedriver + 425578\n",
      "3   chromedriver                        0x000000010027dc91 chromedriver + 654481\n",
      "4   chromedriver                        0x000000010027de91 chromedriver + 654993\n",
      "5   chromedriver                        0x00000001002b5274 chromedriver + 881268\n",
      "6   chromedriver                        0x000000010029bdcd chromedriver + 777677\n",
      "7   chromedriver                        0x00000001002b2f79 chromedriver + 872313\n",
      "8   chromedriver                        0x000000010029bbd3 chromedriver + 777171\n",
      "9   chromedriver                        0x0000000100270ced chromedriver + 601325\n",
      "10  chromedriver                        0x0000000100271e51 chromedriver + 605777\n",
      "11  chromedriver                        0x00000001005e073e chromedriver + 4204350\n",
      "12  chromedriver                        0x00000001005e4e07 chromedriver + 4222471\n",
      "13  chromedriver                        0x00000001005ec0bf chromedriver + 4251839\n",
      "14  chromedriver                        0x00000001005e5b4a chromedriver + 4225866\n",
      "15  chromedriver                        0x00000001005be8af chromedriver + 4065455\n",
      "16  chromedriver                        0x0000000100602d18 chromedriver + 4345112\n",
      "17  chromedriver                        0x0000000100602e86 chromedriver + 4345478\n",
      "18  chromedriver                        0x0000000100617f6e chromedriver + 4431726\n",
      "19  libsystem_pthread.dylib             0x00007ff801661514 _pthread_start + 125\n",
      "20  libsystem_pthread.dylib             0x00007ff80165d02f thread_start + 15\n",
      "\n"
     ]
    },
    {
     "name": "stderr",
     "output_type": "stream",
     "text": [
      " 47%|████▋     | 1699/3600 [16:51:51<26:54:23, 50.95s/it]"
     ]
    },
    {
     "name": "stdout",
     "output_type": "stream",
     "text": [
      "Message: no such element: Unable to locate element: {\"method\":\"xpath\",\"selector\":\"//div[@data-section-id=\"TITLE_DEFAULT\"]/section/div/span/h1\"}\n",
      "  (Session info: chrome=106.0.5249.119)\n",
      "Stacktrace:\n",
      "0   chromedriver                        0x0000000102fd2c08 chromedriver + 4402184\n",
      "1   chromedriver                        0x0000000102f5a1f3 chromedriver + 3908083\n",
      "2   chromedriver                        0x0000000102c07e6a chromedriver + 425578\n",
      "3   chromedriver                        0x0000000102c3fc91 chromedriver + 654481\n",
      "4   chromedriver                        0x0000000102c3fe91 chromedriver + 654993\n",
      "5   chromedriver                        0x0000000102c77274 chromedriver + 881268\n",
      "6   chromedriver                        0x0000000102c5ddcd chromedriver + 777677\n",
      "7   chromedriver                        0x0000000102c74f79 chromedriver + 872313\n",
      "8   chromedriver                        0x0000000102c5dbd3 chromedriver + 777171\n",
      "9   chromedriver                        0x0000000102c32ced chromedriver + 601325\n",
      "10  chromedriver                        0x0000000102c33e51 chromedriver + 605777\n",
      "11  chromedriver                        0x0000000102fa273e chromedriver + 4204350\n",
      "12  chromedriver                        0x0000000102fa6e07 chromedriver + 4222471\n",
      "13  chromedriver                        0x0000000102fae0bf chromedriver + 4251839\n",
      "14  chromedriver                        0x0000000102fa7b4a chromedriver + 4225866\n",
      "15  chromedriver                        0x0000000102f808af chromedriver + 4065455\n",
      "16  chromedriver                        0x0000000102fc4d18 chromedriver + 4345112\n",
      "17  chromedriver                        0x0000000102fc4e86 chromedriver + 4345478\n",
      "18  chromedriver                        0x0000000102fd9f6e chromedriver + 4431726\n",
      "19  libsystem_pthread.dylib             0x00007ff801661514 _pthread_start + 125\n",
      "20  libsystem_pthread.dylib             0x00007ff80165d02f thread_start + 15\n",
      "\n",
      "Message: no such element: Unable to locate element: {\"method\":\"xpath\",\"selector\":\"//div[@data-section-id=\"TITLE_DEFAULT\"]/section/div/span/h1\"}\n",
      "  (Session info: chrome=106.0.5249.119)\n",
      "Stacktrace:\n",
      "0   chromedriver                        0x0000000102978c08 chromedriver + 4402184\n",
      "1   chromedriver                        0x00000001029001f3 chromedriver + 3908083\n",
      "2   chromedriver                        0x00000001025ade6a chromedriver + 425578\n",
      "3   chromedriver                        0x00000001025e5c91 chromedriver + 654481\n",
      "4   chromedriver                        0x00000001025e5e91 chromedriver + 654993\n",
      "5   chromedriver                        0x000000010261d274 chromedriver + 881268\n",
      "6   chromedriver                        0x0000000102603dcd chromedriver + 777677\n",
      "7   chromedriver                        0x000000010261af79 chromedriver + 872313\n",
      "8   chromedriver                        0x0000000102603bd3 chromedriver + 777171\n",
      "9   chromedriver                        0x00000001025d8ced chromedriver + 601325\n",
      "10  chromedriver                        0x00000001025d9e51 chromedriver + 605777\n",
      "11  chromedriver                        0x000000010294873e chromedriver + 4204350\n",
      "12  chromedriver                        0x000000010294ce07 chromedriver + 4222471\n",
      "13  chromedriver                        0x00000001029540bf chromedriver + 4251839\n",
      "14  chromedriver                        0x000000010294db4a chromedriver + 4225866\n",
      "15  chromedriver                        0x00000001029268af chromedriver + 4065455\n",
      "16  chromedriver                        0x000000010296ad18 chromedriver + 4345112\n",
      "17  chromedriver                        0x000000010296ae86 chromedriver + 4345478\n",
      "18  chromedriver                        0x000000010297ff6e chromedriver + 4431726\n",
      "19  libsystem_pthread.dylib             0x00007ff801661514 _pthread_start + 125\n",
      "20  libsystem_pthread.dylib             0x00007ff80165d02f thread_start + 15\n",
      "\n",
      "Message: no such element: Unable to locate element: {\"method\":\"xpath\",\"selector\":\"//div[@data-section-id=\"TITLE_DEFAULT\"]/section/div/span/h1\"}\n",
      "  (Session info: chrome=106.0.5249.119)\n",
      "Stacktrace:\n",
      "0   chromedriver                        0x0000000100901c08 chromedriver + 4402184\n",
      "1   chromedriver                        0x00000001008891f3 chromedriver + 3908083\n",
      "2   chromedriver                        0x0000000100536e6a chromedriver + 425578\n",
      "3   chromedriver                        0x000000010056ec91 chromedriver + 654481\n",
      "4   chromedriver                        0x000000010056ee91 chromedriver + 654993\n",
      "5   chromedriver                        0x00000001005a6274 chromedriver + 881268\n",
      "6   chromedriver                        0x000000010058cdcd chromedriver + 777677\n",
      "7   chromedriver                        0x00000001005a3f79 chromedriver + 872313\n",
      "8   chromedriver                        0x000000010058cbd3 chromedriver + 777171\n",
      "9   chromedriver                        0x0000000100561ced chromedriver + 601325\n",
      "10  chromedriver                        0x0000000100562e51 chromedriver + 605777\n",
      "11  chromedriver                        0x00000001008d173e chromedriver + 4204350\n",
      "12  chromedriver                        0x00000001008d5e07 chromedriver + 4222471\n",
      "13  chromedriver                        0x00000001008dd0bf chromedriver + 4251839\n",
      "14  chromedriver                        0x00000001008d6b4a chromedriver + 4225866\n",
      "15  chromedriver                        0x00000001008af8af chromedriver + 4065455\n",
      "16  chromedriver                        0x00000001008f3d18 chromedriver + 4345112\n",
      "17  chromedriver                        0x00000001008f3e86 chromedriver + 4345478\n",
      "18  chromedriver                        0x0000000100908f6e chromedriver + 4431726\n",
      "19  libsystem_pthread.dylib             0x00007ff801661514 _pthread_start + 125\n",
      "20  libsystem_pthread.dylib             0x00007ff80165d02f thread_start + 15\n",
      "\n",
      "Message: no such element: Unable to locate element: {\"method\":\"xpath\",\"selector\":\"//div[@data-section-id=\"TITLE_DEFAULT\"]/section/div/span/h1\"}\n",
      "  (Session info: chrome=106.0.5249.119)\n",
      "Stacktrace:\n",
      "0   chromedriver                        0x0000000100f3cc08 chromedriver + 4402184\n",
      "1   chromedriver                        0x0000000100ec41f3 chromedriver + 3908083\n",
      "2   chromedriver                        0x0000000100b71e6a chromedriver + 425578\n",
      "3   chromedriver                        0x0000000100ba9c91 chromedriver + 654481\n",
      "4   chromedriver                        0x0000000100ba9e91 chromedriver + 654993\n",
      "5   chromedriver                        0x0000000100be1274 chromedriver + 881268\n",
      "6   chromedriver                        0x0000000100bc7dcd chromedriver + 777677\n",
      "7   chromedriver                        0x0000000100bdef79 chromedriver + 872313\n",
      "8   chromedriver                        0x0000000100bc7bd3 chromedriver + 777171\n",
      "9   chromedriver                        0x0000000100b9cced chromedriver + 601325\n",
      "10  chromedriver                        0x0000000100b9de51 chromedriver + 605777\n",
      "11  chromedriver                        0x0000000100f0c73e chromedriver + 4204350\n",
      "12  chromedriver                        0x0000000100f10e07 chromedriver + 4222471\n",
      "13  chromedriver                        0x0000000100f180bf chromedriver + 4251839\n",
      "14  chromedriver                        0x0000000100f11b4a chromedriver + 4225866\n",
      "15  chromedriver                        0x0000000100eea8af chromedriver + 4065455\n",
      "16  chromedriver                        0x0000000100f2ed18 chromedriver + 4345112\n",
      "17  chromedriver                        0x0000000100f2ee86 chromedriver + 4345478\n",
      "18  chromedriver                        0x0000000100f43f6e chromedriver + 4431726\n",
      "19  libsystem_pthread.dylib             0x00007ff801661514 _pthread_start + 125\n",
      "20  libsystem_pthread.dylib             0x00007ff80165d02f thread_start + 15\n",
      "\n"
     ]
    },
    {
     "name": "stderr",
     "output_type": "stream",
     "text": [
      " 47%|████▋     | 1700/3600 [16:53:59<39:08:00, 74.15s/it]"
     ]
    },
    {
     "name": "stdout",
     "output_type": "stream",
     "text": [
      "Message: unknown error: Chrome failed to start: crashed.\n",
      "  (chrome not reachable)\n",
      "  (The process started from chrome location /Applications/Google Chrome.app/Contents/MacOS/Google Chrome is no longer running, so ChromeDriver is assuming that Chrome has crashed.)\n",
      "Stacktrace:\n",
      "0   chromedriver                        0x0000000102d02c08 chromedriver + 4402184\n",
      "1   chromedriver                        0x0000000102c8a1f3 chromedriver + 3908083\n",
      "2   chromedriver                        0x0000000102937e6a chromedriver + 425578\n",
      "3   chromedriver                        0x000000010295cfc6 chromedriver + 577478\n",
      "4   chromedriver                        0x00000001029583be chromedriver + 558014\n",
      "5   chromedriver                        0x00000001029958fa chromedriver + 809210\n",
      "6   chromedriver                        0x00000001029952bf chromedriver + 807615\n",
      "7   chromedriver                        0x000000010298dbd3 chromedriver + 777171\n",
      "8   chromedriver                        0x0000000102962ced chromedriver + 601325\n",
      "9   chromedriver                        0x0000000102963e51 chromedriver + 605777\n",
      "10  chromedriver                        0x0000000102cd273e chromedriver + 4204350\n",
      "11  chromedriver                        0x0000000102cd6e07 chromedriver + 4222471\n",
      "12  chromedriver                        0x0000000102cde0bf chromedriver + 4251839\n",
      "13  chromedriver                        0x0000000102cd7b4a chromedriver + 4225866\n",
      "14  chromedriver                        0x0000000102cb08af chromedriver + 4065455\n",
      "15  chromedriver                        0x0000000102cf4d18 chromedriver + 4345112\n",
      "16  chromedriver                        0x0000000102cf4e86 chromedriver + 4345478\n",
      "17  chromedriver                        0x0000000102d09f6e chromedriver + 4431726\n",
      "18  libsystem_pthread.dylib             0x00007ff801661514 _pthread_start + 125\n",
      "19  libsystem_pthread.dylib             0x00007ff80165d02f thread_start + 15\n",
      "\n",
      "Errors total:  45\n"
     ]
    },
    {
     "name": "stderr",
     "output_type": "stream",
     "text": [
      " 48%|████▊     | 1710/3600 [16:59:17<17:25:26, 33.19s/it]"
     ]
    },
    {
     "name": "stdout",
     "output_type": "stream",
     "text": [
      "Errors total:  45\n"
     ]
    },
    {
     "name": "stderr",
     "output_type": "stream",
     "text": [
      " 48%|████▊     | 1720/3600 [17:04:40<16:59:10, 32.53s/it]"
     ]
    },
    {
     "name": "stdout",
     "output_type": "stream",
     "text": [
      "Errors total:  45\n"
     ]
    },
    {
     "name": "stderr",
     "output_type": "stream",
     "text": [
      " 48%|████▊     | 1723/3600 [17:06:12<16:26:52, 31.55s/it]"
     ]
    },
    {
     "name": "stdout",
     "output_type": "stream",
     "text": [
      "Message: no such element: Unable to locate element: {\"method\":\"xpath\",\"selector\":\"//span[@class=\"_17p6nbba\"]\"}\n",
      "  (Session info: chrome=106.0.5249.119)\n",
      "Stacktrace:\n",
      "0   chromedriver                        0x0000000104adbc08 chromedriver + 4402184\n",
      "1   chromedriver                        0x0000000104a631f3 chromedriver + 3908083\n",
      "2   chromedriver                        0x0000000104710e6a chromedriver + 425578\n",
      "3   chromedriver                        0x0000000104748c91 chromedriver + 654481\n",
      "4   chromedriver                        0x0000000104748e91 chromedriver + 654993\n",
      "5   chromedriver                        0x0000000104780274 chromedriver + 881268\n",
      "6   chromedriver                        0x0000000104766dcd chromedriver + 777677\n",
      "7   chromedriver                        0x000000010477df79 chromedriver + 872313\n",
      "8   chromedriver                        0x0000000104766bd3 chromedriver + 777171\n",
      "9   chromedriver                        0x000000010473bced chromedriver + 601325\n",
      "10  chromedriver                        0x000000010473ce51 chromedriver + 605777\n",
      "11  chromedriver                        0x0000000104aab73e chromedriver + 4204350\n",
      "12  chromedriver                        0x0000000104aafe07 chromedriver + 4222471\n",
      "13  chromedriver                        0x0000000104ab70bf chromedriver + 4251839\n",
      "14  chromedriver                        0x0000000104ab0b4a chromedriver + 4225866\n",
      "15  chromedriver                        0x0000000104a898af chromedriver + 4065455\n",
      "16  chromedriver                        0x0000000104acdd18 chromedriver + 4345112\n",
      "17  chromedriver                        0x0000000104acde86 chromedriver + 4345478\n",
      "18  chromedriver                        0x0000000104ae2f6e chromedriver + 4431726\n",
      "19  libsystem_pthread.dylib             0x00007ff801661514 _pthread_start + 125\n",
      "20  libsystem_pthread.dylib             0x00007ff80165d02f thread_start + 15\n",
      "\n",
      "Message: no such element: Unable to locate element: {\"method\":\"xpath\",\"selector\":\"//span[@class=\"_17p6nbba\"]\"}\n",
      "  (Session info: chrome=106.0.5249.119)\n",
      "Stacktrace:\n",
      "0   chromedriver                        0x00000001049b2c08 chromedriver + 4402184\n",
      "1   chromedriver                        0x000000010493a1f3 chromedriver + 3908083\n",
      "2   chromedriver                        0x00000001045e7e6a chromedriver + 425578\n",
      "3   chromedriver                        0x000000010461fc91 chromedriver + 654481\n",
      "4   chromedriver                        0x000000010461fe91 chromedriver + 654993\n",
      "5   chromedriver                        0x0000000104657274 chromedriver + 881268\n",
      "6   chromedriver                        0x000000010463ddcd chromedriver + 777677\n",
      "7   chromedriver                        0x0000000104654f79 chromedriver + 872313\n",
      "8   chromedriver                        0x000000010463dbd3 chromedriver + 777171\n",
      "9   chromedriver                        0x0000000104612ced chromedriver + 601325\n",
      "10  chromedriver                        0x0000000104613e51 chromedriver + 605777\n",
      "11  chromedriver                        0x000000010498273e chromedriver + 4204350\n",
      "12  chromedriver                        0x0000000104986e07 chromedriver + 4222471\n",
      "13  chromedriver                        0x000000010498e0bf chromedriver + 4251839\n",
      "14  chromedriver                        0x0000000104987b4a chromedriver + 4225866\n",
      "15  chromedriver                        0x00000001049608af chromedriver + 4065455\n",
      "16  chromedriver                        0x00000001049a4d18 chromedriver + 4345112\n",
      "17  chromedriver                        0x00000001049a4e86 chromedriver + 4345478\n",
      "18  chromedriver                        0x00000001049b9f6e chromedriver + 4431726\n",
      "19  libsystem_pthread.dylib             0x00007ff801661514 _pthread_start + 125\n",
      "20  libsystem_pthread.dylib             0x00007ff80165d02f thread_start + 15\n",
      "\n",
      "Message: no such element: Unable to locate element: {\"method\":\"xpath\",\"selector\":\"//span[@class=\"_17p6nbba\"]\"}\n",
      "  (Session info: chrome=106.0.5249.119)\n",
      "Stacktrace:\n",
      "0   chromedriver                        0x0000000103265c08 chromedriver + 4402184\n",
      "1   chromedriver                        0x00000001031ed1f3 chromedriver + 3908083\n",
      "2   chromedriver                        0x0000000102e9ae6a chromedriver + 425578\n",
      "3   chromedriver                        0x0000000102ed2c91 chromedriver + 654481\n",
      "4   chromedriver                        0x0000000102ed2e91 chromedriver + 654993\n",
      "5   chromedriver                        0x0000000102f0a274 chromedriver + 881268\n",
      "6   chromedriver                        0x0000000102ef0dcd chromedriver + 777677\n",
      "7   chromedriver                        0x0000000102f07f79 chromedriver + 872313\n",
      "8   chromedriver                        0x0000000102ef0bd3 chromedriver + 777171\n",
      "9   chromedriver                        0x0000000102ec5ced chromedriver + 601325\n",
      "10  chromedriver                        0x0000000102ec6e51 chromedriver + 605777\n",
      "11  chromedriver                        0x000000010323573e chromedriver + 4204350\n",
      "12  chromedriver                        0x0000000103239e07 chromedriver + 4222471\n",
      "13  chromedriver                        0x00000001032410bf chromedriver + 4251839\n",
      "14  chromedriver                        0x000000010323ab4a chromedriver + 4225866\n",
      "15  chromedriver                        0x00000001032138af chromedriver + 4065455\n",
      "16  chromedriver                        0x0000000103257d18 chromedriver + 4345112\n",
      "17  chromedriver                        0x0000000103257e86 chromedriver + 4345478\n",
      "18  chromedriver                        0x000000010326cf6e chromedriver + 4431726\n",
      "19  libsystem_pthread.dylib             0x00007ff801661514 _pthread_start + 125\n",
      "20  libsystem_pthread.dylib             0x00007ff80165d02f thread_start + 15\n",
      "\n",
      "Message: no such element: Unable to locate element: {\"method\":\"xpath\",\"selector\":\"//span[@class=\"_17p6nbba\"]\"}\n",
      "  (Session info: chrome=106.0.5249.119)\n",
      "Stacktrace:\n",
      "0   chromedriver                        0x000000010139bc08 chromedriver + 4402184\n",
      "1   chromedriver                        0x00000001013231f3 chromedriver + 3908083\n",
      "2   chromedriver                        0x0000000100fd0e6a chromedriver + 425578\n",
      "3   chromedriver                        0x0000000101008c91 chromedriver + 654481\n",
      "4   chromedriver                        0x0000000101008e91 chromedriver + 654993\n",
      "5   chromedriver                        0x0000000101040274 chromedriver + 881268\n",
      "6   chromedriver                        0x0000000101026dcd chromedriver + 777677\n",
      "7   chromedriver                        0x000000010103df79 chromedriver + 872313\n",
      "8   chromedriver                        0x0000000101026bd3 chromedriver + 777171\n",
      "9   chromedriver                        0x0000000100ffbced chromedriver + 601325\n",
      "10  chromedriver                        0x0000000100ffce51 chromedriver + 605777\n",
      "11  chromedriver                        0x000000010136b73e chromedriver + 4204350\n",
      "12  chromedriver                        0x000000010136fe07 chromedriver + 4222471\n",
      "13  chromedriver                        0x00000001013770bf chromedriver + 4251839\n",
      "14  chromedriver                        0x0000000101370b4a chromedriver + 4225866\n",
      "15  chromedriver                        0x00000001013498af chromedriver + 4065455\n",
      "16  chromedriver                        0x000000010138dd18 chromedriver + 4345112\n",
      "17  chromedriver                        0x000000010138de86 chromedriver + 4345478\n",
      "18  chromedriver                        0x00000001013a2f6e chromedriver + 4431726\n",
      "19  libsystem_pthread.dylib             0x00007ff801661514 _pthread_start + 125\n",
      "20  libsystem_pthread.dylib             0x00007ff80165d02f thread_start + 15\n",
      "\n"
     ]
    },
    {
     "name": "stderr",
     "output_type": "stream",
     "text": [
      " 48%|████▊     | 1724/3600 [17:08:49<36:04:12, 69.22s/it]"
     ]
    },
    {
     "name": "stdout",
     "output_type": "stream",
     "text": [
      "Message: no such element: Unable to locate element: {\"method\":\"xpath\",\"selector\":\"//span[@class=\"_17p6nbba\"]\"}\n",
      "  (Session info: chrome=106.0.5249.119)\n",
      "Stacktrace:\n",
      "0   chromedriver                        0x0000000100ff0c08 chromedriver + 4402184\n",
      "1   chromedriver                        0x0000000100f781f3 chromedriver + 3908083\n",
      "2   chromedriver                        0x0000000100c25e6a chromedriver + 425578\n",
      "3   chromedriver                        0x0000000100c5dc91 chromedriver + 654481\n",
      "4   chromedriver                        0x0000000100c5de91 chromedriver + 654993\n",
      "5   chromedriver                        0x0000000100c95274 chromedriver + 881268\n",
      "6   chromedriver                        0x0000000100c7bdcd chromedriver + 777677\n",
      "7   chromedriver                        0x0000000100c92f79 chromedriver + 872313\n",
      "8   chromedriver                        0x0000000100c7bbd3 chromedriver + 777171\n",
      "9   chromedriver                        0x0000000100c50ced chromedriver + 601325\n",
      "10  chromedriver                        0x0000000100c51e51 chromedriver + 605777\n",
      "11  chromedriver                        0x0000000100fc073e chromedriver + 4204350\n",
      "12  chromedriver                        0x0000000100fc4e07 chromedriver + 4222471\n",
      "13  chromedriver                        0x0000000100fcc0bf chromedriver + 4251839\n",
      "14  chromedriver                        0x0000000100fc5b4a chromedriver + 4225866\n",
      "15  chromedriver                        0x0000000100f9e8af chromedriver + 4065455\n",
      "16  chromedriver                        0x0000000100fe2d18 chromedriver + 4345112\n",
      "17  chromedriver                        0x0000000100fe2e86 chromedriver + 4345478\n",
      "18  chromedriver                        0x0000000100ff7f6e chromedriver + 4431726\n",
      "19  libsystem_pthread.dylib             0x00007ff801661514 _pthread_start + 125\n",
      "20  libsystem_pthread.dylib             0x00007ff80165d02f thread_start + 15\n",
      "\n"
     ]
    },
    {
     "name": "stderr",
     "output_type": "stream",
     "text": [
      " 48%|████▊     | 1730/3600 [17:12:10<19:29:56, 37.54s/it]"
     ]
    },
    {
     "name": "stdout",
     "output_type": "stream",
     "text": [
      "Errors total:  46\n"
     ]
    },
    {
     "name": "stderr",
     "output_type": "stream",
     "text": [
      " 48%|████▊     | 1737/3600 [17:16:01<17:36:11, 34.02s/it]"
     ]
    },
    {
     "name": "stdout",
     "output_type": "stream",
     "text": [
      "Message: no such element: Unable to locate element: {\"method\":\"xpath\",\"selector\":\"//span[@class=\"_17p6nbba\"]\"}\n",
      "  (Session info: chrome=106.0.5249.119)\n",
      "Stacktrace:\n",
      "0   chromedriver                        0x0000000103221c08 chromedriver + 4402184\n",
      "1   chromedriver                        0x00000001031a91f3 chromedriver + 3908083\n",
      "2   chromedriver                        0x0000000102e56e6a chromedriver + 425578\n",
      "3   chromedriver                        0x0000000102e8ec91 chromedriver + 654481\n",
      "4   chromedriver                        0x0000000102e8ee91 chromedriver + 654993\n",
      "5   chromedriver                        0x0000000102ec6274 chromedriver + 881268\n",
      "6   chromedriver                        0x0000000102eacdcd chromedriver + 777677\n",
      "7   chromedriver                        0x0000000102ec3f79 chromedriver + 872313\n",
      "8   chromedriver                        0x0000000102eacbd3 chromedriver + 777171\n",
      "9   chromedriver                        0x0000000102e81ced chromedriver + 601325\n",
      "10  chromedriver                        0x0000000102e82e51 chromedriver + 605777\n",
      "11  chromedriver                        0x00000001031f173e chromedriver + 4204350\n",
      "12  chromedriver                        0x00000001031f5e07 chromedriver + 4222471\n",
      "13  chromedriver                        0x00000001031fd0bf chromedriver + 4251839\n",
      "14  chromedriver                        0x00000001031f6b4a chromedriver + 4225866\n",
      "15  chromedriver                        0x00000001031cf8af chromedriver + 4065455\n",
      "16  chromedriver                        0x0000000103213d18 chromedriver + 4345112\n",
      "17  chromedriver                        0x0000000103213e86 chromedriver + 4345478\n",
      "18  chromedriver                        0x0000000103228f6e chromedriver + 4431726\n",
      "19  libsystem_pthread.dylib             0x00007ff801661514 _pthread_start + 125\n",
      "20  libsystem_pthread.dylib             0x00007ff80165d02f thread_start + 15\n",
      "\n",
      "Message: no such element: Unable to locate element: {\"method\":\"xpath\",\"selector\":\"//span[@class=\"_17p6nbba\"]\"}\n",
      "  (Session info: chrome=106.0.5249.119)\n",
      "Stacktrace:\n",
      "0   chromedriver                        0x0000000103337c08 chromedriver + 4402184\n",
      "1   chromedriver                        0x00000001032bf1f3 chromedriver + 3908083\n",
      "2   chromedriver                        0x0000000102f6ce6a chromedriver + 425578\n",
      "3   chromedriver                        0x0000000102fa4c91 chromedriver + 654481\n",
      "4   chromedriver                        0x0000000102fa4e91 chromedriver + 654993\n",
      "5   chromedriver                        0x0000000102fdc274 chromedriver + 881268\n",
      "6   chromedriver                        0x0000000102fc2dcd chromedriver + 777677\n",
      "7   chromedriver                        0x0000000102fd9f79 chromedriver + 872313\n",
      "8   chromedriver                        0x0000000102fc2bd3 chromedriver + 777171\n",
      "9   chromedriver                        0x0000000102f97ced chromedriver + 601325\n",
      "10  chromedriver                        0x0000000102f98e51 chromedriver + 605777\n",
      "11  chromedriver                        0x000000010330773e chromedriver + 4204350\n",
      "12  chromedriver                        0x000000010330be07 chromedriver + 4222471\n",
      "13  chromedriver                        0x00000001033130bf chromedriver + 4251839\n",
      "14  chromedriver                        0x000000010330cb4a chromedriver + 4225866\n",
      "15  chromedriver                        0x00000001032e58af chromedriver + 4065455\n",
      "16  chromedriver                        0x0000000103329d18 chromedriver + 4345112\n",
      "17  chromedriver                        0x0000000103329e86 chromedriver + 4345478\n",
      "18  chromedriver                        0x000000010333ef6e chromedriver + 4431726\n",
      "19  libsystem_pthread.dylib             0x00007ff801661514 _pthread_start + 125\n",
      "20  libsystem_pthread.dylib             0x00007ff80165d02f thread_start + 15\n",
      "\n",
      "Message: no such element: Unable to locate element: {\"method\":\"xpath\",\"selector\":\"//span[@class=\"_17p6nbba\"]\"}\n",
      "  (Session info: chrome=106.0.5249.119)\n",
      "Stacktrace:\n",
      "0   chromedriver                        0x00000001024ffc08 chromedriver + 4402184\n",
      "1   chromedriver                        0x00000001024871f3 chromedriver + 3908083\n",
      "2   chromedriver                        0x0000000102134e6a chromedriver + 425578\n",
      "3   chromedriver                        0x000000010216cc91 chromedriver + 654481\n",
      "4   chromedriver                        0x000000010216ce91 chromedriver + 654993\n",
      "5   chromedriver                        0x00000001021a4274 chromedriver + 881268\n",
      "6   chromedriver                        0x000000010218adcd chromedriver + 777677\n",
      "7   chromedriver                        0x00000001021a1f79 chromedriver + 872313\n",
      "8   chromedriver                        0x000000010218abd3 chromedriver + 777171\n",
      "9   chromedriver                        0x000000010215fced chromedriver + 601325\n",
      "10  chromedriver                        0x0000000102160e51 chromedriver + 605777\n",
      "11  chromedriver                        0x00000001024cf73e chromedriver + 4204350\n",
      "12  chromedriver                        0x00000001024d3e07 chromedriver + 4222471\n",
      "13  chromedriver                        0x00000001024db0bf chromedriver + 4251839\n",
      "14  chromedriver                        0x00000001024d4b4a chromedriver + 4225866\n",
      "15  chromedriver                        0x00000001024ad8af chromedriver + 4065455\n",
      "16  chromedriver                        0x00000001024f1d18 chromedriver + 4345112\n",
      "17  chromedriver                        0x00000001024f1e86 chromedriver + 4345478\n",
      "18  chromedriver                        0x0000000102506f6e chromedriver + 4431726\n",
      "19  libsystem_pthread.dylib             0x00007ff801661514 _pthread_start + 125\n",
      "20  libsystem_pthread.dylib             0x00007ff80165d02f thread_start + 15\n",
      "\n",
      "Message: no such element: Unable to locate element: {\"method\":\"xpath\",\"selector\":\"//span[@class=\"_17p6nbba\"]\"}\n",
      "  (Session info: chrome=106.0.5249.119)\n",
      "Stacktrace:\n",
      "0   chromedriver                        0x0000000102626c08 chromedriver + 4402184\n",
      "1   chromedriver                        0x00000001025ae1f3 chromedriver + 3908083\n",
      "2   chromedriver                        0x000000010225be6a chromedriver + 425578\n",
      "3   chromedriver                        0x0000000102293c91 chromedriver + 654481\n",
      "4   chromedriver                        0x0000000102293e91 chromedriver + 654993\n",
      "5   chromedriver                        0x00000001022cb274 chromedriver + 881268\n",
      "6   chromedriver                        0x00000001022b1dcd chromedriver + 777677\n",
      "7   chromedriver                        0x00000001022c8f79 chromedriver + 872313\n",
      "8   chromedriver                        0x00000001022b1bd3 chromedriver + 777171\n",
      "9   chromedriver                        0x0000000102286ced chromedriver + 601325\n",
      "10  chromedriver                        0x0000000102287e51 chromedriver + 605777\n",
      "11  chromedriver                        0x00000001025f673e chromedriver + 4204350\n",
      "12  chromedriver                        0x00000001025fae07 chromedriver + 4222471\n",
      "13  chromedriver                        0x00000001026020bf chromedriver + 4251839\n",
      "14  chromedriver                        0x00000001025fbb4a chromedriver + 4225866\n",
      "15  chromedriver                        0x00000001025d48af chromedriver + 4065455\n",
      "16  chromedriver                        0x0000000102618d18 chromedriver + 4345112\n",
      "17  chromedriver                        0x0000000102618e86 chromedriver + 4345478\n",
      "18  chromedriver                        0x000000010262df6e chromedriver + 4431726\n",
      "19  libsystem_pthread.dylib             0x00007ff801661514 _pthread_start + 125\n",
      "20  libsystem_pthread.dylib             0x00007ff80165d02f thread_start + 15\n",
      "\n"
     ]
    },
    {
     "name": "stderr",
     "output_type": "stream",
     "text": [
      " 48%|████▊     | 1738/3600 [17:18:36<36:16:09, 70.12s/it]"
     ]
    },
    {
     "name": "stdout",
     "output_type": "stream",
     "text": [
      "Message: no such element: Unable to locate element: {\"method\":\"xpath\",\"selector\":\"//span[@class=\"_17p6nbba\"]\"}\n",
      "  (Session info: chrome=106.0.5249.119)\n",
      "Stacktrace:\n",
      "0   chromedriver                        0x0000000105123c08 chromedriver + 4402184\n",
      "1   chromedriver                        0x00000001050ab1f3 chromedriver + 3908083\n",
      "2   chromedriver                        0x0000000104d58e6a chromedriver + 425578\n",
      "3   chromedriver                        0x0000000104d90c91 chromedriver + 654481\n",
      "4   chromedriver                        0x0000000104d90e91 chromedriver + 654993\n",
      "5   chromedriver                        0x0000000104dc8274 chromedriver + 881268\n",
      "6   chromedriver                        0x0000000104daedcd chromedriver + 777677\n",
      "7   chromedriver                        0x0000000104dc5f79 chromedriver + 872313\n",
      "8   chromedriver                        0x0000000104daebd3 chromedriver + 777171\n",
      "9   chromedriver                        0x0000000104d83ced chromedriver + 601325\n",
      "10  chromedriver                        0x0000000104d84e51 chromedriver + 605777\n",
      "11  chromedriver                        0x00000001050f373e chromedriver + 4204350\n",
      "12  chromedriver                        0x00000001050f7e07 chromedriver + 4222471\n",
      "13  chromedriver                        0x00000001050ff0bf chromedriver + 4251839\n",
      "14  chromedriver                        0x00000001050f8b4a chromedriver + 4225866\n",
      "15  chromedriver                        0x00000001050d18af chromedriver + 4065455\n",
      "16  chromedriver                        0x0000000105115d18 chromedriver + 4345112\n",
      "17  chromedriver                        0x0000000105115e86 chromedriver + 4345478\n",
      "18  chromedriver                        0x000000010512af6e chromedriver + 4431726\n",
      "19  libsystem_pthread.dylib             0x00007ff801661514 _pthread_start + 125\n",
      "20  libsystem_pthread.dylib             0x00007ff80165d02f thread_start + 15\n",
      "\n"
     ]
    },
    {
     "name": "stderr",
     "output_type": "stream",
     "text": [
      " 48%|████▊     | 1740/3600 [17:19:39<26:04:27, 50.47s/it]"
     ]
    },
    {
     "name": "stdout",
     "output_type": "stream",
     "text": [
      "Errors total:  47\n"
     ]
    },
    {
     "name": "stderr",
     "output_type": "stream",
     "text": [
      " 49%|████▊     | 1748/3600 [17:23:55<16:56:44, 32.94s/it]"
     ]
    },
    {
     "name": "stdout",
     "output_type": "stream",
     "text": [
      "Message: unknown error: Chrome failed to start: crashed.\n",
      "  (chrome not reachable)\n",
      "  (The process started from chrome location /Applications/Google Chrome.app/Contents/MacOS/Google Chrome is no longer running, so ChromeDriver is assuming that Chrome has crashed.)\n",
      "Stacktrace:\n",
      "0   chromedriver                        0x0000000104b65c08 chromedriver + 4402184\n",
      "1   chromedriver                        0x0000000104aed1f3 chromedriver + 3908083\n",
      "2   chromedriver                        0x000000010479ae6a chromedriver + 425578\n",
      "3   chromedriver                        0x00000001047bffc6 chromedriver + 577478\n",
      "4   chromedriver                        0x00000001047bb3be chromedriver + 558014\n",
      "5   chromedriver                        0x00000001047f88fa chromedriver + 809210\n",
      "6   chromedriver                        0x00000001047f82bf chromedriver + 807615\n",
      "7   chromedriver                        0x00000001047f0bd3 chromedriver + 777171\n",
      "8   chromedriver                        0x00000001047c5ced chromedriver + 601325\n",
      "9   chromedriver                        0x00000001047c6e51 chromedriver + 605777\n",
      "10  chromedriver                        0x0000000104b3573e chromedriver + 4204350\n",
      "11  chromedriver                        0x0000000104b39e07 chromedriver + 4222471\n",
      "12  chromedriver                        0x0000000104b410bf chromedriver + 4251839\n",
      "13  chromedriver                        0x0000000104b3ab4a chromedriver + 4225866\n",
      "14  chromedriver                        0x0000000104b138af chromedriver + 4065455\n",
      "15  chromedriver                        0x0000000104b57d18 chromedriver + 4345112\n",
      "16  chromedriver                        0x0000000104b57e86 chromedriver + 4345478\n",
      "17  chromedriver                        0x0000000104b6cf6e chromedriver + 4431726\n",
      "18  libsystem_pthread.dylib             0x00007ff801661514 _pthread_start + 125\n",
      "19  libsystem_pthread.dylib             0x00007ff80165d02f thread_start + 15\n",
      "\n"
     ]
    },
    {
     "name": "stderr",
     "output_type": "stream",
     "text": [
      " 49%|████▊     | 1750/3600 [17:25:03<17:07:55, 33.34s/it]"
     ]
    },
    {
     "name": "stdout",
     "output_type": "stream",
     "text": [
      "Errors total:  47\n",
      "Message: unknown error: Chrome failed to start: crashed.\n",
      "  (chrome not reachable)\n",
      "  (The process started from chrome location /Applications/Google Chrome.app/Contents/MacOS/Google Chrome is no longer running, so ChromeDriver is assuming that Chrome has crashed.)\n",
      "Stacktrace:\n",
      "0   chromedriver                        0x000000010101dc08 chromedriver + 4402184\n",
      "1   chromedriver                        0x0000000100fa51f3 chromedriver + 3908083\n",
      "2   chromedriver                        0x0000000100c52e6a chromedriver + 425578\n",
      "3   chromedriver                        0x0000000100c77fc6 chromedriver + 577478\n",
      "4   chromedriver                        0x0000000100c733be chromedriver + 558014\n",
      "5   chromedriver                        0x0000000100cb08fa chromedriver + 809210\n",
      "6   chromedriver                        0x0000000100cb02bf chromedriver + 807615\n",
      "7   chromedriver                        0x0000000100ca8bd3 chromedriver + 777171\n",
      "8   chromedriver                        0x0000000100c7dced chromedriver + 601325\n",
      "9   chromedriver                        0x0000000100c7ee51 chromedriver + 605777\n",
      "10  chromedriver                        0x0000000100fed73e chromedriver + 4204350\n",
      "11  chromedriver                        0x0000000100ff1e07 chromedriver + 4222471\n",
      "12  chromedriver                        0x0000000100ff90bf chromedriver + 4251839\n",
      "13  chromedriver                        0x0000000100ff2b4a chromedriver + 4225866\n",
      "14  chromedriver                        0x0000000100fcb8af chromedriver + 4065455\n",
      "15  chromedriver                        0x000000010100fd18 chromedriver + 4345112\n",
      "16  chromedriver                        0x000000010100fe86 chromedriver + 4345478\n",
      "17  chromedriver                        0x0000000101024f6e chromedriver + 4431726\n",
      "18  libsystem_pthread.dylib             0x00007ff801661514 _pthread_start + 125\n",
      "19  libsystem_pthread.dylib             0x00007ff80165d02f thread_start + 15\n",
      "\n"
     ]
    },
    {
     "name": "stderr",
     "output_type": "stream",
     "text": [
      " 49%|████▊     | 1753/3600 [17:26:40<16:40:03, 32.49s/it]"
     ]
    },
    {
     "name": "stdout",
     "output_type": "stream",
     "text": [
      "Message: unknown error: Chrome failed to start: crashed.\n",
      "  (chrome not reachable)\n",
      "  (The process started from chrome location /Applications/Google Chrome.app/Contents/MacOS/Google Chrome is no longer running, so ChromeDriver is assuming that Chrome has crashed.)\n",
      "Stacktrace:\n",
      "0   chromedriver                        0x00000001007c5c08 chromedriver + 4402184\n",
      "1   chromedriver                        0x000000010074d1f3 chromedriver + 3908083\n",
      "2   chromedriver                        0x00000001003fae6a chromedriver + 425578\n",
      "3   chromedriver                        0x000000010041ffc6 chromedriver + 577478\n",
      "4   chromedriver                        0x000000010041b3be chromedriver + 558014\n",
      "5   chromedriver                        0x00000001004588fa chromedriver + 809210\n",
      "6   chromedriver                        0x00000001004582bf chromedriver + 807615\n",
      "7   chromedriver                        0x0000000100450bd3 chromedriver + 777171\n",
      "8   chromedriver                        0x0000000100425ced chromedriver + 601325\n",
      "9   chromedriver                        0x0000000100426e51 chromedriver + 605777\n",
      "10  chromedriver                        0x000000010079573e chromedriver + 4204350\n",
      "11  chromedriver                        0x0000000100799e07 chromedriver + 4222471\n",
      "12  chromedriver                        0x00000001007a10bf chromedriver + 4251839\n",
      "13  chromedriver                        0x000000010079ab4a chromedriver + 4225866\n",
      "14  chromedriver                        0x00000001007738af chromedriver + 4065455\n",
      "15  chromedriver                        0x00000001007b7d18 chromedriver + 4345112\n",
      "16  chromedriver                        0x00000001007b7e86 chromedriver + 4345478\n",
      "17  chromedriver                        0x00000001007ccf6e chromedriver + 4431726\n",
      "18  libsystem_pthread.dylib             0x00007ff801661514 _pthread_start + 125\n",
      "19  libsystem_pthread.dylib             0x00007ff80165d02f thread_start + 15\n",
      "\n"
     ]
    },
    {
     "name": "stderr",
     "output_type": "stream",
     "text": [
      " 49%|████▉     | 1755/3600 [17:27:46<16:46:15, 32.72s/it]"
     ]
    },
    {
     "name": "stdout",
     "output_type": "stream",
     "text": [
      "Message: disconnected: Unable to receive message from renderer\n",
      "  (failed to check if window was closed: timeout: Timed out receiving message from renderer: 600.000)\n",
      "  (Session info: chrome=106.0.5249.119)\n",
      "Stacktrace:\n",
      "0   chromedriver                        0x0000000104e99c08 chromedriver + 4402184\n",
      "1   chromedriver                        0x0000000104e211f3 chromedriver + 3908083\n",
      "2   chromedriver                        0x0000000104acee6a chromedriver + 425578\n",
      "3   chromedriver                        0x0000000104abb6bb chromedriver + 345787\n",
      "4   chromedriver                        0x0000000104abb572 chromedriver + 345458\n",
      "5   chromedriver                        0x0000000104abae29 chromedriver + 343593\n",
      "6   chromedriver                        0x0000000104ad64dc chromedriver + 455900\n",
      "7   chromedriver                        0x0000000104b3c3c8 chromedriver + 873416\n",
      "8   chromedriver                        0x0000000104b24bd3 chromedriver + 777171\n",
      "9   chromedriver                        0x0000000104af9ced chromedriver + 601325\n",
      "10  chromedriver                        0x0000000104afae51 chromedriver + 605777\n",
      "11  chromedriver                        0x0000000104e6973e chromedriver + 4204350\n",
      "12  chromedriver                        0x0000000104e6de07 chromedriver + 4222471\n",
      "13  chromedriver                        0x0000000104e750bf chromedriver + 4251839\n",
      "14  chromedriver                        0x0000000104e6eb4a chromedriver + 4225866\n",
      "15  chromedriver                        0x0000000104e478af chromedriver + 4065455\n",
      "16  chromedriver                        0x0000000104e8bd18 chromedriver + 4345112\n",
      "17  chromedriver                        0x0000000104e8be86 chromedriver + 4345478\n",
      "18  chromedriver                        0x0000000104ea0f6e chromedriver + 4431726\n",
      "19  libsystem_pthread.dylib             0x00007ff801661514 _pthread_start + 125\n",
      "20  libsystem_pthread.dylib             0x00007ff80165d02f thread_start + 15\n",
      "\n"
     ]
    },
    {
     "name": "stderr",
     "output_type": "stream",
     "text": [
      " 49%|████▉     | 1760/3600 [19:30:09<281:02:27, 549.86s/it]  "
     ]
    },
    {
     "name": "stdout",
     "output_type": "stream",
     "text": [
      "Errors total:  47\n"
     ]
    },
    {
     "name": "stderr",
     "output_type": "stream",
     "text": [
      " 49%|████▉     | 1764/3600 [19:32:18<79:43:48, 156.33s/it] "
     ]
    },
    {
     "name": "stdout",
     "output_type": "stream",
     "text": [
      "Message: no such element: Unable to locate element: {\"method\":\"xpath\",\"selector\":\"//span[@class=\"_17p6nbba\"]\"}\n",
      "  (Session info: chrome=106.0.5249.119)\n",
      "Stacktrace:\n",
      "0   chromedriver                        0x00000001027d3c08 chromedriver + 4402184\n",
      "1   chromedriver                        0x000000010275b1f3 chromedriver + 3908083\n",
      "2   chromedriver                        0x0000000102408e6a chromedriver + 425578\n",
      "3   chromedriver                        0x0000000102440c91 chromedriver + 654481\n",
      "4   chromedriver                        0x0000000102440e91 chromedriver + 654993\n",
      "5   chromedriver                        0x0000000102478274 chromedriver + 881268\n",
      "6   chromedriver                        0x000000010245edcd chromedriver + 777677\n",
      "7   chromedriver                        0x0000000102475f79 chromedriver + 872313\n",
      "8   chromedriver                        0x000000010245ebd3 chromedriver + 777171\n",
      "9   chromedriver                        0x0000000102433ced chromedriver + 601325\n",
      "10  chromedriver                        0x0000000102434e51 chromedriver + 605777\n",
      "11  chromedriver                        0x00000001027a373e chromedriver + 4204350\n",
      "12  chromedriver                        0x00000001027a7e07 chromedriver + 4222471\n",
      "13  chromedriver                        0x00000001027af0bf chromedriver + 4251839\n",
      "14  chromedriver                        0x00000001027a8b4a chromedriver + 4225866\n",
      "15  chromedriver                        0x00000001027818af chromedriver + 4065455\n",
      "16  chromedriver                        0x00000001027c5d18 chromedriver + 4345112\n",
      "17  chromedriver                        0x00000001027c5e86 chromedriver + 4345478\n",
      "18  chromedriver                        0x00000001027daf6e chromedriver + 4431726\n",
      "19  libsystem_pthread.dylib             0x00007ff801661514 _pthread_start + 125\n",
      "20  libsystem_pthread.dylib             0x00007ff80165d02f thread_start + 15\n",
      "\n",
      "Message: no such element: Unable to locate element: {\"method\":\"xpath\",\"selector\":\"//span[@class=\"_17p6nbba\"]\"}\n",
      "  (Session info: chrome=106.0.5249.119)\n",
      "Stacktrace:\n",
      "0   chromedriver                        0x0000000100865c08 chromedriver + 4402184\n",
      "1   chromedriver                        0x00000001007ed1f3 chromedriver + 3908083\n",
      "2   chromedriver                        0x000000010049ae6a chromedriver + 425578\n",
      "3   chromedriver                        0x00000001004d2c91 chromedriver + 654481\n",
      "4   chromedriver                        0x00000001004d2e91 chromedriver + 654993\n",
      "5   chromedriver                        0x000000010050a274 chromedriver + 881268\n",
      "6   chromedriver                        0x00000001004f0dcd chromedriver + 777677\n",
      "7   chromedriver                        0x0000000100507f79 chromedriver + 872313\n",
      "8   chromedriver                        0x00000001004f0bd3 chromedriver + 777171\n",
      "9   chromedriver                        0x00000001004c5ced chromedriver + 601325\n",
      "10  chromedriver                        0x00000001004c6e51 chromedriver + 605777\n",
      "11  chromedriver                        0x000000010083573e chromedriver + 4204350\n",
      "12  chromedriver                        0x0000000100839e07 chromedriver + 4222471\n",
      "13  chromedriver                        0x00000001008410bf chromedriver + 4251839\n",
      "14  chromedriver                        0x000000010083ab4a chromedriver + 4225866\n",
      "15  chromedriver                        0x00000001008138af chromedriver + 4065455\n",
      "16  chromedriver                        0x0000000100857d18 chromedriver + 4345112\n",
      "17  chromedriver                        0x0000000100857e86 chromedriver + 4345478\n",
      "18  chromedriver                        0x000000010086cf6e chromedriver + 4431726\n",
      "19  libsystem_pthread.dylib             0x00007ff801661514 _pthread_start + 125\n",
      "20  libsystem_pthread.dylib             0x00007ff80165d02f thread_start + 15\n",
      "\n",
      "Message: no such element: Unable to locate element: {\"method\":\"xpath\",\"selector\":\"//span[@class=\"_17p6nbba\"]\"}\n",
      "  (Session info: chrome=106.0.5249.119)\n",
      "Stacktrace:\n",
      "0   chromedriver                        0x0000000105134c08 chromedriver + 4402184\n",
      "1   chromedriver                        0x00000001050bc1f3 chromedriver + 3908083\n",
      "2   chromedriver                        0x0000000104d69e6a chromedriver + 425578\n",
      "3   chromedriver                        0x0000000104da1c91 chromedriver + 654481\n",
      "4   chromedriver                        0x0000000104da1e91 chromedriver + 654993\n",
      "5   chromedriver                        0x0000000104dd9274 chromedriver + 881268\n",
      "6   chromedriver                        0x0000000104dbfdcd chromedriver + 777677\n",
      "7   chromedriver                        0x0000000104dd6f79 chromedriver + 872313\n",
      "8   chromedriver                        0x0000000104dbfbd3 chromedriver + 777171\n",
      "9   chromedriver                        0x0000000104d94ced chromedriver + 601325\n",
      "10  chromedriver                        0x0000000104d95e51 chromedriver + 605777\n",
      "11  chromedriver                        0x000000010510473e chromedriver + 4204350\n",
      "12  chromedriver                        0x0000000105108e07 chromedriver + 4222471\n",
      "13  chromedriver                        0x00000001051100bf chromedriver + 4251839\n",
      "14  chromedriver                        0x0000000105109b4a chromedriver + 4225866\n",
      "15  chromedriver                        0x00000001050e28af chromedriver + 4065455\n",
      "16  chromedriver                        0x0000000105126d18 chromedriver + 4345112\n",
      "17  chromedriver                        0x0000000105126e86 chromedriver + 4345478\n",
      "18  chromedriver                        0x000000010513bf6e chromedriver + 4431726\n",
      "19  libsystem_pthread.dylib             0x00007ff801661514 _pthread_start + 125\n",
      "20  libsystem_pthread.dylib             0x00007ff80165d02f thread_start + 15\n",
      "\n",
      "Message: no such element: Unable to locate element: {\"method\":\"xpath\",\"selector\":\"//span[@class=\"_17p6nbba\"]\"}\n",
      "  (Session info: chrome=106.0.5249.119)\n",
      "Stacktrace:\n",
      "0   chromedriver                        0x000000010270ec08 chromedriver + 4402184\n",
      "1   chromedriver                        0x00000001026961f3 chromedriver + 3908083\n",
      "2   chromedriver                        0x0000000102343e6a chromedriver + 425578\n",
      "3   chromedriver                        0x000000010237bc91 chromedriver + 654481\n",
      "4   chromedriver                        0x000000010237be91 chromedriver + 654993\n",
      "5   chromedriver                        0x00000001023b3274 chromedriver + 881268\n",
      "6   chromedriver                        0x0000000102399dcd chromedriver + 777677\n",
      "7   chromedriver                        0x00000001023b0f79 chromedriver + 872313\n",
      "8   chromedriver                        0x0000000102399bd3 chromedriver + 777171\n",
      "9   chromedriver                        0x000000010236eced chromedriver + 601325\n",
      "10  chromedriver                        0x000000010236fe51 chromedriver + 605777\n",
      "11  chromedriver                        0x00000001026de73e chromedriver + 4204350\n",
      "12  chromedriver                        0x00000001026e2e07 chromedriver + 4222471\n",
      "13  chromedriver                        0x00000001026ea0bf chromedriver + 4251839\n",
      "14  chromedriver                        0x00000001026e3b4a chromedriver + 4225866\n",
      "15  chromedriver                        0x00000001026bc8af chromedriver + 4065455\n",
      "16  chromedriver                        0x0000000102700d18 chromedriver + 4345112\n",
      "17  chromedriver                        0x0000000102700e86 chromedriver + 4345478\n",
      "18  chromedriver                        0x0000000102715f6e chromedriver + 4431726\n",
      "19  libsystem_pthread.dylib             0x00007ff801661514 _pthread_start + 125\n",
      "20  libsystem_pthread.dylib             0x00007ff80165d02f thread_start + 15\n",
      "\n"
     ]
    },
    {
     "name": "stderr",
     "output_type": "stream",
     "text": [
      " 49%|████▉     | 1765/3600 [19:52:42<242:59:44, 476.72s/it]"
     ]
    },
    {
     "name": "stdout",
     "output_type": "stream",
     "text": [
      "Message: no such element: Unable to locate element: {\"method\":\"xpath\",\"selector\":\"//span[@class=\"_17p6nbba\"]\"}\n",
      "  (Session info: chrome=106.0.5249.119)\n",
      "Stacktrace:\n",
      "0   chromedriver                        0x0000000100964c08 chromedriver + 4402184\n",
      "1   chromedriver                        0x00000001008ec1f3 chromedriver + 3908083\n",
      "2   chromedriver                        0x0000000100599e6a chromedriver + 425578\n",
      "3   chromedriver                        0x00000001005d1c91 chromedriver + 654481\n",
      "4   chromedriver                        0x00000001005d1e91 chromedriver + 654993\n",
      "5   chromedriver                        0x0000000100609274 chromedriver + 881268\n",
      "6   chromedriver                        0x00000001005efdcd chromedriver + 777677\n",
      "7   chromedriver                        0x0000000100606f79 chromedriver + 872313\n",
      "8   chromedriver                        0x00000001005efbd3 chromedriver + 777171\n",
      "9   chromedriver                        0x00000001005c4ced chromedriver + 601325\n",
      "10  chromedriver                        0x00000001005c5e51 chromedriver + 605777\n",
      "11  chromedriver                        0x000000010093473e chromedriver + 4204350\n",
      "12  chromedriver                        0x0000000100938e07 chromedriver + 4222471\n",
      "13  chromedriver                        0x00000001009400bf chromedriver + 4251839\n",
      "14  chromedriver                        0x0000000100939b4a chromedriver + 4225866\n",
      "15  chromedriver                        0x00000001009128af chromedriver + 4065455\n",
      "16  chromedriver                        0x0000000100956d18 chromedriver + 4345112\n",
      "17  chromedriver                        0x0000000100956e86 chromedriver + 4345478\n",
      "18  chromedriver                        0x000000010096bf6e chromedriver + 4431726\n",
      "19  libsystem_pthread.dylib             0x00007ff801661514 _pthread_start + 125\n",
      "20  libsystem_pthread.dylib             0x00007ff80165d02f thread_start + 15\n",
      "\n"
     ]
    },
    {
     "name": "stderr",
     "output_type": "stream",
     "text": [
      " 49%|████▉     | 1770/3600 [20:41:13<253:38:52, 498.98s/it]"
     ]
    },
    {
     "name": "stdout",
     "output_type": "stream",
     "text": [
      "Errors total:  48\n"
     ]
    },
    {
     "name": "stderr",
     "output_type": "stream",
     "text": [
      " 49%|████▉     | 1779/3600 [21:29:17<21:59:44, 43.48s/it]  \n",
      "ERROR:root:Internal Python error in the inspect module.\n",
      "Below is the traceback from this internal error.\n",
      "\n"
     ]
    },
    {
     "name": "stdout",
     "output_type": "stream",
     "text": [
      "Traceback (most recent call last):\n",
      "  File \"/opt/anaconda3/lib/python3.9/site-packages/IPython/core/interactiveshell.py\", line 3444, in run_code\n",
      "    exec(code_obj, self.user_global_ns, self.user_ns)\n",
      "  File \"/var/folders/dl/144dv_xn32j603jj7l33r0h40000gn/T/ipykernel_20095/758320156.py\", line 28, in <module>\n",
      "    time.sleep(20)\n",
      "KeyboardInterrupt\n",
      "\n",
      "During handling of the above exception, another exception occurred:\n",
      "\n",
      "Traceback (most recent call last):\n",
      "  File \"/opt/anaconda3/lib/python3.9/site-packages/IPython/core/interactiveshell.py\", line 2064, in showtraceback\n",
      "    stb = value._render_traceback_()\n",
      "AttributeError: 'KeyboardInterrupt' object has no attribute '_render_traceback_'\n",
      "\n",
      "During handling of the above exception, another exception occurred:\n",
      "\n",
      "Traceback (most recent call last):\n",
      "  File \"/opt/anaconda3/lib/python3.9/site-packages/IPython/core/ultratb.py\", line 1101, in get_records\n",
      "    return _fixed_getinnerframes(etb, number_of_lines_of_context, tb_offset)\n",
      "  File \"/opt/anaconda3/lib/python3.9/site-packages/IPython/core/ultratb.py\", line 248, in wrapped\n",
      "    return f(*args, **kwargs)\n",
      "  File \"/opt/anaconda3/lib/python3.9/site-packages/IPython/core/ultratb.py\", line 281, in _fixed_getinnerframes\n",
      "    records = fix_frame_records_filenames(inspect.getinnerframes(etb, context))\n",
      "  File \"/opt/anaconda3/lib/python3.9/inspect.py\", line 1541, in getinnerframes\n",
      "    frameinfo = (tb.tb_frame,) + getframeinfo(tb, context)\n",
      "  File \"/opt/anaconda3/lib/python3.9/inspect.py\", line 1499, in getframeinfo\n",
      "    filename = getsourcefile(frame) or getfile(frame)\n",
      "  File \"/opt/anaconda3/lib/python3.9/inspect.py\", line 709, in getsourcefile\n",
      "    if getattr(getmodule(object, filename), '__loader__', None) is not None:\n",
      "  File \"/opt/anaconda3/lib/python3.9/inspect.py\", line 752, in getmodule\n",
      "    f = getabsfile(module)\n",
      "  File \"/opt/anaconda3/lib/python3.9/inspect.py\", line 721, in getabsfile\n",
      "    _filename = getsourcefile(object) or getfile(object)\n",
      "  File \"/opt/anaconda3/lib/python3.9/inspect.py\", line 706, in getsourcefile\n",
      "    if os.path.exists(filename):\n",
      "  File \"/opt/anaconda3/lib/python3.9/genericpath.py\", line 19, in exists\n",
      "    os.stat(path)\n",
      "KeyboardInterrupt\n"
     ]
    },
    {
     "ename": "TypeError",
     "evalue": "object of type 'NoneType' has no len()",
     "output_type": "error",
     "traceback": [
      "\u001b[0;31m---------------------------------------------------------------------------\u001b[0m",
      "\u001b[0;31mKeyboardInterrupt\u001b[0m                         Traceback (most recent call last)",
      "    \u001b[0;31m[... skipping hidden 1 frame]\u001b[0m\n",
      "\u001b[0;32m/var/folders/dl/144dv_xn32j603jj7l33r0h40000gn/T/ipykernel_20095/758320156.py\u001b[0m in \u001b[0;36m<module>\u001b[0;34m\u001b[0m\n\u001b[1;32m     27\u001b[0m \u001b[0;34m\u001b[0m\u001b[0m\n\u001b[0;32m---> 28\u001b[0;31m             \u001b[0mtime\u001b[0m\u001b[0;34m.\u001b[0m\u001b[0msleep\u001b[0m\u001b[0;34m(\u001b[0m\u001b[0;36m20\u001b[0m\u001b[0;34m)\u001b[0m\u001b[0;34m\u001b[0m\u001b[0;34m\u001b[0m\u001b[0m\n\u001b[0m\u001b[1;32m     29\u001b[0m \u001b[0;34m\u001b[0m\u001b[0m\n",
      "\u001b[0;31mKeyboardInterrupt\u001b[0m: ",
      "\nDuring handling of the above exception, another exception occurred:\n",
      "\u001b[0;31mAttributeError\u001b[0m                            Traceback (most recent call last)",
      "\u001b[0;32m/opt/anaconda3/lib/python3.9/site-packages/IPython/core/interactiveshell.py\u001b[0m in \u001b[0;36mshowtraceback\u001b[0;34m(self, exc_tuple, filename, tb_offset, exception_only, running_compiled_code)\u001b[0m\n\u001b[1;32m   2063\u001b[0m                         \u001b[0;31m# in the engines. This should return a list of strings.\u001b[0m\u001b[0;34m\u001b[0m\u001b[0;34m\u001b[0m\u001b[0m\n\u001b[0;32m-> 2064\u001b[0;31m                         \u001b[0mstb\u001b[0m \u001b[0;34m=\u001b[0m \u001b[0mvalue\u001b[0m\u001b[0;34m.\u001b[0m\u001b[0m_render_traceback_\u001b[0m\u001b[0;34m(\u001b[0m\u001b[0;34m)\u001b[0m\u001b[0;34m\u001b[0m\u001b[0;34m\u001b[0m\u001b[0m\n\u001b[0m\u001b[1;32m   2065\u001b[0m                     \u001b[0;32mexcept\u001b[0m \u001b[0mException\u001b[0m\u001b[0;34m:\u001b[0m\u001b[0;34m\u001b[0m\u001b[0;34m\u001b[0m\u001b[0m\n",
      "\u001b[0;31mAttributeError\u001b[0m: 'KeyboardInterrupt' object has no attribute '_render_traceback_'",
      "\nDuring handling of the above exception, another exception occurred:\n",
      "\u001b[0;31mTypeError\u001b[0m                                 Traceback (most recent call last)",
      "    \u001b[0;31m[... skipping hidden 1 frame]\u001b[0m\n",
      "\u001b[0;32m/opt/anaconda3/lib/python3.9/site-packages/IPython/core/interactiveshell.py\u001b[0m in \u001b[0;36mshowtraceback\u001b[0;34m(self, exc_tuple, filename, tb_offset, exception_only, running_compiled_code)\u001b[0m\n\u001b[1;32m   2064\u001b[0m                         \u001b[0mstb\u001b[0m \u001b[0;34m=\u001b[0m \u001b[0mvalue\u001b[0m\u001b[0;34m.\u001b[0m\u001b[0m_render_traceback_\u001b[0m\u001b[0;34m(\u001b[0m\u001b[0;34m)\u001b[0m\u001b[0;34m\u001b[0m\u001b[0;34m\u001b[0m\u001b[0m\n\u001b[1;32m   2065\u001b[0m                     \u001b[0;32mexcept\u001b[0m \u001b[0mException\u001b[0m\u001b[0;34m:\u001b[0m\u001b[0;34m\u001b[0m\u001b[0;34m\u001b[0m\u001b[0m\n\u001b[0;32m-> 2066\u001b[0;31m                         stb = self.InteractiveTB.structured_traceback(etype,\n\u001b[0m\u001b[1;32m   2067\u001b[0m                                             value, tb, tb_offset=tb_offset)\n\u001b[1;32m   2068\u001b[0m \u001b[0;34m\u001b[0m\u001b[0m\n",
      "\u001b[0;32m/opt/anaconda3/lib/python3.9/site-packages/IPython/core/ultratb.py\u001b[0m in \u001b[0;36mstructured_traceback\u001b[0;34m(self, etype, value, tb, tb_offset, number_of_lines_of_context)\u001b[0m\n\u001b[1;32m   1365\u001b[0m         \u001b[0;32melse\u001b[0m\u001b[0;34m:\u001b[0m\u001b[0;34m\u001b[0m\u001b[0;34m\u001b[0m\u001b[0m\n\u001b[1;32m   1366\u001b[0m             \u001b[0mself\u001b[0m\u001b[0;34m.\u001b[0m\u001b[0mtb\u001b[0m \u001b[0;34m=\u001b[0m \u001b[0mtb\u001b[0m\u001b[0;34m\u001b[0m\u001b[0;34m\u001b[0m\u001b[0m\n\u001b[0;32m-> 1367\u001b[0;31m         return FormattedTB.structured_traceback(\n\u001b[0m\u001b[1;32m   1368\u001b[0m             self, etype, value, tb, tb_offset, number_of_lines_of_context)\n\u001b[1;32m   1369\u001b[0m \u001b[0;34m\u001b[0m\u001b[0m\n",
      "\u001b[0;32m/opt/anaconda3/lib/python3.9/site-packages/IPython/core/ultratb.py\u001b[0m in \u001b[0;36mstructured_traceback\u001b[0;34m(self, etype, value, tb, tb_offset, number_of_lines_of_context)\u001b[0m\n\u001b[1;32m   1265\u001b[0m         \u001b[0;32mif\u001b[0m \u001b[0mmode\u001b[0m \u001b[0;32min\u001b[0m \u001b[0mself\u001b[0m\u001b[0;34m.\u001b[0m\u001b[0mverbose_modes\u001b[0m\u001b[0;34m:\u001b[0m\u001b[0;34m\u001b[0m\u001b[0;34m\u001b[0m\u001b[0m\n\u001b[1;32m   1266\u001b[0m             \u001b[0;31m# Verbose modes need a full traceback\u001b[0m\u001b[0;34m\u001b[0m\u001b[0;34m\u001b[0m\u001b[0m\n\u001b[0;32m-> 1267\u001b[0;31m             return VerboseTB.structured_traceback(\n\u001b[0m\u001b[1;32m   1268\u001b[0m                 \u001b[0mself\u001b[0m\u001b[0;34m,\u001b[0m \u001b[0metype\u001b[0m\u001b[0;34m,\u001b[0m \u001b[0mvalue\u001b[0m\u001b[0;34m,\u001b[0m \u001b[0mtb\u001b[0m\u001b[0;34m,\u001b[0m \u001b[0mtb_offset\u001b[0m\u001b[0;34m,\u001b[0m \u001b[0mnumber_of_lines_of_context\u001b[0m\u001b[0;34m\u001b[0m\u001b[0;34m\u001b[0m\u001b[0m\n\u001b[1;32m   1269\u001b[0m             )\n",
      "\u001b[0;32m/opt/anaconda3/lib/python3.9/site-packages/IPython/core/ultratb.py\u001b[0m in \u001b[0;36mstructured_traceback\u001b[0;34m(self, etype, evalue, etb, tb_offset, number_of_lines_of_context)\u001b[0m\n\u001b[1;32m   1122\u001b[0m         \u001b[0;34m\"\"\"Return a nice text document describing the traceback.\"\"\"\u001b[0m\u001b[0;34m\u001b[0m\u001b[0;34m\u001b[0m\u001b[0m\n\u001b[1;32m   1123\u001b[0m \u001b[0;34m\u001b[0m\u001b[0m\n\u001b[0;32m-> 1124\u001b[0;31m         formatted_exception = self.format_exception_as_a_whole(etype, evalue, etb, number_of_lines_of_context,\n\u001b[0m\u001b[1;32m   1125\u001b[0m                                                                tb_offset)\n\u001b[1;32m   1126\u001b[0m \u001b[0;34m\u001b[0m\u001b[0m\n",
      "\u001b[0;32m/opt/anaconda3/lib/python3.9/site-packages/IPython/core/ultratb.py\u001b[0m in \u001b[0;36mformat_exception_as_a_whole\u001b[0;34m(self, etype, evalue, etb, number_of_lines_of_context, tb_offset)\u001b[0m\n\u001b[1;32m   1080\u001b[0m \u001b[0;34m\u001b[0m\u001b[0m\n\u001b[1;32m   1081\u001b[0m \u001b[0;34m\u001b[0m\u001b[0m\n\u001b[0;32m-> 1082\u001b[0;31m         \u001b[0mlast_unique\u001b[0m\u001b[0;34m,\u001b[0m \u001b[0mrecursion_repeat\u001b[0m \u001b[0;34m=\u001b[0m \u001b[0mfind_recursion\u001b[0m\u001b[0;34m(\u001b[0m\u001b[0morig_etype\u001b[0m\u001b[0;34m,\u001b[0m \u001b[0mevalue\u001b[0m\u001b[0;34m,\u001b[0m \u001b[0mrecords\u001b[0m\u001b[0;34m)\u001b[0m\u001b[0;34m\u001b[0m\u001b[0;34m\u001b[0m\u001b[0m\n\u001b[0m\u001b[1;32m   1083\u001b[0m \u001b[0;34m\u001b[0m\u001b[0m\n\u001b[1;32m   1084\u001b[0m         \u001b[0mframes\u001b[0m \u001b[0;34m=\u001b[0m \u001b[0mself\u001b[0m\u001b[0;34m.\u001b[0m\u001b[0mformat_records\u001b[0m\u001b[0;34m(\u001b[0m\u001b[0mrecords\u001b[0m\u001b[0;34m,\u001b[0m \u001b[0mlast_unique\u001b[0m\u001b[0;34m,\u001b[0m \u001b[0mrecursion_repeat\u001b[0m\u001b[0;34m)\u001b[0m\u001b[0;34m\u001b[0m\u001b[0;34m\u001b[0m\u001b[0m\n",
      "\u001b[0;32m/opt/anaconda3/lib/python3.9/site-packages/IPython/core/ultratb.py\u001b[0m in \u001b[0;36mfind_recursion\u001b[0;34m(etype, value, records)\u001b[0m\n\u001b[1;32m    380\u001b[0m     \u001b[0;31m# first frame (from in to out) that looks different.\u001b[0m\u001b[0;34m\u001b[0m\u001b[0;34m\u001b[0m\u001b[0m\n\u001b[1;32m    381\u001b[0m     \u001b[0;32mif\u001b[0m \u001b[0;32mnot\u001b[0m \u001b[0mis_recursion_error\u001b[0m\u001b[0;34m(\u001b[0m\u001b[0metype\u001b[0m\u001b[0;34m,\u001b[0m \u001b[0mvalue\u001b[0m\u001b[0;34m,\u001b[0m \u001b[0mrecords\u001b[0m\u001b[0;34m)\u001b[0m\u001b[0;34m:\u001b[0m\u001b[0;34m\u001b[0m\u001b[0;34m\u001b[0m\u001b[0m\n\u001b[0;32m--> 382\u001b[0;31m         \u001b[0;32mreturn\u001b[0m \u001b[0mlen\u001b[0m\u001b[0;34m(\u001b[0m\u001b[0mrecords\u001b[0m\u001b[0;34m)\u001b[0m\u001b[0;34m,\u001b[0m \u001b[0;36m0\u001b[0m\u001b[0;34m\u001b[0m\u001b[0;34m\u001b[0m\u001b[0m\n\u001b[0m\u001b[1;32m    383\u001b[0m \u001b[0;34m\u001b[0m\u001b[0m\n\u001b[1;32m    384\u001b[0m     \u001b[0;31m# Select filename, lineno, func_name to track frames with\u001b[0m\u001b[0;34m\u001b[0m\u001b[0;34m\u001b[0m\u001b[0m\n",
      "\u001b[0;31mTypeError\u001b[0m: object of type 'NoneType' has no len()"
     ]
    }
   ],
   "source": [
    "results = []\n",
    "errors = []\n",
    "\n",
    "k = -1\n",
    "\n",
    "for url in tqdm(links_2023):\n",
    "    # Tries counter\n",
    "    j = 0\n",
    "    \n",
    "    k = k + 1\n",
    "    \n",
    "    if (k % 10) == 0:\n",
    "        print('Errors total: ', len(errors))\n",
    "    \n",
    "    while(True):\n",
    "        try:\n",
    "            #chromedriver_autoinstaller.install()\n",
    "            j = j + 1\n",
    "            \n",
    "            time.sleep(2)\n",
    "            \n",
    "            driver = webdriver.Chrome(options = options)\n",
    "\n",
    "            time.sleep(2)\n",
    "\n",
    "            driver.get(url)\n",
    "\n",
    "            time.sleep(20)\n",
    "\n",
    "            title = driver.find_element(By.XPATH, '//div[@data-section-id=\"TITLE_DEFAULT\"]/section/div/span/h1').text\n",
    "            rating = driver.find_element(By.XPATH, '//span[@class=\"_17p6nbba\"]').text\n",
    "            location = driver.find_element(By.XPATH, '//span[@class=\"_9xiloll\"]').text\n",
    "            \n",
    "            try:\n",
    "                price = ' '.join([i.text for i in driver.find_elements(By.XPATH, '//div//span[@class=\"_tyxjp1\"]')])\n",
    "            except:\n",
    "                price = ' '.join(re.findall('R\\$(\\d+\\.\\d+)', driver.execute_script(\"return document.documentElement.innerHTML;\")))\n",
    "                \n",
    "            description = driver.find_element(By.XPATH, '//span[@class=\"ll4r2nl dir dir-ltr\"]').text\n",
    "            guests = driver.find_element(By.XPATH, '//li[@class=\"l7n4lsf dir dir-ltr\"]').text\n",
    "\n",
    "            atributes = driver.find_elements(By.XPATH, '//li[@class=\"l7n4lsf dir dir-ltr\"]')\n",
    "            atributes = [i.text for i in atributes]\n",
    "\n",
    "            am = json.loads(driver.find_element(By.XPATH, '//script[@id=\"data-deferred-state\"]').get_attribute('innerHTML'))\n",
    "\n",
    "\n",
    "            amenities_list = [i for i in am['niobeMinimalClientData'][0][1]['data']['presentation']['stayProductDetailPage']['sections']['sections'] if 'previewAmenitiesGroups' in i['section']][0]['section']['seeAllAmenitiesGroups']\n",
    "            amenities = [[a['title'] for a in al['amenities']] for al in amenities_list]\n",
    "            amenities_list = reduce(lambda x,y: x+y, amenities)\n",
    "\n",
    "            ratings = driver.find_elements(By.XPATH, '//div[@class=\"_1s11ltsf\"]//div//span[@class=\"_4oybiu\"]')\n",
    "            ratings = [i.text for i in ratings]\n",
    "\n",
    "            lat = str(list(findkeys(am, 'lat'))[0]) if len(list(findkeys(am, 'lat'))) > 0 else ''\n",
    "            lng = str(list(findkeys(am, 'lng'))[0]) if len(list(findkeys(am, 'lng'))) > 0 else ''\n",
    "\n",
    "            data = {\n",
    "                    'url': url,\n",
    "                    'title': title,\n",
    "                   'rating': rating,\n",
    "                   'location': location,\n",
    "                   'price': price,\n",
    "                   'description': description,\n",
    "                   'guests': guests,\n",
    "                   'atributes': atributes,\n",
    "                   'amenities_list': amenities_list,\n",
    "                   'ratings': ratings,\n",
    "                   'lat': lat,\n",
    "                   'lng': lng}\n",
    "\n",
    "            results.append(data)\n",
    "\n",
    "            driver.close()\n",
    "            break\n",
    "\n",
    "        except Exception as e:\n",
    "            print(e)\n",
    "            # Exceeded 5 tries, save link and go next\n",
    "            if j >= 5:\n",
    "                errors.append(url)\n",
    "                break\n",
    "\n",
    "            continue"
   ]
  },
  {
   "cell_type": "code",
   "execution_count": 41,
   "id": "bf40bbe7-3f58-4b6c-a9c0-e359a923d088",
   "metadata": {},
   "outputs": [],
   "source": [
    "driver.close()"
   ]
  },
  {
   "cell_type": "code",
   "execution_count": 18,
   "id": "d59e32da-4f0a-4d2c-8599-7d7f4af4816b",
   "metadata": {},
   "outputs": [],
   "source": [
    "df = pd.DataFrame(results)\n",
    "df.to_csv('2023_1_data.csv', index = False)"
   ]
  },
  {
   "cell_type": "code",
   "execution_count": 19,
   "id": "d9680689-58f9-41dd-803c-f6572e60ce83",
   "metadata": {},
   "outputs": [],
   "source": [
    "df_errors = pd.DataFrame(errors)\n",
    "df_errors.to_csv('2023_1_errors.csv', index = False)"
   ]
  },
  {
   "cell_type": "code",
   "execution_count": 20,
   "id": "339f1ca5-79d2-4b07-b3a5-c96e1ce0ea52",
   "metadata": {},
   "outputs": [
    {
     "data": {
      "text/html": [
       "<div>\n",
       "<style scoped>\n",
       "    .dataframe tbody tr th:only-of-type {\n",
       "        vertical-align: middle;\n",
       "    }\n",
       "\n",
       "    .dataframe tbody tr th {\n",
       "        vertical-align: top;\n",
       "    }\n",
       "\n",
       "    .dataframe thead th {\n",
       "        text-align: right;\n",
       "    }\n",
       "</style>\n",
       "<table border=\"1\" class=\"dataframe\">\n",
       "  <thead>\n",
       "    <tr style=\"text-align: right;\">\n",
       "      <th></th>\n",
       "      <th>url</th>\n",
       "      <th>title</th>\n",
       "      <th>rating</th>\n",
       "      <th>location</th>\n",
       "      <th>price</th>\n",
       "      <th>description</th>\n",
       "      <th>guests</th>\n",
       "      <th>atributes</th>\n",
       "      <th>amenities_list</th>\n",
       "      <th>ratings</th>\n",
       "      <th>lat</th>\n",
       "      <th>lng</th>\n",
       "    </tr>\n",
       "  </thead>\n",
       "  <tbody>\n",
       "    <tr>\n",
       "      <th>0</th>\n",
       "      <td>https://www.airbnb.com.br/rooms/28402863?check...</td>\n",
       "      <td>Studio acolhedor na Lagoa da Conceição</td>\n",
       "      <td>4,95 ·</td>\n",
       "      <td>Lagoa da Conceição, Santa Catarina, Brasil</td>\n",
       "      <td>R$5.480</td>\n",
       "      <td>Nosso studio com design rústico é perfeito par...</td>\n",
       "      <td>2 hóspedes</td>\n",
       "      <td>['2 hóspedes', ' · 1 quarto', ' · 1 cama', ' ·...</td>\n",
       "      <td>['Vista para o jardim', 'Secador de cabelo', '...</td>\n",
       "      <td>['4,9', '5,0', '5,0', '4,9', '5,0', '4,9']</td>\n",
       "      <td>-27.60651</td>\n",
       "      <td>-48.47320</td>\n",
       "    </tr>\n",
       "    <tr>\n",
       "      <th>1</th>\n",
       "      <td>https://www.airbnb.com.br/rooms/47933102?check...</td>\n",
       "      <td>Apt completo com ótima localização em Floripa!</td>\n",
       "      <td>5,0 ·</td>\n",
       "      <td>Trindade, Santa Catarina, Brasil</td>\n",
       "      <td>R$5.201</td>\n",
       "      <td>Hospede-se em Floripa em uma acomodação comple...</td>\n",
       "      <td>4 hóspedes</td>\n",
       "      <td>['4 hóspedes', ' · 1 quarto', ' · 1 cama', ' ·...</td>\n",
       "      <td>['Secador de cabelo', 'Máquina de Lavar', 'Bás...</td>\n",
       "      <td>['5,0', '5,0', '5,0', '5,0', '4,9', '4,9']</td>\n",
       "      <td>-27.58670</td>\n",
       "      <td>-48.52479</td>\n",
       "    </tr>\n",
       "    <tr>\n",
       "      <th>2</th>\n",
       "      <td>https://www.airbnb.com.br/rooms/37463536?check...</td>\n",
       "      <td>Linda Kit em frente UFSC, entre praias norte e...</td>\n",
       "      <td>5,0 ·</td>\n",
       "      <td>Trindade, Santa Catarina, Brasil</td>\n",
       "      <td>R$5.200</td>\n",
       "      <td>Apartamento em bairro super bem localizado, co...</td>\n",
       "      <td>4 hóspedes</td>\n",
       "      <td>['4 hóspedes', ' · 1 quarto', ' · 2 camas', ' ...</td>\n",
       "      <td>['Vista para o parque', 'Produtos de limpeza',...</td>\n",
       "      <td>['5,0', '4,9', '5,0', '5,0', '5,0', '5,0']</td>\n",
       "      <td>-27.59710</td>\n",
       "      <td>-48.52400</td>\n",
       "    </tr>\n",
       "    <tr>\n",
       "      <th>3</th>\n",
       "      <td>https://www.airbnb.com.br/rooms/31143465?check...</td>\n",
       "      <td>Linda casa confortável em Florianópolis</td>\n",
       "      <td>4,83 ·</td>\n",
       "      <td>Ponta das Canas, Santa Catarina, Brasil</td>\n",
       "      <td>R$10.430</td>\n",
       "      <td>Casa com 3 dormitórios, sala de estar,sala de ...</td>\n",
       "      <td>8 hóspedes</td>\n",
       "      <td>['8 hóspedes', ' · 3 quartos', ' · 3 camas', '...</td>\n",
       "      <td>['Água quente', 'Máquina de Lavar', 'Básico', ...</td>\n",
       "      <td>['4,5', '4,8', '5,0', '4,8', '5,0', '4,9']</td>\n",
       "      <td>-27.39643</td>\n",
       "      <td>-48.42749</td>\n",
       "    </tr>\n",
       "    <tr>\n",
       "      <th>4</th>\n",
       "      <td>https://www.airbnb.com.br/rooms/27789679?check...</td>\n",
       "      <td>Apto no Centro ideal para lazer ou trabalho</td>\n",
       "      <td>4,88 ·</td>\n",
       "      <td>Centro, Santa Catarina, Brasil</td>\n",
       "      <td>R$1.980</td>\n",
       "      <td>Apartamento de um quarto com sala de estar/jan...</td>\n",
       "      <td>2 hóspedes</td>\n",
       "      <td>['2 hóspedes', ' · 1 quarto', ' · 1 cama', ' ·...</td>\n",
       "      <td>['Secador de cabelo', 'Produtos de limpeza', '...</td>\n",
       "      <td>['4,8', '4,9', '5,0', '4,9', '5,0', '4,8']</td>\n",
       "      <td>-27.59888</td>\n",
       "      <td>-48.54935</td>\n",
       "    </tr>\n",
       "    <tr>\n",
       "      <th>...</th>\n",
       "      <td>...</td>\n",
       "      <td>...</td>\n",
       "      <td>...</td>\n",
       "      <td>...</td>\n",
       "      <td>...</td>\n",
       "      <td>...</td>\n",
       "      <td>...</td>\n",
       "      <td>...</td>\n",
       "      <td>...</td>\n",
       "      <td>...</td>\n",
       "      <td>...</td>\n",
       "      <td>...</td>\n",
       "    </tr>\n",
       "    <tr>\n",
       "      <th>1726</th>\n",
       "      <td>https://www.airbnb.com.br/rooms/29564208?check...</td>\n",
       "      <td>Lindo Apartamento Pé na Areia⭐⭐⭐⭐⭐ Praia Campeche</td>\n",
       "      <td>4,95 ·</td>\n",
       "      <td>Campeche Leste, Santa Catarina, Brasil</td>\n",
       "      <td>R$9.180</td>\n",
       "      <td>- Apartamento 2 dormitórios com ar condicionad...</td>\n",
       "      <td>6 hóspedes</td>\n",
       "      <td>['6 hóspedes', ' · 2 quartos', ' · 5 camas', '...</td>\n",
       "      <td>['Vista para o jardim', 'Vista para o mar', 'V...</td>\n",
       "      <td>['4,9', '5,0', '5,0', '5,0', '4,9', '4,8']</td>\n",
       "      <td>-27.68995</td>\n",
       "      <td>-48.48464</td>\n",
       "    </tr>\n",
       "    <tr>\n",
       "      <th>1727</th>\n",
       "      <td>https://www.airbnb.com.br/rooms/47098945?check...</td>\n",
       "      <td>Studio S: lazer/trabalho/moradia. Próx. UFSC.</td>\n",
       "      <td>5,0 ·</td>\n",
       "      <td>Saco dos Limões, Santa Catarina, Brasil</td>\n",
       "      <td>R$1.980</td>\n",
       "      <td>Loft novo, mobiliado e equipado, com estação d...</td>\n",
       "      <td>2 hóspedes</td>\n",
       "      <td>['2 hóspedes', ' · Estúdio', ' · 1 cama', ' · ...</td>\n",
       "      <td>['Secador de cabelo', 'Máquina de lavar no pré...</td>\n",
       "      <td>['5,0', '5,0', '3,3', '5,0', '4,0', '4,7']</td>\n",
       "      <td>-27.61750</td>\n",
       "      <td>-48.52640</td>\n",
       "    </tr>\n",
       "    <tr>\n",
       "      <th>1728</th>\n",
       "      <td>https://www.airbnb.com.br/rooms/38484414?check...</td>\n",
       "      <td>Campeche Apartment 4</td>\n",
       "      <td>4,84 ·</td>\n",
       "      <td>Florianópolis , Santa Catarina, Brasil</td>\n",
       "      <td>R$2.370</td>\n",
       "      <td>NaN</td>\n",
       "      <td>2 hóspedes</td>\n",
       "      <td>['2 hóspedes', ' · Estúdio', ' · 1 cama', ' · ...</td>\n",
       "      <td>['Vista para o pátio', 'Água quente', 'Básico'...</td>\n",
       "      <td>['', '', '', '', '', '']</td>\n",
       "      <td>-27.69095</td>\n",
       "      <td>-48.49015</td>\n",
       "    </tr>\n",
       "    <tr>\n",
       "      <th>1729</th>\n",
       "      <td>https://www.airbnb.com.br/rooms/38457832?check...</td>\n",
       "      <td>Confortável apto para férias na praia!</td>\n",
       "      <td>4,50 ·</td>\n",
       "      <td>Ingleses Norte, Santa Catarina, Brasil</td>\n",
       "      <td>R$6.723</td>\n",
       "      <td>Aproveite toda a comodidade e  conforto, perto...</td>\n",
       "      <td>6 hóspedes</td>\n",
       "      <td>['6 hóspedes', ' · 2 quartos', ' · 5 camas', '...</td>\n",
       "      <td>['Secador de cabelo', 'Água quente', 'Gel de b...</td>\n",
       "      <td>['4,9', '4,5', '4,9', '4,9', '4,9', '4,8']</td>\n",
       "      <td>-27.42798</td>\n",
       "      <td>-48.40519</td>\n",
       "    </tr>\n",
       "    <tr>\n",
       "      <th>1730</th>\n",
       "      <td>https://www.airbnb.com.br/rooms/35615884?check...</td>\n",
       "      <td>1 dormitório - Cachoeira do Bom Jesus</td>\n",
       "      <td>5,0 ·</td>\n",
       "      <td>Florianópolis, Santa Catarina, Brasil</td>\n",
       "      <td>R$6.000</td>\n",
       "      <td>Apartamento com um dormitórios, próximo à prai...</td>\n",
       "      <td>5 hóspedes</td>\n",
       "      <td>['5 hóspedes', ' · 1 quarto', ' · 2 camas', ' ...</td>\n",
       "      <td>['Secador de cabelo', 'Água quente', 'Máquina ...</td>\n",
       "      <td>['5,0', '5,0', '5,0', '5,0', '5,0', '4,8']</td>\n",
       "      <td>-27.42150</td>\n",
       "      <td>-48.43045</td>\n",
       "    </tr>\n",
       "  </tbody>\n",
       "</table>\n",
       "<p>1731 rows × 12 columns</p>\n",
       "</div>"
      ],
      "text/plain": [
       "                                                    url  \\\n",
       "0     https://www.airbnb.com.br/rooms/28402863?check...   \n",
       "1     https://www.airbnb.com.br/rooms/47933102?check...   \n",
       "2     https://www.airbnb.com.br/rooms/37463536?check...   \n",
       "3     https://www.airbnb.com.br/rooms/31143465?check...   \n",
       "4     https://www.airbnb.com.br/rooms/27789679?check...   \n",
       "...                                                 ...   \n",
       "1726  https://www.airbnb.com.br/rooms/29564208?check...   \n",
       "1727  https://www.airbnb.com.br/rooms/47098945?check...   \n",
       "1728  https://www.airbnb.com.br/rooms/38484414?check...   \n",
       "1729  https://www.airbnb.com.br/rooms/38457832?check...   \n",
       "1730  https://www.airbnb.com.br/rooms/35615884?check...   \n",
       "\n",
       "                                                  title  rating  \\\n",
       "0                Studio acolhedor na Lagoa da Conceição  4,95 ·   \n",
       "1        Apt completo com ótima localização em Floripa!   5,0 ·   \n",
       "2     Linda Kit em frente UFSC, entre praias norte e...   5,0 ·   \n",
       "3               Linda casa confortável em Florianópolis  4,83 ·   \n",
       "4           Apto no Centro ideal para lazer ou trabalho  4,88 ·   \n",
       "...                                                 ...     ...   \n",
       "1726  Lindo Apartamento Pé na Areia⭐⭐⭐⭐⭐ Praia Campeche  4,95 ·   \n",
       "1727      Studio S: lazer/trabalho/moradia. Próx. UFSC.   5,0 ·   \n",
       "1728                               Campeche Apartment 4  4,84 ·   \n",
       "1729             Confortável apto para férias na praia!  4,50 ·   \n",
       "1730              1 dormitório - Cachoeira do Bom Jesus   5,0 ·   \n",
       "\n",
       "                                        location      price  \\\n",
       "0     Lagoa da Conceição, Santa Catarina, Brasil    R$5.480   \n",
       "1               Trindade, Santa Catarina, Brasil    R$5.201   \n",
       "2               Trindade, Santa Catarina, Brasil    R$5.200   \n",
       "3        Ponta das Canas, Santa Catarina, Brasil   R$10.430   \n",
       "4                 Centro, Santa Catarina, Brasil    R$1.980   \n",
       "...                                          ...        ...   \n",
       "1726      Campeche Leste, Santa Catarina, Brasil    R$9.180   \n",
       "1727     Saco dos Limões, Santa Catarina, Brasil    R$1.980   \n",
       "1728      Florianópolis , Santa Catarina, Brasil    R$2.370   \n",
       "1729      Ingleses Norte, Santa Catarina, Brasil    R$6.723   \n",
       "1730       Florianópolis, Santa Catarina, Brasil    R$6.000   \n",
       "\n",
       "                                            description      guests  \\\n",
       "0     Nosso studio com design rústico é perfeito par...  2 hóspedes   \n",
       "1     Hospede-se em Floripa em uma acomodação comple...  4 hóspedes   \n",
       "2     Apartamento em bairro super bem localizado, co...  4 hóspedes   \n",
       "3     Casa com 3 dormitórios, sala de estar,sala de ...  8 hóspedes   \n",
       "4     Apartamento de um quarto com sala de estar/jan...  2 hóspedes   \n",
       "...                                                 ...         ...   \n",
       "1726  - Apartamento 2 dormitórios com ar condicionad...  6 hóspedes   \n",
       "1727  Loft novo, mobiliado e equipado, com estação d...  2 hóspedes   \n",
       "1728                                                NaN  2 hóspedes   \n",
       "1729  Aproveite toda a comodidade e  conforto, perto...  6 hóspedes   \n",
       "1730  Apartamento com um dormitórios, próximo à prai...  5 hóspedes   \n",
       "\n",
       "                                              atributes  \\\n",
       "0     ['2 hóspedes', ' · 1 quarto', ' · 1 cama', ' ·...   \n",
       "1     ['4 hóspedes', ' · 1 quarto', ' · 1 cama', ' ·...   \n",
       "2     ['4 hóspedes', ' · 1 quarto', ' · 2 camas', ' ...   \n",
       "3     ['8 hóspedes', ' · 3 quartos', ' · 3 camas', '...   \n",
       "4     ['2 hóspedes', ' · 1 quarto', ' · 1 cama', ' ·...   \n",
       "...                                                 ...   \n",
       "1726  ['6 hóspedes', ' · 2 quartos', ' · 5 camas', '...   \n",
       "1727  ['2 hóspedes', ' · Estúdio', ' · 1 cama', ' · ...   \n",
       "1728  ['2 hóspedes', ' · Estúdio', ' · 1 cama', ' · ...   \n",
       "1729  ['6 hóspedes', ' · 2 quartos', ' · 5 camas', '...   \n",
       "1730  ['5 hóspedes', ' · 1 quarto', ' · 2 camas', ' ...   \n",
       "\n",
       "                                         amenities_list  \\\n",
       "0     ['Vista para o jardim', 'Secador de cabelo', '...   \n",
       "1     ['Secador de cabelo', 'Máquina de Lavar', 'Bás...   \n",
       "2     ['Vista para o parque', 'Produtos de limpeza',...   \n",
       "3     ['Água quente', 'Máquina de Lavar', 'Básico', ...   \n",
       "4     ['Secador de cabelo', 'Produtos de limpeza', '...   \n",
       "...                                                 ...   \n",
       "1726  ['Vista para o jardim', 'Vista para o mar', 'V...   \n",
       "1727  ['Secador de cabelo', 'Máquina de lavar no pré...   \n",
       "1728  ['Vista para o pátio', 'Água quente', 'Básico'...   \n",
       "1729  ['Secador de cabelo', 'Água quente', 'Gel de b...   \n",
       "1730  ['Secador de cabelo', 'Água quente', 'Máquina ...   \n",
       "\n",
       "                                         ratings       lat       lng  \n",
       "0     ['4,9', '5,0', '5,0', '4,9', '5,0', '4,9'] -27.60651 -48.47320  \n",
       "1     ['5,0', '5,0', '5,0', '5,0', '4,9', '4,9'] -27.58670 -48.52479  \n",
       "2     ['5,0', '4,9', '5,0', '5,0', '5,0', '5,0'] -27.59710 -48.52400  \n",
       "3     ['4,5', '4,8', '5,0', '4,8', '5,0', '4,9'] -27.39643 -48.42749  \n",
       "4     ['4,8', '4,9', '5,0', '4,9', '5,0', '4,8'] -27.59888 -48.54935  \n",
       "...                                          ...       ...       ...  \n",
       "1726  ['4,9', '5,0', '5,0', '5,0', '4,9', '4,8'] -27.68995 -48.48464  \n",
       "1727  ['5,0', '5,0', '3,3', '5,0', '4,0', '4,7'] -27.61750 -48.52640  \n",
       "1728                    ['', '', '', '', '', ''] -27.69095 -48.49015  \n",
       "1729  ['4,9', '4,5', '4,9', '4,9', '4,9', '4,8'] -27.42798 -48.40519  \n",
       "1730  ['5,0', '5,0', '5,0', '5,0', '5,0', '4,8'] -27.42150 -48.43045  \n",
       "\n",
       "[1731 rows x 12 columns]"
      ]
     },
     "execution_count": 20,
     "metadata": {},
     "output_type": "execute_result"
    }
   ],
   "source": [
    "pd.read_csv('2023_1_data.csv')"
   ]
  }
 ],
 "metadata": {
  "kernelspec": {
   "display_name": "Python 3 (ipykernel)",
   "language": "python",
   "name": "python3"
  },
  "language_info": {
   "codemirror_mode": {
    "name": "ipython",
    "version": 3
   },
   "file_extension": ".py",
   "mimetype": "text/x-python",
   "name": "python",
   "nbconvert_exporter": "python",
   "pygments_lexer": "ipython3",
   "version": "3.9.7"
  }
 },
 "nbformat": 4,
 "nbformat_minor": 5
}
